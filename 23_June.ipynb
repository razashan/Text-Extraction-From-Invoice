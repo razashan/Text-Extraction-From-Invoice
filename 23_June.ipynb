{
 "cells": [
  {
   "cell_type": "code",
   "execution_count": 379,
   "id": "01721d19",
   "metadata": {},
   "outputs": [],
   "source": [
    "import pytesseract\n",
    "import cv2\n",
    "from PIL import Image \n",
    "import re\n",
    "import pandas as pd"
   ]
  },
  {
   "cell_type": "code",
   "execution_count": 380,
   "id": "3577cb91",
   "metadata": {},
   "outputs": [],
   "source": [
    "pytesseract.pytesseract.tesseract_cmd = r\"C:\\Program Files\\Tesseract-OCR\\tesseract.exe\""
   ]
  },
  {
   "cell_type": "code",
   "execution_count": 391,
   "id": "84b38766",
   "metadata": {},
   "outputs": [],
   "source": [
    "formats = pd.read_excel('invoice_formats.xlsx')"
   ]
  },
  {
   "cell_type": "code",
   "execution_count": 399,
   "id": "4a19f044",
   "metadata": {},
   "outputs": [
    {
     "name": "stdout",
     "output_type": "stream",
     "text": [
      "<class 'list'>\n",
      "A pagar el 4/02/2020 © 474,49€por —_—_Contado Total Factura: 474,49\n",
      "['A', 'pagar', 'el', '4/02/2020', '©', '474,49€por', '—_—_Contado', 'Total', 'Factura:', '474,49']\n",
      "['A', 'pagar', 'el', '4/02/2020', '©', '474,49€por', '—_—_Contado', 'Total', 'Factura:', '474,49']\n",
      "['B-38360473']\n",
      "Wall time: 9.35 s\n"
     ]
    }
   ],
   "source": [
    "%%time\n",
    "dat = {\n",
    "    \"Vat Number\":'',\n",
    "       \"Total\":0,\n",
    "       \"Date\":'',\n",
    "      \"Invoice_Number\":''}\n",
    "img  = cv2.imread('Makro Invoices/Makro Invoices/New/04.02.20_Cafes Careca SL_474,49_page1.png', cv2.COLOR_RGB2GRAY)\n",
    "text=(pytesseract.image_to_string(img))\n",
    "text_list = text.split(\"\\n\")\n",
    "vat = []\n",
    "print(type(text_list))\n",
    "for idx, a in enumerate(text_list):\n",
    "    if(a.strip() != \"\"):\n",
    "\n",
    "\n",
    "        if (re.search(\"[A-Z]{1}-[0-9]{8}\",a)):\n",
    "            b = re.findall(\"[A-Z]{1}-[0-9]{8}\",a)\n",
    "            dat[\"Vat Number\"] = b[0]\n",
    "            vat.append(b)\n",
    "            print(b)\n",
    "        elif (re.search(\"[0-9]{8}-[A-Z]{1}\",a)):\n",
    "            b = re.findall(\"[0-9]{8}-[A-Z]{1}\",a)\n",
    "            dat[\"Vat Number\"] = b[0]\n",
    "            vat.append(b)\n",
    "\n",
    "    \n",
    "        elif (re.search(\"[A-Z]{1}-[0-9]{8}\",a)):\n",
    "            b = re.findall(\"[A-Z]{1}-[0-9]{8}\",a)\n",
    "            dat[\"Vat Number\"] = b[0]\n",
    "            vat.append(b)\n",
    "\n",
    "        elif (re.search(\"[A-Z]{1}[0-9]{8}\",a)):\n",
    "            b = re.findall(\"[A-Z]{1}[0-9]{8}\",a)\n",
    "            dat[\"Vat Number\"] = b[0]\n",
    "            vat.append(b)\n",
    "            \n",
    "        elif (re.search(\"[A-Z]{1}-[0-9]{2}.[0-9]{3}.[0-9]{3}\",a)):\n",
    "            b = re.findall(\"[A-Z]{1}-[0-9]{2}.[0-9]{3}.[0-9]{3}\",a)\n",
    "            dat[\"Vat Number\"] = b[0]\n",
    "\n",
    "        if len(vat)>1:\n",
    "            dat[\"Vat Number\"] = vat[0]\n",
    "        else:\n",
    "            pass\n",
    "         #Date section           \n",
    "        if (re.search(\"\\d{2}/\\d{2}/\\d{4}\",a)):\n",
    "            b  = re.findall(\"\\d{2}/\\d{2}/\\d{4}\", a)\n",
    "            dat[\"Date\"] = b[-1]\n",
    "        if (re.search(\"\\d{2}-\\d{2}-\\d{4}\",a)):\n",
    "            b = re.findall(\"\\d{2}-\\d{2}-\\d{4}\",a)\n",
    "            dat[\"Date\"] = b[0]\n",
    "        if (re.search(\"\\d{2}/\\d{2}/\\d{2}\",a)):\n",
    "            b = re.findall(\"\\d{2}/\\d{2}/\\d{2}\",a)\n",
    "            dat[\"Date\"] = b[0]\n",
    "\n",
    "        #invoice number section\n",
    "        if (\"Factura\" in a or \"ALBARAN\" in a or \"Factura: \" in a):\n",
    "\n",
    "            print(a)\n",
    "            b = a.split(\" \")\n",
    "            if b[0] == \"ALBARAN\":\n",
    "                dat[\"Invoice_Number\"] = b[1]\n",
    "            print(b)\n",
    "            if len(b)>3:\n",
    "                print(b)\n",
    "                if len(b)>4 and b[2] !='—' and len(b[1])!=25 and len(b[1])>5:\n",
    "                    dat[\"Invoice_Number\"] = b[1]+b[2]\n",
    "                    print(b)\n",
    "                elif len(b)>=5 and len(b[1])==25:\n",
    "                    dat[\"Invoice_Number\"] = b[1]\n",
    "                elif len(b)>6 and len(b[3])>15:\n",
    "                    dat[\"Invoice_Number\"] = b[1]+ b[2]+ b[3]\n",
    "                elif len(b)>6 and b[1]== \"0/0\":\n",
    "                    dat[\"Invoice_Number\"] = b[1] + b[2]\n",
    "                    \n",
    "        if (\"Tarjeta\" in a or \"Credito\" in a or  \"pagina\" in a or \"Total:\" in a  or \"TOTAL\" in a):\n",
    "            print(\"Case Total\")\n",
    "            b = a.split(\" \")\n",
    "            if len(b[-1])==2:\n",
    "                \n",
    "                dat[\"Total\"] = b[-2]+b[-1]\n",
    "                print(b[-2]+b[-1])\n",
    "            if b[-1]=='€':\n",
    "                dat[\"Total\"] = b[-2]\n",
    "            else:\n",
    "                dat[\"Total\"] = b[-1]\n",
    "                print(b[-1])\n",
    "        "
   ]
  },
  {
   "cell_type": "code",
   "execution_count": 400,
   "id": "60e675e5",
   "metadata": {},
   "outputs": [
    {
     "name": "stdout",
     "output_type": "stream",
     "text": [
      "{'Vat Number': ['B76744861'], 'Total': 0, 'Date': '31/00/21', 'Invoice_Number': ''}\n"
     ]
    }
   ],
   "source": [
    "#data = pd.DataFrame.from_dict(dat)\n",
    "data['Vat Number']= data['Vat Number'].str.replace(' ', '')\n",
    "print(dat)"
   ]
  },
  {
   "cell_type": "code",
   "execution_count": 401,
   "id": "0d31f95f",
   "metadata": {},
   "outputs": [],
   "source": [
    "bp = dat"
   ]
  },
  {
   "cell_type": "code",
   "execution_count": 402,
   "id": "e33899b2",
   "metadata": {},
   "outputs": [],
   "source": [
    "data = pd.DataFrame(bp,index=[0])"
   ]
  },
  {
   "cell_type": "code",
   "execution_count": 403,
   "id": "3211f2af",
   "metadata": {},
   "outputs": [
    {
     "name": "stderr",
     "output_type": "stream",
     "text": [
      "F:\\anaconda3\\envs\\python_3_7\\lib\\site-packages\\ipykernel_launcher.py:3: FutureWarning: The default value of regex will change from True to False in a future version. In addition, single character regular expressions will *not* be treated as literal strings when regex=True.\n",
      "  This is separate from the ipykernel package so we can avoid doing imports until\n"
     ]
    },
    {
     "data": {
      "text/html": [
       "<div>\n",
       "<style scoped>\n",
       "    .dataframe tbody tr th:only-of-type {\n",
       "        vertical-align: middle;\n",
       "    }\n",
       "\n",
       "    .dataframe tbody tr th {\n",
       "        vertical-align: top;\n",
       "    }\n",
       "\n",
       "    .dataframe thead th {\n",
       "        text-align: right;\n",
       "    }\n",
       "</style>\n",
       "<table border=\"1\" class=\"dataframe\">\n",
       "  <thead>\n",
       "    <tr style=\"text-align: right;\">\n",
       "      <th></th>\n",
       "      <th>Vat Number</th>\n",
       "      <th>Total</th>\n",
       "      <th>Date</th>\n",
       "      <th>Invoice_Number</th>\n",
       "    </tr>\n",
       "  </thead>\n",
       "  <tbody>\n",
       "    <tr>\n",
       "      <th>0</th>\n",
       "      <td>B76744861</td>\n",
       "      <td>0</td>\n",
       "      <td>31/00/21</td>\n",
       "      <td></td>\n",
       "    </tr>\n",
       "  </tbody>\n",
       "</table>\n",
       "</div>"
      ],
      "text/plain": [
       "  Vat Number  Total      Date Invoice_Number\n",
       "0  B76744861      0  31/00/21               "
      ]
     },
     "execution_count": 403,
     "metadata": {},
     "output_type": "execute_result"
    }
   ],
   "source": [
    "data['Vat Number']= data['Vat Number'].str.replace('-', '')\n",
    "data['Vat Number']= data['Vat Number'].str.replace(',', '')\n",
    "data['Vat Number']= data['Vat Number'].str.replace('.', '')\n",
    "data"
   ]
  },
  {
   "cell_type": "code",
   "execution_count": 404,
   "id": "0f047807",
   "metadata": {},
   "outputs": [],
   "source": [
    "formats['last']= (formats['nif'].isin(data['Vat Number']))"
   ]
  },
  {
   "cell_type": "code",
   "execution_count": 405,
   "id": "c2b82863",
   "metadata": {},
   "outputs": [],
   "source": [
    "df2 = formats.query(\"last == True\")"
   ]
  },
  {
   "cell_type": "code",
   "execution_count": 406,
   "id": "1c12a9fa",
   "metadata": {},
   "outputs": [
    {
     "data": {
      "text/html": [
       "<div>\n",
       "<style scoped>\n",
       "    .dataframe tbody tr th:only-of-type {\n",
       "        vertical-align: middle;\n",
       "    }\n",
       "\n",
       "    .dataframe tbody tr th {\n",
       "        vertical-align: top;\n",
       "    }\n",
       "\n",
       "    .dataframe thead th {\n",
       "        text-align: right;\n",
       "    }\n",
       "</style>\n",
       "<table border=\"1\" class=\"dataframe\">\n",
       "  <thead>\n",
       "    <tr style=\"text-align: right;\">\n",
       "      <th></th>\n",
       "      <th>formato</th>\n",
       "      <th>nombre</th>\n",
       "      <th>nif</th>\n",
       "      <th>last</th>\n",
       "    </tr>\n",
       "  </thead>\n",
       "  <tbody>\n",
       "    <tr>\n",
       "      <th>9419</th>\n",
       "      <td>\\d\\d\\d\\d\\d\\d\\d\\d</td>\n",
       "      <td>MAPIESTACION</td>\n",
       "      <td>B76744861</td>\n",
       "      <td>True</td>\n",
       "    </tr>\n",
       "    <tr>\n",
       "      <th>12062</th>\n",
       "      <td>\\d\\d\\d\\d\\d\\d\\d\\d</td>\n",
       "      <td>MAPIESTACION</td>\n",
       "      <td>B76744861</td>\n",
       "      <td>True</td>\n",
       "    </tr>\n",
       "    <tr>\n",
       "      <th>12178</th>\n",
       "      <td>\\d\\d\\d\\d\\d\\d\\d\\d</td>\n",
       "      <td>MAPIESTACION</td>\n",
       "      <td>B76744861</td>\n",
       "      <td>True</td>\n",
       "    </tr>\n",
       "    <tr>\n",
       "      <th>12780</th>\n",
       "      <td>\\d\\d\\d\\d\\d\\d\\d\\d</td>\n",
       "      <td>MAPIESTACION</td>\n",
       "      <td>B76744861</td>\n",
       "      <td>True</td>\n",
       "    </tr>\n",
       "    <tr>\n",
       "      <th>16962</th>\n",
       "      <td>\\d\\d\\d\\d\\d\\d\\d\\d</td>\n",
       "      <td>MAPIESTACION</td>\n",
       "      <td>B76744861</td>\n",
       "      <td>True</td>\n",
       "    </tr>\n",
       "    <tr>\n",
       "      <th>17485</th>\n",
       "      <td>\\d\\d\\d\\d\\d\\d\\d\\d</td>\n",
       "      <td>MAPIESTACION</td>\n",
       "      <td>B76744861</td>\n",
       "      <td>True</td>\n",
       "    </tr>\n",
       "    <tr>\n",
       "      <th>18171</th>\n",
       "      <td>\\d\\d\\d\\d\\d\\d\\d\\d</td>\n",
       "      <td>MAPIESTACION</td>\n",
       "      <td>B76744861</td>\n",
       "      <td>True</td>\n",
       "    </tr>\n",
       "    <tr>\n",
       "      <th>18852</th>\n",
       "      <td>\\d\\d\\d\\d\\d\\d\\d\\d</td>\n",
       "      <td>MAPIESTACION</td>\n",
       "      <td>B76744861</td>\n",
       "      <td>True</td>\n",
       "    </tr>\n",
       "    <tr>\n",
       "      <th>18939</th>\n",
       "      <td>\\d\\d\\d\\d\\d\\d\\d\\d</td>\n",
       "      <td>MAPIESTACION</td>\n",
       "      <td>B76744861</td>\n",
       "      <td>True</td>\n",
       "    </tr>\n",
       "    <tr>\n",
       "      <th>20388</th>\n",
       "      <td>\\d\\d\\d\\d\\d\\d\\d\\d</td>\n",
       "      <td>MAPIESTACION</td>\n",
       "      <td>B76744861</td>\n",
       "      <td>True</td>\n",
       "    </tr>\n",
       "    <tr>\n",
       "      <th>20389</th>\n",
       "      <td>\\d\\d\\d\\d\\d\\d\\d\\d</td>\n",
       "      <td>MAPIESTACION</td>\n",
       "      <td>B76744861</td>\n",
       "      <td>True</td>\n",
       "    </tr>\n",
       "    <tr>\n",
       "      <th>20390</th>\n",
       "      <td>\\d\\d\\d\\d\\d\\d\\d\\d</td>\n",
       "      <td>MAPIESTACION</td>\n",
       "      <td>B76744861</td>\n",
       "      <td>True</td>\n",
       "    </tr>\n",
       "  </tbody>\n",
       "</table>\n",
       "</div>"
      ],
      "text/plain": [
       "                formato        nombre        nif  last\n",
       "9419   \\d\\d\\d\\d\\d\\d\\d\\d  MAPIESTACION  B76744861  True\n",
       "12062  \\d\\d\\d\\d\\d\\d\\d\\d  MAPIESTACION  B76744861  True\n",
       "12178  \\d\\d\\d\\d\\d\\d\\d\\d  MAPIESTACION  B76744861  True\n",
       "12780  \\d\\d\\d\\d\\d\\d\\d\\d  MAPIESTACION  B76744861  True\n",
       "16962  \\d\\d\\d\\d\\d\\d\\d\\d  MAPIESTACION  B76744861  True\n",
       "17485  \\d\\d\\d\\d\\d\\d\\d\\d  MAPIESTACION  B76744861  True\n",
       "18171  \\d\\d\\d\\d\\d\\d\\d\\d  MAPIESTACION  B76744861  True\n",
       "18852  \\d\\d\\d\\d\\d\\d\\d\\d  MAPIESTACION  B76744861  True\n",
       "18939  \\d\\d\\d\\d\\d\\d\\d\\d  MAPIESTACION  B76744861  True\n",
       "20388  \\d\\d\\d\\d\\d\\d\\d\\d  MAPIESTACION  B76744861  True\n",
       "20389  \\d\\d\\d\\d\\d\\d\\d\\d  MAPIESTACION  B76744861  True\n",
       "20390  \\d\\d\\d\\d\\d\\d\\d\\d  MAPIESTACION  B76744861  True"
      ]
     },
     "execution_count": 406,
     "metadata": {},
     "output_type": "execute_result"
    }
   ],
   "source": [
    "df2"
   ]
  },
  {
   "cell_type": "code",
   "execution_count": 407,
   "id": "a25f17fd",
   "metadata": {},
   "outputs": [],
   "source": [
    "inv = 0\n",
    "for i in df2['formato']:\n",
    "    inv = i\n",
    "pat = 'F1-1-01353'\n",
    "factura = re.compile(inv)\n",
    "mo = factura.search(text)\n",
    "dat[\"Invoice_Number\"]=mo.group()"
   ]
  },
  {
   "cell_type": "code",
   "execution_count": 408,
   "id": "849fd0f7",
   "metadata": {},
   "outputs": [
    {
     "data": {
      "text/plain": [
       "{'Vat Number': ['B76744861'],\n",
       " 'Total': 0,\n",
       " 'Date': '31/00/21',\n",
       " 'Invoice_Number': '76744861'}"
      ]
     },
     "execution_count": 408,
     "metadata": {},
     "output_type": "execute_result"
    }
   ],
   "source": [
    "dat"
   ]
  },
  {
   "cell_type": "code",
   "execution_count": 409,
   "id": "05a157cf",
   "metadata": {},
   "outputs": [],
   "source": [
    "finals  =  pd.DataFrame(dat,index=[0])"
   ]
  },
  {
   "cell_type": "code",
   "execution_count": 410,
   "id": "0f484c0f",
   "metadata": {},
   "outputs": [],
   "source": [
    "final = final.append(finals)"
   ]
  },
  {
   "cell_type": "code",
   "execution_count": 411,
   "id": "bef4abb4",
   "metadata": {},
   "outputs": [
    {
     "data": {
      "text/html": [
       "<div>\n",
       "<style scoped>\n",
       "    .dataframe tbody tr th:only-of-type {\n",
       "        vertical-align: middle;\n",
       "    }\n",
       "\n",
       "    .dataframe tbody tr th {\n",
       "        vertical-align: top;\n",
       "    }\n",
       "\n",
       "    .dataframe thead th {\n",
       "        text-align: right;\n",
       "    }\n",
       "</style>\n",
       "<table border=\"1\" class=\"dataframe\">\n",
       "  <thead>\n",
       "    <tr style=\"text-align: right;\">\n",
       "      <th></th>\n",
       "      <th>Vat Number</th>\n",
       "      <th>Total</th>\n",
       "      <th>Date</th>\n",
       "      <th>Invoice_Number</th>\n",
       "    </tr>\n",
       "  </thead>\n",
       "  <tbody>\n",
       "    <tr>\n",
       "      <th>0</th>\n",
       "      <td>A-38003414</td>\n",
       "      <td>90,21</td>\n",
       "      <td>30/06/2020</td>\n",
       "      <td>1600359177</td>\n",
       "    </tr>\n",
       "    <tr>\n",
       "      <th>0</th>\n",
       "      <td>A-38003414</td>\n",
       "      <td>154,05</td>\n",
       "      <td>27-05-2021</td>\n",
       "      <td>1400804213</td>\n",
       "    </tr>\n",
       "    <tr>\n",
       "      <th>0</th>\n",
       "      <td>G-38055612</td>\n",
       "      <td>49,52</td>\n",
       "      <td>01/07/2020</td>\n",
       "      <td>2020-00116355</td>\n",
       "    </tr>\n",
       "    <tr>\n",
       "      <th>0</th>\n",
       "      <td>B76546787</td>\n",
       "      <td>siguiente</td>\n",
       "      <td>02/08/2021</td>\n",
       "      <td>721000050614</td>\n",
       "    </tr>\n",
       "    <tr>\n",
       "      <th>0</th>\n",
       "      <td>B76744861</td>\n",
       "      <td>www.gmfood.es,</td>\n",
       "      <td>03/02/2020</td>\n",
       "      <td>200302180004999</td>\n",
       "    </tr>\n",
       "    <tr>\n",
       "      <th>0</th>\n",
       "      <td>B38574281</td>\n",
       "      <td>TOTAL</td>\n",
       "      <td>03/07/2020</td>\n",
       "      <td>F1-1-01353</td>\n",
       "    </tr>\n",
       "    <tr>\n",
       "      <th>0</th>\n",
       "      <td>B-76,305.333</td>\n",
       "      <td>0</td>\n",
       "      <td>01/11/2020</td>\n",
       "      <td>2020/129</td>\n",
       "    </tr>\n",
       "    <tr>\n",
       "      <th>0</th>\n",
       "      <td>A30013841</td>\n",
       "      <td>0</td>\n",
       "      <td>03/05/2022</td>\n",
       "      <td>1303205930</td>\n",
       "    </tr>\n",
       "    <tr>\n",
       "      <th>0</th>\n",
       "      <td>78548857-Q</td>\n",
       "      <td>FACTURA</td>\n",
       "      <td>01/08/2021</td>\n",
       "      <td>19/2021</td>\n",
       "    </tr>\n",
       "    <tr>\n",
       "      <th>0</th>\n",
       "      <td>G-38055612</td>\n",
       "      <td>49,52</td>\n",
       "      <td>01/07/2020</td>\n",
       "      <td>2020-00116355</td>\n",
       "    </tr>\n",
       "    <tr>\n",
       "      <th>0</th>\n",
       "      <td>B-76,305.333</td>\n",
       "      <td>0</td>\n",
       "      <td>01/11/2020</td>\n",
       "      <td>2020/129</td>\n",
       "    </tr>\n",
       "    <tr>\n",
       "      <th>0</th>\n",
       "      <td>B76744861</td>\n",
       "      <td>www.gmfood.es,</td>\n",
       "      <td>03/02/2020</td>\n",
       "      <td>200302180004999</td>\n",
       "    </tr>\n",
       "    <tr>\n",
       "      <th>0</th>\n",
       "      <td>B-38923272</td>\n",
       "      <td>44,94€</td>\n",
       "      <td>03/02/2020</td>\n",
       "      <td>389232</td>\n",
       "    </tr>\n",
       "    <tr>\n",
       "      <th>0</th>\n",
       "      <td>A-38003414</td>\n",
       "      <td>154,05</td>\n",
       "      <td>27-05-2021</td>\n",
       "      <td>1400804213</td>\n",
       "    </tr>\n",
       "    <tr>\n",
       "      <th>0</th>\n",
       "      <td>B76744861</td>\n",
       "      <td>69,20</td>\n",
       "      <td>03/02/20</td>\n",
       "      <td>26052105</td>\n",
       "    </tr>\n",
       "    <tr>\n",
       "      <th>0</th>\n",
       "      <td>B-38988242</td>\n",
       "      <td>|</td>\n",
       "      <td>23/11/19</td>\n",
       "      <td>1825768</td>\n",
       "    </tr>\n",
       "    <tr>\n",
       "      <th>0</th>\n",
       "      <td>B-38206456</td>\n",
       "      <td>159,60</td>\n",
       "      <td>30/10/21</td>\n",
       "      <td>134055</td>\n",
       "    </tr>\n",
       "    <tr>\n",
       "      <th>0</th>\n",
       "      <td>B38574281</td>\n",
       "      <td>TOTAL</td>\n",
       "      <td>03/07/20</td>\n",
       "      <td>F1-1-01353</td>\n",
       "    </tr>\n",
       "    <tr>\n",
       "      <th>0</th>\n",
       "      <td>B76744861</td>\n",
       "      <td>0</td>\n",
       "      <td>31/00/21</td>\n",
       "      <td>76744861</td>\n",
       "    </tr>\n",
       "  </tbody>\n",
       "</table>\n",
       "</div>"
      ],
      "text/plain": [
       "     Vat Number           Total        Date   Invoice_Number\n",
       "0    A-38003414           90,21  30/06/2020       1600359177\n",
       "0    A-38003414          154,05  27-05-2021       1400804213\n",
       "0    G-38055612           49,52  01/07/2020    2020-00116355\n",
       "0     B76546787       siguiente  02/08/2021     721000050614\n",
       "0     B76744861  www.gmfood.es,  03/02/2020  200302180004999\n",
       "0     B38574281           TOTAL  03/07/2020       F1-1-01353\n",
       "0  B-76,305.333               0  01/11/2020         2020/129\n",
       "0     A30013841               0  03/05/2022       1303205930\n",
       "0    78548857-Q         FACTURA  01/08/2021          19/2021\n",
       "0    G-38055612           49,52  01/07/2020    2020-00116355\n",
       "0  B-76,305.333               0  01/11/2020         2020/129\n",
       "0     B76744861  www.gmfood.es,  03/02/2020  200302180004999\n",
       "0    B-38923272          44,94€  03/02/2020           389232\n",
       "0    A-38003414          154,05  27-05-2021       1400804213\n",
       "0     B76744861           69,20    03/02/20         26052105\n",
       "0    B-38988242               |    23/11/19          1825768\n",
       "0    B-38206456          159,60    30/10/21           134055\n",
       "0     B38574281           TOTAL    03/07/20       F1-1-01353\n",
       "0     B76744861               0    31/00/21         76744861"
      ]
     },
     "execution_count": 411,
     "metadata": {},
     "output_type": "execute_result"
    }
   ],
   "source": [
    "final"
   ]
  },
  {
   "cell_type": "code",
   "execution_count": 412,
   "id": "e88117e0",
   "metadata": {},
   "outputs": [],
   "source": [
    "final.to_excel('Extracted_Data.xlsx')"
   ]
  },
  {
   "cell_type": "code",
   "execution_count": 398,
   "id": "318d4af1",
   "metadata": {},
   "outputs": [
    {
     "data": {
      "text/plain": [
       "'INVERMIRA,S.L.\\nB38323812\\nCtra.-TF 653 - N° 50\\n38632 ARONA - TENERIFE\\nTelf. 922732587\\nFax. 922786404\\nwww.invermira.com\\ninvermira@invermira.com\\n\\nFACTURA\\n\\nFACTURA | 3-92002517 1 Giiente 001000006\\nFecha 03/11/2020 VIVEROS MOGAN S.L.\\n\\nCTRA. POSTREAGUA, S/N PUERTO DE MOGAN\\n\\n35138 MOGAN, DE\\nPAGARE NO ENTREGADO PALMAS , LAS\\n\\nESPANA\\n[observaciones:\\n\\nTel. 928565434\\n\\nCIF.B76305333\\n[Atticuto | ~ Desoripeién |) Unidades || Precio || Dto |) % gic || Importe |\\nAlbaran 3-20.002.980 de Fecha 03/11/2020\\n000000665 GERANIO P. M/10.5 325,00 0,6893 3,00 224,03\\n000000314 TOMILLO M/2.5 3,00 2,2505 3,00 6,75\\nP 000000334 CILANTRO M/10.5, 24,00 0,7379 3,00 17,71\\n000000318 ROMERO M/2.5 29,00 2.4272 3,00 70,39\\n000000346 CURRY M/10,5 24,00 0,7379 3,00 17,71\\nP 000000447 PIMIENTO DULCE HUERTO URB M/ 17 5,00 1,5922 3,00 7,96\\nP 000000441 PIMIENTO PADRON M/ 17 5,00 1,5922 3,00 7,96\\nP 000000448 PIMIENTA PICANTE H. URB M/ 17, 5,00 1,5922 3,00 7,96\\n000000237 CONVOLVULUS M/10.5 24,00 1,0388 3,00 24,93\\n000000784 ALYSSUM M/10.5 24,00 0,5146 3,00 12,35\\n000000213 PETUNIAM/9 90,00 0,2621 3,00 23,59\\nP 000001218 CC CONTAINER BASE L/P GRAN CANARIA 1,00 49,0000 3,00 49,00\\nP 000001224 CC BANDEJA CC CONTAINER 7,00 0,0000 3,00 0,00\\nP 00326060 CC EXTENSORES HIERRO X 66 CM 4,00 0,0000 3,00 0,00\\n\\nVencimiento\\n\\n03/12/2020\\n\\nIGIc 3,00% 470,34 14,11\\n\\nIMPORTE FACTURA EU 484,45\\n\\nEnelacién con elReglamento Europe ( RGPD 67972016 ) see informa que sus datos personales forman parte de la base de datos cuyo responsable de tratamiento es INVERMIRA SLL. con la\\nfinsldad COMERCIAL que nos une - durante el tiempo que dure la eacién yla noxmativa de aplicacon lo requiera , manteniendo la informacion bao las medidas de seguridad pertinentes. Asi mismo, de\\nteuerdo con el articulo 13 del mencionado reglamneto, puede ejecer sus derechos enviando un correo electrGnico a ta dcecciin: pdatos.invermira™@gmal.com\\n\\nPagina 1/1\\n'"
      ]
     },
     "execution_count": 398,
     "metadata": {},
     "output_type": "execute_result"
    }
   ],
   "source": [
    "text"
   ]
  },
  {
   "cell_type": "code",
   "execution_count": null,
   "id": "8abce0b6",
   "metadata": {},
   "outputs": [],
   "source": []
  },
  {
   "cell_type": "code",
   "execution_count": null,
   "id": "4da99318",
   "metadata": {},
   "outputs": [],
   "source": []
  }
 ],
 "metadata": {
  "kernelspec": {
   "display_name": "Python 3 (ipykernel)",
   "language": "python",
   "name": "python3"
  },
  "language_info": {
   "codemirror_mode": {
    "name": "ipython",
    "version": 3
   },
   "file_extension": ".py",
   "mimetype": "text/x-python",
   "name": "python",
   "nbconvert_exporter": "python",
   "pygments_lexer": "ipython3",
   "version": "3.7.11"
  }
 },
 "nbformat": 4,
 "nbformat_minor": 5
}
