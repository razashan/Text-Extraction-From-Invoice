{
 "cells": [
  {
   "cell_type": "code",
   "execution_count": 1,
   "id": "01721d19",
   "metadata": {},
   "outputs": [],
   "source": [
    "import pytesseract\n",
    "import cv2\n",
    "from PIL import Image \n",
    "import re\n",
    "import pandas as pd"
   ]
  },
  {
   "cell_type": "code",
   "execution_count": 2,
   "id": "3577cb91",
   "metadata": {},
   "outputs": [],
   "source": [
    "pytesseract.pytesseract.tesseract_cmd = r\"C:\\Program Files\\Tesseract-OCR\\tesseract.exe\""
   ]
  },
  {
   "cell_type": "code",
   "execution_count": 3,
   "id": "84b38766",
   "metadata": {},
   "outputs": [],
   "source": [
    "formats = pd.read_excel('invoice_formats.xlsx')\n",
    "final = pd.read_excel('Extracted_Data.xlsx')"
   ]
  },
  {
   "cell_type": "code",
   "execution_count": 479,
   "id": "90832141",
   "metadata": {},
   "outputs": [],
   "source": [
    "Ima = \"Makro Invoices/Makro Invoices/Converted/03.07.20_Extintores Valle Union Sl_3243,8_page1.png\""
   ]
  },
  {
   "cell_type": "code",
   "execution_count": 482,
   "id": "4a19f044",
   "metadata": {},
   "outputs": [
    {
     "name": "stdout",
     "output_type": "stream",
     "text": [
      "<class 'list'>\n",
      "Case Total\n",
      "['i', 'NETO', 'DTO', 'PP.', 'B.IMPONIBLE', 'IVA', 'IMP.', 'L.V.A.', '%', 'REC.', 'IMP.', 'REC', 'TOTAL']\n",
      "TOTAL\n",
      "(1191, 1684)\n",
      "['2500 224.00', '10.00', '', '60.00 2.100.00', '', '.', '', '3.243.80', '', '.-.', '.-.', '']\n",
      "10.00\n",
      "Wall time: 6.11 s\n"
     ]
    }
   ],
   "source": [
    "%%time\n",
    "dat = {\n",
    "    \"Vat Number\":'',\n",
    "       \"Total\":0,\n",
    "       \"Date\":'',\n",
    "      \"Invoice_Number\":''}\n",
    "img  = cv2.imread(Ima, cv2.COLOR_RGB2GRAY)\n",
    "text=(pytesseract.image_to_string(img))\n",
    "text_list = text.split(\"\\n\")\n",
    "vat = []\n",
    "date = []\n",
    "print(type(text_list))\n",
    "for idx, a in enumerate(text_list):\n",
    "    if(a.strip() != \"\"):\n",
    "\n",
    "\n",
    "        if (re.search(\"[A-Z]{1}-[0-9]{8}\",a)):\n",
    "            b = re.findall(\"[A-Z]{1}-[0-9]{8}\",a)\n",
    "            dat[\"Vat Number\"] = b[0]\n",
    "            vat.append(b)\n",
    "            print(b)\n",
    "        elif (re.search(\"[0-9]{8}-[A-Z]{1}\",a)):\n",
    "            b = re.findall(\"[0-9]{8}-[A-Z]{1}\",a)\n",
    "            dat[\"Vat Number\"] = b[0]\n",
    "            vat.append(b)\n",
    "        elif (re.search(\"[0-9]{8}[A-Z]{1}\",a)):\n",
    "            b = re.findall(\"[0-9]{8}[A-Z]{1}\",a)\n",
    "            dat[\"Vat Number\"] = b\n",
    "            vat.append(b)\n",
    "    \n",
    "        elif (re.search(\"[A-Z]{1}-[0-9]{8}\",a)):\n",
    "            b = re.findall(\"[A-Z]{1}-[0-9]{8}\",a)\n",
    "            dat[\"Vat Number\"] = b[0]\n",
    "            vat.append(b)\n",
    "\n",
    "        elif (re.search(\"[A-Z]{1}[0-9]{8}\",a)):\n",
    "            b = re.findall(\"[A-Z]{1}[0-9]{8}\",a)\n",
    "            dat[\"Vat Number\"] = b[0]\n",
    "            vat.append(b)\n",
    "            \n",
    "        elif (re.search(\"[A-Z]{1}[0-9]{2}/[0-9]{6}\",a)):\n",
    "            b = re.findall(\"[A-Z]{1}[0-9]{2}/[0-9]{6}\",a)\n",
    "            dat[\"Vat Number\"] = b[0]\n",
    "            vat.append(b)\n",
    "            \n",
    "        elif (re.search(\"[A-Z]{1}-[0-9]{2}.[0-9]{3}.[0-9]{3}\",a)):\n",
    "            b = re.findall(\"[A-Z]{1}-[0-9]{2}.[0-9]{3}.[0-9]{3}\",a)\n",
    "            dat[\"Vat Number\"] = b[0]\n",
    "        elif (re.search(\"[A-Z]{1}-[0-9]{2}/[0-9]{6}\",a)):\n",
    "            b = re.findall(\"[A-Z]{1}-[0-9]{2}/[0-9]{6}\",a)\n",
    "            dat[\"Vat Number\"] = b[0]\n",
    "\n",
    "        if len(vat)>1:\n",
    "            dat[\"Vat Number\"] = vat[0]\n",
    "        else:\n",
    "            pass\n",
    "         #Date section           \n",
    "        if (re.search(\"\\d{2}/\\d{2}/\\d{4}\",a)):\n",
    "            b  = re.findall(\"\\d{2}/\\d{2}/\\d{4}\", a)\n",
    "            dat[\"Date\"] = b[0]\n",
    "            date.append(b[0])\n",
    "        elif (re.search(\"\\d{2}-\\d{2}-\\d{4}\",a)):\n",
    "            b = re.findall(\"\\d{2}-\\d{2}-\\d{4}\",a)\n",
    "            dat[\"Date\"] = b[0]\n",
    "            date.append(b[0])\n",
    "        elif (re.search(\"\\d{2}/\\d{2}/\\d{2}\",a)):\n",
    "            b = re.findall(\"\\d{2}/\\d{2}/\\d{2}\",a)\n",
    "            dat[\"Date\"] = b[0]\n",
    "            date.append(b[0])\n",
    "        elif (re.search(\"\\d{1}/\\d{2}/\\d{2}\",a)):\n",
    "            b = re.findall(\"\\d{1}/\\d{2}/\\d{2}\",a)\n",
    "            dat[\"Date\"] = b[0]\n",
    "            date.append(b[0])\n",
    "        \n",
    "        elif (re.search(\"[0-9]{2}.[0-9]{2}.[0-9]{4}\",a)):\n",
    "            b = re.findall(\"[0-9]{2}.[0-9]{2}.[0-9]{4}\",a)\n",
    "            dat[\"Date\"] = b[0]\n",
    "            date.append(b[0])\n",
    "    \n",
    "        if len(date)>1:\n",
    "            dat[\"Date\"] = date[0]\n",
    "\n",
    "        #invoice number section\n",
    "        if (\"Factura\" in a or \"ALBARAN\" in a or \"Factura: \" in a):\n",
    "\n",
    "            print(a)\n",
    "            b = a.split(\" \")\n",
    "            if b[0] == \"ALBARAN\":\n",
    "                dat[\"Invoice_Number\"] = b[1]\n",
    "            print(b)\n",
    "            if len(b)>3:\n",
    "                print(b)\n",
    "                if len(b)>4 and b[2] !='—' and len(b[1])!=25 and len(b[1])>5:\n",
    "                    dat[\"Invoice_Number\"] = b[1]+b[2]\n",
    "                    print(b)\n",
    "                elif len(b)>=5 and len(b[1])==25:\n",
    "                    dat[\"Invoice_Number\"] = b[1]\n",
    "                elif len(b)>6 and len(b[3])>15:\n",
    "                    dat[\"Invoice_Number\"] = b[1]+ b[2]+ b[3]\n",
    "                elif len(b)>6 and b[1]== \"0/0\":\n",
    "                    dat[\"Invoice_Number\"] = b[1] + b[2]\n",
    "                    \n",
    "        if (\"Tarjeta\" in a or \"Credito\" in a or  \"pagina\" in a or \"Total:\" in a  or \"TOTAL\" in a or  \"Total factura\" in a or  \"Total Factura\" in a or \"TOTAL FACTURA\" in a or \"Total CON IGIC\" in a  or \"IMPORTE FACTURA EU\" in a or \"IMPORTE FACTURA\" in a or \"EUROS\" in a):\n",
    "            print(\"Case Total\")\n",
    "            b = a.split(\" \")\n",
    "            print(b)\n",
    "            if len(b[-1])==2:\n",
    "                \n",
    "                dat[\"Total\"] = b[-2]+b[-1]\n",
    "                print(b[-2]+b[-1])\n",
    "                \n",
    "            if b[-1]=='€':\n",
    "                dat[\"Total\"] = b[-2]\n",
    "            if b[-1] == \"|\":\n",
    "                dat[\"Total\"] = b[-2]\n",
    "            if b[-1] == \"EUR\":\n",
    "                dat[\"Total\"] = b[-2]\n",
    "            else:\n",
    "                dat[\"Total\"] = b[-1]\n",
    "                print(b[-1])\n",
    "                \n",
    "if dat[\"Total\"] == 0 or len(dat['Total'])==1 or dat[\"Total\"]==\"SUB TOTAL\"  or dat[\"Total\"] == 'factura' or dat[\"Total\"]==\"FACTURA\" or dat[\"Total\"]== \"EUROS\" or dat[\"Total\"] == \"©\" or dat[\"Total\"]==\"TOTAL\":\n",
    "        tot = []\n",
    "        im = Image.open(Ima) \n",
    "        # Size of the image in pixels (size of orginal image) \n",
    "        # (This is not mandatory) \n",
    "        width, height = im.size \n",
    "        print(im.size)\n",
    "        # Setting the points for cropped image \n",
    "        left = 605\n",
    "        top = 600\n",
    "        right = 1675\n",
    "        bottom = 1590\n",
    "        # Cropped image of above dimension \n",
    "        # (It will not change orginal image) \n",
    "        im1 = im.crop((left, top, right, bottom)) \n",
    "         # Shows the image in image viewer \n",
    "        im1.save(\"Makro Invoices/Makro Invoices/New/pp2.jpg\")\n",
    "        img  = cv2.imread('Makro Invoices/Makro Invoices/New/pp2.jpg', cv2.COLOR_RGB2GRAY)\n",
    "        tex=(pytesseract.image_to_string(img,config='outputbase digits'))\n",
    "        text_list = tex.split(\"\\n\")\n",
    "        text_list = text_list\n",
    "        print(text_list)\n",
    "        for i in text_list:\n",
    "            if len(i)>=4 and len(i)<=7:\n",
    "                print(i)\n",
    "                tot.append(i)\n",
    "                dat[\"Total\"] = max(tot)\n",
    "            \n",
    "            \n",
    "        "
   ]
  },
  {
   "cell_type": "code",
   "execution_count": 483,
   "id": "0a61c863",
   "metadata": {},
   "outputs": [
    {
     "data": {
      "text/plain": [
       "{'Vat Number': 'B38574281',\n",
       " 'Total': '10.00',\n",
       " 'Date': '03/07/2020',\n",
       " 'Invoice_Number': ''}"
      ]
     },
     "execution_count": 483,
     "metadata": {},
     "output_type": "execute_result"
    }
   ],
   "source": [
    "dat"
   ]
  },
  {
   "cell_type": "code",
   "execution_count": 484,
   "id": "60e675e5",
   "metadata": {},
   "outputs": [
    {
     "name": "stdout",
     "output_type": "stream",
     "text": [
      "  Vat Number  Total        Date Invoice_Number\n",
      "0  B38574281  10.00  03/07/2020               \n"
     ]
    }
   ],
   "source": [
    "data  =  pd.DataFrame(dat,index=[0])\n",
    "data['Vat Number']= data['Vat Number'].str.replace(' ', '')\n",
    "print(data)"
   ]
  },
  {
   "cell_type": "code",
   "execution_count": 485,
   "id": "3211f2af",
   "metadata": {},
   "outputs": [
    {
     "name": "stderr",
     "output_type": "stream",
     "text": [
      "F:\\anaconda3\\envs\\python_3_7\\lib\\site-packages\\ipykernel_launcher.py:3: FutureWarning: The default value of regex will change from True to False in a future version. In addition, single character regular expressions will *not* be treated as literal strings when regex=True.\n",
      "  This is separate from the ipykernel package so we can avoid doing imports until\n"
     ]
    },
    {
     "data": {
      "text/html": [
       "<div>\n",
       "<style scoped>\n",
       "    .dataframe tbody tr th:only-of-type {\n",
       "        vertical-align: middle;\n",
       "    }\n",
       "\n",
       "    .dataframe tbody tr th {\n",
       "        vertical-align: top;\n",
       "    }\n",
       "\n",
       "    .dataframe thead th {\n",
       "        text-align: right;\n",
       "    }\n",
       "</style>\n",
       "<table border=\"1\" class=\"dataframe\">\n",
       "  <thead>\n",
       "    <tr style=\"text-align: right;\">\n",
       "      <th></th>\n",
       "      <th>Vat Number</th>\n",
       "      <th>Total</th>\n",
       "      <th>Date</th>\n",
       "      <th>Invoice_Number</th>\n",
       "    </tr>\n",
       "  </thead>\n",
       "  <tbody>\n",
       "    <tr>\n",
       "      <th>0</th>\n",
       "      <td>B38574281</td>\n",
       "      <td>10.00</td>\n",
       "      <td>03/07/2020</td>\n",
       "      <td></td>\n",
       "    </tr>\n",
       "  </tbody>\n",
       "</table>\n",
       "</div>"
      ],
      "text/plain": [
       "  Vat Number  Total        Date Invoice_Number\n",
       "0  B38574281  10.00  03/07/2020               "
      ]
     },
     "execution_count": 485,
     "metadata": {},
     "output_type": "execute_result"
    }
   ],
   "source": [
    "data['Vat Number']= data['Vat Number'].str.replace('-', '')\n",
    "data['Vat Number']= data['Vat Number'].str.replace(',', '')\n",
    "data['Vat Number']= data['Vat Number'].str.replace('.', '')\n",
    "data"
   ]
  },
  {
   "cell_type": "code",
   "execution_count": 486,
   "id": "0f047807",
   "metadata": {},
   "outputs": [],
   "source": [
    "formats['last']= (formats['nif'].isin(data['Vat Number']))"
   ]
  },
  {
   "cell_type": "code",
   "execution_count": 487,
   "id": "c2b82863",
   "metadata": {},
   "outputs": [],
   "source": [
    "df2 = formats.query(\"last == True\")"
   ]
  },
  {
   "cell_type": "code",
   "execution_count": 488,
   "id": "1c12a9fa",
   "metadata": {},
   "outputs": [
    {
     "data": {
      "text/html": [
       "<div>\n",
       "<style scoped>\n",
       "    .dataframe tbody tr th:only-of-type {\n",
       "        vertical-align: middle;\n",
       "    }\n",
       "\n",
       "    .dataframe tbody tr th {\n",
       "        vertical-align: top;\n",
       "    }\n",
       "\n",
       "    .dataframe thead th {\n",
       "        text-align: right;\n",
       "    }\n",
       "</style>\n",
       "<table border=\"1\" class=\"dataframe\">\n",
       "  <thead>\n",
       "    <tr style=\"text-align: right;\">\n",
       "      <th></th>\n",
       "      <th>formato</th>\n",
       "      <th>nombre</th>\n",
       "      <th>nif</th>\n",
       "      <th>last</th>\n",
       "    </tr>\n",
       "  </thead>\n",
       "  <tbody>\n",
       "    <tr>\n",
       "      <th>81</th>\n",
       "      <td>[A-Z]{1}[0-9]{1}-[0-9]{1}-[0-9]{5}</td>\n",
       "      <td>L M Seguridad Sl</td>\n",
       "      <td>B38574281</td>\n",
       "      <td>True</td>\n",
       "    </tr>\n",
       "    <tr>\n",
       "      <th>338</th>\n",
       "      <td>[A-Z]{1}[0-9]{1}-[0-9]{1}-[0-9]{5}</td>\n",
       "      <td>L M Seguridad Sl</td>\n",
       "      <td>B38574281</td>\n",
       "      <td>True</td>\n",
       "    </tr>\n",
       "    <tr>\n",
       "      <th>652</th>\n",
       "      <td>[A-Z]{1}[0-9]{1}-[0-9]{1}-[0-9]{5}</td>\n",
       "      <td>L M Seguridad Sl</td>\n",
       "      <td>B38574281</td>\n",
       "      <td>True</td>\n",
       "    </tr>\n",
       "    <tr>\n",
       "      <th>1086</th>\n",
       "      <td>[A-Z]{1}[0-9]{1}-[0-9]{1}-[0-9]{5}</td>\n",
       "      <td>L M Seguridad Sl</td>\n",
       "      <td>B38574281</td>\n",
       "      <td>True</td>\n",
       "    </tr>\n",
       "    <tr>\n",
       "      <th>2455</th>\n",
       "      <td>[A-Z]{1}[0-9]{1}-[0-9]{1}-[0-9]{5}</td>\n",
       "      <td>L M Seguridad Sl</td>\n",
       "      <td>B38574281</td>\n",
       "      <td>True</td>\n",
       "    </tr>\n",
       "    <tr>\n",
       "      <th>3441</th>\n",
       "      <td>[A-Z]{1}[0-9]{1}-[0-9]{1}-[0-9]{5}</td>\n",
       "      <td>L M Seguridad Sl</td>\n",
       "      <td>B38574281</td>\n",
       "      <td>True</td>\n",
       "    </tr>\n",
       "    <tr>\n",
       "      <th>4445</th>\n",
       "      <td>[A-Z]{1}[0-9]{1}-[0-9]{1}-[0-9]{5}</td>\n",
       "      <td>L M Seguridad Sl</td>\n",
       "      <td>B38574281</td>\n",
       "      <td>True</td>\n",
       "    </tr>\n",
       "    <tr>\n",
       "      <th>4728</th>\n",
       "      <td>[A-Z]{1}[0-9]{1}-[0-9]{1}-[0-9]{5}</td>\n",
       "      <td>L M Seguridad Sl</td>\n",
       "      <td>B38574281</td>\n",
       "      <td>True</td>\n",
       "    </tr>\n",
       "    <tr>\n",
       "      <th>5397</th>\n",
       "      <td>[A-Z]{1}[0-9]{1}-[0-9]{1}-[0-9]{5}</td>\n",
       "      <td>L M Seguridad Sl</td>\n",
       "      <td>B38574281</td>\n",
       "      <td>True</td>\n",
       "    </tr>\n",
       "    <tr>\n",
       "      <th>5398</th>\n",
       "      <td>[A-Z]{1}[0-9]{1}-[0-9]{1}-[0-9]{5}</td>\n",
       "      <td>L M Seguridad Sl</td>\n",
       "      <td>B38574281</td>\n",
       "      <td>True</td>\n",
       "    </tr>\n",
       "    <tr>\n",
       "      <th>5402</th>\n",
       "      <td>[A-Z]{1}[0-9]{1}-[0-9]{1}-[0-9]{5}</td>\n",
       "      <td>L M Seguridad Sl</td>\n",
       "      <td>B38574281</td>\n",
       "      <td>True</td>\n",
       "    </tr>\n",
       "    <tr>\n",
       "      <th>5408</th>\n",
       "      <td>[A-Z]{1}[0-9]{1}-[0-9]{1}-[0-9]{5}</td>\n",
       "      <td>L M Seguridad Sl</td>\n",
       "      <td>B38574281</td>\n",
       "      <td>True</td>\n",
       "    </tr>\n",
       "    <tr>\n",
       "      <th>13011</th>\n",
       "      <td>[A-Z]{1}[0-9]{1}-[0-9]{1}-[0-9]{5}</td>\n",
       "      <td>L M Seguridad Sl</td>\n",
       "      <td>B38574281</td>\n",
       "      <td>True</td>\n",
       "    </tr>\n",
       "    <tr>\n",
       "      <th>20786</th>\n",
       "      <td>[A-Z]{1}[0-9]{1}-[0-9]{1}-[0-9]{5}</td>\n",
       "      <td>L M Seguridad Sl</td>\n",
       "      <td>B38574281</td>\n",
       "      <td>True</td>\n",
       "    </tr>\n",
       "  </tbody>\n",
       "</table>\n",
       "</div>"
      ],
      "text/plain": [
       "                                  formato            nombre        nif  last\n",
       "81     [A-Z]{1}[0-9]{1}-[0-9]{1}-[0-9]{5}  L M Seguridad Sl  B38574281  True\n",
       "338    [A-Z]{1}[0-9]{1}-[0-9]{1}-[0-9]{5}  L M Seguridad Sl  B38574281  True\n",
       "652    [A-Z]{1}[0-9]{1}-[0-9]{1}-[0-9]{5}  L M Seguridad Sl  B38574281  True\n",
       "1086   [A-Z]{1}[0-9]{1}-[0-9]{1}-[0-9]{5}  L M Seguridad Sl  B38574281  True\n",
       "2455   [A-Z]{1}[0-9]{1}-[0-9]{1}-[0-9]{5}  L M Seguridad Sl  B38574281  True\n",
       "3441   [A-Z]{1}[0-9]{1}-[0-9]{1}-[0-9]{5}  L M Seguridad Sl  B38574281  True\n",
       "4445   [A-Z]{1}[0-9]{1}-[0-9]{1}-[0-9]{5}  L M Seguridad Sl  B38574281  True\n",
       "4728   [A-Z]{1}[0-9]{1}-[0-9]{1}-[0-9]{5}  L M Seguridad Sl  B38574281  True\n",
       "5397   [A-Z]{1}[0-9]{1}-[0-9]{1}-[0-9]{5}  L M Seguridad Sl  B38574281  True\n",
       "5398   [A-Z]{1}[0-9]{1}-[0-9]{1}-[0-9]{5}  L M Seguridad Sl  B38574281  True\n",
       "5402   [A-Z]{1}[0-9]{1}-[0-9]{1}-[0-9]{5}  L M Seguridad Sl  B38574281  True\n",
       "5408   [A-Z]{1}[0-9]{1}-[0-9]{1}-[0-9]{5}  L M Seguridad Sl  B38574281  True\n",
       "13011  [A-Z]{1}[0-9]{1}-[0-9]{1}-[0-9]{5}  L M Seguridad Sl  B38574281  True\n",
       "20786  [A-Z]{1}[0-9]{1}-[0-9]{1}-[0-9]{5}  L M Seguridad Sl  B38574281  True"
      ]
     },
     "execution_count": 488,
     "metadata": {},
     "output_type": "execute_result"
    }
   ],
   "source": [
    "df2"
   ]
  },
  {
   "cell_type": "code",
   "execution_count": 489,
   "id": "a25f17fd",
   "metadata": {},
   "outputs": [],
   "source": [
    "inv = 0\n",
    "for i in df2['formato']:\n",
    "    inv = i\n",
    "pat = 'F1-1-01353'\n",
    "factura = re.compile(inv)\n",
    "mo = factura.search(text)\n",
    "dat[\"Invoice_Number\"]=mo.group()"
   ]
  },
  {
   "cell_type": "code",
   "execution_count": 490,
   "id": "849fd0f7",
   "metadata": {},
   "outputs": [
    {
     "data": {
      "text/plain": [
       "{'Vat Number': 'B38574281',\n",
       " 'Total': '10.00',\n",
       " 'Date': '03/07/2020',\n",
       " 'Invoice_Number': 'F1-1-01353'}"
      ]
     },
     "execution_count": 490,
     "metadata": {},
     "output_type": "execute_result"
    }
   ],
   "source": [
    "dat"
   ]
  },
  {
   "cell_type": "code",
   "execution_count": 491,
   "id": "2361ad8d",
   "metadata": {},
   "outputs": [
    {
     "data": {
      "text/plain": [
       "'Valleunion\\nTelf.; *+34 968 893233 - Fax; ++34 968 893833 - valleunionextintoresy@zmail com\\nFACTURA: F1-1-01353\\nEXTINTORES CARLOS\\n\\nFecha: 03/07/2020 L.M.SEGURIDAD, S.L.\\n\\nNIF/VAT: B38574281 POLG.LOS MAJUELOS C/TIJARAFE N-3 BAJO\\n\\nCliente: 4300000470 38108 LA LAGUNA-STA.C.TENERIFE\\n\\nAgente: 0001 CANARIAS\\n\\nPag. | del\\ni Cédigo Descripcién LOTE Cantidad Precio DTO Importe\\n& 04625 RACORD MANGUERA 25 MM 6,86 171,50\\n2= 04134 RACOR MANGUERA 45 ALUM. 6,30 157,50\\nHi 04397 RACOR R/ INT 25 MM 6,30 220,50\\n42 04396 RACORD R/EXT. 25 MM. 6,30 157,50\\n04237 RACORD R/INT 45 MM 8,96 224,00\\n\\ni 04322 VALVULA LATON C/RACORD 25 MM 21,28 212,80\\ni i SIN RACORD\\n$$ 02501 EXTINTOR 5 KG. CO2 \"VALLE-UNION\" 60,00 35,00 2.100,00\\nit\\n#8 BULTO: I PALET\\nA PESO: 950 KG\\niF\\n38\\nHy\\ni\\n33 :\\nHe\\nHe\\ne\\n£\\ni NETO DTO PP. B.IMPONIBLE IVA IMP. L.V.A. % REC. IMP. REC TOTAL\\n4\\n; 3.243,80 3.243,80 3.243,80 €|\\na\\nForma de Pago: Banco.:\\n\\nREPOSICION PARAGE 60/90 DIAS\\nCédigo IBAN\\n\\ni. EES ssocuon .\\n, — Vallleunion\\nOficinas/Fabrica\\n\\nP. Ind. Oeste Avda. Las Americas P. 17/ 4, P.Box n°198 www.valle-union.es\\n\\n30169 - SAN GINES ( Murcia ) - SPAIN valle.union@vaile-union.com\\nTeléf ++34 968 893233 -Fax ++34 968 893833\\n\\n'"
      ]
     },
     "execution_count": 491,
     "metadata": {},
     "output_type": "execute_result"
    }
   ],
   "source": [
    "text"
   ]
  },
  {
   "cell_type": "code",
   "execution_count": 492,
   "id": "e0390424",
   "metadata": {},
   "outputs": [],
   "source": [
    "import boto3\n",
    "import io"
   ]
  },
  {
   "cell_type": "code",
   "execution_count": 493,
   "id": "e39739c0",
   "metadata": {},
   "outputs": [],
   "source": [
    "im = Image.open(Ima)"
   ]
  },
  {
   "cell_type": "code",
   "execution_count": 494,
   "id": "01dedef9",
   "metadata": {},
   "outputs": [],
   "source": [
    "buffered = io.BytesIO()\n",
    "im.save(buffered, format='PNG')\n",
    "client = boto3.client('textract')\n",
    "response = client.analyze_document(\n",
    "    Document={'Bytes': buffered.getvalue()},\n",
    "    FeatureTypes=['TABLES']\n",
    ")"
   ]
  },
  {
   "cell_type": "code",
   "execution_count": 495,
   "id": "873050fb",
   "metadata": {},
   "outputs": [],
   "source": [
    "def map_blocks(blocks, block_type):\n",
    "    return {\n",
    "        block['Id']: block\n",
    "        for block in blocks\n",
    "        if block['BlockType'] == block_type\n",
    "    }\n",
    "\n",
    "blocks = response['Blocks']\n",
    "tables = map_blocks(blocks, 'TABLE')\n",
    "cells = map_blocks(blocks, 'CELL')\n",
    "words = map_blocks(blocks, 'WORD')\n",
    "selections = map_blocks(blocks, 'SELECTION_ELEMENT')\n",
    "\n",
    "def get_children_ids(block):\n",
    "    for rels in block.get('Relationships', []):\n",
    "        if rels['Type'] == 'CHILD':\n",
    "            yield from rels['Ids']\n",
    "            \n",
    "dataframes = []\n",
    "\n",
    "for table in tables.values():\n",
    "\n",
    "    # Determine all the cells that belong to this table\n",
    "    table_cells = [cells[cell_id] for cell_id in get_children_ids(table)]\n",
    "\n",
    "    # Determine the table's number of rows and columns\n",
    "    n_rows = max(cell['RowIndex'] for cell in table_cells)\n",
    "    n_cols = max(cell['ColumnIndex'] for cell in table_cells)\n",
    "    content = [[None for _ in range(n_cols)] for _ in range(n_rows)]\n",
    "\n",
    "    # Fill in each cell\n",
    "    for cell in table_cells:\n",
    "        cell_contents = [\n",
    "            words[child_id]['Text']\n",
    "            if child_id in words\n",
    "            else selections[child_id]['SelectionStatus']\n",
    "            for child_id in get_children_ids(cell)\n",
    "        ]\n",
    "        i = cell['RowIndex'] - 1\n",
    "        j = cell['ColumnIndex'] - 1\n",
    "        content[i][j] = ' '.join(cell_contents)\n",
    "\n",
    "    # We assume that the first row corresponds to the column names\n",
    "    dataframe = pd.DataFrame(content[1:], columns=content[0])\n",
    "    dataframes.append(dataframe)"
   ]
  },
  {
   "cell_type": "code",
   "execution_count": 496,
   "id": "47e74622",
   "metadata": {},
   "outputs": [
    {
     "name": "stdout",
     "output_type": "stream",
     "text": [
      "Yes 2\n"
     ]
    }
   ],
   "source": [
    "if len(dataframes)>1:\n",
    "    if  \"Concepto\" in dataframes[1] or \"MM Num. articulo\" in dataframes[1] or \"PRECIO\" in dataframes[1] or \"Precio\" in dataframes[1] or \"PRECIO/UD\" in dataframes[1] or \"PRECIO UD.\" in dataframes[1] or \"Num. artículo\" in dataframes[1] or \"Código\" in dataframes[1] or \"FECHA\" in dataframes[1] or  \"ARTICULO\" in dataframes[1] or  \"PRECIO KG\" in dataframes[1] or \"CODIGO\" in dataframes[1] or \"Cod.\" in dataframes[1] or \"ARTÍCULO\" in dataframes[1] or \"Tipo\" in dataframes[1] or \"PRECIO UD\"  in dataframes[1]:\n",
    "        df_t = pd.DataFrame(dataframes[1])\n",
    "        df_t.to_excel('Makro Invoices/Makro Invoices/Saved_Datad.xlsx')\n",
    "        print(\"Yes 1\")\n",
    "\n",
    "if \"Concepto\" in dataframes[0] or \"MM Num. articulo\" in dataframes[0] or \"PRECIO\" in dataframes[0] or \"Precio\" in dataframes[0] or  \"PRECIO/UD\" in dataframes[0] or \"Código\" in dataframes[0] or \"PRECIO UD.\" in dataframes[0]  or \"FECHA\" in dataframes[0] or \"ARTICULO\" in dataframes[0] or \"PRECIO KG\" in dataframes[0] or \"CODIGO\" in dataframes[0] or \"Cod.\" in dataframes[0] or \"ARTÍCULO\" in dataframes[0] or \"Tipo\" in dataframes[0] or \"PRECIO UD\"  in dataframes[0]:\n",
    "        df_t = pd.DataFrame(dataframes[0])\n",
    "        df_t.to_excel('Makro Invoices/Makro Invoices/Saved_Datad.xlsx')\n",
    "        print(\"Yes 2\")\n",
    "if len(dataframes)>2:\n",
    "    if \"Concepto\" in dataframes[2] or \"MM Num. articulo\" in dataframes[2] or \"PRECIO\" in dataframes[2] or \"Precio\" in dataframes[2] or  \"PRECIO/UD\" in dataframes[2] or \"Código\" in dataframes[2] or \"PRECIO UD\" in dataframes[2] or \"PRECIO UD.\" in dataframes[2]  or \"FECHA\" in dataframes[2] or \"ARTICULO\" in dataframes[2] or \"PRECIO KG\" in dataframes[2] or \"CODIGO\" in dataframes[2] or \"Cod.\" in dataframes[2] or \"ARTÍCULO\" in dataframes[2] or \"Tipo\" in dataframes[2]:\n",
    "        df_t = pd.DataFrame(dataframes[2])\n",
    "        df_t.to_excel('Makro Invoices/Makro Invoices/Saved_Datad.xlsx')\n",
    "        print(\"Yes 3\")\n"
   ]
  },
  {
   "cell_type": "code",
   "execution_count": 497,
   "id": "f67d327b",
   "metadata": {},
   "outputs": [
    {
     "data": {
      "text/html": [
       "<div>\n",
       "<style scoped>\n",
       "    .dataframe tbody tr th:only-of-type {\n",
       "        vertical-align: middle;\n",
       "    }\n",
       "\n",
       "    .dataframe tbody tr th {\n",
       "        vertical-align: top;\n",
       "    }\n",
       "\n",
       "    .dataframe thead th {\n",
       "        text-align: right;\n",
       "    }\n",
       "</style>\n",
       "<table border=\"1\" class=\"dataframe\">\n",
       "  <thead>\n",
       "    <tr style=\"text-align: right;\">\n",
       "      <th></th>\n",
       "      <th>Código</th>\n",
       "      <th>Descripción</th>\n",
       "      <th>LOTE</th>\n",
       "      <th>Cantidad</th>\n",
       "      <th>Precio</th>\n",
       "      <th>DTO</th>\n",
       "      <th>Importe</th>\n",
       "    </tr>\n",
       "  </thead>\n",
       "  <tbody>\n",
       "    <tr>\n",
       "      <th>0</th>\n",
       "      <td>04625</td>\n",
       "      <td>RACORD MANGUERA 25 MM</td>\n",
       "      <td></td>\n",
       "      <td>25,00</td>\n",
       "      <td>6,86</td>\n",
       "      <td></td>\n",
       "      <td>171,50</td>\n",
       "    </tr>\n",
       "    <tr>\n",
       "      <th>1</th>\n",
       "      <td>04134</td>\n",
       "      <td>RACOR MANGUERA 45 ALUM.</td>\n",
       "      <td></td>\n",
       "      <td>25,00</td>\n",
       "      <td>6,30</td>\n",
       "      <td></td>\n",
       "      <td>157,50</td>\n",
       "    </tr>\n",
       "    <tr>\n",
       "      <th>2</th>\n",
       "      <td>04397</td>\n",
       "      <td>RACOR R/ INT 25 MM</td>\n",
       "      <td></td>\n",
       "      <td>35,00</td>\n",
       "      <td>6,30</td>\n",
       "      <td></td>\n",
       "      <td>220,50</td>\n",
       "    </tr>\n",
       "    <tr>\n",
       "      <th>3</th>\n",
       "      <td>04396</td>\n",
       "      <td>RACORD R/EXT. 25 MM.</td>\n",
       "      <td></td>\n",
       "      <td>25,00</td>\n",
       "      <td>6,30</td>\n",
       "      <td></td>\n",
       "      <td>157,50</td>\n",
       "    </tr>\n",
       "    <tr>\n",
       "      <th>4</th>\n",
       "      <td>04237</td>\n",
       "      <td>RACORD R/INT 45 MM</td>\n",
       "      <td></td>\n",
       "      <td>25,00</td>\n",
       "      <td>8,96</td>\n",
       "      <td></td>\n",
       "      <td>224,00</td>\n",
       "    </tr>\n",
       "    <tr>\n",
       "      <th>5</th>\n",
       "      <td>04322</td>\n",
       "      <td>VALVULA LATON C/RACORD 25 MM</td>\n",
       "      <td></td>\n",
       "      <td>10,00</td>\n",
       "      <td>21,28</td>\n",
       "      <td></td>\n",
       "      <td>212,80</td>\n",
       "    </tr>\n",
       "    <tr>\n",
       "      <th>6</th>\n",
       "      <td>SIN</td>\n",
       "      <td>RACORD</td>\n",
       "      <td></td>\n",
       "      <td></td>\n",
       "      <td></td>\n",
       "      <td></td>\n",
       "      <td></td>\n",
       "    </tr>\n",
       "    <tr>\n",
       "      <th>7</th>\n",
       "      <td>02501</td>\n",
       "      <td>EXTINTOR 5 KG. CO2 \"VALLE-UNION\"</td>\n",
       "      <td></td>\n",
       "      <td>60,00</td>\n",
       "      <td>35,00</td>\n",
       "      <td></td>\n",
       "      <td>2.100,00</td>\n",
       "    </tr>\n",
       "    <tr>\n",
       "      <th>8</th>\n",
       "      <td></td>\n",
       "      <td>BULTO: 1 PALET</td>\n",
       "      <td></td>\n",
       "      <td></td>\n",
       "      <td></td>\n",
       "      <td></td>\n",
       "      <td></td>\n",
       "    </tr>\n",
       "    <tr>\n",
       "      <th>9</th>\n",
       "      <td>PESO:</td>\n",
       "      <td>950 KG</td>\n",
       "      <td></td>\n",
       "      <td></td>\n",
       "      <td></td>\n",
       "      <td></td>\n",
       "      <td></td>\n",
       "    </tr>\n",
       "  </tbody>\n",
       "</table>\n",
       "</div>"
      ],
      "text/plain": [
       "  Código                       Descripción LOTE Cantidad Precio DTO   Importe\n",
       "0  04625             RACORD MANGUERA 25 MM         25,00   6,86        171,50\n",
       "1  04134           RACOR MANGUERA 45 ALUM.         25,00   6,30        157,50\n",
       "2  04397                RACOR R/ INT 25 MM         35,00   6,30        220,50\n",
       "3  04396              RACORD R/EXT. 25 MM.         25,00   6,30        157,50\n",
       "4  04237                RACORD R/INT 45 MM         25,00   8,96        224,00\n",
       "5  04322      VALVULA LATON C/RACORD 25 MM         10,00  21,28        212,80\n",
       "6    SIN                            RACORD                                   \n",
       "7  02501  EXTINTOR 5 KG. CO2 \"VALLE-UNION\"         60,00  35,00      2.100,00\n",
       "8                           BULTO: 1 PALET                                   \n",
       "9  PESO:                            950 KG                                   "
      ]
     },
     "execution_count": 497,
     "metadata": {},
     "output_type": "execute_result"
    }
   ],
   "source": [
    "df_t"
   ]
  },
  {
   "cell_type": "raw",
   "id": "987be39a",
   "metadata": {},
   "source": [
    "                data = {'file': 'C:\\Users\\Usuario\\Desktop\\clasificador_2.0\\jose-gastos-oct-2021_page10.png',\n",
    "                        'labels': {\"Supplier\": '',\n",
    "                                    \"Vat Number\": '',\n",
    "                                    \"Total\": 0,\n",
    "                                    \"Date\": '',\n",
    "                                    \"Invoice_Number\": ''},\n",
    "                        'tables': []\n",
    "                        }"
   ]
  },
  {
   "cell_type": "code",
   "execution_count": 498,
   "id": "008dabb4",
   "metadata": {},
   "outputs": [
    {
     "data": {
      "text/plain": [
       "{'Vat Number': 'B38574281',\n",
       " 'Total': '10.00',\n",
       " 'Date': '03/07/2020',\n",
       " 'Invoice_Number': 'F1-1-01353'}"
      ]
     },
     "execution_count": 498,
     "metadata": {},
     "output_type": "execute_result"
    }
   ],
   "source": [
    "dat"
   ]
  },
  {
   "cell_type": "code",
   "execution_count": 499,
   "id": "5ff1d51f",
   "metadata": {},
   "outputs": [
    {
     "name": "stdout",
     "output_type": "stream",
     "text": [
      "{'file': 'Makro Invoices/Makro Invoices/Converted/03.07.20_Extintores Valle Union Sl_3243,8_page1.png', 'labels': {'Vat Number': 'B38574281', 'Total': '10.00', 'Date': '03/07/2020', 'Invoice_Number': 'F1-1-01353'}, 'tables':   Código                       Descripción LOTE Cantidad Precio DTO   Importe\n",
      "0  04625             RACORD MANGUERA 25 MM         25,00   6,86        171,50\n",
      "1  04134           RACOR MANGUERA 45 ALUM.         25,00   6,30        157,50\n",
      "2  04397                RACOR R/ INT 25 MM         35,00   6,30        220,50\n",
      "3  04396              RACORD R/EXT. 25 MM.         25,00   6,30        157,50\n",
      "4  04237                RACORD R/INT 45 MM         25,00   8,96        224,00\n",
      "5  04322      VALVULA LATON C/RACORD 25 MM         10,00  21,28        212,80\n",
      "6    SIN                            RACORD                                   \n",
      "7  02501  EXTINTOR 5 KG. CO2 \"VALLE-UNION\"         60,00  35,00      2.100,00\n",
      "8                           BULTO: 1 PALET                                   \n",
      "9  PESO:                            950 KG                                   }\n"
     ]
    }
   ],
   "source": [
    "json_f = {}\n",
    "json_f['file'] = Ima\n",
    "json_f['labels'] = dat\n",
    "json_f['tables'] = df_t\n",
    "print(json_f)"
   ]
  },
  {
   "cell_type": "code",
   "execution_count": null,
   "id": "0101ff3f",
   "metadata": {},
   "outputs": [],
   "source": []
  }
 ],
 "metadata": {
  "kernelspec": {
   "display_name": "Python 3 (ipykernel)",
   "language": "python",
   "name": "python3"
  },
  "language_info": {
   "codemirror_mode": {
    "name": "ipython",
    "version": 3
   },
   "file_extension": ".py",
   "mimetype": "text/x-python",
   "name": "python",
   "nbconvert_exporter": "python",
   "pygments_lexer": "ipython3",
   "version": "3.7.11"
  }
 },
 "nbformat": 4,
 "nbformat_minor": 5
}
