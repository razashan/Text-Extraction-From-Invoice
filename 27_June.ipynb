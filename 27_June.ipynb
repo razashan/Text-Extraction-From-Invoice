{
 "cells": [
  {
   "cell_type": "code",
   "execution_count": 133,
   "id": "01721d19",
   "metadata": {},
   "outputs": [],
   "source": [
    "import pytesseract\n",
    "import cv2\n",
    "from PIL import Image \n",
    "import re\n",
    "import pandas as pd"
   ]
  },
  {
   "cell_type": "code",
   "execution_count": 2,
   "id": "3577cb91",
   "metadata": {},
   "outputs": [],
   "source": [
    "pytesseract.pytesseract.tesseract_cmd = r\"C:\\Program Files\\Tesseract-OCR\\tesseract.exe\""
   ]
  },
  {
   "cell_type": "code",
   "execution_count": 3,
   "id": "84b38766",
   "metadata": {},
   "outputs": [],
   "source": [
    "formats = pd.read_excel('invoice_formats.xlsx')\n",
    "final = pd.read_excel('Extracted_Data.xlsx')"
   ]
  },
  {
   "cell_type": "code",
   "execution_count": 134,
   "id": "8c49f76d",
   "metadata": {},
   "outputs": [],
   "source": [
    "#Image = \"Makro Invoices/Makro Invoices/Converted/02.08.21_Graciosamar Cruceros, S.L._97,5_page1.png\""
   ]
  },
  {
   "cell_type": "code",
   "execution_count": 135,
   "id": "4a19f044",
   "metadata": {},
   "outputs": [
    {
     "name": "stdout",
     "output_type": "stream",
     "text": [
      "<class 'list'>\n",
      "N° Factura 721000050614\n",
      "['N°', 'Factura', '721000050614']\n",
      "Fecha Factura 02/08/2021\n",
      "['Fecha', 'Factura', '02/08/2021']\n",
      "| Total Factura| 574,88 €\n",
      "['|', 'Total', 'Factura|', '574,88', '€']\n",
      "['|', 'Total', 'Factura|', '574,88', '€']\n",
      "Case Total\n",
      "['|', 'Total', 'Factura|', '574,88', '€']\n",
      "€\n",
      "Factura emitida al amparo de la D.A. 4 del Real Decreto 1075/2017 de fecha 29 de Diciembre de 2017, por el que se modifica el Reglamento de\n",
      "['Factura', 'emitida', 'al', 'amparo', 'de', 'la', 'D.A.', '4', 'del', 'Real', 'Decreto', '1075/2017', 'de', 'fecha', '29', 'de', 'Diciembre', 'de', '2017,', 'por', 'el', 'que', 'se', 'modifica', 'el', 'Reglamento', 'de']\n",
      "['Factura', 'emitida', 'al', 'amparo', 'de', 'la', 'D.A.', '4', 'del', 'Real', 'Decreto', '1075/2017', 'de', 'fecha', '29', 'de', 'Diciembre', 'de', '2017,', 'por', 'el', 'que', 'se', 'modifica', 'el', 'Reglamento', 'de']\n",
      "['Factura', 'emitida', 'al', 'amparo', 'de', 'la', 'D.A.', '4', 'del', 'Real', 'Decreto', '1075/2017', 'de', 'fecha', '29', 'de', 'Diciembre', 'de', '2017,', 'por', 'el', 'que', 'se', 'modifica', 'el', 'Reglamento', 'de']\n",
      "Facturacion\n",
      "['Facturacion']\n",
      "(1190, 1842)\n",
      "['2800 10 0.00 0.00 28.00', '', '051 .0 000 1.90 241', '10 0.00 34.20 561.38', '7 090 0.00 13.50', '', '574.88', '', '10751201729.2017.-.', '', '']\n",
      "574.88\n",
      "Wall time: 10.9 s\n"
     ]
    }
   ],
   "source": [
    "%%time\n",
    "dat = {\n",
    "    \"Vat Number\":'',\n",
    "       \"Total\":0,\n",
    "       \"Date\":'',\n",
    "      \"Invoice_Number\":''}\n",
    "img  = cv2.imread(\"Makro Invoices/Makro Invoices/Converted/02.08.21_Globalia Corporate Travel SLU_574,88_page8.png\", cv2.COLOR_RGB2GRAY)\n",
    "text=(pytesseract.image_to_string(img))\n",
    "text_list = text.split(\"\\n\")\n",
    "vat = []\n",
    "date = []\n",
    "print(type(text_list))\n",
    "for idx, a in enumerate(text_list):\n",
    "    if(a.strip() != \"\"):\n",
    "\n",
    "\n",
    "        if (re.search(\"[A-Z]{1}-[0-9]{8}\",a)):\n",
    "            b = re.findall(\"[A-Z]{1}-[0-9]{8}\",a)\n",
    "            dat[\"Vat Number\"] = b[0]\n",
    "            vat.append(b)\n",
    "            print(b)\n",
    "        elif (re.search(\"[0-9]{8}-[A-Z]{1}\",a)):\n",
    "            b = re.findall(\"[0-9]{8}-[A-Z]{1}\",a)\n",
    "            dat[\"Vat Number\"] = b[0]\n",
    "            vat.append(b)\n",
    "        elif (re.search(\"[0-9]{8}[A-Z]{1}\",a)):\n",
    "            b = re.findall(\"[0-9]{8}[A-Z]{1}\",a)\n",
    "            dat[\"Vat Number\"] = b\n",
    "            vat.append(b)\n",
    "    \n",
    "        elif (re.search(\"[A-Z]{1}-[0-9]{8}\",a)):\n",
    "            b = re.findall(\"[A-Z]{1}-[0-9]{8}\",a)\n",
    "            dat[\"Vat Number\"] = b[0]\n",
    "            vat.append(b)\n",
    "\n",
    "        elif (re.search(\"[A-Z]{1}[0-9]{8}\",a)):\n",
    "            b = re.findall(\"[A-Z]{1}[0-9]{8}\",a)\n",
    "            dat[\"Vat Number\"] = b[0]\n",
    "            vat.append(b)\n",
    "            \n",
    "        elif (re.search(\"[A-Z]{1}[0-9]{2}/[0-9]{6}\",a)):\n",
    "            b = re.findall(\"[A-Z]{1}[0-9]{2}/[0-9]{6}\",a)\n",
    "            dat[\"Vat Number\"] = b[0]\n",
    "            vat.append(b)\n",
    "            \n",
    "        elif (re.search(\"[A-Z]{1}-[0-9]{2}.[0-9]{3}.[0-9]{3}\",a)):\n",
    "            b = re.findall(\"[A-Z]{1}-[0-9]{2}.[0-9]{3}.[0-9]{3}\",a)\n",
    "            dat[\"Vat Number\"] = b[0]\n",
    "\n",
    "        if len(vat)>1:\n",
    "            dat[\"Vat Number\"] = vat[0]\n",
    "        else:\n",
    "            pass\n",
    "         #Date section           \n",
    "        if (re.search(\"\\d{2}/\\d{2}/\\d{4}\",a)):\n",
    "            b  = re.findall(\"\\d{2}/\\d{2}/\\d{4}\", a)\n",
    "            dat[\"Date\"] = b[0]\n",
    "            date.append(b)\n",
    "        if (re.search(\"\\d{2}-\\d{2}-\\d{4}\",a)):\n",
    "            b = re.findall(\"\\d{2}-\\d{2}-\\d{4}\",a)\n",
    "            dat[\"Date\"] = b[0]\n",
    "            date.append(b)\n",
    "        if (re.search(\"\\d{2}/\\d{2}/\\d{2}\",a)):\n",
    "            b = re.findall(\"\\d{2}/\\d{2}/\\d{2}\",a)\n",
    "            dat[\"Date\"] = b[0]\n",
    "            date.append(b)\n",
    "        if (re.search(\"[0-9]{2}.[0-9]{2}.[0-9]{4}\",a)):\n",
    "            b = re.findall(\"[0-9]{2}.[0-9]{2}.[0-9]{4}\",a)\n",
    "            dat[\"Date\"] = b\n",
    "            date.append(b)\n",
    "        if len(date)>1:\n",
    "            dat[\"Date\"] = date[0]\n",
    "\n",
    "        #invoice number section\n",
    "        if (\"Factura\" in a or \"ALBARAN\" in a or \"Factura: \" in a):\n",
    "\n",
    "            print(a)\n",
    "            b = a.split(\" \")\n",
    "            if b[0] == \"ALBARAN\":\n",
    "                dat[\"Invoice_Number\"] = b[1]\n",
    "            print(b)\n",
    "            if len(b)>3:\n",
    "                print(b)\n",
    "                if len(b)>4 and b[2] !='—' and len(b[1])!=25 and len(b[1])>5:\n",
    "                    dat[\"Invoice_Number\"] = b[1]+b[2]\n",
    "                    print(b)\n",
    "                elif len(b)>=5 and len(b[1])==25:\n",
    "                    dat[\"Invoice_Number\"] = b[1]\n",
    "                elif len(b)>6 and len(b[3])>15:\n",
    "                    dat[\"Invoice_Number\"] = b[1]+ b[2]+ b[3]\n",
    "                elif len(b)>6 and b[1]== \"0/0\":\n",
    "                    dat[\"Invoice_Number\"] = b[1] + b[2]\n",
    "                    \n",
    "        if (\"Tarjeta\" in a or \"Credito\" in a or  \"pagina\" in a or \"Total:\" in a  or \"TOTAL\" in a or  \"Total Factura\" in a or \"TOTAL FACTURA\" in a or \"Total CON IGIC\" in a  or \"IMPORTE FACTURA EU\" in a or \"IMPORTE FACTURA\" in a or \"EUROS\" in a):\n",
    "            print(\"Case Total\")\n",
    "            b = a.split(\" \")\n",
    "            print(b)\n",
    "            if len(b[-1])==2:\n",
    "                \n",
    "                dat[\"Total\"] = b[-2]+b[-1]\n",
    "                print(b[-2]+b[-1])\n",
    "                \n",
    "            if b[-1]=='€':\n",
    "                dat[\"Total\"] = b[-2]\n",
    "            if b[-1] == \"|\":\n",
    "                dat[\"Total\"] = b[-2]\n",
    "            if b[-1] == \"EUR\":\n",
    "                dat[\"Total\"] = b[-2]\n",
    "            else:\n",
    "                dat[\"Total\"] = b[-1]\n",
    "                print(b[-1])\n",
    "                \n",
    "if dat[\"Total\"] == 0 or len(dat['Total'])==1 or dat[\"Total\"]==\"SUB TOTAL\"  :\n",
    "        tot = []\n",
    "        im = Image.open(r\"Makro Invoices/Makro Invoices/Converted/02.08.21_Globalia Corporate Travel SLU_574,88_page8.png\") \n",
    "        # Size of the image in pixels (size of orginal image) \n",
    "        # (This is not mandatory) \n",
    "        width, height = im.size \n",
    "        print(im.size)\n",
    "        # Setting the points for cropped image \n",
    "        left = 605\n",
    "        top = 600\n",
    "        right = 1675\n",
    "        bottom = 1590\n",
    "        # Cropped image of above dimension \n",
    "        # (It will not change orginal image) \n",
    "        im1 = im.crop((left, top, right, bottom)) \n",
    "         # Shows the image in image viewer \n",
    "        im1.save(\"Makro Invoices/Makro Invoices/Converted/pp2.jpg\")\n",
    "        img  = cv2.imread('Makro Invoices/Makro Invoices/Converted/pp2.jpg', cv2.COLOR_RGB2GRAY)\n",
    "        text=(pytesseract.image_to_string(img,config='outputbase digits'))\n",
    "        text_list = text.split(\"\\n\")\n",
    "        text_list = text_list\n",
    "        print(text_list)\n",
    "        for i in text_list:\n",
    "            if len(i)>=4 and len(i)<=7:\n",
    "                print(i)\n",
    "                tot.append(i)\n",
    "                dat[\"Total\"] = max(tot)\n",
    "            \n",
    "            \n",
    "        "
   ]
  },
  {
   "cell_type": "code",
   "execution_count": 136,
   "id": "a780805a",
   "metadata": {},
   "outputs": [
    {
     "data": {
      "text/plain": [
       "{'Vat Number': 'B76546787',\n",
       " 'Total': '574.88',\n",
       " 'Date': ['04/08/2021'],\n",
       " 'Invoice_Number': 'emitidaal'}"
      ]
     },
     "execution_count": 136,
     "metadata": {},
     "output_type": "execute_result"
    }
   ],
   "source": [
    "dat"
   ]
  },
  {
   "cell_type": "code",
   "execution_count": 137,
   "id": "60e675e5",
   "metadata": {},
   "outputs": [
    {
     "name": "stdout",
     "output_type": "stream",
     "text": [
      "{'Vat Number': 'B76546787', 'Total': '574.88', 'Date': ['04/08/2021'], 'Invoice_Number': 'emitidaal'}\n"
     ]
    }
   ],
   "source": [
    "data  =  pd.DataFrame(dat,index=[0])\n",
    "data['Vat Number']= data['Vat Number'].str.replace(' ', '')\n",
    "print(dat)"
   ]
  },
  {
   "cell_type": "code",
   "execution_count": 278,
   "id": "0d31f95f",
   "metadata": {},
   "outputs": [],
   "source": [
    "bp = dat"
   ]
  },
  {
   "cell_type": "code",
   "execution_count": 279,
   "id": "e33899b2",
   "metadata": {},
   "outputs": [],
   "source": [
    "data = pd.DataFrame(bp,index=[0])"
   ]
  },
  {
   "cell_type": "code",
   "execution_count": 280,
   "id": "3211f2af",
   "metadata": {},
   "outputs": [
    {
     "name": "stderr",
     "output_type": "stream",
     "text": [
      "F:\\anaconda3\\envs\\python_3_7\\lib\\site-packages\\ipykernel_launcher.py:3: FutureWarning: The default value of regex will change from True to False in a future version. In addition, single character regular expressions will *not* be treated as literal strings when regex=True.\n",
      "  This is separate from the ipykernel package so we can avoid doing imports until\n"
     ]
    },
    {
     "data": {
      "text/html": [
       "<div>\n",
       "<style scoped>\n",
       "    .dataframe tbody tr th:only-of-type {\n",
       "        vertical-align: middle;\n",
       "    }\n",
       "\n",
       "    .dataframe tbody tr th {\n",
       "        vertical-align: top;\n",
       "    }\n",
       "\n",
       "    .dataframe thead th {\n",
       "        text-align: right;\n",
       "    }\n",
       "</style>\n",
       "<table border=\"1\" class=\"dataframe\">\n",
       "  <thead>\n",
       "    <tr style=\"text-align: right;\">\n",
       "      <th></th>\n",
       "      <th>Vat Number</th>\n",
       "      <th>Total</th>\n",
       "      <th>Date</th>\n",
       "      <th>Invoice_Number</th>\n",
       "    </tr>\n",
       "  </thead>\n",
       "  <tbody>\n",
       "    <tr>\n",
       "      <th>0</th>\n",
       "      <td>B76744861</td>\n",
       "      <td>200,89</td>\n",
       "      <td>04/02/2020</td>\n",
       "      <td></td>\n",
       "    </tr>\n",
       "  </tbody>\n",
       "</table>\n",
       "</div>"
      ],
      "text/plain": [
       "  Vat Number   Total        Date Invoice_Number\n",
       "0  B76744861  200,89  04/02/2020               "
      ]
     },
     "execution_count": 280,
     "metadata": {},
     "output_type": "execute_result"
    }
   ],
   "source": [
    "data['Vat Number']= data['Vat Number'].str.replace('-', '')\n",
    "data['Vat Number']= data['Vat Number'].str.replace(',', '')\n",
    "data['Vat Number']= data['Vat Number'].str.replace('.', '')\n",
    "data"
   ]
  },
  {
   "cell_type": "code",
   "execution_count": 281,
   "id": "0f047807",
   "metadata": {},
   "outputs": [],
   "source": [
    "formats['last']= (formats['nif'].isin(data['Vat Number']))"
   ]
  },
  {
   "cell_type": "code",
   "execution_count": 282,
   "id": "c2b82863",
   "metadata": {},
   "outputs": [],
   "source": [
    "df2 = formats.query(\"last == True\")"
   ]
  },
  {
   "cell_type": "code",
   "execution_count": 283,
   "id": "1c12a9fa",
   "metadata": {},
   "outputs": [
    {
     "data": {
      "text/html": [
       "<div>\n",
       "<style scoped>\n",
       "    .dataframe tbody tr th:only-of-type {\n",
       "        vertical-align: middle;\n",
       "    }\n",
       "\n",
       "    .dataframe tbody tr th {\n",
       "        vertical-align: top;\n",
       "    }\n",
       "\n",
       "    .dataframe thead th {\n",
       "        text-align: right;\n",
       "    }\n",
       "</style>\n",
       "<table border=\"1\" class=\"dataframe\">\n",
       "  <thead>\n",
       "    <tr style=\"text-align: right;\">\n",
       "      <th></th>\n",
       "      <th>formato</th>\n",
       "      <th>nombre</th>\n",
       "      <th>nif</th>\n",
       "      <th>last</th>\n",
       "    </tr>\n",
       "  </thead>\n",
       "  <tbody>\n",
       "    <tr>\n",
       "      <th>9419</th>\n",
       "      <td>\\d\\d\\d\\d\\d\\d\\d\\d</td>\n",
       "      <td>MAPIESTACION</td>\n",
       "      <td>B76744861</td>\n",
       "      <td>True</td>\n",
       "    </tr>\n",
       "    <tr>\n",
       "      <th>12062</th>\n",
       "      <td>\\d\\d\\d\\d\\d\\d\\d\\d</td>\n",
       "      <td>MAPIESTACION</td>\n",
       "      <td>B76744861</td>\n",
       "      <td>True</td>\n",
       "    </tr>\n",
       "    <tr>\n",
       "      <th>12178</th>\n",
       "      <td>\\d\\d\\d\\d\\d\\d\\d\\d</td>\n",
       "      <td>MAPIESTACION</td>\n",
       "      <td>B76744861</td>\n",
       "      <td>True</td>\n",
       "    </tr>\n",
       "    <tr>\n",
       "      <th>12780</th>\n",
       "      <td>\\d\\d\\d\\d\\d\\d\\d\\d</td>\n",
       "      <td>MAPIESTACION</td>\n",
       "      <td>B76744861</td>\n",
       "      <td>True</td>\n",
       "    </tr>\n",
       "    <tr>\n",
       "      <th>16962</th>\n",
       "      <td>\\d\\d\\d\\d\\d\\d\\d\\d</td>\n",
       "      <td>MAPIESTACION</td>\n",
       "      <td>B76744861</td>\n",
       "      <td>True</td>\n",
       "    </tr>\n",
       "    <tr>\n",
       "      <th>17485</th>\n",
       "      <td>\\d\\d\\d\\d\\d\\d\\d\\d</td>\n",
       "      <td>MAPIESTACION</td>\n",
       "      <td>B76744861</td>\n",
       "      <td>True</td>\n",
       "    </tr>\n",
       "    <tr>\n",
       "      <th>18171</th>\n",
       "      <td>\\d\\d\\d\\d\\d\\d\\d\\d</td>\n",
       "      <td>MAPIESTACION</td>\n",
       "      <td>B76744861</td>\n",
       "      <td>True</td>\n",
       "    </tr>\n",
       "    <tr>\n",
       "      <th>18852</th>\n",
       "      <td>\\d\\d\\d\\d\\d\\d\\d\\d</td>\n",
       "      <td>MAPIESTACION</td>\n",
       "      <td>B76744861</td>\n",
       "      <td>True</td>\n",
       "    </tr>\n",
       "    <tr>\n",
       "      <th>18939</th>\n",
       "      <td>\\d\\d\\d\\d\\d\\d\\d\\d</td>\n",
       "      <td>MAPIESTACION</td>\n",
       "      <td>B76744861</td>\n",
       "      <td>True</td>\n",
       "    </tr>\n",
       "    <tr>\n",
       "      <th>20388</th>\n",
       "      <td>\\d\\d\\d\\d\\d\\d\\d\\d</td>\n",
       "      <td>MAPIESTACION</td>\n",
       "      <td>B76744861</td>\n",
       "      <td>True</td>\n",
       "    </tr>\n",
       "    <tr>\n",
       "      <th>20389</th>\n",
       "      <td>\\d\\d\\d\\d\\d\\d\\d\\d</td>\n",
       "      <td>MAPIESTACION</td>\n",
       "      <td>B76744861</td>\n",
       "      <td>True</td>\n",
       "    </tr>\n",
       "    <tr>\n",
       "      <th>20390</th>\n",
       "      <td>\\d\\d\\d\\d\\d\\d\\d\\d</td>\n",
       "      <td>MAPIESTACION</td>\n",
       "      <td>B76744861</td>\n",
       "      <td>True</td>\n",
       "    </tr>\n",
       "  </tbody>\n",
       "</table>\n",
       "</div>"
      ],
      "text/plain": [
       "                formato        nombre        nif  last\n",
       "9419   \\d\\d\\d\\d\\d\\d\\d\\d  MAPIESTACION  B76744861  True\n",
       "12062  \\d\\d\\d\\d\\d\\d\\d\\d  MAPIESTACION  B76744861  True\n",
       "12178  \\d\\d\\d\\d\\d\\d\\d\\d  MAPIESTACION  B76744861  True\n",
       "12780  \\d\\d\\d\\d\\d\\d\\d\\d  MAPIESTACION  B76744861  True\n",
       "16962  \\d\\d\\d\\d\\d\\d\\d\\d  MAPIESTACION  B76744861  True\n",
       "17485  \\d\\d\\d\\d\\d\\d\\d\\d  MAPIESTACION  B76744861  True\n",
       "18171  \\d\\d\\d\\d\\d\\d\\d\\d  MAPIESTACION  B76744861  True\n",
       "18852  \\d\\d\\d\\d\\d\\d\\d\\d  MAPIESTACION  B76744861  True\n",
       "18939  \\d\\d\\d\\d\\d\\d\\d\\d  MAPIESTACION  B76744861  True\n",
       "20388  \\d\\d\\d\\d\\d\\d\\d\\d  MAPIESTACION  B76744861  True\n",
       "20389  \\d\\d\\d\\d\\d\\d\\d\\d  MAPIESTACION  B76744861  True\n",
       "20390  \\d\\d\\d\\d\\d\\d\\d\\d  MAPIESTACION  B76744861  True"
      ]
     },
     "execution_count": 283,
     "metadata": {},
     "output_type": "execute_result"
    }
   ],
   "source": [
    "df2"
   ]
  },
  {
   "cell_type": "code",
   "execution_count": 286,
   "id": "a25f17fd",
   "metadata": {},
   "outputs": [],
   "source": [
    "inv = 0\n",
    "for i in df2['formato']:\n",
    "    inv = i\n",
    "pat = 'F1-1-01353'\n",
    "factura = re.compile(inv)\n",
    "mo = factura.search(text)\n",
    "dat[\"Invoice_Number\"]=mo.group()"
   ]
  },
  {
   "cell_type": "code",
   "execution_count": 287,
   "id": "849fd0f7",
   "metadata": {},
   "outputs": [
    {
     "data": {
      "text/plain": [
       "{'Vat Number': 'B76744861',\n",
       " 'Total': '200,89',\n",
       " 'Date': '04/02/2020',\n",
       " 'Invoice_Number': 'F20/2473'}"
      ]
     },
     "execution_count": 287,
     "metadata": {},
     "output_type": "execute_result"
    }
   ],
   "source": [
    "dat"
   ]
  }
 ],
 "metadata": {
  "kernelspec": {
   "display_name": "Python 3 (ipykernel)",
   "language": "python",
   "name": "python3"
  },
  "language_info": {
   "codemirror_mode": {
    "name": "ipython",
    "version": 3
   },
   "file_extension": ".py",
   "mimetype": "text/x-python",
   "name": "python",
   "nbconvert_exporter": "python",
   "pygments_lexer": "ipython3",
   "version": "3.7.11"
  }
 },
 "nbformat": 4,
 "nbformat_minor": 5
}
