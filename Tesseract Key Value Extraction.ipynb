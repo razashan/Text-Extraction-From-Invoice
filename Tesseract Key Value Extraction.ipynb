{
 "cells": [
  {
   "cell_type": "code",
   "execution_count": 1,
   "id": "867ed6d3",
   "metadata": {},
   "outputs": [],
   "source": [
    "from PIL import Image\n",
    "import pytesseract\n",
    "import argparse\n",
    "import cv2\n",
    "import os\n",
    "import pandas as pd\n",
    "import seaborn as sns\n",
    "import matplotlib.pyplot as plt\n",
    "import numpy as np\n",
    "import csv\n",
    "import nltk\n",
    "import re\n",
    "from nltk.tokenize import word_tokenize\n",
    "from nltk.corpus import wordnet "
   ]
  },
  {
   "cell_type": "code",
   "execution_count": 2,
   "id": "20cce0c7",
   "metadata": {},
   "outputs": [],
   "source": [
    "imag=cv2.imread('59537_A28647451 TIPO 91FF8_20220519_6_FacturaCompra_page-0001.jpg',0)"
   ]
  },
  {
   "cell_type": "code",
   "execution_count": 2,
   "id": "6385a296",
   "metadata": {},
   "outputs": [],
   "source": [
    "pytesseract.pytesseract.tesseract_cmd = r\"C:\\Program Files\\Tesseract-OCR\\tesseract.exe\""
   ]
  },
  {
   "cell_type": "code",
   "execution_count": 40,
   "id": "91efe030",
   "metadata": {},
   "outputs": [
    {
     "name": "stdout",
     "output_type": "stream",
     "text": [
      "<class 'list'>\n",
      "Case Vat Number\n",
      "A-28/647451\n",
      "Case Vat Number\n",
      "Date\n",
      "20/05/2022\n",
      "Case Total\n",
      "343,31\n",
      "343,31\n",
      "Case Total\n",
      "343,31\n",
      "343,31\n",
      "Wall time: 7.55 s\n"
     ]
    }
   ],
   "source": [
    "%%time\n",
    "data = {\"Vat Number\":'',\n",
    "       \"Total\":'',\n",
    "       \"Date\":''}\n",
    "img  = cv2.imread('Makro Invoices/Makro Invoices/62018_A28647451 DEFAULT C9627 TYPE_20220520_6_FacturaCompra_page1.png', cv2.COLOR_RGB2GRAY)\n",
    "text=(pytesseract.image_to_string(img))\n",
    "text_list = text.split(\"\\n\")\n",
    "print(type(text_list))\n",
    "for idx, a in enumerate(text_list):\n",
    "    if(a.strip() != \"\"):\n",
    "        if(\"NIF:\" in a or  \"N.I.F.:\" in a):\n",
    "                print(\"Case Vat Number\")\n",
    "                b = a.split(\" \")\n",
    "                if len(b[-1])>10:\n",
    "                    data[\"Vat Number\"] = b[-1]\n",
    "                    print(b[-1])\n",
    "        if (\"pagar\" in a or \"Credito\" in a or  \"pagina\" in a):\n",
    "            print(\"Case Total\")\n",
    "            b = a.split(\" \")\n",
    "            if len(b[-1])==2:\n",
    "                \n",
    "                data[\"Total\"] = b[-2]+b[-1]\n",
    "                print(b[-2]+b[-1])\n",
    "            else:\n",
    "                data[\"Total\"] = b[-1]\n",
    "                print(b[-1])\n",
    "            print(b[-1])\n",
    "        if (\"vent:\" in a or \"venta:\" in a or \"Fecha:\" in a):\n",
    "            print(\"Date\")\n",
    "            b = a.split(\" \")\n",
    "            if len(b[-1])>7:\n",
    "                data[\"Date\"] = b[-1]\n",
    "                print(b[-1])\n",
    "            else:\n",
    "                data[\"Date\"] = b[-2]\n",
    "                print(b[-2])\n",
    "        #if (\"Importe \" in a ):\n",
    "         #   b = a.split(\" \")\n",
    "          #  print(b[-1])\n"
   ]
  },
  {
   "cell_type": "code",
   "execution_count": 41,
   "id": "eb22de99",
   "metadata": {},
   "outputs": [
    {
     "data": {
      "text/plain": [
       "{'Vat Number': 'A-28/647451', 'Total': '343,31', 'Date': '20/05/2022'}"
      ]
     },
     "execution_count": 41,
     "metadata": {},
     "output_type": "execute_result"
    }
   ],
   "source": [
    "data"
   ]
  },
  {
   "cell_type": "code",
   "execution_count": null,
   "id": "e9e29cf8",
   "metadata": {},
   "outputs": [],
   "source": []
  }
 ],
 "metadata": {
  "kernelspec": {
   "display_name": "Python 3 (ipykernel)",
   "language": "python",
   "name": "python3"
  },
  "language_info": {
   "codemirror_mode": {
    "name": "ipython",
    "version": 3
   },
   "file_extension": ".py",
   "mimetype": "text/x-python",
   "name": "python",
   "nbconvert_exporter": "python",
   "pygments_lexer": "ipython3",
   "version": "3.7.11"
  }
 },
 "nbformat": 4,
 "nbformat_minor": 5
}
