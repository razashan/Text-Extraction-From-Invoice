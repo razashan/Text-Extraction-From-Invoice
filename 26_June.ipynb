{
 "cells": [
  {
   "cell_type": "code",
   "execution_count": 1,
   "id": "01721d19",
   "metadata": {},
   "outputs": [],
   "source": [
    "import pytesseract\n",
    "import cv2\n",
    "from PIL import Image \n",
    "import re\n",
    "import pandas as pd"
   ]
  },
  {
   "cell_type": "code",
   "execution_count": 2,
   "id": "3577cb91",
   "metadata": {},
   "outputs": [],
   "source": [
    "pytesseract.pytesseract.tesseract_cmd = r\"C:\\Program Files\\Tesseract-OCR\\tesseract.exe\""
   ]
  },
  {
   "cell_type": "code",
   "execution_count": 261,
   "id": "84b38766",
   "metadata": {},
   "outputs": [],
   "source": [
    "formats = pd.read_excel('invoice_formats.xlsx')\n",
    "final = pd.read_excel('Extracted_Data.xlsx')"
   ]
  },
  {
   "cell_type": "code",
   "execution_count": 338,
   "id": "4a19f044",
   "metadata": {},
   "outputs": [
    {
     "name": "stdout",
     "output_type": "stream",
     "text": [
      "<class 'list'>\n",
      "Wall time: 5.75 s\n"
     ]
    }
   ],
   "source": [
    "%%time\n",
    "dat = {\n",
    "    \"Vat Number\":'',\n",
    "       \"Total\":0,\n",
    "       \"Date\":'',\n",
    "      \"Invoice_Number\":''}\n",
    "img  = cv2.imread('Makro Invoices/Makro Invoices/Converted/64622_A30013841 TIPO BB8B8_20220503_6_FacturaCompra_page1.png', cv2.COLOR_RGB2GRAY)\n",
    "text=(pytesseract.image_to_string(img))\n",
    "text_list = text.split(\"\\n\")\n",
    "vat = []\n",
    "print(type(text_list))\n",
    "for idx, a in enumerate(text_list):\n",
    "    if(a.strip() != \"\"):\n",
    "\n",
    "\n",
    "        if (re.search(\"[A-Z]{1}-[0-9]{8}\",a)):\n",
    "            b = re.findall(\"[A-Z]{1}-[0-9]{8}\",a)\n",
    "            dat[\"Vat Number\"] = b[0]\n",
    "            vat.append(b)\n",
    "            print(b)\n",
    "        elif (re.search(\"[0-9]{8}-[A-Z]{1}\",a)):\n",
    "            b = re.findall(\"[0-9]{8}-[A-Z]{1}\",a)\n",
    "            dat[\"Vat Number\"] = b[0]\n",
    "            vat.append(b)\n",
    "        elif (re.search(\"[0-9]{8}[A-Z]{1}\",a)):\n",
    "            b = re.findall(\"[0-9]{8}[A-Z]{1}\",a)\n",
    "            dat[\"Vat Number\"] = b\n",
    "            vat.append(b)\n",
    "    \n",
    "        elif (re.search(\"[A-Z]{1}-[0-9]{8}\",a)):\n",
    "            b = re.findall(\"[A-Z]{1}-[0-9]{8}\",a)\n",
    "            dat[\"Vat Number\"] = b[0]\n",
    "            vat.append(b)\n",
    "\n",
    "        elif (re.search(\"[A-Z]{1}[0-9]{8}\",a)):\n",
    "            b = re.findall(\"[A-Z]{1}[0-9]{8}\",a)\n",
    "            dat[\"Vat Number\"] = b[0]\n",
    "            vat.append(b)\n",
    "            \n",
    "        elif (re.search(\"[A-Z]{1}[0-9]{2}/[0-9]{6}\",a)):\n",
    "            b = re.findall(\"[A-Z]{1}[0-9]{2}/[0-9]{6}\",a)\n",
    "            dat[\"Vat Number\"] = b[0]\n",
    "            vat.append(b)\n",
    "            \n",
    "        elif (re.search(\"[A-Z]{1}-[0-9]{2}.[0-9]{3}.[0-9]{3}\",a)):\n",
    "            b = re.findall(\"[A-Z]{1}-[0-9]{2}.[0-9]{3}.[0-9]{3}\",a)\n",
    "            dat[\"Vat Number\"] = b[0]\n",
    "\n",
    "        if len(vat)>1:\n",
    "            dat[\"Vat Number\"] = vat[0]\n",
    "        else:\n",
    "            pass\n",
    "         #Date section           \n",
    "        if (re.search(\"\\d{2}/\\d{2}/\\d{4}\",a)):\n",
    "            b  = re.findall(\"\\d{2}/\\d{2}/\\d{4}\", a)\n",
    "            dat[\"Date\"] = b[0]\n",
    "        if (re.search(\"\\d{2}-\\d{2}-\\d{4}\",a)):\n",
    "            b = re.findall(\"\\d{2}-\\d{2}-\\d{4}\",a)\n",
    "            dat[\"Date\"] = b[0]\n",
    "        if (re.search(\"\\d{2}/\\d{2}/\\d{2}\",a)):\n",
    "            b = re.findall(\"\\d{2}/\\d{2}/\\d{2}\",a)\n",
    "            dat[\"Date\"] = b[0]\n",
    "        if (re.search(\"[0-9]{2}.[0-9]{2}.[0-9]{4}\",a)):\n",
    "            b = re.findall(\"[0-9]{2}.[0-9]{2}.[0-9]{4}\",a)\n",
    "            dat[\"Date\"] = b[0]\n",
    "\n",
    "        #invoice number section\n",
    "        if (\"Factura\" in a or \"ALBARAN\" in a or \"Factura: \" in a):\n",
    "\n",
    "            print(a)\n",
    "            b = a.split(\" \")\n",
    "            if b[0] == \"ALBARAN\":\n",
    "                dat[\"Invoice_Number\"] = b[1]\n",
    "            print(b)\n",
    "            if len(b)>3:\n",
    "                print(b)\n",
    "                if len(b)>4 and b[2] !='—' and len(b[1])!=25 and len(b[1])>5:\n",
    "                    dat[\"Invoice_Number\"] = b[1]+b[2]\n",
    "                    print(b)\n",
    "                elif len(b)>=5 and len(b[1])==25:\n",
    "                    dat[\"Invoice_Number\"] = b[1]\n",
    "                elif len(b)>6 and len(b[3])>15:\n",
    "                    dat[\"Invoice_Number\"] = b[1]+ b[2]+ b[3]\n",
    "                elif len(b)>6 and b[1]== \"0/0\":\n",
    "                    dat[\"Invoice_Number\"] = b[1] + b[2]\n",
    "                    \n",
    "        if (\"Tarjeta\" in a or \"Credito\" in a or  \"pagina\" in a or \"Total:\" in a  or \"TOTAL\" in a or  \"Total Factura\" in a or \"TOTAL FACTURA\" in a or \"Total CON IGIC\" in a  or \"IMPORTE FACTURA EU\" in a):\n",
    "            print(\"Case Total\")\n",
    "            b = a.split(\" \")\n",
    "            print(b)\n",
    "            if len(b[-1])==2:\n",
    "                \n",
    "                dat[\"Total\"] = b[-2]+b[-1]\n",
    "                print(b[-2]+b[-1])\n",
    "                \n",
    "            if b[-1]=='€':\n",
    "                dat[\"Total\"] = b[-2]\n",
    "            if b[-1] == \"|\":\n",
    "                dat[\"Total\"] = b[-2]\n",
    "            else:\n",
    "                dat[\"Total\"] = b[-1]\n",
    "                print(b[-1])\n",
    "        "
   ]
  },
  {
   "cell_type": "code",
   "execution_count": 339,
   "id": "60e675e5",
   "metadata": {},
   "outputs": [
    {
     "name": "stdout",
     "output_type": "stream",
     "text": [
      "{'Vat Number': 'A30013841', 'Total': 0, 'Date': '6420321071', 'Invoice_Number': ''}\n"
     ]
    }
   ],
   "source": [
    "data  =  pd.DataFrame(dat,index=[0])\n",
    "data['Vat Number']= data['Vat Number'].str.replace(' ', '')\n",
    "print(dat)"
   ]
  },
  {
   "cell_type": "code",
   "execution_count": 278,
   "id": "0d31f95f",
   "metadata": {},
   "outputs": [],
   "source": [
    "bp = dat"
   ]
  },
  {
   "cell_type": "code",
   "execution_count": 279,
   "id": "e33899b2",
   "metadata": {},
   "outputs": [],
   "source": [
    "data = pd.DataFrame(bp,index=[0])"
   ]
  },
  {
   "cell_type": "code",
   "execution_count": 280,
   "id": "3211f2af",
   "metadata": {},
   "outputs": [
    {
     "name": "stderr",
     "output_type": "stream",
     "text": [
      "F:\\anaconda3\\envs\\python_3_7\\lib\\site-packages\\ipykernel_launcher.py:3: FutureWarning: The default value of regex will change from True to False in a future version. In addition, single character regular expressions will *not* be treated as literal strings when regex=True.\n",
      "  This is separate from the ipykernel package so we can avoid doing imports until\n"
     ]
    },
    {
     "data": {
      "text/html": [
       "<div>\n",
       "<style scoped>\n",
       "    .dataframe tbody tr th:only-of-type {\n",
       "        vertical-align: middle;\n",
       "    }\n",
       "\n",
       "    .dataframe tbody tr th {\n",
       "        vertical-align: top;\n",
       "    }\n",
       "\n",
       "    .dataframe thead th {\n",
       "        text-align: right;\n",
       "    }\n",
       "</style>\n",
       "<table border=\"1\" class=\"dataframe\">\n",
       "  <thead>\n",
       "    <tr style=\"text-align: right;\">\n",
       "      <th></th>\n",
       "      <th>Vat Number</th>\n",
       "      <th>Total</th>\n",
       "      <th>Date</th>\n",
       "      <th>Invoice_Number</th>\n",
       "    </tr>\n",
       "  </thead>\n",
       "  <tbody>\n",
       "    <tr>\n",
       "      <th>0</th>\n",
       "      <td>B76744861</td>\n",
       "      <td>200,89</td>\n",
       "      <td>04/02/2020</td>\n",
       "      <td></td>\n",
       "    </tr>\n",
       "  </tbody>\n",
       "</table>\n",
       "</div>"
      ],
      "text/plain": [
       "  Vat Number   Total        Date Invoice_Number\n",
       "0  B76744861  200,89  04/02/2020               "
      ]
     },
     "execution_count": 280,
     "metadata": {},
     "output_type": "execute_result"
    }
   ],
   "source": [
    "data['Vat Number']= data['Vat Number'].str.replace('-', '')\n",
    "data['Vat Number']= data['Vat Number'].str.replace(',', '')\n",
    "data['Vat Number']= data['Vat Number'].str.replace('.', '')\n",
    "data"
   ]
  },
  {
   "cell_type": "code",
   "execution_count": 281,
   "id": "0f047807",
   "metadata": {},
   "outputs": [],
   "source": [
    "formats['last']= (formats['nif'].isin(data['Vat Number']))"
   ]
  },
  {
   "cell_type": "code",
   "execution_count": 282,
   "id": "c2b82863",
   "metadata": {},
   "outputs": [],
   "source": [
    "df2 = formats.query(\"last == True\")"
   ]
  },
  {
   "cell_type": "code",
   "execution_count": 283,
   "id": "1c12a9fa",
   "metadata": {},
   "outputs": [
    {
     "data": {
      "text/html": [
       "<div>\n",
       "<style scoped>\n",
       "    .dataframe tbody tr th:only-of-type {\n",
       "        vertical-align: middle;\n",
       "    }\n",
       "\n",
       "    .dataframe tbody tr th {\n",
       "        vertical-align: top;\n",
       "    }\n",
       "\n",
       "    .dataframe thead th {\n",
       "        text-align: right;\n",
       "    }\n",
       "</style>\n",
       "<table border=\"1\" class=\"dataframe\">\n",
       "  <thead>\n",
       "    <tr style=\"text-align: right;\">\n",
       "      <th></th>\n",
       "      <th>formato</th>\n",
       "      <th>nombre</th>\n",
       "      <th>nif</th>\n",
       "      <th>last</th>\n",
       "    </tr>\n",
       "  </thead>\n",
       "  <tbody>\n",
       "    <tr>\n",
       "      <th>9419</th>\n",
       "      <td>\\d\\d\\d\\d\\d\\d\\d\\d</td>\n",
       "      <td>MAPIESTACION</td>\n",
       "      <td>B76744861</td>\n",
       "      <td>True</td>\n",
       "    </tr>\n",
       "    <tr>\n",
       "      <th>12062</th>\n",
       "      <td>\\d\\d\\d\\d\\d\\d\\d\\d</td>\n",
       "      <td>MAPIESTACION</td>\n",
       "      <td>B76744861</td>\n",
       "      <td>True</td>\n",
       "    </tr>\n",
       "    <tr>\n",
       "      <th>12178</th>\n",
       "      <td>\\d\\d\\d\\d\\d\\d\\d\\d</td>\n",
       "      <td>MAPIESTACION</td>\n",
       "      <td>B76744861</td>\n",
       "      <td>True</td>\n",
       "    </tr>\n",
       "    <tr>\n",
       "      <th>12780</th>\n",
       "      <td>\\d\\d\\d\\d\\d\\d\\d\\d</td>\n",
       "      <td>MAPIESTACION</td>\n",
       "      <td>B76744861</td>\n",
       "      <td>True</td>\n",
       "    </tr>\n",
       "    <tr>\n",
       "      <th>16962</th>\n",
       "      <td>\\d\\d\\d\\d\\d\\d\\d\\d</td>\n",
       "      <td>MAPIESTACION</td>\n",
       "      <td>B76744861</td>\n",
       "      <td>True</td>\n",
       "    </tr>\n",
       "    <tr>\n",
       "      <th>17485</th>\n",
       "      <td>\\d\\d\\d\\d\\d\\d\\d\\d</td>\n",
       "      <td>MAPIESTACION</td>\n",
       "      <td>B76744861</td>\n",
       "      <td>True</td>\n",
       "    </tr>\n",
       "    <tr>\n",
       "      <th>18171</th>\n",
       "      <td>\\d\\d\\d\\d\\d\\d\\d\\d</td>\n",
       "      <td>MAPIESTACION</td>\n",
       "      <td>B76744861</td>\n",
       "      <td>True</td>\n",
       "    </tr>\n",
       "    <tr>\n",
       "      <th>18852</th>\n",
       "      <td>\\d\\d\\d\\d\\d\\d\\d\\d</td>\n",
       "      <td>MAPIESTACION</td>\n",
       "      <td>B76744861</td>\n",
       "      <td>True</td>\n",
       "    </tr>\n",
       "    <tr>\n",
       "      <th>18939</th>\n",
       "      <td>\\d\\d\\d\\d\\d\\d\\d\\d</td>\n",
       "      <td>MAPIESTACION</td>\n",
       "      <td>B76744861</td>\n",
       "      <td>True</td>\n",
       "    </tr>\n",
       "    <tr>\n",
       "      <th>20388</th>\n",
       "      <td>\\d\\d\\d\\d\\d\\d\\d\\d</td>\n",
       "      <td>MAPIESTACION</td>\n",
       "      <td>B76744861</td>\n",
       "      <td>True</td>\n",
       "    </tr>\n",
       "    <tr>\n",
       "      <th>20389</th>\n",
       "      <td>\\d\\d\\d\\d\\d\\d\\d\\d</td>\n",
       "      <td>MAPIESTACION</td>\n",
       "      <td>B76744861</td>\n",
       "      <td>True</td>\n",
       "    </tr>\n",
       "    <tr>\n",
       "      <th>20390</th>\n",
       "      <td>\\d\\d\\d\\d\\d\\d\\d\\d</td>\n",
       "      <td>MAPIESTACION</td>\n",
       "      <td>B76744861</td>\n",
       "      <td>True</td>\n",
       "    </tr>\n",
       "  </tbody>\n",
       "</table>\n",
       "</div>"
      ],
      "text/plain": [
       "                formato        nombre        nif  last\n",
       "9419   \\d\\d\\d\\d\\d\\d\\d\\d  MAPIESTACION  B76744861  True\n",
       "12062  \\d\\d\\d\\d\\d\\d\\d\\d  MAPIESTACION  B76744861  True\n",
       "12178  \\d\\d\\d\\d\\d\\d\\d\\d  MAPIESTACION  B76744861  True\n",
       "12780  \\d\\d\\d\\d\\d\\d\\d\\d  MAPIESTACION  B76744861  True\n",
       "16962  \\d\\d\\d\\d\\d\\d\\d\\d  MAPIESTACION  B76744861  True\n",
       "17485  \\d\\d\\d\\d\\d\\d\\d\\d  MAPIESTACION  B76744861  True\n",
       "18171  \\d\\d\\d\\d\\d\\d\\d\\d  MAPIESTACION  B76744861  True\n",
       "18852  \\d\\d\\d\\d\\d\\d\\d\\d  MAPIESTACION  B76744861  True\n",
       "18939  \\d\\d\\d\\d\\d\\d\\d\\d  MAPIESTACION  B76744861  True\n",
       "20388  \\d\\d\\d\\d\\d\\d\\d\\d  MAPIESTACION  B76744861  True\n",
       "20389  \\d\\d\\d\\d\\d\\d\\d\\d  MAPIESTACION  B76744861  True\n",
       "20390  \\d\\d\\d\\d\\d\\d\\d\\d  MAPIESTACION  B76744861  True"
      ]
     },
     "execution_count": 283,
     "metadata": {},
     "output_type": "execute_result"
    }
   ],
   "source": [
    "df2"
   ]
  },
  {
   "cell_type": "code",
   "execution_count": 286,
   "id": "a25f17fd",
   "metadata": {},
   "outputs": [],
   "source": [
    "inv = 0\n",
    "for i in df2['formato']:\n",
    "    inv = i\n",
    "pat = 'F1-1-01353'\n",
    "factura = re.compile('[A-Z]{1}[0-9]{2}/[0-9]{4}')\n",
    "mo = factura.search(text)\n",
    "dat[\"Invoice_Number\"]=mo.group()"
   ]
  },
  {
   "cell_type": "code",
   "execution_count": 287,
   "id": "849fd0f7",
   "metadata": {},
   "outputs": [
    {
     "data": {
      "text/plain": [
       "{'Vat Number': 'B76744861',\n",
       " 'Total': '200,89',\n",
       " 'Date': '04/02/2020',\n",
       " 'Invoice_Number': 'F20/2473'}"
      ]
     },
     "execution_count": 287,
     "metadata": {},
     "output_type": "execute_result"
    }
   ],
   "source": [
    "dat"
   ]
  },
  {
   "cell_type": "code",
   "execution_count": 252,
   "id": "318d4af1",
   "metadata": {},
   "outputs": [
    {
     "name": "stdout",
     "output_type": "stream",
     "text": [
      "['Coca-Cola European Partners Iberia, S.L.U., Una compatia perteneciente al grupo Coca-Cola European Partners, P.L.C. C/ Ribera del Loira 20-22 - 2* Planta - 28042 MADRID, C.LF. B-86561412, Registro Mercantil de Madsid, Tomo 32.531, Folio 215, Seccién 8, Hoja M-S46165', '', 'EUROPEAN PARTNERS', 'Ed. ILUMINA - C/ Gaspar Fabregas, 81 - 2.\" planta', '08950 Esplugues de Liobregat (Barcelona)', '', 'RAZON SOCIAL', '', 'Atencién al Cliente: 900 246 500', '', 'DIRECCION DE ENVIO', '', '19780715 / ’', '', 'IMAPIESTACION SL', '', 'POL LAS TORRES 79 COOPERATIVA', '', '|38670-ADEJE CASCO (Espafia) |', '', '[36010 BAR REST SAN SEBASTIAN', 'ICRT GRAL C288 KM 114 COOPERATIVA S S/N', \"|'38670-ADEJE CASCO (Espafia)\", '', 'CIFINIF: B76744861 F', 'DOCUMENTO NOMERO FECHA FORMA DE PAGO ‘GRUPO DE GBBRO FECHAVTO. PAG', '04.02.2020 CONTADO 04.02.2020 12', '‘CLIENTE PUNTO DE VENTA DIRECCION TELEFONO', '36010 BAR REST SAN SEBASTIAN CRT GRAL C288 KM 114 COOPERATIVA S S/N 38670-ADEJE CASCO 677509032', '[Transporte: 18301077 Carga : 006B- FFF', '', 'Ruta Distrib.: 33006B', 'Ruta Preventa: 2PB', '', 'Deleg: Tenerife Sur', 'Region: CANARIAS', '', 'Cadena: COD991', '', 'CODIGO EAN et DESCRIPCION CANTIDAD PRECIO BASE DTO IMPORTE oT', 'looovogese2246 225 NESTEALIM VR30 C24 1,00 30,96 30,96', '- Dio. Fijo 30,96 -9,80', 'SUBUNIDADES/NETO 24 0,882 21,16', '(0000080382289 223 AQUARIUS NAR VR30 C24 1,00 30,96 30,96', 'Dto, Fijo 30,96 9,60', 'SUBUNIDADES/NETO 24 0,890 21,36', '}0000054490246 3023 COCA-COLA VR35 C24 8,00 23,04 184,32', 'Dio, Fijo 184,32 -62,40', 'SUBUNIDADES/NETO 192 0,635 121,92', '1000090357756 2631 COCA-COLA ZER VR35 C24 4,00 23,04 © 92,16', 'Dto. Fijo 92,16 31,20', 'SUBUNIDADES/NETO 96 0,635, 60,96', '|(0000087 126464 2123 FANTA NAR VR35 C24 2,00 22,80 45,60', 'Dio. Fijo 45,60 -15,09', 'SUBUNIDADES/NETO 48 0,636 30,51', 'loo00090418181 2550 SPRITE VR35 C24 4,00 22,80 22,80', 'Dio. Fijo 22,80 7,55', 'SUBUNIDADES/NETO 24 0,635 15,25', '5449000237606 7525 APPLETISER VNR275 P6 C4 (63) KO EAN 2,00 26,16 52,92', 'Dito. Base 52,92 23,02', 'Punto Verde 0,26 052', 'SUBUNIDADES/NETO 48 0,621 29,82', '', 'TIPO BASE IMPONIBLE %IMPUESTOS IMPORTE', '', 'Num.Albarén; 8587882309', '', 'La responsabilidad de la correcta gestién de los residuos serd del Cliente en los casos previstos en la normativa de aplicacién. E! Cliente arriba identificado conoce y acepta las tarifas aplicables y que', 'el suministroy sus datos personales se rigen por las Condiciones Generales de Suministro publicadas en .www.ccepiberia,com', '', '{2016 The Coca-Cola Company. Allights reserved. COCA GOLA is a registered Vademark cl The Goca Cola Company.', '']\n"
     ]
    }
   ],
   "source": [
    "text\n",
    "text_list = text.split(\"\\n\")\n",
    "print(text_list)"
   ]
  },
  {
   "cell_type": "code",
   "execution_count": 268,
   "id": "8abce0b6",
   "metadata": {},
   "outputs": [
    {
     "name": "stdout",
     "output_type": "stream",
     "text": [
      "(1157, 1649)\n"
     ]
    }
   ],
   "source": [
    "im = Image.open(r\"Makro Invoices/Makro Invoices/New/04.02.20_Coca-Cola European Partners Ib_442,51_page1.png\") \n",
    "# Size of the image in pixels (size of orginal image) \n",
    "# (This is not mandatory) \n",
    "width, height = im.size \n",
    "print(im.size)\n",
    "# Setting the points for cropped image \n",
    "left = 605\n",
    "top = 800\n",
    "right = 1678\n",
    "bottom = 1580\n",
    "# Cropped image of above dimension \n",
    "# (It will not change orginal image) \n",
    "im1 = im.crop((left, top, right, bottom)) \n",
    "# Shows the image in image viewer \n",
    "im1.save(\"Makro Invoices/Makro Invoices/New/pp2.jpg\")"
   ]
  },
  {
   "cell_type": "code",
   "execution_count": 269,
   "id": "4da99318",
   "metadata": {},
   "outputs": [],
   "source": [
    "img  = cv2.imread('Makro Invoices/Makro Invoices/New/pp2.jpg', cv2.COLOR_RGB2GRAY)\n",
    "text=(pytesseract.image_to_string(img,config='outputbase digits'))"
   ]
  },
  {
   "cell_type": "code",
   "execution_count": 270,
   "id": "24d21512",
   "metadata": {},
   "outputs": [
    {
     "name": "stdout",
     "output_type": "stream",
     "text": [
      "['92.16', '', '23.04', '', '8', '', '52.32', '', '']\n"
     ]
    }
   ],
   "source": [
    "text_list = text.split(\"\\n\")\n",
    "text_list = text_list\n",
    "print(text_list)"
   ]
  },
  {
   "cell_type": "code",
   "execution_count": 271,
   "id": "13df8671",
   "metadata": {},
   "outputs": [
    {
     "data": {
      "text/plain": [
       "'92.16\\n\\n23.04\\n\\n8\\n\\n52.32\\n\\n'"
      ]
     },
     "execution_count": 271,
     "metadata": {},
     "output_type": "execute_result"
    }
   ],
   "source": [
    "text = text.replace(' ', '')\n",
    "text = text.replace('-', '')\n",
    "text"
   ]
  },
  {
   "cell_type": "code",
   "execution_count": 272,
   "id": "05eab30d",
   "metadata": {},
   "outputs": [],
   "source": [
    "for i in text_list:\n",
    "    if len(i)>=5 and len(i)<=8:\n",
    "        dat[\"Total\"]  = i"
   ]
  },
  {
   "cell_type": "code",
   "execution_count": 273,
   "id": "26576efd",
   "metadata": {},
   "outputs": [
    {
     "data": {
      "text/plain": [
       "{'Vat Number': ['B-86561412'],\n",
       " 'Total': '52.32',\n",
       " 'Date': '8587882309',\n",
       " 'Invoice_Number': '0000080382'}"
      ]
     },
     "execution_count": 273,
     "metadata": {},
     "output_type": "execute_result"
    }
   ],
   "source": [
    "dat"
   ]
  },
  {
   "cell_type": "code",
   "execution_count": 288,
   "id": "03ca27c0",
   "metadata": {},
   "outputs": [
    {
     "data": {
      "text/html": [
       "<div>\n",
       "<style scoped>\n",
       "    .dataframe tbody tr th:only-of-type {\n",
       "        vertical-align: middle;\n",
       "    }\n",
       "\n",
       "    .dataframe tbody tr th {\n",
       "        vertical-align: top;\n",
       "    }\n",
       "\n",
       "    .dataframe thead th {\n",
       "        text-align: right;\n",
       "    }\n",
       "</style>\n",
       "<table border=\"1\" class=\"dataframe\">\n",
       "  <thead>\n",
       "    <tr style=\"text-align: right;\">\n",
       "      <th></th>\n",
       "      <th>Vat Number</th>\n",
       "      <th>Total</th>\n",
       "      <th>Date</th>\n",
       "      <th>Invoice_Number</th>\n",
       "    </tr>\n",
       "  </thead>\n",
       "  <tbody>\n",
       "    <tr>\n",
       "      <th>0</th>\n",
       "      <td>A38089132</td>\n",
       "      <td>0</td>\n",
       "      <td>04/02/20</td>\n",
       "      <td>ORD-3437-00003710-QL</td>\n",
       "    </tr>\n",
       "    <tr>\n",
       "      <th>0</th>\n",
       "      <td>B-86561412</td>\n",
       "      <td>52.32</td>\n",
       "      <td>8587882309</td>\n",
       "      <td>0000080382</td>\n",
       "    </tr>\n",
       "    <tr>\n",
       "      <th>0</th>\n",
       "      <td>B-86561412</td>\n",
       "      <td>52.32</td>\n",
       "      <td>8587882309</td>\n",
       "      <td>0000080382</td>\n",
       "    </tr>\n",
       "    <tr>\n",
       "      <th>0</th>\n",
       "      <td>B76744861</td>\n",
       "      <td>200,89</td>\n",
       "      <td>04/02/2020</td>\n",
       "      <td>F20/2473</td>\n",
       "    </tr>\n",
       "  </tbody>\n",
       "</table>\n",
       "</div>"
      ],
      "text/plain": [
       "   Vat Number   Total        Date        Invoice_Number\n",
       "0   A38089132       0    04/02/20  ORD-3437-00003710-QL\n",
       "0  B-86561412   52.32  8587882309            0000080382\n",
       "0  B-86561412   52.32  8587882309            0000080382\n",
       "0   B76744861  200,89  04/02/2020              F20/2473"
      ]
     },
     "execution_count": 288,
     "metadata": {},
     "output_type": "execute_result"
    }
   ],
   "source": [
    "new = pd.DataFrame(dat,index=[0])\n",
    "finals = finals.append(new)\n",
    "finals.head()"
   ]
  },
  {
   "cell_type": "code",
   "execution_count": 226,
   "id": "410d9e8c",
   "metadata": {},
   "outputs": [],
   "source": [
    "finals  =  pd.DataFrame(dat,index=[0])\n",
    "final = final.append(finals)\n"
   ]
  },
  {
   "cell_type": "code",
   "execution_count": 227,
   "id": "ecb7a9ff",
   "metadata": {},
   "outputs": [
    {
     "data": {
      "text/html": [
       "<div>\n",
       "<style scoped>\n",
       "    .dataframe tbody tr th:only-of-type {\n",
       "        vertical-align: middle;\n",
       "    }\n",
       "\n",
       "    .dataframe tbody tr th {\n",
       "        vertical-align: top;\n",
       "    }\n",
       "\n",
       "    .dataframe thead th {\n",
       "        text-align: right;\n",
       "    }\n",
       "</style>\n",
       "<table border=\"1\" class=\"dataframe\">\n",
       "  <thead>\n",
       "    <tr style=\"text-align: right;\">\n",
       "      <th></th>\n",
       "      <th>Unnamed: 0</th>\n",
       "      <th>Vat Number</th>\n",
       "      <th>Total</th>\n",
       "      <th>Date</th>\n",
       "      <th>Invoice_Number</th>\n",
       "    </tr>\n",
       "  </thead>\n",
       "  <tbody>\n",
       "    <tr>\n",
       "      <th>0</th>\n",
       "      <td>0.0</td>\n",
       "      <td>A-38003414</td>\n",
       "      <td>90,21</td>\n",
       "      <td>30/06/2020</td>\n",
       "      <td>1600359177</td>\n",
       "    </tr>\n",
       "    <tr>\n",
       "      <th>1</th>\n",
       "      <td>0.0</td>\n",
       "      <td>A-38003414</td>\n",
       "      <td>154,05</td>\n",
       "      <td>27-05-2021</td>\n",
       "      <td>1400804213</td>\n",
       "    </tr>\n",
       "    <tr>\n",
       "      <th>2</th>\n",
       "      <td>0.0</td>\n",
       "      <td>G-38055612</td>\n",
       "      <td>49,52</td>\n",
       "      <td>01/07/2020</td>\n",
       "      <td>2020-00116355</td>\n",
       "    </tr>\n",
       "    <tr>\n",
       "      <th>3</th>\n",
       "      <td>0.0</td>\n",
       "      <td>B76546787</td>\n",
       "      <td>siguiente</td>\n",
       "      <td>02/08/2021</td>\n",
       "      <td>721000050614</td>\n",
       "    </tr>\n",
       "    <tr>\n",
       "      <th>4</th>\n",
       "      <td>0.0</td>\n",
       "      <td>B76744861</td>\n",
       "      <td>www.gmfood.es,</td>\n",
       "      <td>03/02/2020</td>\n",
       "      <td>200302180004999</td>\n",
       "    </tr>\n",
       "    <tr>\n",
       "      <th>5</th>\n",
       "      <td>0.0</td>\n",
       "      <td>B38574281</td>\n",
       "      <td>TOTAL</td>\n",
       "      <td>03/07/2020</td>\n",
       "      <td>F1-1-01353</td>\n",
       "    </tr>\n",
       "    <tr>\n",
       "      <th>6</th>\n",
       "      <td>0.0</td>\n",
       "      <td>B-76,305.333</td>\n",
       "      <td>0</td>\n",
       "      <td>01/11/2020</td>\n",
       "      <td>2020/129</td>\n",
       "    </tr>\n",
       "    <tr>\n",
       "      <th>7</th>\n",
       "      <td>0.0</td>\n",
       "      <td>A30013841</td>\n",
       "      <td>0</td>\n",
       "      <td>03/05/2022</td>\n",
       "      <td>1303205930</td>\n",
       "    </tr>\n",
       "    <tr>\n",
       "      <th>8</th>\n",
       "      <td>0.0</td>\n",
       "      <td>78548857-Q</td>\n",
       "      <td>FACTURA</td>\n",
       "      <td>01/08/2021</td>\n",
       "      <td>19/2021</td>\n",
       "    </tr>\n",
       "    <tr>\n",
       "      <th>9</th>\n",
       "      <td>0.0</td>\n",
       "      <td>G-38055612</td>\n",
       "      <td>49,52</td>\n",
       "      <td>01/07/2020</td>\n",
       "      <td>2020-00116355</td>\n",
       "    </tr>\n",
       "    <tr>\n",
       "      <th>10</th>\n",
       "      <td>0.0</td>\n",
       "      <td>B-76,305.333</td>\n",
       "      <td>0</td>\n",
       "      <td>01/11/2020</td>\n",
       "      <td>2020/129</td>\n",
       "    </tr>\n",
       "    <tr>\n",
       "      <th>11</th>\n",
       "      <td>0.0</td>\n",
       "      <td>B76744861</td>\n",
       "      <td>www.gmfood.es,</td>\n",
       "      <td>03/02/2020</td>\n",
       "      <td>200302180004999</td>\n",
       "    </tr>\n",
       "    <tr>\n",
       "      <th>12</th>\n",
       "      <td>0.0</td>\n",
       "      <td>B-38923272</td>\n",
       "      <td>44,94€</td>\n",
       "      <td>03/02/2020</td>\n",
       "      <td>389232</td>\n",
       "    </tr>\n",
       "    <tr>\n",
       "      <th>13</th>\n",
       "      <td>0.0</td>\n",
       "      <td>A-38003414</td>\n",
       "      <td>154,05</td>\n",
       "      <td>27-05-2021</td>\n",
       "      <td>1400804213</td>\n",
       "    </tr>\n",
       "    <tr>\n",
       "      <th>14</th>\n",
       "      <td>0.0</td>\n",
       "      <td>B76744861</td>\n",
       "      <td>69,20</td>\n",
       "      <td>03/02/20</td>\n",
       "      <td>26052105</td>\n",
       "    </tr>\n",
       "    <tr>\n",
       "      <th>15</th>\n",
       "      <td>0.0</td>\n",
       "      <td>B-38988242</td>\n",
       "      <td>|</td>\n",
       "      <td>23/11/19</td>\n",
       "      <td>1825768</td>\n",
       "    </tr>\n",
       "    <tr>\n",
       "      <th>16</th>\n",
       "      <td>0.0</td>\n",
       "      <td>B-38206456</td>\n",
       "      <td>159,60</td>\n",
       "      <td>30/10/21</td>\n",
       "      <td>134055</td>\n",
       "    </tr>\n",
       "    <tr>\n",
       "      <th>17</th>\n",
       "      <td>0.0</td>\n",
       "      <td>B38574281</td>\n",
       "      <td>TOTAL</td>\n",
       "      <td>03/07/20</td>\n",
       "      <td>F1-1-01353</td>\n",
       "    </tr>\n",
       "    <tr>\n",
       "      <th>18</th>\n",
       "      <td>0.0</td>\n",
       "      <td>B76744861</td>\n",
       "      <td>0</td>\n",
       "      <td>31/00/21</td>\n",
       "      <td>76744861</td>\n",
       "    </tr>\n",
       "    <tr>\n",
       "      <th>0</th>\n",
       "      <td>NaN</td>\n",
       "      <td>A38089132</td>\n",
       "      <td>0</td>\n",
       "      <td>04/02/20</td>\n",
       "      <td>ORD-3437-00003710-QL</td>\n",
       "    </tr>\n",
       "  </tbody>\n",
       "</table>\n",
       "</div>"
      ],
      "text/plain": [
       "    Unnamed: 0    Vat Number           Total        Date        Invoice_Number\n",
       "0          0.0    A-38003414           90,21  30/06/2020            1600359177\n",
       "1          0.0    A-38003414          154,05  27-05-2021            1400804213\n",
       "2          0.0    G-38055612           49,52  01/07/2020         2020-00116355\n",
       "3          0.0     B76546787       siguiente  02/08/2021          721000050614\n",
       "4          0.0     B76744861  www.gmfood.es,  03/02/2020       200302180004999\n",
       "5          0.0     B38574281           TOTAL  03/07/2020            F1-1-01353\n",
       "6          0.0  B-76,305.333               0  01/11/2020              2020/129\n",
       "7          0.0     A30013841               0  03/05/2022            1303205930\n",
       "8          0.0    78548857-Q         FACTURA  01/08/2021               19/2021\n",
       "9          0.0    G-38055612           49,52  01/07/2020         2020-00116355\n",
       "10         0.0  B-76,305.333               0  01/11/2020              2020/129\n",
       "11         0.0     B76744861  www.gmfood.es,  03/02/2020       200302180004999\n",
       "12         0.0    B-38923272          44,94€  03/02/2020                389232\n",
       "13         0.0    A-38003414          154,05  27-05-2021            1400804213\n",
       "14         0.0     B76744861           69,20    03/02/20              26052105\n",
       "15         0.0    B-38988242               |    23/11/19               1825768\n",
       "16         0.0    B-38206456          159,60    30/10/21                134055\n",
       "17         0.0     B38574281           TOTAL    03/07/20            F1-1-01353\n",
       "18         0.0     B76744861               0    31/00/21              76744861\n",
       "0          NaN     A38089132               0    04/02/20  ORD-3437-00003710-QL"
      ]
     },
     "execution_count": 227,
     "metadata": {},
     "output_type": "execute_result"
    }
   ],
   "source": [
    "final"
   ]
  },
  {
   "cell_type": "code",
   "execution_count": null,
   "id": "2307423f",
   "metadata": {},
   "outputs": [],
   "source": []
  }
 ],
 "metadata": {
  "kernelspec": {
   "display_name": "Python 3 (ipykernel)",
   "language": "python",
   "name": "python3"
  },
  "language_info": {
   "codemirror_mode": {
    "name": "ipython",
    "version": 3
   },
   "file_extension": ".py",
   "mimetype": "text/x-python",
   "name": "python",
   "nbconvert_exporter": "python",
   "pygments_lexer": "ipython3",
   "version": "3.7.11"
  }
 },
 "nbformat": 4,
 "nbformat_minor": 5
}
