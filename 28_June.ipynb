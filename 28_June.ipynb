{
 "cells": [
  {
   "cell_type": "code",
   "execution_count": 3,
   "id": "01721d19",
   "metadata": {},
   "outputs": [],
   "source": [
    "import pytesseract\n",
    "import cv2\n",
    "from PIL import Image \n",
    "import re\n",
    "import pandas as pd"
   ]
  },
  {
   "cell_type": "code",
   "execution_count": 4,
   "id": "3577cb91",
   "metadata": {},
   "outputs": [],
   "source": [
    "pytesseract.pytesseract.tesseract_cmd = r\"C:\\Program Files\\Tesseract-OCR\\tesseract.exe\""
   ]
  },
  {
   "cell_type": "code",
   "execution_count": 196,
   "id": "84b38766",
   "metadata": {},
   "outputs": [],
   "source": [
    "formats = pd.read_excel('invoice_formats.xlsx')\n",
    "final = pd.read_excel('Extracted_Data.xlsx')"
   ]
  },
  {
   "cell_type": "code",
   "execution_count": 238,
   "id": "90832141",
   "metadata": {},
   "outputs": [],
   "source": [
    "Ima = \"Makro Invoices/Makro Invoices/New/09.11.20_APPLUS ITEUVE TECHHNOLOGY S.L._60,1_page1.png\""
   ]
  },
  {
   "cell_type": "code",
   "execution_count": 231,
   "id": "4a19f044",
   "metadata": {},
   "outputs": [
    {
     "name": "stdout",
     "output_type": "stream",
     "text": [
      "<class 'list'>\n",
      "Factura N° 9335\n",
      "['Factura', 'N°', '9335']\n",
      "Case Total\n",
      "['SUBTOTAL', 'EUROS']\n",
      "EUROS\n",
      "Case Total\n",
      "['TOTAL', 'EUROS']\n",
      "EUROS\n",
      "(1191, 1684)\n",
      "['1.20000', '1.50000', '1.50000', '1.20000', '1.50000', '1.50000', '1.20000', '1.20000', '1.200.00', '1.20000', '1.500.00', '1.500.00', '', '50000', '', '50000', '180.00', '', '50.00', '', '20000', '', '50.00', '', '1.200.00', '1.500.00', '1.500.00', '1.200.00', '1.500.00', '1.500.00', '1.200.00', '1.200.00', '1.200.00', '1.200.00', '1.500.00', '1.500.00', '', '50000', '50000', '', '180.00', '', '3.47600', '', '25000', '', '20000', '', '150.00', '', '21.456.00', '', '1.501.92', '22.957.92', '', '']\n",
      "1.20000\n",
      "1.50000\n",
      "1.50000\n",
      "1.20000\n",
      "1.50000\n",
      "1.50000\n",
      "1.20000\n",
      "1.20000\n",
      "1.20000\n",
      "50000\n",
      "50000\n",
      "180.00\n",
      "50.00\n",
      "20000\n",
      "50.00\n",
      "50000\n",
      "50000\n",
      "180.00\n",
      "3.47600\n",
      "25000\n",
      "20000\n",
      "150.00\n",
      "Wall time: 5.02 s\n"
     ]
    }
   ],
   "source": [
    "%%time\n",
    "dat = {\n",
    "    \"Vat Number\":'',\n",
    "       \"Total\":0,\n",
    "       \"Date\":'',\n",
    "      \"Invoice_Number\":''}\n",
    "img  = cv2.imread(Ima, cv2.COLOR_RGB2GRAY)\n",
    "text=(pytesseract.image_to_string(img))\n",
    "text_list = text.split(\"\\n\")\n",
    "vat = []\n",
    "date = []\n",
    "print(type(text_list))\n",
    "for idx, a in enumerate(text_list):\n",
    "    if(a.strip() != \"\"):\n",
    "\n",
    "\n",
    "        if (re.search(\"[A-Z]{1}-[0-9]{8}\",a)):\n",
    "            b = re.findall(\"[A-Z]{1}-[0-9]{8}\",a)\n",
    "            dat[\"Vat Number\"] = b[0]\n",
    "            vat.append(b)\n",
    "            print(b)\n",
    "        elif (re.search(\"[0-9]{8}-[A-Z]{1}\",a)):\n",
    "            b = re.findall(\"[0-9]{8}-[A-Z]{1}\",a)\n",
    "            dat[\"Vat Number\"] = b[0]\n",
    "            vat.append(b)\n",
    "        elif (re.search(\"[0-9]{8}[A-Z]{1}\",a)):\n",
    "            b = re.findall(\"[0-9]{8}[A-Z]{1}\",a)\n",
    "            dat[\"Vat Number\"] = b\n",
    "            vat.append(b)\n",
    "    \n",
    "        elif (re.search(\"[A-Z]{1}-[0-9]{8}\",a)):\n",
    "            b = re.findall(\"[A-Z]{1}-[0-9]{8}\",a)\n",
    "            dat[\"Vat Number\"] = b[0]\n",
    "            vat.append(b)\n",
    "\n",
    "        elif (re.search(\"[A-Z]{1}[0-9]{8}\",a)):\n",
    "            b = re.findall(\"[A-Z]{1}[0-9]{8}\",a)\n",
    "            dat[\"Vat Number\"] = b[0]\n",
    "            vat.append(b)\n",
    "            \n",
    "        elif (re.search(\"[A-Z]{1}[0-9]{2}/[0-9]{6}\",a)):\n",
    "            b = re.findall(\"[A-Z]{1}[0-9]{2}/[0-9]{6}\",a)\n",
    "            dat[\"Vat Number\"] = b[0]\n",
    "            vat.append(b)\n",
    "            \n",
    "        elif (re.search(\"[A-Z]{1}-[0-9]{2}.[0-9]{3}.[0-9]{3}\",a)):\n",
    "            b = re.findall(\"[A-Z]{1}-[0-9]{2}.[0-9]{3}.[0-9]{3}\",a)\n",
    "            dat[\"Vat Number\"] = b[0]\n",
    "        elif (re.search(\"[A-Z]{1}-[0-9]{2}/[0-9]{6}\",a)):\n",
    "            b = re.findall(\"[A-Z]{1}-[0-9]{2}/[0-9]{6}\",a)\n",
    "            dat[\"Vat Number\"] = b[0]\n",
    "\n",
    "        if len(vat)>1:\n",
    "            dat[\"Vat Number\"] = vat[0]\n",
    "        else:\n",
    "            pass\n",
    "         #Date section           \n",
    "        if (re.search(\"\\d{2}/\\d{2}/\\d{4}\",a)):\n",
    "            b  = re.findall(\"\\d{2}/\\d{2}/\\d{4}\", a)\n",
    "            dat[\"Date\"] = b[0]\n",
    "            date.append(b[0])\n",
    "        elif (re.search(\"\\d{2}-\\d{2}-\\d{4}\",a)):\n",
    "            b = re.findall(\"\\d{2}-\\d{2}-\\d{4}\",a)\n",
    "            dat[\"Date\"] = b[0]\n",
    "            date.append(b[0])\n",
    "        elif (re.search(\"\\d{2}/\\d{2}/\\d{2}\",a)):\n",
    "            b = re.findall(\"\\d{2}/\\d{2}/\\d{2}\",a)\n",
    "            dat[\"Date\"] = b[0]\n",
    "            date.append(b[0])\n",
    "        elif (re.search(\"[0-9]{2}.[0-9]{2}.[0-9]{4}\",a)):\n",
    "            b = re.findall(\"[0-9]{2}.[0-9]{2}.[0-9]{4}\",a)\n",
    "            dat[\"Date\"] = b[0]\n",
    "            date.append(b[0])\n",
    "        if len(date)>1:\n",
    "            dat[\"Date\"] = date[0]\n",
    "\n",
    "        #invoice number section\n",
    "        if (\"Factura\" in a or \"ALBARAN\" in a or \"Factura: \" in a):\n",
    "\n",
    "            print(a)\n",
    "            b = a.split(\" \")\n",
    "            if b[0] == \"ALBARAN\":\n",
    "                dat[\"Invoice_Number\"] = b[1]\n",
    "            print(b)\n",
    "            if len(b)>3:\n",
    "                print(b)\n",
    "                if len(b)>4 and b[2] !='—' and len(b[1])!=25 and len(b[1])>5:\n",
    "                    dat[\"Invoice_Number\"] = b[1]+b[2]\n",
    "                    print(b)\n",
    "                elif len(b)>=5 and len(b[1])==25:\n",
    "                    dat[\"Invoice_Number\"] = b[1]\n",
    "                elif len(b)>6 and len(b[3])>15:\n",
    "                    dat[\"Invoice_Number\"] = b[1]+ b[2]+ b[3]\n",
    "                elif len(b)>6 and b[1]== \"0/0\":\n",
    "                    dat[\"Invoice_Number\"] = b[1] + b[2]\n",
    "                    \n",
    "        if (\"Tarjeta\" in a or \"Credito\" in a or  \"pagina\" in a or \"Total:\" in a  or \"TOTAL\" in a or  \"Total factura\" in a or  \"Total Factura\" in a or \"TOTAL FACTURA\" in a or \"Total CON IGIC\" in a  or \"IMPORTE FACTURA EU\" in a or \"IMPORTE FACTURA\" in a or \"EUROS\" in a):\n",
    "            print(\"Case Total\")\n",
    "            b = a.split(\" \")\n",
    "            print(b)\n",
    "            if len(b[-1])==2:\n",
    "                \n",
    "                dat[\"Total\"] = b[-2]+b[-1]\n",
    "                print(b[-2]+b[-1])\n",
    "                \n",
    "            if b[-1]=='€':\n",
    "                dat[\"Total\"] = b[-2]\n",
    "            if b[-1] == \"|\":\n",
    "                dat[\"Total\"] = b[-2]\n",
    "            if b[-1] == \"EUR\":\n",
    "                dat[\"Total\"] = b[-2]\n",
    "            else:\n",
    "                dat[\"Total\"] = b[-1]\n",
    "                print(b[-1])\n",
    "                \n",
    "if dat[\"Total\"] == 0 or len(dat['Total'])==1 or dat[\"Total\"]==\"SUB TOTAL\"  or dat[\"Total\"] == 'factura' or dat[\"Total\"]==\"FACTURA\" or dat[\"Total\"]== \"EUROS\":\n",
    "        tot = []\n",
    "        im = Image.open(Ima) \n",
    "        # Size of the image in pixels (size of orginal image) \n",
    "        # (This is not mandatory) \n",
    "        width, height = im.size \n",
    "        print(im.size)\n",
    "        # Setting the points for cropped image \n",
    "        left = 605\n",
    "        top = 600\n",
    "        right = 1675\n",
    "        bottom = 1590\n",
    "        # Cropped image of above dimension \n",
    "        # (It will not change orginal image) \n",
    "        im1 = im.crop((left, top, right, bottom)) \n",
    "         # Shows the image in image viewer \n",
    "        im1.save(\"Makro Invoices/Makro Invoices/New/pp2.jpg\")\n",
    "        img  = cv2.imread('Makro Invoices/Makro Invoices/New/pp2.jpg', cv2.COLOR_RGB2GRAY)\n",
    "        tex=(pytesseract.image_to_string(img,config='outputbase digits'))\n",
    "        text_list = tex.split(\"\\n\")\n",
    "        text_list = text_list\n",
    "        print(text_list)\n",
    "        for i in text_list:\n",
    "            if len(i)>=4 and len(i)<=7:\n",
    "                print(i)\n",
    "                tot.append(i)\n",
    "                dat[\"Total\"] = max(tot)\n",
    "            \n",
    "            \n",
    "        "
   ]
  },
  {
   "cell_type": "code",
   "execution_count": 232,
   "id": "0a61c863",
   "metadata": {},
   "outputs": [
    {
     "data": {
      "text/plain": [
       "{'Vat Number': 'B76546787',\n",
       " 'Total': '50000',\n",
       " 'Date': '22 78 0001',\n",
       " 'Invoice_Number': ''}"
      ]
     },
     "execution_count": 232,
     "metadata": {},
     "output_type": "execute_result"
    }
   ],
   "source": [
    "dat"
   ]
  },
  {
   "cell_type": "code",
   "execution_count": 233,
   "id": "60e675e5",
   "metadata": {},
   "outputs": [
    {
     "name": "stdout",
     "output_type": "stream",
     "text": [
      "  Vat Number  Total        Date Invoice_Number\n",
      "0  B76546787  50000  22 78 0001               \n"
     ]
    }
   ],
   "source": [
    "data  =  pd.DataFrame(dat,index=[0])\n",
    "data['Vat Number']= data['Vat Number'].str.replace(' ', '')\n",
    "print(data)"
   ]
  },
  {
   "cell_type": "code",
   "execution_count": 234,
   "id": "3211f2af",
   "metadata": {},
   "outputs": [
    {
     "name": "stderr",
     "output_type": "stream",
     "text": [
      "F:\\anaconda3\\envs\\python_3_7\\lib\\site-packages\\ipykernel_launcher.py:3: FutureWarning: The default value of regex will change from True to False in a future version. In addition, single character regular expressions will *not* be treated as literal strings when regex=True.\n",
      "  This is separate from the ipykernel package so we can avoid doing imports until\n"
     ]
    },
    {
     "data": {
      "text/html": [
       "<div>\n",
       "<style scoped>\n",
       "    .dataframe tbody tr th:only-of-type {\n",
       "        vertical-align: middle;\n",
       "    }\n",
       "\n",
       "    .dataframe tbody tr th {\n",
       "        vertical-align: top;\n",
       "    }\n",
       "\n",
       "    .dataframe thead th {\n",
       "        text-align: right;\n",
       "    }\n",
       "</style>\n",
       "<table border=\"1\" class=\"dataframe\">\n",
       "  <thead>\n",
       "    <tr style=\"text-align: right;\">\n",
       "      <th></th>\n",
       "      <th>Vat Number</th>\n",
       "      <th>Total</th>\n",
       "      <th>Date</th>\n",
       "      <th>Invoice_Number</th>\n",
       "    </tr>\n",
       "  </thead>\n",
       "  <tbody>\n",
       "    <tr>\n",
       "      <th>0</th>\n",
       "      <td>B76546787</td>\n",
       "      <td>50000</td>\n",
       "      <td>22 78 0001</td>\n",
       "      <td></td>\n",
       "    </tr>\n",
       "  </tbody>\n",
       "</table>\n",
       "</div>"
      ],
      "text/plain": [
       "  Vat Number  Total        Date Invoice_Number\n",
       "0  B76546787  50000  22 78 0001               "
      ]
     },
     "execution_count": 234,
     "metadata": {},
     "output_type": "execute_result"
    }
   ],
   "source": [
    "data['Vat Number']= data['Vat Number'].str.replace('-', '')\n",
    "data['Vat Number']= data['Vat Number'].str.replace(',', '')\n",
    "data['Vat Number']= data['Vat Number'].str.replace('.', '')\n",
    "data"
   ]
  },
  {
   "cell_type": "code",
   "execution_count": 235,
   "id": "0f047807",
   "metadata": {},
   "outputs": [],
   "source": [
    "formats['last']= (formats['nif'].isin(data['Vat Number']))"
   ]
  },
  {
   "cell_type": "code",
   "execution_count": 236,
   "id": "c2b82863",
   "metadata": {},
   "outputs": [],
   "source": [
    "df2 = formats.query(\"last == True\")"
   ]
  },
  {
   "cell_type": "code",
   "execution_count": 237,
   "id": "1c12a9fa",
   "metadata": {},
   "outputs": [
    {
     "data": {
      "text/html": [
       "<div>\n",
       "<style scoped>\n",
       "    .dataframe tbody tr th:only-of-type {\n",
       "        vertical-align: middle;\n",
       "    }\n",
       "\n",
       "    .dataframe tbody tr th {\n",
       "        vertical-align: top;\n",
       "    }\n",
       "\n",
       "    .dataframe thead th {\n",
       "        text-align: right;\n",
       "    }\n",
       "</style>\n",
       "<table border=\"1\" class=\"dataframe\">\n",
       "  <thead>\n",
       "    <tr style=\"text-align: right;\">\n",
       "      <th></th>\n",
       "      <th>formato</th>\n",
       "      <th>nombre</th>\n",
       "      <th>nif</th>\n",
       "      <th>last</th>\n",
       "    </tr>\n",
       "  </thead>\n",
       "  <tbody>\n",
       "    <tr>\n",
       "      <th>411</th>\n",
       "      <td>[0-9]{12}</td>\n",
       "      <td>La Creme Films SL</td>\n",
       "      <td>B76546787</td>\n",
       "      <td>True</td>\n",
       "    </tr>\n",
       "    <tr>\n",
       "      <th>5768</th>\n",
       "      <td>[0-9]{12}</td>\n",
       "      <td>La Creme Films SL</td>\n",
       "      <td>B76546787</td>\n",
       "      <td>True</td>\n",
       "    </tr>\n",
       "    <tr>\n",
       "      <th>5774</th>\n",
       "      <td>[0-9]{12}</td>\n",
       "      <td>La Creme Films SL</td>\n",
       "      <td>B76546787</td>\n",
       "      <td>True</td>\n",
       "    </tr>\n",
       "    <tr>\n",
       "      <th>7869</th>\n",
       "      <td>[0-9]{12}</td>\n",
       "      <td>La Creme Films SL</td>\n",
       "      <td>B76546787</td>\n",
       "      <td>True</td>\n",
       "    </tr>\n",
       "    <tr>\n",
       "      <th>11762</th>\n",
       "      <td>[0-9]{12}</td>\n",
       "      <td>La Creme Films SL</td>\n",
       "      <td>B76546787</td>\n",
       "      <td>True</td>\n",
       "    </tr>\n",
       "    <tr>\n",
       "      <th>21689</th>\n",
       "      <td>[0-9]{12}</td>\n",
       "      <td>Graciosamar Cruceros</td>\n",
       "      <td>B76546787</td>\n",
       "      <td>True</td>\n",
       "    </tr>\n",
       "  </tbody>\n",
       "</table>\n",
       "</div>"
      ],
      "text/plain": [
       "         formato                nombre        nif  last\n",
       "411    [0-9]{12}     La Creme Films SL  B76546787  True\n",
       "5768   [0-9]{12}     La Creme Films SL  B76546787  True\n",
       "5774   [0-9]{12}     La Creme Films SL  B76546787  True\n",
       "7869   [0-9]{12}     La Creme Films SL  B76546787  True\n",
       "11762  [0-9]{12}     La Creme Films SL  B76546787  True\n",
       "21689  [0-9]{12}  Graciosamar Cruceros  B76546787  True"
      ]
     },
     "execution_count": 237,
     "metadata": {},
     "output_type": "execute_result"
    }
   ],
   "source": [
    "df2"
   ]
  },
  {
   "cell_type": "code",
   "execution_count": 213,
   "id": "a25f17fd",
   "metadata": {},
   "outputs": [],
   "source": [
    "inv = 0\n",
    "for i in df2['formato']:\n",
    "    inv = i\n",
    "pat = 'F1-1-01353'\n",
    "factura = re.compile(inv)\n",
    "mo = factura.search(text)\n",
    "dat[\"Invoice_Number\"]=mo.group()"
   ]
  },
  {
   "cell_type": "code",
   "execution_count": 214,
   "id": "849fd0f7",
   "metadata": {},
   "outputs": [
    {
     "data": {
      "text/plain": [
       "{'Vat Number': 'A38003844',\n",
       " 'Total': '104,14',\n",
       " 'Date': ['08/07/20'],\n",
       " 'Invoice_Number': 'FV20-29963'}"
      ]
     },
     "execution_count": 214,
     "metadata": {},
     "output_type": "execute_result"
    }
   ],
   "source": [
    "dat"
   ]
  },
  {
   "cell_type": "code",
   "execution_count": 154,
   "id": "2361ad8d",
   "metadata": {},
   "outputs": [
    {
     "data": {
      "text/plain": [
       "'VIVEROS MOGAN S.L\\nCL. POSTREAGUA, S/N\\n\\n35140 MOGAN\\nLAS PALMAS\\n\\nCIFINIF: B35129584\\n\\nVIVERO LA COSMA S.L\\nCL. LAFUENTE, 18\\n\\n38260 TEJINA\\n\\nTel: 682272915, Fax:\\n\\nCIFINIF: B38960274\\n\\nN° fact ‘echa\\n\\nFavraa0s | 0st 1/2020 == Nuestras plantas son productos vivos. Enlregados en perfectas\\n\\nRenresentants condiciones.\\n. - No nos hacemos cargo de las perdidas causadas por las condiciones a\\nLA EMPRESA‘ que sean expuestas una vez entregadas y fuera del vivero.\\n\\n3 8 GUAYABITO LIMON (Psidium litorale) 9,80 3 78,40\\n81 8 GUAYABO FRESA (Psidium cattleianum) 9,80 3 78,40\\n14 5 CARAMBOLA (Averrhoa carambola) 15,00 3 75,00\\n25 2 MAMEY COLORADO (Pouteria sapota) 24,80 3 49,60\\n65 8 GUAYABO SP (PSIDIUM GUAJAVA) 9,80 3 78,40\\n49 3 ZAPOTE BLANCO (Casimiroa edulis) 20,00 3 60,00\\n150 410 LIMAM.17 10,50 3 105,00\\n140 410 MANDARINO M.17 10,50 3 105,00\\n121 60 PAPAYAM.14 (Carica papaya) 2,30 3 138,00\\n250 412 PLATANERAM.14 4,60 3 55,20\\n187 24 PINATROPICAL\\n\\n“Base imponible Ici ~Requiv. | ~_IRPF 0% [Total factura\\n\\n|(Condiciones de\\n\\nForma de pago: 30, 60 dias Vencimientos: 05/12/2020 452,28\\n\\nDoc. de pago: Transferencia bancaria 05/01/2021 452,27\\nCC: ES47 2100 6779 41 0200028568\\n\\nES66 3076 0500 14 2314542420\\n\\n‘De conformidad con el Reglamento General de Proteccidn de Datos (RGPO), le informamos que los datos de caracter personal que pudieran\\n\\nconstar en este documento han sido recluidos en los ficheros propiedad de Vivero La Cosma S.L. y podran ser comunicados a terceros para\\n\\nla prestacion del servicio pactado. 6 tratamiento de tales datos tiene por finalidad el establecimiento de la relacion contractual con esta\\n\\nEmpresa. La Legitimaci6n se realiza a través del consentimiento del interesado. Podra ejercitar los derechos de acceso, rectificacién,\\n\\noposicidn, limitacién, portabilidad y supresion en los términos previstos en la legislacion vigente, dirigigndose a Vivero La Cosma S.L. Puede\\nconsultar la informacién adicional y detallada sobre Proteccion de Datos dirigiéndose a la empresa.\\n\\n'"
      ]
     },
     "execution_count": 154,
     "metadata": {},
     "output_type": "execute_result"
    }
   ],
   "source": [
    "text"
   ]
  },
  {
   "cell_type": "code",
   "execution_count": null,
   "id": "e0390424",
   "metadata": {},
   "outputs": [],
   "source": []
  }
 ],
 "metadata": {
  "kernelspec": {
   "display_name": "Python 3 (ipykernel)",
   "language": "python",
   "name": "python3"
  },
  "language_info": {
   "codemirror_mode": {
    "name": "ipython",
    "version": 3
   },
   "file_extension": ".py",
   "mimetype": "text/x-python",
   "name": "python",
   "nbconvert_exporter": "python",
   "pygments_lexer": "ipython3",
   "version": "3.7.11"
  }
 },
 "nbformat": 4,
 "nbformat_minor": 5
}
