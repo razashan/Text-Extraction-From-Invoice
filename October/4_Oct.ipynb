{
 "cells": [
  {
   "cell_type": "code",
   "execution_count": 1,
   "id": "01721d19",
   "metadata": {},
   "outputs": [
    {
     "name": "stderr",
     "output_type": "stream",
     "text": [
      "F:\\anaconda3\\envs\\python_3_7\\lib\\site-packages\\fuzzywuzzy\\fuzz.py:11: UserWarning: Using slow pure-python SequenceMatcher. Install python-Levenshtein to remove this warning\n",
      "  warnings.warn('Using slow pure-python SequenceMatcher. Install python-Levenshtein to remove this warning')\n",
      "\n"
     ]
    }
   ],
   "source": [
    "import pytesseract\n",
    "import cv2\n",
    "from PIL import Image \n",
    "import re\n",
    "import pandas as pd\n",
    "import fitz\n",
    "import os\n",
    "import boto3\n",
    "import io\n",
    "from fuzzywuzzy import fuzz\n",
    "from fuzzywuzzy import process\n",
    "import numpy as np"
   ]
  },
  {
   "cell_type": "markdown",
   "id": "9d051429",
   "metadata": {},
   "source": [
    "# Code to Convert PDF to PNG"
   ]
  },
  {
   "cell_type": "code",
   "execution_count": 2,
   "id": "c1744653",
   "metadata": {},
   "outputs": [],
   "source": [
    "def convert_pdf2img(input_file: str,pages=None):\n",
    "    \"\"\"Converts pdf to image and generates a file by page\"\"\"\n",
    "    # Open the document\n",
    "    pdfIn = fitz.open(input_file)\n",
    "    output_files = []\n",
    "    # Iterate throughout the pages\n",
    "    for pg in range(pdfIn.pageCount):\n",
    "        if str(pages) != str(None):\n",
    "            if str(pg) not in str(pages):\n",
    "                continue\n",
    "        # Select a page\n",
    "        page = pdfIn[pg]\n",
    "        rotate = int(0)\n",
    "        # PDF Page is converted into a whole picture 1056*816 and then for each picture a screenshot is taken.\n",
    "        # zoom = 1.33333333 -----> Image size = 1056*816\n",
    "        # zoom = 2 ---> 2 * Default Resolution (text is clear, image text is hard to read)    = filesize small / Image size = 1584*1224\n",
    "        # zoom = 4 ---> 4 * Default Resolution (text is clear, image text is barely readable) = filesize large\n",
    "        # zoom = 8 ---> 8 * Default Resolution (text is clear, image text is readable) = filesize large\n",
    "        zoom_x = 2\n",
    "        zoom_y = 2\n",
    "        # The zoom factor is equal to 2 in order to make text clear\n",
    "        # Pre-rotate is to rotate if needed.\n",
    "        mat = fitz.Matrix(zoom_x, zoom_y).preRotate(rotate)\n",
    "        pix = page.getPixmap(matrix=mat, alpha=False)\n",
    "        path = 'Makro Invoices/Makro Invoices/New/'\n",
    "        output_file = f\"{path+os.path.splitext(os.path.basename(input_file))[0]}_page{pg+1}.png\"\n",
    "        pix.writePNG(output_file)\n",
    "        output_files.append(output_file)\n",
    "    pdfIn.close()\n",
    "    summary = {\n",
    "        \"File\": input_file, \"Pages\": str(pages), \"Output File(s)\": str(output_files)\n",
    "    }\n",
    "    # Printing Summary\n",
    "    print(\"## Summary ########################################################\")\n",
    "    print(\"\\n\".join(\"{}:{}\".format(i, j) for i, j in summary.items()))\n",
    "    print(\"###################################################################\")\n",
    "    return output_files"
   ]
  },
  {
   "cell_type": "code",
   "execution_count": 3,
   "id": "70bd8322",
   "metadata": {},
   "outputs": [
    {
     "name": "stderr",
     "output_type": "stream",
     "text": [
      "Deprecation: 'preRotate' removed from class 'Matrix' after v1.19 - use 'prerotate'.\n",
      "Deprecation: 'getPixmap' removed from class 'Page' after v1.19 - use 'get_pixmap'.\n",
      "Deprecation: 'writePNG' removed from class 'Pixmap' after v1.19 - use 'save'.\n"
     ]
    },
    {
     "name": "stdout",
     "output_type": "stream",
     "text": [
      "## Summary ########################################################\n",
      "File:Makro Invoices/Makro Invoices/Server_Invoice/document_98_document_22119_174-documentos.pdf\n",
      "Pages:None\n",
      "Output File(s):['Makro Invoices/Makro Invoices/New/document_98_document_22119_174-documentos_page1.png', 'Makro Invoices/Makro Invoices/New/document_98_document_22119_174-documentos_page2.png', 'Makro Invoices/Makro Invoices/New/document_98_document_22119_174-documentos_page3.png', 'Makro Invoices/Makro Invoices/New/document_98_document_22119_174-documentos_page4.png', 'Makro Invoices/Makro Invoices/New/document_98_document_22119_174-documentos_page5.png', 'Makro Invoices/Makro Invoices/New/document_98_document_22119_174-documentos_page6.png', 'Makro Invoices/Makro Invoices/New/document_98_document_22119_174-documentos_page7.png', 'Makro Invoices/Makro Invoices/New/document_98_document_22119_174-documentos_page8.png', 'Makro Invoices/Makro Invoices/New/document_98_document_22119_174-documentos_page9.png', 'Makro Invoices/Makro Invoices/New/document_98_document_22119_174-documentos_page10.png', 'Makro Invoices/Makro Invoices/New/document_98_document_22119_174-documentos_page11.png', 'Makro Invoices/Makro Invoices/New/document_98_document_22119_174-documentos_page12.png', 'Makro Invoices/Makro Invoices/New/document_98_document_22119_174-documentos_page13.png', 'Makro Invoices/Makro Invoices/New/document_98_document_22119_174-documentos_page14.png', 'Makro Invoices/Makro Invoices/New/document_98_document_22119_174-documentos_page15.png', 'Makro Invoices/Makro Invoices/New/document_98_document_22119_174-documentos_page16.png', 'Makro Invoices/Makro Invoices/New/document_98_document_22119_174-documentos_page17.png', 'Makro Invoices/Makro Invoices/New/document_98_document_22119_174-documentos_page18.png', 'Makro Invoices/Makro Invoices/New/document_98_document_22119_174-documentos_page19.png', 'Makro Invoices/Makro Invoices/New/document_98_document_22119_174-documentos_page20.png', 'Makro Invoices/Makro Invoices/New/document_98_document_22119_174-documentos_page21.png', 'Makro Invoices/Makro Invoices/New/document_98_document_22119_174-documentos_page22.png', 'Makro Invoices/Makro Invoices/New/document_98_document_22119_174-documentos_page23.png', 'Makro Invoices/Makro Invoices/New/document_98_document_22119_174-documentos_page24.png', 'Makro Invoices/Makro Invoices/New/document_98_document_22119_174-documentos_page25.png', 'Makro Invoices/Makro Invoices/New/document_98_document_22119_174-documentos_page26.png', 'Makro Invoices/Makro Invoices/New/document_98_document_22119_174-documentos_page27.png', 'Makro Invoices/Makro Invoices/New/document_98_document_22119_174-documentos_page28.png', 'Makro Invoices/Makro Invoices/New/document_98_document_22119_174-documentos_page29.png', 'Makro Invoices/Makro Invoices/New/document_98_document_22119_174-documentos_page30.png', 'Makro Invoices/Makro Invoices/New/document_98_document_22119_174-documentos_page31.png', 'Makro Invoices/Makro Invoices/New/document_98_document_22119_174-documentos_page32.png', 'Makro Invoices/Makro Invoices/New/document_98_document_22119_174-documentos_page33.png', 'Makro Invoices/Makro Invoices/New/document_98_document_22119_174-documentos_page34.png', 'Makro Invoices/Makro Invoices/New/document_98_document_22119_174-documentos_page35.png', 'Makro Invoices/Makro Invoices/New/document_98_document_22119_174-documentos_page36.png', 'Makro Invoices/Makro Invoices/New/document_98_document_22119_174-documentos_page37.png', 'Makro Invoices/Makro Invoices/New/document_98_document_22119_174-documentos_page38.png', 'Makro Invoices/Makro Invoices/New/document_98_document_22119_174-documentos_page39.png', 'Makro Invoices/Makro Invoices/New/document_98_document_22119_174-documentos_page40.png', 'Makro Invoices/Makro Invoices/New/document_98_document_22119_174-documentos_page41.png', 'Makro Invoices/Makro Invoices/New/document_98_document_22119_174-documentos_page42.png', 'Makro Invoices/Makro Invoices/New/document_98_document_22119_174-documentos_page43.png', 'Makro Invoices/Makro Invoices/New/document_98_document_22119_174-documentos_page44.png', 'Makro Invoices/Makro Invoices/New/document_98_document_22119_174-documentos_page45.png', 'Makro Invoices/Makro Invoices/New/document_98_document_22119_174-documentos_page46.png', 'Makro Invoices/Makro Invoices/New/document_98_document_22119_174-documentos_page47.png', 'Makro Invoices/Makro Invoices/New/document_98_document_22119_174-documentos_page48.png', 'Makro Invoices/Makro Invoices/New/document_98_document_22119_174-documentos_page49.png', 'Makro Invoices/Makro Invoices/New/document_98_document_22119_174-documentos_page50.png', 'Makro Invoices/Makro Invoices/New/document_98_document_22119_174-documentos_page51.png', 'Makro Invoices/Makro Invoices/New/document_98_document_22119_174-documentos_page52.png', 'Makro Invoices/Makro Invoices/New/document_98_document_22119_174-documentos_page53.png', 'Makro Invoices/Makro Invoices/New/document_98_document_22119_174-documentos_page54.png', 'Makro Invoices/Makro Invoices/New/document_98_document_22119_174-documentos_page55.png', 'Makro Invoices/Makro Invoices/New/document_98_document_22119_174-documentos_page56.png', 'Makro Invoices/Makro Invoices/New/document_98_document_22119_174-documentos_page57.png', 'Makro Invoices/Makro Invoices/New/document_98_document_22119_174-documentos_page58.png', 'Makro Invoices/Makro Invoices/New/document_98_document_22119_174-documentos_page59.png', 'Makro Invoices/Makro Invoices/New/document_98_document_22119_174-documentos_page60.png', 'Makro Invoices/Makro Invoices/New/document_98_document_22119_174-documentos_page61.png', 'Makro Invoices/Makro Invoices/New/document_98_document_22119_174-documentos_page62.png', 'Makro Invoices/Makro Invoices/New/document_98_document_22119_174-documentos_page63.png', 'Makro Invoices/Makro Invoices/New/document_98_document_22119_174-documentos_page64.png', 'Makro Invoices/Makro Invoices/New/document_98_document_22119_174-documentos_page65.png', 'Makro Invoices/Makro Invoices/New/document_98_document_22119_174-documentos_page66.png', 'Makro Invoices/Makro Invoices/New/document_98_document_22119_174-documentos_page67.png', 'Makro Invoices/Makro Invoices/New/document_98_document_22119_174-documentos_page68.png', 'Makro Invoices/Makro Invoices/New/document_98_document_22119_174-documentos_page69.png', 'Makro Invoices/Makro Invoices/New/document_98_document_22119_174-documentos_page70.png', 'Makro Invoices/Makro Invoices/New/document_98_document_22119_174-documentos_page71.png', 'Makro Invoices/Makro Invoices/New/document_98_document_22119_174-documentos_page72.png', 'Makro Invoices/Makro Invoices/New/document_98_document_22119_174-documentos_page73.png', 'Makro Invoices/Makro Invoices/New/document_98_document_22119_174-documentos_page74.png', 'Makro Invoices/Makro Invoices/New/document_98_document_22119_174-documentos_page75.png', 'Makro Invoices/Makro Invoices/New/document_98_document_22119_174-documentos_page76.png', 'Makro Invoices/Makro Invoices/New/document_98_document_22119_174-documentos_page77.png', 'Makro Invoices/Makro Invoices/New/document_98_document_22119_174-documentos_page78.png', 'Makro Invoices/Makro Invoices/New/document_98_document_22119_174-documentos_page79.png', 'Makro Invoices/Makro Invoices/New/document_98_document_22119_174-documentos_page80.png', 'Makro Invoices/Makro Invoices/New/document_98_document_22119_174-documentos_page81.png', 'Makro Invoices/Makro Invoices/New/document_98_document_22119_174-documentos_page82.png', 'Makro Invoices/Makro Invoices/New/document_98_document_22119_174-documentos_page83.png', 'Makro Invoices/Makro Invoices/New/document_98_document_22119_174-documentos_page84.png', 'Makro Invoices/Makro Invoices/New/document_98_document_22119_174-documentos_page85.png', 'Makro Invoices/Makro Invoices/New/document_98_document_22119_174-documentos_page86.png', 'Makro Invoices/Makro Invoices/New/document_98_document_22119_174-documentos_page87.png', 'Makro Invoices/Makro Invoices/New/document_98_document_22119_174-documentos_page88.png', 'Makro Invoices/Makro Invoices/New/document_98_document_22119_174-documentos_page89.png', 'Makro Invoices/Makro Invoices/New/document_98_document_22119_174-documentos_page90.png', 'Makro Invoices/Makro Invoices/New/document_98_document_22119_174-documentos_page91.png', 'Makro Invoices/Makro Invoices/New/document_98_document_22119_174-documentos_page92.png', 'Makro Invoices/Makro Invoices/New/document_98_document_22119_174-documentos_page93.png', 'Makro Invoices/Makro Invoices/New/document_98_document_22119_174-documentos_page94.png', 'Makro Invoices/Makro Invoices/New/document_98_document_22119_174-documentos_page95.png', 'Makro Invoices/Makro Invoices/New/document_98_document_22119_174-documentos_page96.png', 'Makro Invoices/Makro Invoices/New/document_98_document_22119_174-documentos_page97.png', 'Makro Invoices/Makro Invoices/New/document_98_document_22119_174-documentos_page98.png', 'Makro Invoices/Makro Invoices/New/document_98_document_22119_174-documentos_page99.png', 'Makro Invoices/Makro Invoices/New/document_98_document_22119_174-documentos_page100.png', 'Makro Invoices/Makro Invoices/New/document_98_document_22119_174-documentos_page101.png', 'Makro Invoices/Makro Invoices/New/document_98_document_22119_174-documentos_page102.png', 'Makro Invoices/Makro Invoices/New/document_98_document_22119_174-documentos_page103.png', 'Makro Invoices/Makro Invoices/New/document_98_document_22119_174-documentos_page104.png', 'Makro Invoices/Makro Invoices/New/document_98_document_22119_174-documentos_page105.png', 'Makro Invoices/Makro Invoices/New/document_98_document_22119_174-documentos_page106.png', 'Makro Invoices/Makro Invoices/New/document_98_document_22119_174-documentos_page107.png', 'Makro Invoices/Makro Invoices/New/document_98_document_22119_174-documentos_page108.png', 'Makro Invoices/Makro Invoices/New/document_98_document_22119_174-documentos_page109.png', 'Makro Invoices/Makro Invoices/New/document_98_document_22119_174-documentos_page110.png', 'Makro Invoices/Makro Invoices/New/document_98_document_22119_174-documentos_page111.png', 'Makro Invoices/Makro Invoices/New/document_98_document_22119_174-documentos_page112.png', 'Makro Invoices/Makro Invoices/New/document_98_document_22119_174-documentos_page113.png', 'Makro Invoices/Makro Invoices/New/document_98_document_22119_174-documentos_page114.png', 'Makro Invoices/Makro Invoices/New/document_98_document_22119_174-documentos_page115.png', 'Makro Invoices/Makro Invoices/New/document_98_document_22119_174-documentos_page116.png', 'Makro Invoices/Makro Invoices/New/document_98_document_22119_174-documentos_page117.png', 'Makro Invoices/Makro Invoices/New/document_98_document_22119_174-documentos_page118.png', 'Makro Invoices/Makro Invoices/New/document_98_document_22119_174-documentos_page119.png', 'Makro Invoices/Makro Invoices/New/document_98_document_22119_174-documentos_page120.png', 'Makro Invoices/Makro Invoices/New/document_98_document_22119_174-documentos_page121.png', 'Makro Invoices/Makro Invoices/New/document_98_document_22119_174-documentos_page122.png', 'Makro Invoices/Makro Invoices/New/document_98_document_22119_174-documentos_page123.png', 'Makro Invoices/Makro Invoices/New/document_98_document_22119_174-documentos_page124.png', 'Makro Invoices/Makro Invoices/New/document_98_document_22119_174-documentos_page125.png', 'Makro Invoices/Makro Invoices/New/document_98_document_22119_174-documentos_page126.png', 'Makro Invoices/Makro Invoices/New/document_98_document_22119_174-documentos_page127.png', 'Makro Invoices/Makro Invoices/New/document_98_document_22119_174-documentos_page128.png', 'Makro Invoices/Makro Invoices/New/document_98_document_22119_174-documentos_page129.png', 'Makro Invoices/Makro Invoices/New/document_98_document_22119_174-documentos_page130.png', 'Makro Invoices/Makro Invoices/New/document_98_document_22119_174-documentos_page131.png', 'Makro Invoices/Makro Invoices/New/document_98_document_22119_174-documentos_page132.png', 'Makro Invoices/Makro Invoices/New/document_98_document_22119_174-documentos_page133.png', 'Makro Invoices/Makro Invoices/New/document_98_document_22119_174-documentos_page134.png', 'Makro Invoices/Makro Invoices/New/document_98_document_22119_174-documentos_page135.png', 'Makro Invoices/Makro Invoices/New/document_98_document_22119_174-documentos_page136.png', 'Makro Invoices/Makro Invoices/New/document_98_document_22119_174-documentos_page137.png', 'Makro Invoices/Makro Invoices/New/document_98_document_22119_174-documentos_page138.png', 'Makro Invoices/Makro Invoices/New/document_98_document_22119_174-documentos_page139.png', 'Makro Invoices/Makro Invoices/New/document_98_document_22119_174-documentos_page140.png', 'Makro Invoices/Makro Invoices/New/document_98_document_22119_174-documentos_page141.png', 'Makro Invoices/Makro Invoices/New/document_98_document_22119_174-documentos_page142.png', 'Makro Invoices/Makro Invoices/New/document_98_document_22119_174-documentos_page143.png', 'Makro Invoices/Makro Invoices/New/document_98_document_22119_174-documentos_page144.png', 'Makro Invoices/Makro Invoices/New/document_98_document_22119_174-documentos_page145.png', 'Makro Invoices/Makro Invoices/New/document_98_document_22119_174-documentos_page146.png', 'Makro Invoices/Makro Invoices/New/document_98_document_22119_174-documentos_page147.png', 'Makro Invoices/Makro Invoices/New/document_98_document_22119_174-documentos_page148.png', 'Makro Invoices/Makro Invoices/New/document_98_document_22119_174-documentos_page149.png', 'Makro Invoices/Makro Invoices/New/document_98_document_22119_174-documentos_page150.png', 'Makro Invoices/Makro Invoices/New/document_98_document_22119_174-documentos_page151.png', 'Makro Invoices/Makro Invoices/New/document_98_document_22119_174-documentos_page152.png', 'Makro Invoices/Makro Invoices/New/document_98_document_22119_174-documentos_page153.png', 'Makro Invoices/Makro Invoices/New/document_98_document_22119_174-documentos_page154.png', 'Makro Invoices/Makro Invoices/New/document_98_document_22119_174-documentos_page155.png', 'Makro Invoices/Makro Invoices/New/document_98_document_22119_174-documentos_page156.png', 'Makro Invoices/Makro Invoices/New/document_98_document_22119_174-documentos_page157.png', 'Makro Invoices/Makro Invoices/New/document_98_document_22119_174-documentos_page158.png', 'Makro Invoices/Makro Invoices/New/document_98_document_22119_174-documentos_page159.png', 'Makro Invoices/Makro Invoices/New/document_98_document_22119_174-documentos_page160.png', 'Makro Invoices/Makro Invoices/New/document_98_document_22119_174-documentos_page161.png', 'Makro Invoices/Makro Invoices/New/document_98_document_22119_174-documentos_page162.png', 'Makro Invoices/Makro Invoices/New/document_98_document_22119_174-documentos_page163.png', 'Makro Invoices/Makro Invoices/New/document_98_document_22119_174-documentos_page164.png', 'Makro Invoices/Makro Invoices/New/document_98_document_22119_174-documentos_page165.png', 'Makro Invoices/Makro Invoices/New/document_98_document_22119_174-documentos_page166.png', 'Makro Invoices/Makro Invoices/New/document_98_document_22119_174-documentos_page167.png', 'Makro Invoices/Makro Invoices/New/document_98_document_22119_174-documentos_page168.png', 'Makro Invoices/Makro Invoices/New/document_98_document_22119_174-documentos_page169.png', 'Makro Invoices/Makro Invoices/New/document_98_document_22119_174-documentos_page170.png', 'Makro Invoices/Makro Invoices/New/document_98_document_22119_174-documentos_page171.png', 'Makro Invoices/Makro Invoices/New/document_98_document_22119_174-documentos_page172.png', 'Makro Invoices/Makro Invoices/New/document_98_document_22119_174-documentos_page173.png', 'Makro Invoices/Makro Invoices/New/document_98_document_22119_174-documentos_page174.png']\n",
      "###################################################################\n"
     ]
    },
    {
     "data": {
      "text/plain": [
       "['Makro Invoices/Makro Invoices/New/document_98_document_22119_174-documentos_page1.png',\n",
       " 'Makro Invoices/Makro Invoices/New/document_98_document_22119_174-documentos_page2.png',\n",
       " 'Makro Invoices/Makro Invoices/New/document_98_document_22119_174-documentos_page3.png',\n",
       " 'Makro Invoices/Makro Invoices/New/document_98_document_22119_174-documentos_page4.png',\n",
       " 'Makro Invoices/Makro Invoices/New/document_98_document_22119_174-documentos_page5.png',\n",
       " 'Makro Invoices/Makro Invoices/New/document_98_document_22119_174-documentos_page6.png',\n",
       " 'Makro Invoices/Makro Invoices/New/document_98_document_22119_174-documentos_page7.png',\n",
       " 'Makro Invoices/Makro Invoices/New/document_98_document_22119_174-documentos_page8.png',\n",
       " 'Makro Invoices/Makro Invoices/New/document_98_document_22119_174-documentos_page9.png',\n",
       " 'Makro Invoices/Makro Invoices/New/document_98_document_22119_174-documentos_page10.png',\n",
       " 'Makro Invoices/Makro Invoices/New/document_98_document_22119_174-documentos_page11.png',\n",
       " 'Makro Invoices/Makro Invoices/New/document_98_document_22119_174-documentos_page12.png',\n",
       " 'Makro Invoices/Makro Invoices/New/document_98_document_22119_174-documentos_page13.png',\n",
       " 'Makro Invoices/Makro Invoices/New/document_98_document_22119_174-documentos_page14.png',\n",
       " 'Makro Invoices/Makro Invoices/New/document_98_document_22119_174-documentos_page15.png',\n",
       " 'Makro Invoices/Makro Invoices/New/document_98_document_22119_174-documentos_page16.png',\n",
       " 'Makro Invoices/Makro Invoices/New/document_98_document_22119_174-documentos_page17.png',\n",
       " 'Makro Invoices/Makro Invoices/New/document_98_document_22119_174-documentos_page18.png',\n",
       " 'Makro Invoices/Makro Invoices/New/document_98_document_22119_174-documentos_page19.png',\n",
       " 'Makro Invoices/Makro Invoices/New/document_98_document_22119_174-documentos_page20.png',\n",
       " 'Makro Invoices/Makro Invoices/New/document_98_document_22119_174-documentos_page21.png',\n",
       " 'Makro Invoices/Makro Invoices/New/document_98_document_22119_174-documentos_page22.png',\n",
       " 'Makro Invoices/Makro Invoices/New/document_98_document_22119_174-documentos_page23.png',\n",
       " 'Makro Invoices/Makro Invoices/New/document_98_document_22119_174-documentos_page24.png',\n",
       " 'Makro Invoices/Makro Invoices/New/document_98_document_22119_174-documentos_page25.png',\n",
       " 'Makro Invoices/Makro Invoices/New/document_98_document_22119_174-documentos_page26.png',\n",
       " 'Makro Invoices/Makro Invoices/New/document_98_document_22119_174-documentos_page27.png',\n",
       " 'Makro Invoices/Makro Invoices/New/document_98_document_22119_174-documentos_page28.png',\n",
       " 'Makro Invoices/Makro Invoices/New/document_98_document_22119_174-documentos_page29.png',\n",
       " 'Makro Invoices/Makro Invoices/New/document_98_document_22119_174-documentos_page30.png',\n",
       " 'Makro Invoices/Makro Invoices/New/document_98_document_22119_174-documentos_page31.png',\n",
       " 'Makro Invoices/Makro Invoices/New/document_98_document_22119_174-documentos_page32.png',\n",
       " 'Makro Invoices/Makro Invoices/New/document_98_document_22119_174-documentos_page33.png',\n",
       " 'Makro Invoices/Makro Invoices/New/document_98_document_22119_174-documentos_page34.png',\n",
       " 'Makro Invoices/Makro Invoices/New/document_98_document_22119_174-documentos_page35.png',\n",
       " 'Makro Invoices/Makro Invoices/New/document_98_document_22119_174-documentos_page36.png',\n",
       " 'Makro Invoices/Makro Invoices/New/document_98_document_22119_174-documentos_page37.png',\n",
       " 'Makro Invoices/Makro Invoices/New/document_98_document_22119_174-documentos_page38.png',\n",
       " 'Makro Invoices/Makro Invoices/New/document_98_document_22119_174-documentos_page39.png',\n",
       " 'Makro Invoices/Makro Invoices/New/document_98_document_22119_174-documentos_page40.png',\n",
       " 'Makro Invoices/Makro Invoices/New/document_98_document_22119_174-documentos_page41.png',\n",
       " 'Makro Invoices/Makro Invoices/New/document_98_document_22119_174-documentos_page42.png',\n",
       " 'Makro Invoices/Makro Invoices/New/document_98_document_22119_174-documentos_page43.png',\n",
       " 'Makro Invoices/Makro Invoices/New/document_98_document_22119_174-documentos_page44.png',\n",
       " 'Makro Invoices/Makro Invoices/New/document_98_document_22119_174-documentos_page45.png',\n",
       " 'Makro Invoices/Makro Invoices/New/document_98_document_22119_174-documentos_page46.png',\n",
       " 'Makro Invoices/Makro Invoices/New/document_98_document_22119_174-documentos_page47.png',\n",
       " 'Makro Invoices/Makro Invoices/New/document_98_document_22119_174-documentos_page48.png',\n",
       " 'Makro Invoices/Makro Invoices/New/document_98_document_22119_174-documentos_page49.png',\n",
       " 'Makro Invoices/Makro Invoices/New/document_98_document_22119_174-documentos_page50.png',\n",
       " 'Makro Invoices/Makro Invoices/New/document_98_document_22119_174-documentos_page51.png',\n",
       " 'Makro Invoices/Makro Invoices/New/document_98_document_22119_174-documentos_page52.png',\n",
       " 'Makro Invoices/Makro Invoices/New/document_98_document_22119_174-documentos_page53.png',\n",
       " 'Makro Invoices/Makro Invoices/New/document_98_document_22119_174-documentos_page54.png',\n",
       " 'Makro Invoices/Makro Invoices/New/document_98_document_22119_174-documentos_page55.png',\n",
       " 'Makro Invoices/Makro Invoices/New/document_98_document_22119_174-documentos_page56.png',\n",
       " 'Makro Invoices/Makro Invoices/New/document_98_document_22119_174-documentos_page57.png',\n",
       " 'Makro Invoices/Makro Invoices/New/document_98_document_22119_174-documentos_page58.png',\n",
       " 'Makro Invoices/Makro Invoices/New/document_98_document_22119_174-documentos_page59.png',\n",
       " 'Makro Invoices/Makro Invoices/New/document_98_document_22119_174-documentos_page60.png',\n",
       " 'Makro Invoices/Makro Invoices/New/document_98_document_22119_174-documentos_page61.png',\n",
       " 'Makro Invoices/Makro Invoices/New/document_98_document_22119_174-documentos_page62.png',\n",
       " 'Makro Invoices/Makro Invoices/New/document_98_document_22119_174-documentos_page63.png',\n",
       " 'Makro Invoices/Makro Invoices/New/document_98_document_22119_174-documentos_page64.png',\n",
       " 'Makro Invoices/Makro Invoices/New/document_98_document_22119_174-documentos_page65.png',\n",
       " 'Makro Invoices/Makro Invoices/New/document_98_document_22119_174-documentos_page66.png',\n",
       " 'Makro Invoices/Makro Invoices/New/document_98_document_22119_174-documentos_page67.png',\n",
       " 'Makro Invoices/Makro Invoices/New/document_98_document_22119_174-documentos_page68.png',\n",
       " 'Makro Invoices/Makro Invoices/New/document_98_document_22119_174-documentos_page69.png',\n",
       " 'Makro Invoices/Makro Invoices/New/document_98_document_22119_174-documentos_page70.png',\n",
       " 'Makro Invoices/Makro Invoices/New/document_98_document_22119_174-documentos_page71.png',\n",
       " 'Makro Invoices/Makro Invoices/New/document_98_document_22119_174-documentos_page72.png',\n",
       " 'Makro Invoices/Makro Invoices/New/document_98_document_22119_174-documentos_page73.png',\n",
       " 'Makro Invoices/Makro Invoices/New/document_98_document_22119_174-documentos_page74.png',\n",
       " 'Makro Invoices/Makro Invoices/New/document_98_document_22119_174-documentos_page75.png',\n",
       " 'Makro Invoices/Makro Invoices/New/document_98_document_22119_174-documentos_page76.png',\n",
       " 'Makro Invoices/Makro Invoices/New/document_98_document_22119_174-documentos_page77.png',\n",
       " 'Makro Invoices/Makro Invoices/New/document_98_document_22119_174-documentos_page78.png',\n",
       " 'Makro Invoices/Makro Invoices/New/document_98_document_22119_174-documentos_page79.png',\n",
       " 'Makro Invoices/Makro Invoices/New/document_98_document_22119_174-documentos_page80.png',\n",
       " 'Makro Invoices/Makro Invoices/New/document_98_document_22119_174-documentos_page81.png',\n",
       " 'Makro Invoices/Makro Invoices/New/document_98_document_22119_174-documentos_page82.png',\n",
       " 'Makro Invoices/Makro Invoices/New/document_98_document_22119_174-documentos_page83.png',\n",
       " 'Makro Invoices/Makro Invoices/New/document_98_document_22119_174-documentos_page84.png',\n",
       " 'Makro Invoices/Makro Invoices/New/document_98_document_22119_174-documentos_page85.png',\n",
       " 'Makro Invoices/Makro Invoices/New/document_98_document_22119_174-documentos_page86.png',\n",
       " 'Makro Invoices/Makro Invoices/New/document_98_document_22119_174-documentos_page87.png',\n",
       " 'Makro Invoices/Makro Invoices/New/document_98_document_22119_174-documentos_page88.png',\n",
       " 'Makro Invoices/Makro Invoices/New/document_98_document_22119_174-documentos_page89.png',\n",
       " 'Makro Invoices/Makro Invoices/New/document_98_document_22119_174-documentos_page90.png',\n",
       " 'Makro Invoices/Makro Invoices/New/document_98_document_22119_174-documentos_page91.png',\n",
       " 'Makro Invoices/Makro Invoices/New/document_98_document_22119_174-documentos_page92.png',\n",
       " 'Makro Invoices/Makro Invoices/New/document_98_document_22119_174-documentos_page93.png',\n",
       " 'Makro Invoices/Makro Invoices/New/document_98_document_22119_174-documentos_page94.png',\n",
       " 'Makro Invoices/Makro Invoices/New/document_98_document_22119_174-documentos_page95.png',\n",
       " 'Makro Invoices/Makro Invoices/New/document_98_document_22119_174-documentos_page96.png',\n",
       " 'Makro Invoices/Makro Invoices/New/document_98_document_22119_174-documentos_page97.png',\n",
       " 'Makro Invoices/Makro Invoices/New/document_98_document_22119_174-documentos_page98.png',\n",
       " 'Makro Invoices/Makro Invoices/New/document_98_document_22119_174-documentos_page99.png',\n",
       " 'Makro Invoices/Makro Invoices/New/document_98_document_22119_174-documentos_page100.png',\n",
       " 'Makro Invoices/Makro Invoices/New/document_98_document_22119_174-documentos_page101.png',\n",
       " 'Makro Invoices/Makro Invoices/New/document_98_document_22119_174-documentos_page102.png',\n",
       " 'Makro Invoices/Makro Invoices/New/document_98_document_22119_174-documentos_page103.png',\n",
       " 'Makro Invoices/Makro Invoices/New/document_98_document_22119_174-documentos_page104.png',\n",
       " 'Makro Invoices/Makro Invoices/New/document_98_document_22119_174-documentos_page105.png',\n",
       " 'Makro Invoices/Makro Invoices/New/document_98_document_22119_174-documentos_page106.png',\n",
       " 'Makro Invoices/Makro Invoices/New/document_98_document_22119_174-documentos_page107.png',\n",
       " 'Makro Invoices/Makro Invoices/New/document_98_document_22119_174-documentos_page108.png',\n",
       " 'Makro Invoices/Makro Invoices/New/document_98_document_22119_174-documentos_page109.png',\n",
       " 'Makro Invoices/Makro Invoices/New/document_98_document_22119_174-documentos_page110.png',\n",
       " 'Makro Invoices/Makro Invoices/New/document_98_document_22119_174-documentos_page111.png',\n",
       " 'Makro Invoices/Makro Invoices/New/document_98_document_22119_174-documentos_page112.png',\n",
       " 'Makro Invoices/Makro Invoices/New/document_98_document_22119_174-documentos_page113.png',\n",
       " 'Makro Invoices/Makro Invoices/New/document_98_document_22119_174-documentos_page114.png',\n",
       " 'Makro Invoices/Makro Invoices/New/document_98_document_22119_174-documentos_page115.png',\n",
       " 'Makro Invoices/Makro Invoices/New/document_98_document_22119_174-documentos_page116.png',\n",
       " 'Makro Invoices/Makro Invoices/New/document_98_document_22119_174-documentos_page117.png',\n",
       " 'Makro Invoices/Makro Invoices/New/document_98_document_22119_174-documentos_page118.png',\n",
       " 'Makro Invoices/Makro Invoices/New/document_98_document_22119_174-documentos_page119.png',\n",
       " 'Makro Invoices/Makro Invoices/New/document_98_document_22119_174-documentos_page120.png',\n",
       " 'Makro Invoices/Makro Invoices/New/document_98_document_22119_174-documentos_page121.png',\n",
       " 'Makro Invoices/Makro Invoices/New/document_98_document_22119_174-documentos_page122.png',\n",
       " 'Makro Invoices/Makro Invoices/New/document_98_document_22119_174-documentos_page123.png',\n",
       " 'Makro Invoices/Makro Invoices/New/document_98_document_22119_174-documentos_page124.png',\n",
       " 'Makro Invoices/Makro Invoices/New/document_98_document_22119_174-documentos_page125.png',\n",
       " 'Makro Invoices/Makro Invoices/New/document_98_document_22119_174-documentos_page126.png',\n",
       " 'Makro Invoices/Makro Invoices/New/document_98_document_22119_174-documentos_page127.png',\n",
       " 'Makro Invoices/Makro Invoices/New/document_98_document_22119_174-documentos_page128.png',\n",
       " 'Makro Invoices/Makro Invoices/New/document_98_document_22119_174-documentos_page129.png',\n",
       " 'Makro Invoices/Makro Invoices/New/document_98_document_22119_174-documentos_page130.png',\n",
       " 'Makro Invoices/Makro Invoices/New/document_98_document_22119_174-documentos_page131.png',\n",
       " 'Makro Invoices/Makro Invoices/New/document_98_document_22119_174-documentos_page132.png',\n",
       " 'Makro Invoices/Makro Invoices/New/document_98_document_22119_174-documentos_page133.png',\n",
       " 'Makro Invoices/Makro Invoices/New/document_98_document_22119_174-documentos_page134.png',\n",
       " 'Makro Invoices/Makro Invoices/New/document_98_document_22119_174-documentos_page135.png',\n",
       " 'Makro Invoices/Makro Invoices/New/document_98_document_22119_174-documentos_page136.png',\n",
       " 'Makro Invoices/Makro Invoices/New/document_98_document_22119_174-documentos_page137.png',\n",
       " 'Makro Invoices/Makro Invoices/New/document_98_document_22119_174-documentos_page138.png',\n",
       " 'Makro Invoices/Makro Invoices/New/document_98_document_22119_174-documentos_page139.png',\n",
       " 'Makro Invoices/Makro Invoices/New/document_98_document_22119_174-documentos_page140.png',\n",
       " 'Makro Invoices/Makro Invoices/New/document_98_document_22119_174-documentos_page141.png',\n",
       " 'Makro Invoices/Makro Invoices/New/document_98_document_22119_174-documentos_page142.png',\n",
       " 'Makro Invoices/Makro Invoices/New/document_98_document_22119_174-documentos_page143.png',\n",
       " 'Makro Invoices/Makro Invoices/New/document_98_document_22119_174-documentos_page144.png',\n",
       " 'Makro Invoices/Makro Invoices/New/document_98_document_22119_174-documentos_page145.png',\n",
       " 'Makro Invoices/Makro Invoices/New/document_98_document_22119_174-documentos_page146.png',\n",
       " 'Makro Invoices/Makro Invoices/New/document_98_document_22119_174-documentos_page147.png',\n",
       " 'Makro Invoices/Makro Invoices/New/document_98_document_22119_174-documentos_page148.png',\n",
       " 'Makro Invoices/Makro Invoices/New/document_98_document_22119_174-documentos_page149.png',\n",
       " 'Makro Invoices/Makro Invoices/New/document_98_document_22119_174-documentos_page150.png',\n",
       " 'Makro Invoices/Makro Invoices/New/document_98_document_22119_174-documentos_page151.png',\n",
       " 'Makro Invoices/Makro Invoices/New/document_98_document_22119_174-documentos_page152.png',\n",
       " 'Makro Invoices/Makro Invoices/New/document_98_document_22119_174-documentos_page153.png',\n",
       " 'Makro Invoices/Makro Invoices/New/document_98_document_22119_174-documentos_page154.png',\n",
       " 'Makro Invoices/Makro Invoices/New/document_98_document_22119_174-documentos_page155.png',\n",
       " 'Makro Invoices/Makro Invoices/New/document_98_document_22119_174-documentos_page156.png',\n",
       " 'Makro Invoices/Makro Invoices/New/document_98_document_22119_174-documentos_page157.png',\n",
       " 'Makro Invoices/Makro Invoices/New/document_98_document_22119_174-documentos_page158.png',\n",
       " 'Makro Invoices/Makro Invoices/New/document_98_document_22119_174-documentos_page159.png',\n",
       " 'Makro Invoices/Makro Invoices/New/document_98_document_22119_174-documentos_page160.png',\n",
       " 'Makro Invoices/Makro Invoices/New/document_98_document_22119_174-documentos_page161.png',\n",
       " 'Makro Invoices/Makro Invoices/New/document_98_document_22119_174-documentos_page162.png',\n",
       " 'Makro Invoices/Makro Invoices/New/document_98_document_22119_174-documentos_page163.png',\n",
       " 'Makro Invoices/Makro Invoices/New/document_98_document_22119_174-documentos_page164.png',\n",
       " 'Makro Invoices/Makro Invoices/New/document_98_document_22119_174-documentos_page165.png',\n",
       " 'Makro Invoices/Makro Invoices/New/document_98_document_22119_174-documentos_page166.png',\n",
       " 'Makro Invoices/Makro Invoices/New/document_98_document_22119_174-documentos_page167.png',\n",
       " 'Makro Invoices/Makro Invoices/New/document_98_document_22119_174-documentos_page168.png',\n",
       " 'Makro Invoices/Makro Invoices/New/document_98_document_22119_174-documentos_page169.png',\n",
       " 'Makro Invoices/Makro Invoices/New/document_98_document_22119_174-documentos_page170.png',\n",
       " 'Makro Invoices/Makro Invoices/New/document_98_document_22119_174-documentos_page171.png',\n",
       " 'Makro Invoices/Makro Invoices/New/document_98_document_22119_174-documentos_page172.png',\n",
       " 'Makro Invoices/Makro Invoices/New/document_98_document_22119_174-documentos_page173.png',\n",
       " 'Makro Invoices/Makro Invoices/New/document_98_document_22119_174-documentos_page174.png']"
      ]
     },
     "execution_count": 3,
     "metadata": {},
     "output_type": "execute_result"
    }
   ],
   "source": [
    "convert_pdf2img('Makro Invoices/Makro Invoices/Server_Invoice/document_98_document_22119_174-documentos.pdf')"
   ]
  },
  {
   "cell_type": "code",
   "execution_count": 3,
   "id": "01cb546e",
   "metadata": {},
   "outputs": [],
   "source": [
    "pytesseract.pytesseract.tesseract_cmd = r\"C:\\Program Files\\Tesseract-OCR\\tesseract.exe\""
   ]
  },
  {
   "cell_type": "code",
   "execution_count": 6,
   "id": "84b38766",
   "metadata": {},
   "outputs": [],
   "source": [
    "formats = pd.read_excel('invoice_formats.xlsx')\n",
    "final = pd.read_excel('Extracted_Data.xlsx')"
   ]
  },
  {
   "cell_type": "code",
   "execution_count": 384,
   "id": "90832141",
   "metadata": {},
   "outputs": [],
   "source": [
    "Ima = \"Makro Invoices/Makro Invoices/New/document_98_document_22119_174-documentos_page52.png\""
   ]
  },
  {
   "cell_type": "code",
   "execution_count": 385,
   "id": "b159bef4",
   "metadata": {},
   "outputs": [],
   "source": [
    "def find_amounts(text):\n",
    "    amounts = re.findall(r'\\d+\\.\\d{2}\\b', text)\n",
    "    floats = [float(amount) for amount in amounts]\n",
    "    unique = list(dict.fromkeys(floats))\n",
    "    if len(unique)==0:\n",
    "        return 0\n",
    "    else:\n",
    "        return max(unique)"
   ]
  },
  {
   "cell_type": "code",
   "execution_count": 386,
   "id": "4a19f044",
   "metadata": {},
   "outputs": [
    {
     "name": "stdout",
     "output_type": "stream",
     "text": [
      "<class 'list'>\n",
      "['B65258568']\n",
      "Wall time: 11.3 s\n"
     ]
    }
   ],
   "source": [
    "%%time\n",
    "dat = {\n",
    "    \"Vat Number\":'',\n",
    "       \"Total\":0,\n",
    "       \"Date\":'',\n",
    "       \"Document_Type\":\"\",\n",
    "      \"Invoice_Number\":''}\n",
    "img  = cv2.imread(Ima, cv2.COLOR_RGB2GRAY)\n",
    "text=(pytesseract.image_to_string(img))\n",
    "text_list = text.split(\"\\n\")\n",
    "vat = []\n",
    "date = []\n",
    "tot = []\n",
    "doc_type = []\n",
    "print(type(text_list))\n",
    "dat['Total']=find_amounts(text.replace(',','.'))\n",
    "for idx, a in enumerate(text_list):\n",
    "    if(a.strip() != \"\"):\n",
    "        \n",
    "\n",
    "        a = a.replace(',','.')\n",
    "        if (re.search(\"[A-Z]{1}-[0-9]{8}\",a)):\n",
    "            b = re.findall(\"[A-Z]{1}-[0-9]{8}\",a)\n",
    "            dat[\"Vat Number\"] = b[0]\n",
    "            vat.append(b[0].replace('-',''))\n",
    "            print(b)\n",
    "            \n",
    "        elif (re.search(\"[A-Z]{1}[0-9]{8}\",a)):\n",
    "            b = re.findall(\"[A-Z]{1}[0-9]{8}\",a)\n",
    "            dat[\"Vat Number\"] = b[0]\n",
    "            vat.append(b[0].replace('-',''))\n",
    "            print(b)\n",
    "            \n",
    "        elif (re.search(\"[0-9]{8}-[A-Z]{1}\",a)):\n",
    "            b = re.findall(\"[0-9]{8}-[A-Z]{1}\",a)\n",
    "            dat[\"Vat Number\"] = b[0]\n",
    "            vat.append(b[0].replace('-',''))\n",
    "        elif (re.search(\"[0-9]{8}[A-Z]{1}\",a)):\n",
    "            b = re.findall(\"[0-9]{8}[A-Z]{1}\",a)\n",
    "            dat[\"Vat Number\"] = b[0]\n",
    "            vat.append(b[0])\n",
    "    \n",
    "        elif (re.search(\"[A-Z]{1}-[0-9]{8}\",a)):\n",
    "            b = re.findall(\"[A-Z]{1}-[0-9]{8}\",a)\n",
    "            dat[\"Vat Number\"] = b[0]\n",
    "            vat.append(b[0].replace('-',''))\n",
    "\n",
    "        elif (re.search(\"[A-Z]{1}[0-9]{8}\",a)):\n",
    "            b = re.findall(\"[A-Z]{1}[0-9]{8}\",a)\n",
    "            dat[\"Vat Number\"] = b[0]\n",
    "            vat.append(b[0])\n",
    "            \n",
    "        elif (re.search(\"[A-Z]{1}[0-9]{2}/[0-9]{6}\",a)):\n",
    "            b = re.findall(\"[A-Z]{1}[0-9]{2}/[0-9]{6}\",a)\n",
    "            dat[\"Vat Number\"] = b[0]\n",
    "            vat.append(b[0].replace('/',''))\n",
    "            \n",
    "        elif (re.search(\"[A-Z]{1}-[0-9]{2}.[0-9]{3}.[0-9]{3}\",a)):\n",
    "            b = re.findall(\"[A-Z]{1}-[0-9]{2}.[0-9]{3}.[0-9]{3}\",a)\n",
    "            di = b[0].replace('-','')\n",
    "            dit = di.replace(',','')\n",
    "            dat[\"Vat Number\"] = dit.replace('.','')\n",
    "        elif (re.search(\"[A-Z]{1}-[0-9]{2}/[0-9]{6}\",a)):\n",
    "            b = re.findall(\"[A-Z]{1}-[0-9]{2}/[0-9]{6}\",a)\n",
    "            di = b[0].replace('-','')\n",
    "            dit = di.replace(',','')\n",
    "            dat[\"Vat Number\"] = dit.replace('/','')\n",
    "\n",
    "        if len(vat)>1:\n",
    "            dat[\"Vat Number\"] = vat[0]\n",
    "        else:\n",
    "            pass\n",
    "        \n",
    "        if \"ALBARAN\" in a or \"Albaran\" in a:\n",
    "            dat[\"Document_Type\"] = \"Albaran\"\n",
    "            doc_type.append(\"Albaran\")\n",
    "        elif \"Factura\" in a or \"FACTURA\" in a  or \"factura\" in a :\n",
    "            dat[\"Document_Type\"] = \"Factura\"\n",
    "            doc_type.append(\"Factura\")\n",
    "        if len(doc_type)>1:\n",
    "            dat[\"Document_Type\"] = doc_type[0]\n",
    "        \n",
    "         #Date section           \n",
    "        if (re.search(\"\\d{2}/\\d{2}/\\d{4}\",a)):\n",
    "            b  = re.findall(\"\\d{2}/\\d{2}/\\d{4}\", a)\n",
    "            dat[\"Date\"] = b[0].replace('/','-')\n",
    "            date.append(b[0].replace('/','-'))\n",
    "        elif (re.search(\"\\d{2}-\\d{2}-\\d{4}\",a)):\n",
    "            b = re.findall(\"\\d{2}-\\d{2}-\\d{4}\",a)\n",
    "            dat[\"Date\"] = b[0].replace('/','-')\n",
    "            date.append(b[0].replace('/','-'))\n",
    "        elif (re.search(\"\\d{2}/\\d{2}/\\d{2}\",a)):\n",
    "            b = re.findall(\"\\d{2}/\\d{2}/\\d{2}\",a)\n",
    "            dat[\"Date\"] = b[0].replace('/','-')\n",
    "            date.append(b[0].replace('/','-'))\n",
    "        elif (re.search(\"\\d{1}/\\d{2}/\\d{2}\",a)):\n",
    "            b = re.findall(\"\\d{1}/\\d{2}/\\d{2}\",a)\n",
    "            dat[\"Date\"] = b[0].replace('/','-')\n",
    "            date.append(b[0].replace('/','-'))\n",
    "        \n",
    "        elif (re.search(\"[0-9]{2}\\.[0-9]{2}\\.[0-9]{4}\",a)):\n",
    "            b = re.findall(\"[0-9]{2}\\.[0-9]{2}\\.[0-9]{4}\",a)\n",
    "            dat[\"Date\"] = b[0].replace('.','-')\n",
    "            date.append(b[0].replace('.','-'))\n",
    "    \n",
    "        if len(date)>1:\n",
    "            dat[\"Date\"] = date[0].replace('/','-')\n",
    "\n",
    "    \n",
    "    \n",
    "       \n",
    "        \n",
    "        "
   ]
  },
  {
   "cell_type": "code",
   "execution_count": 387,
   "id": "194c3176",
   "metadata": {},
   "outputs": [
    {
     "data": {
      "text/plain": [
       "{'Vat Number': 'B65258568',\n",
       " 'Total': 259.27,\n",
       " 'Date': '07-06-2022',\n",
       " 'Document_Type': 'Albaran',\n",
       " 'Invoice_Number': ''}"
      ]
     },
     "execution_count": 387,
     "metadata": {},
     "output_type": "execute_result"
    }
   ],
   "source": [
    "dat"
   ]
  },
  {
   "cell_type": "code",
   "execution_count": 388,
   "id": "0b9f1b10",
   "metadata": {},
   "outputs": [
    {
     "name": "stdout",
     "output_type": "stream",
     "text": [
      "07-06-\n"
     ]
    }
   ],
   "source": [
    "print(dat['Date'][0:6])"
   ]
  },
  {
   "cell_type": "code",
   "execution_count": 389,
   "id": "0a61c863",
   "metadata": {},
   "outputs": [],
   "source": [
    "dat\n",
    "if len(dat['Date'])==10:\n",
    "    pass\n",
    "elif len(dat['Date'])==8:\n",
    "    dat['Date'] = dat['Date'][0:6]+'20'+dat['Date'][6:]"
   ]
  },
  {
   "cell_type": "code",
   "execution_count": 390,
   "id": "3a462973",
   "metadata": {},
   "outputs": [
    {
     "data": {
      "text/plain": [
       "{'Vat Number': 'B65258568',\n",
       " 'Total': 259.27,\n",
       " 'Date': '07-06-2022',\n",
       " 'Document_Type': 'Albaran',\n",
       " 'Invoice_Number': ''}"
      ]
     },
     "execution_count": 390,
     "metadata": {},
     "output_type": "execute_result"
    }
   ],
   "source": [
    "dat"
   ]
  },
  {
   "cell_type": "code",
   "execution_count": null,
   "id": "963aa73a",
   "metadata": {},
   "outputs": [],
   "source": []
  },
  {
   "cell_type": "code",
   "execution_count": 302,
   "id": "60e675e5",
   "metadata": {},
   "outputs": [
    {
     "name": "stdout",
     "output_type": "stream",
     "text": [
      "  Vat Number   Total        Date Document_Type Invoice_Number\n",
      "0  B65258568  188.53  02-06-2022       Albaran               \n"
     ]
    }
   ],
   "source": [
    "data  =  pd.DataFrame(dat,index=[0])\n",
    "data['Vat Number']= data['Vat Number'].str.replace(' ', '')\n",
    "print(data)"
   ]
  },
  {
   "cell_type": "code",
   "execution_count": 303,
   "id": "3211f2af",
   "metadata": {},
   "outputs": [
    {
     "name": "stderr",
     "output_type": "stream",
     "text": [
      "F:\\anaconda3\\envs\\python_3_7\\lib\\site-packages\\ipykernel_launcher.py:3: FutureWarning: The default value of regex will change from True to False in a future version. In addition, single character regular expressions will *not* be treated as literal strings when regex=True.\n",
      "  This is separate from the ipykernel package so we can avoid doing imports until\n",
      "\n"
     ]
    },
    {
     "data": {
      "text/html": [
       "<div>\n",
       "<style scoped>\n",
       "    .dataframe tbody tr th:only-of-type {\n",
       "        vertical-align: middle;\n",
       "    }\n",
       "\n",
       "    .dataframe tbody tr th {\n",
       "        vertical-align: top;\n",
       "    }\n",
       "\n",
       "    .dataframe thead th {\n",
       "        text-align: right;\n",
       "    }\n",
       "</style>\n",
       "<table border=\"1\" class=\"dataframe\">\n",
       "  <thead>\n",
       "    <tr style=\"text-align: right;\">\n",
       "      <th></th>\n",
       "      <th>Vat Number</th>\n",
       "      <th>Total</th>\n",
       "      <th>Date</th>\n",
       "      <th>Document_Type</th>\n",
       "      <th>Invoice_Number</th>\n",
       "    </tr>\n",
       "  </thead>\n",
       "  <tbody>\n",
       "    <tr>\n",
       "      <th>0</th>\n",
       "      <td>B65258568</td>\n",
       "      <td>188.53</td>\n",
       "      <td>02-06-2022</td>\n",
       "      <td>Albaran</td>\n",
       "      <td></td>\n",
       "    </tr>\n",
       "  </tbody>\n",
       "</table>\n",
       "</div>"
      ],
      "text/plain": [
       "  Vat Number   Total        Date Document_Type Invoice_Number\n",
       "0  B65258568  188.53  02-06-2022       Albaran               "
      ]
     },
     "execution_count": 303,
     "metadata": {},
     "output_type": "execute_result"
    }
   ],
   "source": [
    "data['Vat Number']= data['Vat Number'].str.replace('-', '')\n",
    "data['Vat Number']= data['Vat Number'].str.replace(',', '')\n",
    "data['Vat Number']= data['Vat Number'].str.replace('.', '')\n",
    "data['Vat Number']= data['Vat Number'].str.replace('/', '')\n",
    "data"
   ]
  },
  {
   "cell_type": "code",
   "execution_count": null,
   "id": "a87052f1",
   "metadata": {},
   "outputs": [],
   "source": []
  },
  {
   "cell_type": "code",
   "execution_count": 304,
   "id": "0f047807",
   "metadata": {},
   "outputs": [
    {
     "ename": "NameError",
     "evalue": "name 'formats' is not defined",
     "output_type": "error",
     "traceback": [
      "\u001b[1;31m---------------------------------------------------------------------------\u001b[0m",
      "\u001b[1;31mNameError\u001b[0m                                 Traceback (most recent call last)",
      "\u001b[1;32mC:\\Users\\EHTISH~1\\AppData\\Local\\Temp/ipykernel_101516/3041581354.py\u001b[0m in \u001b[0;36m<module>\u001b[1;34m\u001b[0m\n\u001b[1;32m----> 1\u001b[1;33m \u001b[0mformats\u001b[0m\u001b[1;33m[\u001b[0m\u001b[1;34m'last'\u001b[0m\u001b[1;33m]\u001b[0m\u001b[1;33m=\u001b[0m \u001b[1;33m(\u001b[0m\u001b[0mformats\u001b[0m\u001b[1;33m[\u001b[0m\u001b[1;34m'nif'\u001b[0m\u001b[1;33m]\u001b[0m\u001b[1;33m.\u001b[0m\u001b[0misin\u001b[0m\u001b[1;33m(\u001b[0m\u001b[0mdata\u001b[0m\u001b[1;33m[\u001b[0m\u001b[1;34m'Vat Number'\u001b[0m\u001b[1;33m]\u001b[0m\u001b[1;33m)\u001b[0m\u001b[1;33m)\u001b[0m\u001b[1;33m\u001b[0m\u001b[1;33m\u001b[0m\u001b[0m\n\u001b[0m",
      "\u001b[1;31mNameError\u001b[0m: name 'formats' is not defined"
     ]
    }
   ],
   "source": [
    "formats['last']= (formats['nif'].isin(data['Vat Number']))"
   ]
  },
  {
   "cell_type": "code",
   "execution_count": 14,
   "id": "c2b82863",
   "metadata": {},
   "outputs": [],
   "source": [
    "df2 = formats.query(\"last == True\")"
   ]
  },
  {
   "cell_type": "code",
   "execution_count": 15,
   "id": "1c12a9fa",
   "metadata": {},
   "outputs": [
    {
     "data": {
      "text/html": [
       "<div>\n",
       "<style scoped>\n",
       "    .dataframe tbody tr th:only-of-type {\n",
       "        vertical-align: middle;\n",
       "    }\n",
       "\n",
       "    .dataframe tbody tr th {\n",
       "        vertical-align: top;\n",
       "    }\n",
       "\n",
       "    .dataframe thead th {\n",
       "        text-align: right;\n",
       "    }\n",
       "</style>\n",
       "<table border=\"1\" class=\"dataframe\">\n",
       "  <thead>\n",
       "    <tr style=\"text-align: right;\">\n",
       "      <th></th>\n",
       "      <th>formato</th>\n",
       "      <th>nombre</th>\n",
       "      <th>nif</th>\n",
       "      <th>last</th>\n",
       "    </tr>\n",
       "  </thead>\n",
       "  <tbody>\n",
       "    <tr>\n",
       "      <th>8892</th>\n",
       "      <td>\\d\\d\\d\\d\\d\\d\\d</td>\n",
       "      <td>Isayca Tenerife SLU</td>\n",
       "      <td>B38988242</td>\n",
       "      <td>True</td>\n",
       "    </tr>\n",
       "    <tr>\n",
       "      <th>12519</th>\n",
       "      <td>\\d\\d\\d\\d\\d\\d\\d</td>\n",
       "      <td>Isayca Tenerife SLU</td>\n",
       "      <td>B38988242</td>\n",
       "      <td>True</td>\n",
       "    </tr>\n",
       "  </tbody>\n",
       "</table>\n",
       "</div>"
      ],
      "text/plain": [
       "              formato               nombre        nif  last\n",
       "8892   \\d\\d\\d\\d\\d\\d\\d  Isayca Tenerife SLU  B38988242  True\n",
       "12519  \\d\\d\\d\\d\\d\\d\\d  Isayca Tenerife SLU  B38988242  True"
      ]
     },
     "execution_count": 15,
     "metadata": {},
     "output_type": "execute_result"
    }
   ],
   "source": [
    "df2"
   ]
  },
  {
   "cell_type": "code",
   "execution_count": 16,
   "id": "a25f17fd",
   "metadata": {},
   "outputs": [],
   "source": [
    "inv = 0\n",
    "for i in df2['formato']:\n",
    "    inv = i\n",
    "if inv ==0:\n",
    "    pass\n",
    "else:\n",
    "    factura = re.compile(inv)\n",
    "    mo = factura.search(text)\n",
    "    if mo is None:\n",
    "        pass\n",
    "    else:\n",
    "        dat[\"Invoice_Number\"]=mo.group()"
   ]
  },
  {
   "cell_type": "code",
   "execution_count": 17,
   "id": "849fd0f7",
   "metadata": {},
   "outputs": [
    {
     "data": {
      "text/plain": [
       "{'Vat Number': 'B38988242',\n",
       " 'Total': '273.22',\n",
       " 'Date': '3-02-20',\n",
       " 'Document_Type': 'Factura',\n",
       " 'Invoice_Number': '1825768'}"
      ]
     },
     "execution_count": 17,
     "metadata": {},
     "output_type": "execute_result"
    }
   ],
   "source": [
    "dat"
   ]
  },
  {
   "cell_type": "code",
   "execution_count": 391,
   "id": "e39739c0",
   "metadata": {},
   "outputs": [],
   "source": [
    "im = Image.open(Ima)"
   ]
  },
  {
   "cell_type": "code",
   "execution_count": 392,
   "id": "01dedef9",
   "metadata": {},
   "outputs": [],
   "source": [
    "buffered = io.BytesIO()\n",
    "im.save(buffered, format='PNG')\n",
    "client = boto3.client('textract')\n",
    "response = client.analyze_document(\n",
    "    Document={'Bytes': buffered.getvalue()},\n",
    "    FeatureTypes=['TABLES']\n",
    ")"
   ]
  },
  {
   "cell_type": "code",
   "execution_count": 393,
   "id": "873050fb",
   "metadata": {},
   "outputs": [],
   "source": [
    "def map_blocks(blocks, block_type):\n",
    "    return {\n",
    "        block['Id']: block\n",
    "        for block in blocks\n",
    "        if block['BlockType'] == block_type\n",
    "    }\n",
    "\n",
    "blocks = response['Blocks']\n",
    "tables = map_blocks(blocks, 'TABLE')\n",
    "cells = map_blocks(blocks, 'CELL')\n",
    "words = map_blocks(blocks, 'WORD')\n",
    "selections = map_blocks(blocks, 'SELECTION_ELEMENT')\n",
    "\n",
    "def get_children_ids(block):\n",
    "    for rels in block.get('Relationships', []):\n",
    "        if rels['Type'] == 'CHILD':\n",
    "            yield from rels['Ids']\n",
    "            \n",
    "dataframes = []\n",
    "\n",
    "for table in tables.values():\n",
    "\n",
    "    # Determine all the cells that belong to this table\n",
    "    table_cells = [cells[cell_id] for cell_id in get_children_ids(table)]\n",
    "\n",
    "    # Determine the table's number of rows and columns\n",
    "    n_rows = max(cell['RowIndex'] for cell in table_cells)\n",
    "    n_cols = max(cell['ColumnIndex'] for cell in table_cells)\n",
    "    content = [[None for _ in range(n_cols)] for _ in range(n_rows)]\n",
    "\n",
    "    # Fill in each cell\n",
    "    for cell in table_cells:\n",
    "        cell_contents = [\n",
    "            words[child_id]['Text']\n",
    "            if child_id in words\n",
    "            else selections[child_id]['SelectionStatus']\n",
    "            for child_id in get_children_ids(cell)\n",
    "        ]\n",
    "        i = cell['RowIndex'] - 1\n",
    "        j = cell['ColumnIndex'] - 1\n",
    "        content[i][j] = ' '.join(cell_contents)\n",
    "\n",
    "    # We assume that the first row corresponds to the column names\n",
    "    dataframe = pd.DataFrame(content[1:], columns=content[0])\n",
    "    dataframes.append(dataframe)"
   ]
  },
  {
   "cell_type": "code",
   "execution_count": 394,
   "id": "a43a7cf8",
   "metadata": {},
   "outputs": [
    {
     "data": {
      "text/plain": [
       "5"
      ]
     },
     "execution_count": 394,
     "metadata": {},
     "output_type": "execute_result"
    }
   ],
   "source": [
    "len(dataframes)"
   ]
  },
  {
   "cell_type": "code",
   "execution_count": 395,
   "id": "a8d3cc67",
   "metadata": {},
   "outputs": [],
   "source": [
    "d = dataframes[0]"
   ]
  },
  {
   "cell_type": "code",
   "execution_count": 396,
   "id": "8c52594f",
   "metadata": {},
   "outputs": [
    {
     "data": {
      "text/html": [
       "<div>\n",
       "<style scoped>\n",
       "    .dataframe tbody tr th:only-of-type {\n",
       "        vertical-align: middle;\n",
       "    }\n",
       "\n",
       "    .dataframe tbody tr th {\n",
       "        vertical-align: top;\n",
       "    }\n",
       "\n",
       "    .dataframe thead th {\n",
       "        text-align: right;\n",
       "    }\n",
       "</style>\n",
       "<table border=\"1\" class=\"dataframe\">\n",
       "  <thead>\n",
       "    <tr style=\"text-align: right;\">\n",
       "      <th></th>\n",
       "      <th>NOTA ENTR.</th>\n",
       "      <th>4489576174</th>\n",
       "      <th>07.06.2022</th>\n",
       "      <th>CREDITO</th>\n",
       "      <th></th>\n",
       "      <th>06.08.2022</th>\n",
       "      <th>1/1</th>\n",
       "    </tr>\n",
       "  </thead>\n",
       "  <tbody>\n",
       "  </tbody>\n",
       "</table>\n",
       "</div>"
      ],
      "text/plain": [
       "Empty DataFrame\n",
       "Columns: [NOTA ENTR., 4489576174, 07.06.2022, CREDITO, , 06.08.2022, 1/1]\n",
       "Index: []"
      ]
     },
     "execution_count": 396,
     "metadata": {},
     "output_type": "execute_result"
    }
   ],
   "source": [
    "d"
   ]
  },
  {
   "cell_type": "code",
   "execution_count": 397,
   "id": "23d58216",
   "metadata": {},
   "outputs": [
    {
     "data": {
      "text/plain": [
       "Index(['NOTA ENTR.', '4489576174', '07.06.2022', 'CREDITO', '', '06.08.2022',\n",
       "       '1/1'],\n",
       "      dtype='object')"
      ]
     },
     "execution_count": 397,
     "metadata": {},
     "output_type": "execute_result"
    }
   ],
   "source": [
    "d.columns"
   ]
  },
  {
   "cell_type": "code",
   "execution_count": 398,
   "id": "91f12896",
   "metadata": {},
   "outputs": [
    {
     "name": "stdout",
     "output_type": "stream",
     "text": [
      "<class 'pandas.core.frame.DataFrame'>\n",
      "\n"
     ]
    }
   ],
   "source": [
    "merged_col = False\n",
    "print(type(d))\n",
    "for i in (d.columns):\n",
    "    if i == '':\n",
    "        print(i)\n",
    "\n",
    "        merged_col = True"
   ]
  },
  {
   "cell_type": "code",
   "execution_count": 399,
   "id": "8e37dd96",
   "metadata": {},
   "outputs": [],
   "source": [
    "a= d[d.iloc[:,1].str.contains(\"Lot\")==True]"
   ]
  },
  {
   "cell_type": "code",
   "execution_count": 400,
   "id": "093539f9",
   "metadata": {},
   "outputs": [
    {
     "data": {
      "text/html": [
       "<div>\n",
       "<style scoped>\n",
       "    .dataframe tbody tr th:only-of-type {\n",
       "        vertical-align: middle;\n",
       "    }\n",
       "\n",
       "    .dataframe tbody tr th {\n",
       "        vertical-align: top;\n",
       "    }\n",
       "\n",
       "    .dataframe thead th {\n",
       "        text-align: right;\n",
       "    }\n",
       "</style>\n",
       "<table border=\"1\" class=\"dataframe\">\n",
       "  <thead>\n",
       "    <tr style=\"text-align: right;\">\n",
       "      <th></th>\n",
       "      <th>NOTA ENTR.</th>\n",
       "      <th>4489576174</th>\n",
       "      <th>07.06.2022</th>\n",
       "      <th>CREDITO</th>\n",
       "      <th></th>\n",
       "      <th>06.08.2022</th>\n",
       "      <th>1/1</th>\n",
       "    </tr>\n",
       "  </thead>\n",
       "  <tbody>\n",
       "  </tbody>\n",
       "</table>\n",
       "</div>"
      ],
      "text/plain": [
       "Empty DataFrame\n",
       "Columns: [NOTA ENTR., 4489576174, 07.06.2022, CREDITO, , 06.08.2022, 1/1]\n",
       "Index: []"
      ]
     },
     "execution_count": 400,
     "metadata": {},
     "output_type": "execute_result"
    }
   ],
   "source": [
    "a"
   ]
  },
  {
   "cell_type": "code",
   "execution_count": 401,
   "id": "ebc93662",
   "metadata": {},
   "outputs": [],
   "source": [
    "for i in d.iloc[:,0]:\n",
    "    if 'Lote' in i:\n",
    "        print('yes')"
   ]
  },
  {
   "cell_type": "code",
   "execution_count": 402,
   "id": "48348501",
   "metadata": {},
   "outputs": [],
   "source": [
    "if \"Código Descripción\" in d.columns:\n",
    "    print('HI')"
   ]
  },
  {
   "cell_type": "code",
   "execution_count": 403,
   "id": "d6b8e830",
   "metadata": {},
   "outputs": [],
   "source": [
    "def get_desc(desc):\n",
    "    return desc.split(\" \")[0].strip(\" \")"
   ]
  },
  {
   "cell_type": "code",
   "execution_count": 404,
   "id": "a65e801d",
   "metadata": {},
   "outputs": [
    {
     "name": "stdout",
     "output_type": "stream",
     "text": [
      "hi\n"
     ]
    },
    {
     "ename": "KeyError",
     "evalue": "'Código'",
     "output_type": "error",
     "traceback": [
      "\u001b[1;31m---------------------------------------------------------------------------\u001b[0m",
      "\u001b[1;31mKeyError\u001b[0m                                  Traceback (most recent call last)",
      "\u001b[1;32mF:\\anaconda3\\envs\\python_3_7\\lib\\site-packages\\pandas\\core\\indexes\\base.py\u001b[0m in \u001b[0;36mget_loc\u001b[1;34m(self, key, method, tolerance)\u001b[0m\n\u001b[0;32m   3360\u001b[0m             \u001b[1;32mtry\u001b[0m\u001b[1;33m:\u001b[0m\u001b[1;33m\u001b[0m\u001b[1;33m\u001b[0m\u001b[0m\n\u001b[1;32m-> 3361\u001b[1;33m                 \u001b[1;32mreturn\u001b[0m \u001b[0mself\u001b[0m\u001b[1;33m.\u001b[0m\u001b[0m_engine\u001b[0m\u001b[1;33m.\u001b[0m\u001b[0mget_loc\u001b[0m\u001b[1;33m(\u001b[0m\u001b[0mcasted_key\u001b[0m\u001b[1;33m)\u001b[0m\u001b[1;33m\u001b[0m\u001b[1;33m\u001b[0m\u001b[0m\n\u001b[0m\u001b[0;32m   3362\u001b[0m             \u001b[1;32mexcept\u001b[0m \u001b[0mKeyError\u001b[0m \u001b[1;32mas\u001b[0m \u001b[0merr\u001b[0m\u001b[1;33m:\u001b[0m\u001b[1;33m\u001b[0m\u001b[1;33m\u001b[0m\u001b[0m\n",
      "\u001b[1;32mF:\\anaconda3\\envs\\python_3_7\\lib\\site-packages\\pandas\\_libs\\index.pyx\u001b[0m in \u001b[0;36mpandas._libs.index.IndexEngine.get_loc\u001b[1;34m()\u001b[0m\n",
      "\u001b[1;32mF:\\anaconda3\\envs\\python_3_7\\lib\\site-packages\\pandas\\_libs\\index.pyx\u001b[0m in \u001b[0;36mpandas._libs.index.IndexEngine.get_loc\u001b[1;34m()\u001b[0m\n",
      "\u001b[1;32mpandas\\_libs\\hashtable_class_helper.pxi\u001b[0m in \u001b[0;36mpandas._libs.hashtable.PyObjectHashTable.get_item\u001b[1;34m()\u001b[0m\n",
      "\u001b[1;32mpandas\\_libs\\hashtable_class_helper.pxi\u001b[0m in \u001b[0;36mpandas._libs.hashtable.PyObjectHashTable.get_item\u001b[1;34m()\u001b[0m\n",
      "\u001b[1;31mKeyError\u001b[0m: 'Código'",
      "\nThe above exception was the direct cause of the following exception:\n",
      "\u001b[1;31mKeyError\u001b[0m                                  Traceback (most recent call last)",
      "\u001b[1;32mC:\\Users\\EHTISH~1\\AppData\\Local\\Temp/ipykernel_101516/3726203794.py\u001b[0m in \u001b[0;36m<module>\u001b[1;34m\u001b[0m\n\u001b[0;32m     15\u001b[0m         \u001b[0md\u001b[0m\u001b[1;33m.\u001b[0m\u001b[0minsert\u001b[0m\u001b[1;33m(\u001b[0m\u001b[1;36m1\u001b[0m\u001b[1;33m,\u001b[0m\u001b[1;34m'DESCRIPCIÓN'\u001b[0m\u001b[1;33m,\u001b[0m\u001b[0msecond_column\u001b[0m\u001b[1;33m)\u001b[0m\u001b[1;33m\u001b[0m\u001b[1;33m\u001b[0m\u001b[0m\n\u001b[0;32m     16\u001b[0m     \u001b[1;32melse\u001b[0m\u001b[1;33m:\u001b[0m\u001b[1;33m\u001b[0m\u001b[1;33m\u001b[0m\u001b[0m\n\u001b[1;32m---> 17\u001b[1;33m         \u001b[0md\u001b[0m\u001b[1;33m[\u001b[0m\u001b[1;34m'Codigo'\u001b[0m\u001b[1;33m]\u001b[0m \u001b[1;33m=\u001b[0m \u001b[0md\u001b[0m\u001b[1;33m[\u001b[0m\u001b[1;34m\"Código\"\u001b[0m\u001b[1;33m]\u001b[0m\u001b[1;33m.\u001b[0m\u001b[0mapply\u001b[0m\u001b[1;33m(\u001b[0m\u001b[1;32mlambda\u001b[0m \u001b[0mx\u001b[0m\u001b[1;33m:\u001b[0m \u001b[1;34mf\"{get_desc(x)}\"\u001b[0m\u001b[1;33m)\u001b[0m\u001b[1;33m\u001b[0m\u001b[1;33m\u001b[0m\u001b[0m\n\u001b[0m\u001b[0;32m     18\u001b[0m         \u001b[0md\u001b[0m\u001b[1;33m[\u001b[0m\u001b[1;34m'Codigo'\u001b[0m\u001b[1;33m]\u001b[0m\u001b[1;33m=\u001b[0m \u001b[0md\u001b[0m\u001b[1;33m[\u001b[0m\u001b[1;34m'Codigo'\u001b[0m\u001b[1;33m]\u001b[0m\u001b[1;33m.\u001b[0m\u001b[0mstr\u001b[0m\u001b[1;33m.\u001b[0m\u001b[0mreplace\u001b[0m\u001b[1;33m(\u001b[0m\u001b[1;34m'/'\u001b[0m\u001b[1;33m,\u001b[0m \u001b[1;34m''\u001b[0m\u001b[1;33m)\u001b[0m\u001b[1;33m\u001b[0m\u001b[1;33m\u001b[0m\u001b[0m\n\u001b[0;32m     19\u001b[0m         \u001b[0md\u001b[0m\u001b[1;33m[\u001b[0m\u001b[1;34m'Codigo'\u001b[0m\u001b[1;33m]\u001b[0m\u001b[1;33m=\u001b[0m \u001b[0md\u001b[0m\u001b[1;33m[\u001b[0m\u001b[1;34m'Codigo'\u001b[0m\u001b[1;33m]\u001b[0m\u001b[1;33m.\u001b[0m\u001b[0mstr\u001b[0m\u001b[1;33m.\u001b[0m\u001b[0mreplace\u001b[0m\u001b[1;33m(\u001b[0m\u001b[1;34m':'\u001b[0m\u001b[1;33m,\u001b[0m \u001b[1;34m''\u001b[0m\u001b[1;33m)\u001b[0m\u001b[1;33m\u001b[0m\u001b[1;33m\u001b[0m\u001b[0m\n",
      "\u001b[1;32mF:\\anaconda3\\envs\\python_3_7\\lib\\site-packages\\pandas\\core\\frame.py\u001b[0m in \u001b[0;36m__getitem__\u001b[1;34m(self, key)\u001b[0m\n\u001b[0;32m   3456\u001b[0m             \u001b[1;32mif\u001b[0m \u001b[0mself\u001b[0m\u001b[1;33m.\u001b[0m\u001b[0mcolumns\u001b[0m\u001b[1;33m.\u001b[0m\u001b[0mnlevels\u001b[0m \u001b[1;33m>\u001b[0m \u001b[1;36m1\u001b[0m\u001b[1;33m:\u001b[0m\u001b[1;33m\u001b[0m\u001b[1;33m\u001b[0m\u001b[0m\n\u001b[0;32m   3457\u001b[0m                 \u001b[1;32mreturn\u001b[0m \u001b[0mself\u001b[0m\u001b[1;33m.\u001b[0m\u001b[0m_getitem_multilevel\u001b[0m\u001b[1;33m(\u001b[0m\u001b[0mkey\u001b[0m\u001b[1;33m)\u001b[0m\u001b[1;33m\u001b[0m\u001b[1;33m\u001b[0m\u001b[0m\n\u001b[1;32m-> 3458\u001b[1;33m             \u001b[0mindexer\u001b[0m \u001b[1;33m=\u001b[0m \u001b[0mself\u001b[0m\u001b[1;33m.\u001b[0m\u001b[0mcolumns\u001b[0m\u001b[1;33m.\u001b[0m\u001b[0mget_loc\u001b[0m\u001b[1;33m(\u001b[0m\u001b[0mkey\u001b[0m\u001b[1;33m)\u001b[0m\u001b[1;33m\u001b[0m\u001b[1;33m\u001b[0m\u001b[0m\n\u001b[0m\u001b[0;32m   3459\u001b[0m             \u001b[1;32mif\u001b[0m \u001b[0mis_integer\u001b[0m\u001b[1;33m(\u001b[0m\u001b[0mindexer\u001b[0m\u001b[1;33m)\u001b[0m\u001b[1;33m:\u001b[0m\u001b[1;33m\u001b[0m\u001b[1;33m\u001b[0m\u001b[0m\n\u001b[0;32m   3460\u001b[0m                 \u001b[0mindexer\u001b[0m \u001b[1;33m=\u001b[0m \u001b[1;33m[\u001b[0m\u001b[0mindexer\u001b[0m\u001b[1;33m]\u001b[0m\u001b[1;33m\u001b[0m\u001b[1;33m\u001b[0m\u001b[0m\n",
      "\u001b[1;32mF:\\anaconda3\\envs\\python_3_7\\lib\\site-packages\\pandas\\core\\indexes\\base.py\u001b[0m in \u001b[0;36mget_loc\u001b[1;34m(self, key, method, tolerance)\u001b[0m\n\u001b[0;32m   3361\u001b[0m                 \u001b[1;32mreturn\u001b[0m \u001b[0mself\u001b[0m\u001b[1;33m.\u001b[0m\u001b[0m_engine\u001b[0m\u001b[1;33m.\u001b[0m\u001b[0mget_loc\u001b[0m\u001b[1;33m(\u001b[0m\u001b[0mcasted_key\u001b[0m\u001b[1;33m)\u001b[0m\u001b[1;33m\u001b[0m\u001b[1;33m\u001b[0m\u001b[0m\n\u001b[0;32m   3362\u001b[0m             \u001b[1;32mexcept\u001b[0m \u001b[0mKeyError\u001b[0m \u001b[1;32mas\u001b[0m \u001b[0merr\u001b[0m\u001b[1;33m:\u001b[0m\u001b[1;33m\u001b[0m\u001b[1;33m\u001b[0m\u001b[0m\n\u001b[1;32m-> 3363\u001b[1;33m                 \u001b[1;32mraise\u001b[0m \u001b[0mKeyError\u001b[0m\u001b[1;33m(\u001b[0m\u001b[0mkey\u001b[0m\u001b[1;33m)\u001b[0m \u001b[1;32mfrom\u001b[0m \u001b[0merr\u001b[0m\u001b[1;33m\u001b[0m\u001b[1;33m\u001b[0m\u001b[0m\n\u001b[0m\u001b[0;32m   3364\u001b[0m \u001b[1;33m\u001b[0m\u001b[0m\n\u001b[0;32m   3365\u001b[0m         \u001b[1;32mif\u001b[0m \u001b[0mis_scalar\u001b[0m\u001b[1;33m(\u001b[0m\u001b[0mkey\u001b[0m\u001b[1;33m)\u001b[0m \u001b[1;32mand\u001b[0m \u001b[0misna\u001b[0m\u001b[1;33m(\u001b[0m\u001b[0mkey\u001b[0m\u001b[1;33m)\u001b[0m \u001b[1;32mand\u001b[0m \u001b[1;32mnot\u001b[0m \u001b[0mself\u001b[0m\u001b[1;33m.\u001b[0m\u001b[0mhasnans\u001b[0m\u001b[1;33m:\u001b[0m\u001b[1;33m\u001b[0m\u001b[1;33m\u001b[0m\u001b[0m\n",
      "\u001b[1;31mKeyError\u001b[0m: 'Código'"
     ]
    }
   ],
   "source": [
    "if merged_col:\n",
    "    print(\"hi\")\n",
    "    if \"Código Descripción\" in d.columns:\n",
    "        d['Codigo'] = d[\"Código Descripción\"].apply(lambda x: f\"{get_desc(x)}\")\n",
    "        d['Codigo']= d['Codigo'].str.replace('/', '')\n",
    "        d['Codigo']= d['Codigo'].str.replace(':', '')\n",
    "        d['Codigo']= d['Codigo'].str.replace('[A-Z]', '')\n",
    "        d['Codigo']= d['Codigo'].str.replace('[a-z]', '')\n",
    "        d['DESCRIPCIÓN']= d['Código Descripción'].str.replace('[0-9]', '')\n",
    "        d['DESCRIPCIÓN']= d['DESCRIPCIÓN']+' '+d.iloc[:,1]\n",
    "        d =d.drop(d.columns[[0, 1]],axis = 1) \n",
    "        first_column = d.pop('Codigo')\n",
    "        d.insert(0,'Codigo',first_column)\n",
    "        second_column = d.pop('DESCRIPCIÓN')\n",
    "        d.insert(1,'DESCRIPCIÓN',second_column)\n",
    "    else:\n",
    "        d['Codigo'] = d[\"Código\"].apply(lambda x: f\"{get_desc(x)}\")\n",
    "        d['Codigo']= d['Codigo'].str.replace('/', '')\n",
    "        d['Codigo']= d['Codigo'].str.replace(':', '')\n",
    "        d['Codigo']= d['Codigo'].str.replace('[A-Z]', '')\n",
    "        d['Codigo']= d['Codigo'].str.replace('[a-z]', '')\n",
    "        d['DESCRIPCIÓN']= d['Descripción'].str.replace('[0-9]', '')\n",
    "        d['DESCRIPCIÓN']= d['DESCRIPCIÓN']+' '+d.iloc[:,1]\n",
    "        d =d.drop(d.columns[[0, 1]],axis = 1) \n",
    "        first_column = d.pop('Codigo')\n",
    "        d.insert(0,'Codigo',first_column)\n",
    "        second_column = d.pop('DESCRIPCIÓN')\n",
    "        d.insert(1,'DESCRIPCIÓN',second_column)\n",
    "        \n",
    "        \n",
    "#    d['Codigo'] = d[\"Código\"].apply(lambda x: f\"{get_desc(x)}\")\n",
    "#    d['Codigo']= d['Codigo'].str.replace('/', '')\n",
    "#    d['Codigo']= d['Codigo'].str.replace('[A-Z]', '')\n",
    "#    d['Codigo']= d['Codigo'].str.replace('[a-z]', '')\n",
    "#    d['DESCRIPCIÓN']= d['Código'].str.replace('/', '')\n",
    "#    d['DESCRIPCIÓN']= d['DESCRIPCIÓN'].str.replace('[0-9]', '')\n",
    "#    d['DESCRIPCIÓN']= d['DESCRIPCIÓN']+d.iloc[:,1]\n",
    "#    d =d.drop(d.columns[[0, 1]],axis = 1) \n",
    "#    first_column = d.pop('Codigo')\n",
    "#    d.insert(0,'Codigo',first_column)\n",
    "#    second_column = d.pop('DESCRIPCIÓN')\n",
    "#    d.insert(1,'DESCRIPCIÓN',second_column)"
   ]
  },
  {
   "cell_type": "code",
   "execution_count": null,
   "id": "5c207dd5",
   "metadata": {},
   "outputs": [],
   "source": [
    "if merged_col:\n",
    "    this_data = d\n",
    "    print('Yes')"
   ]
  },
  {
   "cell_type": "code",
   "execution_count": null,
   "id": "f5c16b92",
   "metadata": {},
   "outputs": [],
   "source": [
    "str1 ='DESCRIPCIÓN'\n",
    "str2 = \"Descrip. artículo\"\n",
    "str3 = \"Artículo/ Cod.cliente\"\n",
    "str4 = 'DESCRIPCIÓN:'\n",
    "str5 = \"CONCEPTO\"\n",
    "str6 = \"UDS\"\n",
    "str7 = \"Concepto\"\n",
    "str8 = \"Descripción\"\n",
    "str9 = \"DESCRIPCION\"   \n",
    "str10 = \"Description articulo\"\n",
    "str11 = \"Description\"\n",
    "str12 = \"DESCRIPCIÓN ARTICULO\"\n",
    "str13 = \"Unidades Descripción\"\n",
    "str14 = \"PRODUCTO\"\n",
    "str15 = \"Articulo\"\n",
    "str16 = 'Denominación /Referencia'\n",
    "str17 = 'DESCRIPCIÓN'\n",
    "str18 = 'REF.'\n",
    "str19 = \"Codigo\"\n",
    "str20 = \"Lote\"\n",
    "str21 = \"MM Num. articulo\"\n",
    "str22 = 'Artículo'\n",
    "zero = False\n",
    "one = False\n",
    "two = False\n",
    "three = False\n",
    "\n",
    "if not merged_col or len(dataframes)>0:\n",
    "    if \"ARTÍCULO\" in dataframes[0].columns or \"CODI EAN/CÓDIGO EAN\" in dataframes[0].columns or \"MM Num. artículo\" in dataframes[0].columns  or 'CÓDIGO' in dataframes[0].columns or 'MM Num.' in dataframes[0].columns or str3 in dataframes[0].columns or str4 in dataframes[0].columns or str5 in dataframes[0].columns or str6 in dataframes[0].columns or str7 in dataframes[0].columns or str8 in dataframes[0].columns or str9 in dataframes[0].columns or str10 in dataframes[0].columns or str11 in dataframes[0].columns or str12 in dataframes[0].columns or str13 in dataframes[0].columns or str14 in dataframes[0].columns or str15 in dataframes[0].columns or str16 in dataframes[0].columns or str17 in dataframes[0].columns or str18 in dataframes[0].columns or str19 in dataframes[0].columns or str20 in dataframes[0].columns or str21 in dataframes[0].columns or str22 in dataframes[0].columns:\n",
    "            this_data = pd.DataFrame(dataframes[0])\n",
    "            print('---------0')\n",
    "            zero = True\n",
    "    if len(dataframes)>1: \n",
    "        if \"ARTÍCULO\" in dataframes[1].columns or \"CODI EAN/CÓDIGO EAN\" in dataframes[1].columns or \"MM Num. artículo\" in dataframes[1].columns or 'CÓDIGO' in dataframes[1].columns or 'MM Num.' in dataframes[1].columns or str3 in dataframes[1].columns or str4 in dataframes[1].columns or str5 in dataframes[1].columns or str6 in dataframes[1].columns or str7 in dataframes[1].columns or str8 in dataframes[1].columns or str9 in dataframes[1].columns or str10 in dataframes[1].columns or str11 in dataframes[1].columns or str12 in dataframes[1].columns or str13 in dataframes[1].columns or str14 in dataframes[1].columns or str15 in dataframes[1].columns or str16 in dataframes[1].columns or str17 in dataframes[1].columns or str18 in dataframes[1].columns or str19 in dataframes[1].columns or str20 in dataframes[1].columns or str21 in dataframes[1].columns or str22 in dataframes[1].columns:        \n",
    "                this_data = pd.DataFrame(dataframes[1])\n",
    "                print('---------1')\n",
    "                one = True\n",
    "    if len(dataframes)>2:        \n",
    "        if \"ARTÍCULO\" in dataframes[2].columns or \"CODI EAN/CÓDIGO EAN\" in dataframes[2].columns or \"MM Num. artículo\" in dataframes[2].columns or 'CÓDIGO' in dataframes[2].columns or 'MM Num.' in dataframes[2].columns or str3 in dataframes[2].columns or str4 in dataframes[2].columns or str5 in dataframes[0].columns or str6 in dataframes[2].columns or str7 in dataframes[2].columns or str8 in dataframes[2].columns or str9 in dataframes[2].columns or str10 in dataframes[2].columns or str11 in dataframes[2].columns or str12 in dataframes[2].columns or str13 in dataframes[2].columns or str14 in dataframes[2].columns or str15 in dataframes[2].columns or str16 in dataframes[2].columns or str16 in dataframes[2].columns or str18 in dataframes[2].columns or str19 in dataframes[2].columns or str20 in dataframes[2].columns or str21 in dataframes[2].columns or str22 in dataframes[2].columns:\n",
    "                this_data = pd.DataFrame(dataframes[2])\n",
    "                print('---------2')\n",
    "                two = True\n",
    "    if len(dataframes)>3:\n",
    "        if \"ARTÍCULO\" in dataframes[3].columns or \"CODI EAN/CÓDIGO EAN\" in dataframes[3].columns or \"MM Num. artículo\" in dataframes[3].columns or 'CÓDIGO' in dataframes[3].columns or 'MM Num.' in dataframes[3].columns or str3 in dataframes[3].columns or str4 in dataframes[3].columns or str5 in dataframes[3].columns or str6 in dataframes[3].columns or str7 in dataframes[3].columns or str8 in dataframes[3].columns or str9 in dataframes[3].columns or str10 in dataframes[3].columns or str11 in dataframes[3].columns or str12 in dataframes[3].columns or str13 in dataframes[3].columns or str14 in dataframes[3].columns or str15 in dataframes[3].columns or str16 in dataframes[3].columns or str16 in dataframes[3].columns or str18 in dataframes[3].columns or str19 in dataframes[3].columns or str20 in dataframes[3].columns or  str21 in dataframes[3].columns or str22 in dataframes[3].columns:\n",
    "            this_data = pd.DataFrame(dataframes[3])\n",
    "            print('---------3')\n",
    "            three = True\n",
    "else:\n",
    "    pass\n",
    "    \n",
    "this_data\n"
   ]
  },
  {
   "cell_type": "code",
   "execution_count": 405,
   "id": "d266409a",
   "metadata": {},
   "outputs": [
    {
     "name": "stdout",
     "output_type": "stream",
     "text": [
      "False\n"
     ]
    }
   ],
   "source": [
    "print(zero)"
   ]
  },
  {
   "cell_type": "code",
   "execution_count": 439,
   "id": "cc14bfc4",
   "metadata": {},
   "outputs": [
    {
     "name": "stdout",
     "output_type": "stream",
     "text": [
      "---------\n"
     ]
    }
   ],
   "source": [
    "below_table = ''\n",
    "index = 0\n",
    "if len(dataframes)>1:\n",
    "    if zero:\n",
    "        below_table = dataframes[1]\n",
    "        index = 1\n",
    "        print('---------')\n",
    "if len(dataframes)>2:    \n",
    "    if one:\n",
    "        below_table = dataframes[2]\n",
    "        index = 2\n",
    "        print('---------')\n",
    "        \n",
    "if len(dataframes)>3:\n",
    "    if two:\n",
    "        below_table = dataframes[3]\n",
    "        index = 3\n",
    "        print('---------')\n",
    "if len(dataframes)>3:\n",
    "    if three:\n",
    "        below_table = dataframes[4]\n",
    "        index = 4\n",
    "        print('---------')"
   ]
  },
  {
   "cell_type": "code",
   "execution_count": 440,
   "id": "3562b36f",
   "metadata": {},
   "outputs": [
    {
     "data": {
      "text/html": [
       "<div>\n",
       "<style scoped>\n",
       "    .dataframe tbody tr th:only-of-type {\n",
       "        vertical-align: middle;\n",
       "    }\n",
       "\n",
       "    .dataframe tbody tr th {\n",
       "        vertical-align: top;\n",
       "    }\n",
       "\n",
       "    .dataframe thead th {\n",
       "        text-align: right;\n",
       "    }\n",
       "</style>\n",
       "<table border=\"1\" class=\"dataframe\">\n",
       "  <thead>\n",
       "    <tr style=\"text-align: right;\">\n",
       "      <th></th>\n",
       "      <th>Transporte:</th>\n",
       "      <th></th>\n",
       "      <th>20991375</th>\n",
       "    </tr>\n",
       "  </thead>\n",
       "  <tbody>\n",
       "    <tr>\n",
       "      <th>0</th>\n",
       "      <td>Deleg:</td>\n",
       "      <td>Ibiza</td>\n",
       "      <td></td>\n",
       "    </tr>\n",
       "    <tr>\n",
       "      <th>1</th>\n",
       "      <td>Región:</td>\n",
       "      <td></td>\n",
       "      <td>BALEARES</td>\n",
       "    </tr>\n",
       "  </tbody>\n",
       "</table>\n",
       "</div>"
      ],
      "text/plain": [
       "  Transporte:         20991375\n",
       "0      Deleg:  Ibiza          \n",
       "1     Región:         BALEARES"
      ]
     },
     "execution_count": 440,
     "metadata": {},
     "output_type": "execute_result"
    }
   ],
   "source": [
    "below_table\n",
    "#dataframes[3]"
   ]
  },
  {
   "cell_type": "code",
   "execution_count": 441,
   "id": "138ac300",
   "metadata": {},
   "outputs": [
    {
     "data": {
      "text/plain": [
       "Index(['Transporte:', '', '20991375'], dtype='object')"
      ]
     },
     "execution_count": 441,
     "metadata": {},
     "output_type": "execute_result"
    }
   ],
   "source": [
    "below_table.columns"
   ]
  },
  {
   "cell_type": "markdown",
   "id": "ca791a21",
   "metadata": {},
   "source": [
    "IMPORT/IMPORTE"
   ]
  },
  {
   "cell_type": "code",
   "execution_count": 442,
   "id": "430e87ca",
   "metadata": {},
   "outputs": [],
   "source": [
    "if \"BASE IMP.\" in below_table.columns:\n",
    "    print(\"HI\")"
   ]
  },
  {
   "cell_type": "code",
   "execution_count": 443,
   "id": "69b891aa",
   "metadata": {},
   "outputs": [],
   "source": [
    "check = False\n",
    "if \"Base Imponible\"  in below_table.columns or \"% I.V.A\"  in below_table.columns or \"Cuota I.V.A.\"  in below_table.columns or \"BASE IMP.\"  in below_table.columns or \"I.V.A.\"  in below_table.columns or \"%\"  in below_table.columns or \"CUOTA\"  in below_table.columns or \"TOTAL BRUTO\"  in below_table.columns or \"%IVA\"  in below_table.columns or \"B.IMPONIBLE\"  in below_table.columns or \"CUOTA IVA\"  in below_table.columns or \"% R.E.\"  in below_table.columns or \"BASE\"  in below_table.columns or \"TOTAL IMP.\"  in below_table.columns:\n",
    "    check = True\n",
    "    print(check)\n",
    "    "
   ]
  },
  {
   "cell_type": "code",
   "execution_count": 444,
   "id": "d6f66978",
   "metadata": {},
   "outputs": [],
   "source": [
    "check = False\n",
    "if \"IMPORT/IMPORTE\" in dataframes[1].columns or \"Base Imponible\"  in dataframes[1].columns or \"% I.V.A\"  in dataframes[1].columns or \"Cuota I.V.A.\"  in dataframes[1].columns or \"BASE IMP.\"  in dataframes[1].columns or \"I.V.A.\"  in dataframes[1].columns or \"%\"  in dataframes[1].columns or \"CUOTA\"  in dataframes[1].columns or \"TOTAL BRUTO\"  in dataframes[1].columns or \"%IVA\"  in dataframes[1].columns or \"B.IMPONIBLE\"  in  dataframes[1].columns or \"CUOTA IVA\"  in  dataframes[1].columns or \"% R.E.\"  in  dataframes[1].columns or \"BASE\"  in  dataframes[1].columns or \"TOTAL IMP.\"  in  dataframes[1].columns:\n",
    "    check = True\n",
    "    below_table = dataframes[1]\n",
    "    print(check)\n",
    "elif \"IMPORT/IMPORTE\" in dataframes[2].columns or \"Base Imponible\"  in dataframes[2].columns or \"% I.V.A\"  in dataframes[2].columns or \"Cuota I.V.A.\"  in dataframes[2].columns or \"BASE IMP.\"  in dataframes[2].columns or \"I.V.A.\"  in dataframes[2].columns or \"%\"  in dataframes[2].columns or \"CUOTA\"  in dataframes[2].columns or \"TOTAL BRUTO\"  in dataframes[2].columns or \"%IVA\"  in dataframes[2].columns or \"B.IMPONIBLE\"  in  dataframes[2].columns or \"CUOTA IVA\"  in  dataframes[2].columns or \"% R.E.\"  in  dataframes[2].columns or \"BASE\"  in  dataframes[2].columns or \"TOTAL IMP.\"  in  dataframes[2].columns:\n",
    "    check = True\n",
    "    below_table = dataframes[2]\n",
    "    print(check)\n",
    "elif len(dataframes)>3:    \n",
    "    if \"IMPORT/IMPORTE\" in dataframes[3].columns or \"Base Imponible\"  in dataframes[3].columns or \"% I.V.A\"  in dataframes[3].columns or \"Cuota I.V.A.\"  in dataframes[3].columns or \"BASE IMP.\"  in dataframes[3].columns or \"I.V.A.\"  in dataframes[3].columns or \"%\"  in dataframes[3].columns or \"CUOTA\"  in dataframes[3].columns or \"TOTAL BRUTO\"  in dataframes[3].columns or \"%IVA\"  in dataframes[3].columns or \"B.IMPONIBLE\"  in  dataframes[3].columns or \"CUOTA IVA\"  in  dataframes[3].columns or \"% R.E.\"  in  dataframes[3].columns or \"BASE\"  in  dataframes[3].columns or \"TOTAL IMP.\"  in  dataframes[3].columns:\n",
    "        check = True\n",
    "        below_table = dataframes[3]\n",
    "        print(check)\n",
    "elif len(dataframes)>3:    \n",
    "    if \"IMPORT/IMPORTE\" in dataframes[4].columns or \"Base Imponible\"  in dataframes[4].columns or \"% I.V.A\"  in dataframes[4].columns or \"Cuota I.V.A.\"  in dataframes[4].columns or \"BASE IMP.\"  in dataframes[3].columns or \"I.V.A.\"  in dataframes[4].columns or \"%\"  in dataframes[4].columns or \"CUOTA\"  in dataframes[4].columns or \"TOTAL BRUTO\"  in dataframes[4].columns or \"%IVA\"  in dataframes[4].columns or \"B.IMPONIBLE\"  in  dataframes[4].columns or \"CUOTA IVA\"  in  dataframes[4].columns or \"% R.E.\"  in  dataframes[4].columns or \"BASE\"  in  dataframes[4].columns or \"TOTAL IMP.\"  in  dataframes[4].columns:\n",
    "        check = True\n",
    "        below_table = dataframes[4]\n",
    "        print(check)"
   ]
  },
  {
   "cell_type": "code",
   "execution_count": 445,
   "id": "84edf526",
   "metadata": {},
   "outputs": [],
   "source": [
    "i = index"
   ]
  },
  {
   "cell_type": "code",
   "execution_count": 446,
   "id": "41800c42",
   "metadata": {},
   "outputs": [
    {
     "data": {
      "text/plain": [
       "5"
      ]
     },
     "execution_count": 446,
     "metadata": {},
     "output_type": "execute_result"
    }
   ],
   "source": [
    "len(dataframes)"
   ]
  },
  {
   "cell_type": "code",
   "execution_count": 447,
   "id": "c4d3519c",
   "metadata": {},
   "outputs": [],
   "source": [
    "#if i<=len(dataframes)-1 and check==False:\n",
    "#        print('T')\n",
    "#        below_table = dataframes[index+2]"
   ]
  },
  {
   "cell_type": "code",
   "execution_count": 451,
   "id": "99842716",
   "metadata": {},
   "outputs": [
    {
     "data": {
      "text/plain": [
       "Index(['TIPUS/TIPO', 'BASE IMPOSABLE/BASE IMPONIBLE', '8 IMPOST / 8 IMPUESTOS',\n",
       "       'IMPORT/IMPORTE'],\n",
       "      dtype='object')"
      ]
     },
     "execution_count": 451,
     "metadata": {},
     "output_type": "execute_result"
    }
   ],
   "source": [
    "dataframes[4].columns"
   ]
  },
  {
   "cell_type": "code",
   "execution_count": 449,
   "id": "35d53a1e",
   "metadata": {},
   "outputs": [],
   "source": [
    "\n",
    "#if \"Base Imponible\" not in below_table.columns or \"% I.V.A\" not in below_table.columns or \"Cuota I.V.A.\" not in below_table.columns or \"BASE IMP.\" not in below_table.columns or \"I.V.A.\" not in below_table.columns or \"%\" not in below_table.columns or \"CUOTA\" not in below_table.columns or \"TOTAL BRUTO\" not in below_table.columns or \"%IVA\" not in below_table.columns or \"B.IMPONIBLE\" not in below_table.columns or \"CUOTA IVA\" not in below_table.columns or \"% R.E.\" not in below_table.columns or \"BASE\" not in below_table.columns or \"TOTAL IMP.\" not in below_table.columns:\n",
    "#    if i<len(dataframes):\n",
    "#        print('T')\n",
    "#        below_table = dataframes[index+1]"
   ]
  },
  {
   "cell_type": "code",
   "execution_count": 450,
   "id": "8f0e5f7c",
   "metadata": {},
   "outputs": [
    {
     "data": {
      "text/html": [
       "<div>\n",
       "<style scoped>\n",
       "    .dataframe tbody tr th:only-of-type {\n",
       "        vertical-align: middle;\n",
       "    }\n",
       "\n",
       "    .dataframe tbody tr th {\n",
       "        vertical-align: top;\n",
       "    }\n",
       "\n",
       "    .dataframe thead th {\n",
       "        text-align: right;\n",
       "    }\n",
       "</style>\n",
       "<table border=\"1\" class=\"dataframe\">\n",
       "  <thead>\n",
       "    <tr style=\"text-align: right;\">\n",
       "      <th></th>\n",
       "      <th>Transporte:</th>\n",
       "      <th></th>\n",
       "      <th>20991375</th>\n",
       "    </tr>\n",
       "  </thead>\n",
       "  <tbody>\n",
       "    <tr>\n",
       "      <th>0</th>\n",
       "      <td>Deleg:</td>\n",
       "      <td>Ibiza</td>\n",
       "      <td></td>\n",
       "    </tr>\n",
       "    <tr>\n",
       "      <th>1</th>\n",
       "      <td>Región:</td>\n",
       "      <td></td>\n",
       "      <td>BALEARES</td>\n",
       "    </tr>\n",
       "  </tbody>\n",
       "</table>\n",
       "</div>"
      ],
      "text/plain": [
       "  Transporte:         20991375\n",
       "0      Deleg:  Ibiza          \n",
       "1     Región:         BALEARES"
      ]
     },
     "execution_count": 450,
     "metadata": {},
     "output_type": "execute_result"
    }
   ],
   "source": [
    "below_table"
   ]
  },
  {
   "cell_type": "code",
   "execution_count": 109,
   "id": "57638094",
   "metadata": {},
   "outputs": [],
   "source": [
    "if len(this_data)>4:\n",
    "    try:\n",
    "        this_data.columns = this_data.columns.str.replace('SELECTED  ', '')\n",
    "        this_data.columns = this_data.columns.str.replace('SELECTED ', '')\n",
    "        this_data.columns = this_data.columns.str.replace('SELECTED', '')\n",
    "        this_data.columns = this_data.columns.str.replace('NOT_', '')\n",
    "        this_data.columns = this_data.columns.str.replace('NOT_SELECTED  ', '')\n",
    "        this_data.columns = this_data.columns.str.replace('NOT_SELECTED', '')\n",
    "        big = this_data.columns[0]\n",
    "        cont = this_data.columns[2]\n",
    "        lot = this_data.columns[1]\n",
    "        prec = this_data.columns[3]\n",
    "        cant = this_data.columns[-5]\n",
    "        imp = this_data.columns[-2]\n",
    "        importe = this_data.columns[-3]\n",
    "        third = this_data.columns[-4]\n",
    "        this_data = this_data.loc[(this_data[big] != \"Número de pedido\") & (this_data[big] != \"*** Número de pedido\") & (this_data[big]!=\"*** Número de\") & (this_data[big]!=\"*** Número\")]\n",
    "        this_data = this_data.loc[(this_data[big] != \"Entregado a: TABERNA\") & (this_data[big] !=\"Entregado a: TASCA\") & (this_data[big]!=\"Entregado a: TABERNA OSUNA\")\n",
    "              & (this_data[big]!= \"Entregado a: TABERNA osuna\")& (this_data[big]!=\"Fin de número\") ]\n",
    "        this_data = this_data.loc[(this_data[imp]!= \"Spain Fecha:\") & (this_data[imp]!= \"Spain Fecha:0\") & (this_data[imp]!= \"Spain Fecha:1\")]\n",
    "        this_data = this_data.loc[this_data[cont] !=\"LOT:\"]\n",
    "        this_data = this_data.loc[this_data[cant] !=\"Total\"]\n",
    "        this_data = this_data.loc[this_data[cant]!=\"LA LAGUNA\" ]\n",
    "        this_data = this_data.replace('',np.nan)\n",
    "        this_data = this_data.dropna(axis=0, thresh=3, how=\"any\")\n",
    "        limitPer = len(this_data) * .100\n",
    "        this_data = this_data.dropna(thresh=limitPer, axis=1)\n",
    "        this_data = this_data.replace(np.nan,'0')\n",
    "    except:\n",
    "        pass"
   ]
  },
  {
   "cell_type": "code",
   "execution_count": 110,
   "id": "e26d6aca",
   "metadata": {},
   "outputs": [],
   "source": [
    "data = this_data\n",
    "big = this_data"
   ]
  },
  {
   "cell_type": "code",
   "execution_count": 111,
   "id": "f16c9aa8",
   "metadata": {},
   "outputs": [],
   "source": [
    "#for i in this_data.columns:\n",
    "#    if i == '':\n",
    "#        this_data.drop(i,  inplace=True)\n",
    "if len(big.columns)==3:\n",
    "    print('Hi')"
   ]
  },
  {
   "cell_type": "code",
   "execution_count": 112,
   "id": "0c1c8a86",
   "metadata": {},
   "outputs": [
    {
     "data": {
      "text/html": [
       "<div>\n",
       "<style scoped>\n",
       "    .dataframe tbody tr th:only-of-type {\n",
       "        vertical-align: middle;\n",
       "    }\n",
       "\n",
       "    .dataframe tbody tr th {\n",
       "        vertical-align: top;\n",
       "    }\n",
       "\n",
       "    .dataframe thead th {\n",
       "        text-align: right;\n",
       "    }\n",
       "</style>\n",
       "<table border=\"1\" class=\"dataframe\">\n",
       "  <thead>\n",
       "    <tr style=\"text-align: right;\">\n",
       "      <th></th>\n",
       "      <th>Código</th>\n",
       "      <th>Concepto</th>\n",
       "      <th>Cantidad</th>\n",
       "      <th>Precio unit.</th>\n",
       "      <th>Total</th>\n",
       "    </tr>\n",
       "  </thead>\n",
       "  <tbody>\n",
       "    <tr>\n",
       "      <th>0</th>\n",
       "      <td>LAT.013</td>\n",
       "      <td>Burrata \"LS\" GR.125 LOTE. cad. / /21</td>\n",
       "      <td>2,5</td>\n",
       "      <td>15,00</td>\n",
       "      <td>37,50</td>\n",
       "    </tr>\n",
       "  </tbody>\n",
       "</table>\n",
       "</div>"
      ],
      "text/plain": [
       "    Código                              Concepto Cantidad Precio unit.  Total\n",
       "0  LAT.013  Burrata \"LS\" GR.125 LOTE. cad. / /21      2,5        15,00  37,50"
      ]
     },
     "execution_count": 112,
     "metadata": {},
     "output_type": "execute_result"
    }
   ],
   "source": [
    "this_data.head()"
   ]
  },
  {
   "cell_type": "code",
   "execution_count": 113,
   "id": "23b245a9",
   "metadata": {},
   "outputs": [],
   "source": [
    "# for  second column\n",
    "this_data[\"second_count\"] = this_data.iloc[:, 1].str.count(\"\\D\")\n",
    "this_data[\"second_length\"] = this_data.iloc[:, 1].str.len()\n",
    "this_data[\"second_digit_percentage\"] = this_data[\"second_count\"] / this_data[\"second_length\"] * 100\n",
    "\n"
   ]
  },
  {
   "cell_type": "code",
   "execution_count": 114,
   "id": "5a54fd2d",
   "metadata": {},
   "outputs": [],
   "source": [
    "# for third column\n",
    "this_data[\"third_count\"] = this_data.iloc[:, 2].str.count(\"\\D\")\n",
    "this_data[\"third_length\"] = this_data.iloc[:, 2].str.len()\n",
    "this_data[\"third_digit_percentage\"] = this_data[\"third_count\"] / this_data[\"third_length\"] * 100\n",
    "\n"
   ]
  },
  {
   "cell_type": "code",
   "execution_count": 115,
   "id": "8598bb36",
   "metadata": {},
   "outputs": [
    {
     "data": {
      "text/plain": [
       "11"
      ]
     },
     "execution_count": 115,
     "metadata": {},
     "output_type": "execute_result"
    }
   ],
   "source": [
    "len(this_data.columns)"
   ]
  },
  {
   "cell_type": "code",
   "execution_count": 116,
   "id": "368ab5d2",
   "metadata": {},
   "outputs": [
    {
     "data": {
      "text/html": [
       "<div>\n",
       "<style scoped>\n",
       "    .dataframe tbody tr th:only-of-type {\n",
       "        vertical-align: middle;\n",
       "    }\n",
       "\n",
       "    .dataframe tbody tr th {\n",
       "        vertical-align: top;\n",
       "    }\n",
       "\n",
       "    .dataframe thead th {\n",
       "        text-align: right;\n",
       "    }\n",
       "</style>\n",
       "<table border=\"1\" class=\"dataframe\">\n",
       "  <thead>\n",
       "    <tr style=\"text-align: right;\">\n",
       "      <th></th>\n",
       "      <th>Código</th>\n",
       "      <th>Concepto</th>\n",
       "      <th>Cantidad</th>\n",
       "      <th>Precio unit.</th>\n",
       "      <th>Total</th>\n",
       "      <th>second_count</th>\n",
       "      <th>second_length</th>\n",
       "      <th>second_digit_percentage</th>\n",
       "      <th>third_count</th>\n",
       "      <th>third_length</th>\n",
       "      <th>third_digit_percentage</th>\n",
       "    </tr>\n",
       "  </thead>\n",
       "  <tbody>\n",
       "    <tr>\n",
       "      <th>0</th>\n",
       "      <td>LAT.013</td>\n",
       "      <td>Burrata \"LS\" GR.125 LOTE. cad. / /21</td>\n",
       "      <td>2,5</td>\n",
       "      <td>15,00</td>\n",
       "      <td>37,50</td>\n",
       "      <td>31</td>\n",
       "      <td>36</td>\n",
       "      <td>86.111111</td>\n",
       "      <td>1</td>\n",
       "      <td>3</td>\n",
       "      <td>33.333333</td>\n",
       "    </tr>\n",
       "  </tbody>\n",
       "</table>\n",
       "</div>"
      ],
      "text/plain": [
       "    Código                              Concepto Cantidad Precio unit.  Total  \\\n",
       "0  LAT.013  Burrata \"LS\" GR.125 LOTE. cad. / /21      2,5        15,00  37,50   \n",
       "\n",
       "   second_count  second_length  second_digit_percentage  third_count  \\\n",
       "0            31             36                86.111111            1   \n",
       "\n",
       "   third_length  third_digit_percentage  \n",
       "0             3               33.333333  "
      ]
     },
     "execution_count": 116,
     "metadata": {},
     "output_type": "execute_result"
    }
   ],
   "source": [
    "this_data.head()"
   ]
  },
  {
   "cell_type": "code",
   "execution_count": 37,
   "id": "87f75f59",
   "metadata": {},
   "outputs": [],
   "source": [
    "# for  forth column\n",
    "dftwo = False\n",
    "if len(data.columns)==3:\n",
    "    this_data[\"forth_count\"] = this_data.iloc[:, 3].str.count(\"\\D\")\n",
    "    this_data[\"forth_length\"] = this_data.iloc[:, 3].str.len()\n",
    "    this_data[\"forth_digit_percentage\"] = this_data[\"forth_count\"] / this_data[\"forth_length\"] * 100\n",
    "    print('Im True')\n",
    "    dftwo = True\n",
    "\n"
   ]
  },
  {
   "cell_type": "code",
   "execution_count": 38,
   "id": "3ede0219",
   "metadata": {},
   "outputs": [
    {
     "data": {
      "text/html": [
       "<div>\n",
       "<style scoped>\n",
       "    .dataframe tbody tr th:only-of-type {\n",
       "        vertical-align: middle;\n",
       "    }\n",
       "\n",
       "    .dataframe tbody tr th {\n",
       "        vertical-align: top;\n",
       "    }\n",
       "\n",
       "    .dataframe thead th {\n",
       "        text-align: right;\n",
       "    }\n",
       "</style>\n",
       "<table border=\"1\" class=\"dataframe\">\n",
       "  <thead>\n",
       "    <tr style=\"text-align: right;\">\n",
       "      <th></th>\n",
       "      <th>Código</th>\n",
       "      <th>Concepto</th>\n",
       "      <th>Cantidad</th>\n",
       "      <th>Precio unit.</th>\n",
       "      <th>Total</th>\n",
       "      <th>second_count</th>\n",
       "      <th>second_length</th>\n",
       "      <th>second_digit_percentage</th>\n",
       "      <th>third_count</th>\n",
       "      <th>third_length</th>\n",
       "      <th>third_digit_percentage</th>\n",
       "    </tr>\n",
       "  </thead>\n",
       "  <tbody>\n",
       "    <tr>\n",
       "      <th>0</th>\n",
       "      <td>LAT.013</td>\n",
       "      <td>Burrata \"LS\" GR.125 LOTE. cad. / /21</td>\n",
       "      <td>2,5</td>\n",
       "      <td>15,00</td>\n",
       "      <td>37,50</td>\n",
       "      <td>31</td>\n",
       "      <td>36</td>\n",
       "      <td>86.111111</td>\n",
       "      <td>1</td>\n",
       "      <td>3</td>\n",
       "      <td>33.333333</td>\n",
       "    </tr>\n",
       "  </tbody>\n",
       "</table>\n",
       "</div>"
      ],
      "text/plain": [
       "    Código                              Concepto Cantidad Precio unit.  Total  \\\n",
       "0  LAT.013  Burrata \"LS\" GR.125 LOTE. cad. / /21      2,5        15,00  37,50   \n",
       "\n",
       "   second_count  second_length  second_digit_percentage  third_count  \\\n",
       "0            31             36                86.111111            1   \n",
       "\n",
       "   third_length  third_digit_percentage  \n",
       "0             3               33.333333  "
      ]
     },
     "execution_count": 38,
     "metadata": {},
     "output_type": "execute_result"
    }
   ],
   "source": [
    "this_data.fillna(0)"
   ]
  },
  {
   "cell_type": "code",
   "execution_count": 39,
   "id": "3b030352",
   "metadata": {},
   "outputs": [],
   "source": [
    "df = this_data.query(\"second_digit_percentage>30.0\")\n",
    "df1 = this_data.query(\"third_digit_percentage>30.0\")\n",
    "if dftwo:\n",
    "    df2.fillna(0)\n",
    "    df2 = this_data.query(\"forth_digit_percentage>60.0\")\n"
   ]
  },
  {
   "cell_type": "code",
   "execution_count": 40,
   "id": "16bcd44c",
   "metadata": {},
   "outputs": [
    {
     "data": {
      "text/plain": [
       "(1, 11)"
      ]
     },
     "execution_count": 40,
     "metadata": {},
     "output_type": "execute_result"
    }
   ],
   "source": [
    "df.shape"
   ]
  },
  {
   "cell_type": "code",
   "execution_count": 41,
   "id": "241da9ff",
   "metadata": {},
   "outputs": [
    {
     "data": {
      "text/plain": [
       "(1, 11)"
      ]
     },
     "execution_count": 41,
     "metadata": {},
     "output_type": "execute_result"
    }
   ],
   "source": [
    "#df2 = this_data.query(\"second_digit_percentage>30.0\")\n",
    "this_data.shape"
   ]
  },
  {
   "cell_type": "code",
   "execution_count": 42,
   "id": "7e5cff99",
   "metadata": {},
   "outputs": [
    {
     "data": {
      "text/html": [
       "<div>\n",
       "<style scoped>\n",
       "    .dataframe tbody tr th:only-of-type {\n",
       "        vertical-align: middle;\n",
       "    }\n",
       "\n",
       "    .dataframe tbody tr th {\n",
       "        vertical-align: top;\n",
       "    }\n",
       "\n",
       "    .dataframe thead th {\n",
       "        text-align: right;\n",
       "    }\n",
       "</style>\n",
       "<table border=\"1\" class=\"dataframe\">\n",
       "  <thead>\n",
       "    <tr style=\"text-align: right;\">\n",
       "      <th></th>\n",
       "      <th>Código</th>\n",
       "      <th>Concepto</th>\n",
       "      <th>Cantidad</th>\n",
       "      <th>Precio unit.</th>\n",
       "      <th>Total</th>\n",
       "      <th>second_count</th>\n",
       "      <th>second_length</th>\n",
       "      <th>second_digit_percentage</th>\n",
       "      <th>third_count</th>\n",
       "      <th>third_length</th>\n",
       "      <th>third_digit_percentage</th>\n",
       "    </tr>\n",
       "  </thead>\n",
       "  <tbody>\n",
       "    <tr>\n",
       "      <th>0</th>\n",
       "      <td>LAT.013</td>\n",
       "      <td>Burrata \"LS\" GR.125 LOTE. cad. / /21</td>\n",
       "      <td>2,5</td>\n",
       "      <td>15,00</td>\n",
       "      <td>37,50</td>\n",
       "      <td>31</td>\n",
       "      <td>36</td>\n",
       "      <td>86.111111</td>\n",
       "      <td>1</td>\n",
       "      <td>3</td>\n",
       "      <td>33.333333</td>\n",
       "    </tr>\n",
       "  </tbody>\n",
       "</table>\n",
       "</div>"
      ],
      "text/plain": [
       "    Código                              Concepto Cantidad Precio unit.  Total  \\\n",
       "0  LAT.013  Burrata \"LS\" GR.125 LOTE. cad. / /21      2,5        15,00  37,50   \n",
       "\n",
       "   second_count  second_length  second_digit_percentage  third_count  \\\n",
       "0            31             36                86.111111            1   \n",
       "\n",
       "   third_length  third_digit_percentage  \n",
       "0             3               33.333333  "
      ]
     },
     "execution_count": 42,
     "metadata": {},
     "output_type": "execute_result"
    }
   ],
   "source": [
    "this_data.head()"
   ]
  },
  {
   "cell_type": "code",
   "execution_count": 43,
   "id": "03bfb3b4",
   "metadata": {},
   "outputs": [
    {
     "name": "stdout",
     "output_type": "stream",
     "text": [
      "1 11\n"
     ]
    }
   ],
   "source": [
    "r ,c= df.shape\n",
    "print(r,c)"
   ]
  },
  {
   "cell_type": "code",
   "execution_count": 44,
   "id": "bd6fdce1",
   "metadata": {},
   "outputs": [
    {
     "name": "stdout",
     "output_type": "stream",
     "text": [
      "1 11\n"
     ]
    }
   ],
   "source": [
    "r1 ,c1= df1.shape\n",
    "print(r1,c1)"
   ]
  },
  {
   "cell_type": "code",
   "execution_count": 45,
   "id": "704d818d",
   "metadata": {},
   "outputs": [
    {
     "ename": "NameError",
     "evalue": "name 'df2' is not defined",
     "output_type": "error",
     "traceback": [
      "\u001b[1;31m---------------------------------------------------------------------------\u001b[0m",
      "\u001b[1;31mNameError\u001b[0m                                 Traceback (most recent call last)",
      "\u001b[1;32mC:\\Users\\EHTISH~1\\AppData\\Local\\Temp/ipykernel_23256/1769802412.py\u001b[0m in \u001b[0;36m<module>\u001b[1;34m\u001b[0m\n\u001b[1;32m----> 1\u001b[1;33m \u001b[0mr2\u001b[0m \u001b[1;33m,\u001b[0m\u001b[0mc2\u001b[0m\u001b[1;33m=\u001b[0m \u001b[0mdf2\u001b[0m\u001b[1;33m.\u001b[0m\u001b[0mshape\u001b[0m\u001b[1;33m\u001b[0m\u001b[1;33m\u001b[0m\u001b[0m\n\u001b[0m\u001b[0;32m      2\u001b[0m \u001b[0mprint\u001b[0m\u001b[1;33m(\u001b[0m\u001b[0mr2\u001b[0m\u001b[1;33m,\u001b[0m\u001b[0mc2\u001b[0m\u001b[1;33m)\u001b[0m\u001b[1;33m\u001b[0m\u001b[1;33m\u001b[0m\u001b[0m\n",
      "\u001b[1;31mNameError\u001b[0m: name 'df2' is not defined"
     ]
    }
   ],
   "source": [
    "r2 ,c2= df2.shape\n",
    "print(r2,c2)"
   ]
  },
  {
   "cell_type": "code",
   "execution_count": 46,
   "id": "26702384",
   "metadata": {},
   "outputs": [
    {
     "name": "stdout",
     "output_type": "stream",
     "text": [
      " I got in \n"
     ]
    }
   ],
   "source": [
    "desc = ''\n",
    "if len(df.columns) == len(this_data.columns)and r>0:\n",
    "    desc = df.iloc[:,1]\n",
    "    print(' I got in ')\n",
    "elif len(df1.columns)== len(this_data.columns):\n",
    "    desc = df1.iloc[:,2]\n",
    "    print('I got it ')\n",
    "elif len(df2.columns)== len(this_data.columns):\n",
    "    desc = df2.iloc[:,3]\n",
    "    print('I got it2 ')"
   ]
  },
  {
   "cell_type": "code",
   "execution_count": 47,
   "id": "555e9133",
   "metadata": {},
   "outputs": [
    {
     "data": {
      "text/plain": [
       "0    Burrata \"LS\" GR.125 LOTE. cad. / /21\n",
       "Name: Concepto, dtype: object"
      ]
     },
     "execution_count": 47,
     "metadata": {},
     "output_type": "execute_result"
    }
   ],
   "source": [
    "desc"
   ]
  },
  {
   "cell_type": "code",
   "execution_count": 48,
   "id": "57b45f40",
   "metadata": {},
   "outputs": [
    {
     "data": {
      "text/html": [
       "<div>\n",
       "<style scoped>\n",
       "    .dataframe tbody tr th:only-of-type {\n",
       "        vertical-align: middle;\n",
       "    }\n",
       "\n",
       "    .dataframe tbody tr th {\n",
       "        vertical-align: top;\n",
       "    }\n",
       "\n",
       "    .dataframe thead th {\n",
       "        text-align: right;\n",
       "    }\n",
       "</style>\n",
       "<table border=\"1\" class=\"dataframe\">\n",
       "  <thead>\n",
       "    <tr style=\"text-align: right;\">\n",
       "      <th></th>\n",
       "      <th>Código</th>\n",
       "      <th>Concepto</th>\n",
       "      <th>Cantidad</th>\n",
       "      <th>Precio unit.</th>\n",
       "      <th>Total</th>\n",
       "      <th>second_count</th>\n",
       "      <th>second_length</th>\n",
       "      <th>second_digit_percentage</th>\n",
       "      <th>third_count</th>\n",
       "      <th>third_length</th>\n",
       "      <th>third_digit_percentage</th>\n",
       "    </tr>\n",
       "  </thead>\n",
       "  <tbody>\n",
       "    <tr>\n",
       "      <th>0</th>\n",
       "      <td>LAT.013</td>\n",
       "      <td>Burrata \"LS\" GR.125 LOTE. cad. / /21</td>\n",
       "      <td>2,5</td>\n",
       "      <td>15,00</td>\n",
       "      <td>37,50</td>\n",
       "      <td>31</td>\n",
       "      <td>36</td>\n",
       "      <td>86.111111</td>\n",
       "      <td>1</td>\n",
       "      <td>3</td>\n",
       "      <td>33.333333</td>\n",
       "    </tr>\n",
       "  </tbody>\n",
       "</table>\n",
       "</div>"
      ],
      "text/plain": [
       "    Código                              Concepto Cantidad Precio unit.  Total  \\\n",
       "0  LAT.013  Burrata \"LS\" GR.125 LOTE. cad. / /21      2,5        15,00  37,50   \n",
       "\n",
       "   second_count  second_length  second_digit_percentage  third_count  \\\n",
       "0            31             36                86.111111            1   \n",
       "\n",
       "   third_length  third_digit_percentage  \n",
       "0             3               33.333333  "
      ]
     },
     "execution_count": 48,
     "metadata": {},
     "output_type": "execute_result"
    }
   ],
   "source": [
    "this_data.head()"
   ]
  },
  {
   "cell_type": "code",
   "execution_count": 49,
   "id": "655e8da5",
   "metadata": {},
   "outputs": [],
   "source": [
    "dfff = ''\n",
    "description_list = [\"Descripción\",\"Descrip. artículo\",\"DESCRIPCION\",\"Description articulo\",\"Description\",\"DESCRIPCIÓN ARTICULO\",\"Unidades Descripción\"]\n",
    "if len(desc) == 0:\n",
    "    print('Empty')\n",
    "    for i in ((description_list)):\n",
    "        if i in this_data.columns:\n",
    "            print(i)\n",
    "            dfff = this_data[i]    \n",
    "            break\n",
    "       "
   ]
  },
  {
   "cell_type": "code",
   "execution_count": 50,
   "id": "ac27d13c",
   "metadata": {},
   "outputs": [
    {
     "data": {
      "text/plain": [
       "0    Burrata \"LS\" GR.125 LOTE. cad. / /21\n",
       "Name: Concepto, dtype: object"
      ]
     },
     "execution_count": 50,
     "metadata": {},
     "output_type": "execute_result"
    }
   ],
   "source": [
    "desc"
   ]
  },
  {
   "cell_type": "code",
   "execution_count": 51,
   "id": "01f18bfe",
   "metadata": {},
   "outputs": [],
   "source": [
    "if len(desc)!=0:\n",
    "    desc_data = pd.DataFrame(desc)\n",
    "    desc_data.head()\n",
    "elif len(dfff)!=0:\n",
    "    desc_data = pd.DataFrame(dfff)\n",
    "    desc_data.head()"
   ]
  },
  {
   "cell_type": "code",
   "execution_count": 52,
   "id": "b36e40f7",
   "metadata": {},
   "outputs": [
    {
     "data": {
      "text/plain": [
       "0    Burrata \"LS\" GR.125 LOTE. cad. / /21\n",
       "Name: Concepto, dtype: object"
      ]
     },
     "execution_count": 52,
     "metadata": {},
     "output_type": "execute_result"
    }
   ],
   "source": [
    "desc"
   ]
  },
  {
   "cell_type": "code",
   "execution_count": 54,
   "id": "ba66a73d",
   "metadata": {},
   "outputs": [],
   "source": [
    "split = ''"
   ]
  },
  {
   "cell_type": "code",
   "execution_count": 55,
   "id": "64c7319b",
   "metadata": {},
   "outputs": [
    {
     "data": {
      "text/html": [
       "<div>\n",
       "<style scoped>\n",
       "    .dataframe tbody tr th:only-of-type {\n",
       "        vertical-align: middle;\n",
       "    }\n",
       "\n",
       "    .dataframe tbody tr th {\n",
       "        vertical-align: top;\n",
       "    }\n",
       "\n",
       "    .dataframe thead th {\n",
       "        text-align: right;\n",
       "    }\n",
       "</style>\n",
       "<table border=\"1\" class=\"dataframe\">\n",
       "  <thead>\n",
       "    <tr style=\"text-align: right;\">\n",
       "      <th></th>\n",
       "      <th>Concepto</th>\n",
       "    </tr>\n",
       "  </thead>\n",
       "  <tbody>\n",
       "    <tr>\n",
       "      <th>0</th>\n",
       "      <td>Burrata \"LS\" GR.125 LOTE. cad. / /21</td>\n",
       "    </tr>\n",
       "  </tbody>\n",
       "</table>\n",
       "</div>"
      ],
      "text/plain": [
       "                               Concepto\n",
       "0  Burrata \"LS\" GR.125 LOTE. cad. / /21"
      ]
     },
     "execution_count": 55,
     "metadata": {},
     "output_type": "execute_result"
    }
   ],
   "source": [
    "desc_data.head()"
   ]
  },
  {
   "cell_type": "code",
   "execution_count": 56,
   "id": "1f0d7e78",
   "metadata": {},
   "outputs": [],
   "source": [
    "split = desc_data\n",
    "split = split.iloc[:,0].str.split(\"LOTE\", n = 1, expand = True)"
   ]
  },
  {
   "cell_type": "code",
   "execution_count": 57,
   "id": "0ffaab6e",
   "metadata": {},
   "outputs": [],
   "source": [
    "split.rename(columns = {'Description':'0'}, inplace = True)"
   ]
  },
  {
   "cell_type": "code",
   "execution_count": 58,
   "id": "b60cd62b",
   "metadata": {},
   "outputs": [
    {
     "data": {
      "text/plain": [
       "0    Burrata \"LS\" GR.125 \n",
       "Name: 0, dtype: object"
      ]
     },
     "execution_count": 58,
     "metadata": {},
     "output_type": "execute_result"
    }
   ],
   "source": [
    "split[0]"
   ]
  },
  {
   "cell_type": "code",
   "execution_count": 59,
   "id": "89a398b0",
   "metadata": {},
   "outputs": [],
   "source": [
    "desc_data = split[0]"
   ]
  },
  {
   "cell_type": "code",
   "execution_count": 60,
   "id": "63e71224",
   "metadata": {},
   "outputs": [
    {
     "data": {
      "text/plain": [
       "0    Burrata \"LS\" GR.125 \n",
       "Name: 0, dtype: object"
      ]
     },
     "execution_count": 60,
     "metadata": {},
     "output_type": "execute_result"
    }
   ],
   "source": [
    "desc_data.head()"
   ]
  },
  {
   "cell_type": "code",
   "execution_count": 61,
   "id": "3d2862f7",
   "metadata": {},
   "outputs": [],
   "source": [
    "s1,s2 = split.shape\n",
    "if s2>1:\n",
    "    lote = split[1]\n",
    "    "
   ]
  },
  {
   "cell_type": "code",
   "execution_count": 62,
   "id": "2a40aec9",
   "metadata": {},
   "outputs": [
    {
     "data": {
      "text/html": [
       "<div>\n",
       "<style scoped>\n",
       "    .dataframe tbody tr th:only-of-type {\n",
       "        vertical-align: middle;\n",
       "    }\n",
       "\n",
       "    .dataframe tbody tr th {\n",
       "        vertical-align: top;\n",
       "    }\n",
       "\n",
       "    .dataframe thead th {\n",
       "        text-align: right;\n",
       "    }\n",
       "</style>\n",
       "<table border=\"1\" class=\"dataframe\">\n",
       "  <thead>\n",
       "    <tr style=\"text-align: right;\">\n",
       "      <th></th>\n",
       "      <th>Código</th>\n",
       "      <th>Concepto</th>\n",
       "      <th>Cantidad</th>\n",
       "      <th>Precio unit.</th>\n",
       "      <th>Total</th>\n",
       "      <th>second_count</th>\n",
       "      <th>second_length</th>\n",
       "      <th>second_digit_percentage</th>\n",
       "      <th>third_count</th>\n",
       "      <th>third_length</th>\n",
       "      <th>third_digit_percentage</th>\n",
       "    </tr>\n",
       "  </thead>\n",
       "  <tbody>\n",
       "    <tr>\n",
       "      <th>0</th>\n",
       "      <td>LAT.013</td>\n",
       "      <td>Burrata \"LS\" GR.125 LOTE. cad. / /21</td>\n",
       "      <td>2,5</td>\n",
       "      <td>15,00</td>\n",
       "      <td>37,50</td>\n",
       "      <td>31</td>\n",
       "      <td>36</td>\n",
       "      <td>86.111111</td>\n",
       "      <td>1</td>\n",
       "      <td>3</td>\n",
       "      <td>33.333333</td>\n",
       "    </tr>\n",
       "  </tbody>\n",
       "</table>\n",
       "</div>"
      ],
      "text/plain": [
       "    Código                              Concepto Cantidad Precio unit.  Total  \\\n",
       "0  LAT.013  Burrata \"LS\" GR.125 LOTE. cad. / /21      2,5        15,00  37,50   \n",
       "\n",
       "   second_count  second_length  second_digit_percentage  third_count  \\\n",
       "0            31             36                86.111111            1   \n",
       "\n",
       "   third_length  third_digit_percentage  \n",
       "0             3               33.333333  "
      ]
     },
     "execution_count": 62,
     "metadata": {},
     "output_type": "execute_result"
    }
   ],
   "source": [
    "this_data"
   ]
  },
  {
   "cell_type": "code",
   "execution_count": 63,
   "id": "55ea1765",
   "metadata": {},
   "outputs": [
    {
     "data": {
      "text/plain": [
       "11"
      ]
     },
     "execution_count": 63,
     "metadata": {},
     "output_type": "execute_result"
    }
   ],
   "source": [
    "len(data.columns)"
   ]
  },
  {
   "cell_type": "raw",
   "id": "e2615bc3",
   "metadata": {},
   "source": [
    "if len(dataa.columns)==3:\n",
    "    print('hello')\n",
    "    this_data = this_data[this_data.columns[:-1]]\n",
    "    this_data = this_data[this_data.columns[:-1]]\n",
    "    this_data = this_data[this_data.columns[:-1]]\n",
    "    this_data = this_data[this_data.columns[:-1]]\n",
    "    this_data = this_data[this_data.columns[:-1]]\n",
    "    this_data = this_data[this_data.columns[:-1]]\n",
    "    \n",
    "else:\n",
    "    this_data = this_data[this_data.columns[:-1]]\n",
    "    this_data = this_data[this_data.columns[:-1]]\n",
    "    this_data = this_data[this_data.columns[:-1]]\n",
    "    this_data = this_data[this_data.columns[:-1]]\n",
    "    this_data = this_data[this_data.columns[:-1]]\n",
    "    this_data = this_data[this_data.columns[:-1]]\n",
    "    this_data = this_data[this_data.columns[:-1]]\n",
    "    this_data = this_data[this_data.columns[:-1]]\n",
    "    this_data = this_data[this_data.columns[:-1]]"
   ]
  },
  {
   "cell_type": "code",
   "execution_count": 64,
   "id": "3a74bd6e",
   "metadata": {},
   "outputs": [
    {
     "data": {
      "text/html": [
       "<div>\n",
       "<style scoped>\n",
       "    .dataframe tbody tr th:only-of-type {\n",
       "        vertical-align: middle;\n",
       "    }\n",
       "\n",
       "    .dataframe tbody tr th {\n",
       "        vertical-align: top;\n",
       "    }\n",
       "\n",
       "    .dataframe thead th {\n",
       "        text-align: right;\n",
       "    }\n",
       "</style>\n",
       "<table border=\"1\" class=\"dataframe\">\n",
       "  <thead>\n",
       "    <tr style=\"text-align: right;\">\n",
       "      <th></th>\n",
       "      <th>Código</th>\n",
       "      <th>Concepto</th>\n",
       "      <th>Cantidad</th>\n",
       "      <th>Precio unit.</th>\n",
       "      <th>Total</th>\n",
       "      <th>second_count</th>\n",
       "      <th>second_length</th>\n",
       "      <th>second_digit_percentage</th>\n",
       "      <th>third_count</th>\n",
       "      <th>third_length</th>\n",
       "      <th>third_digit_percentage</th>\n",
       "    </tr>\n",
       "  </thead>\n",
       "  <tbody>\n",
       "    <tr>\n",
       "      <th>0</th>\n",
       "      <td>LAT.013</td>\n",
       "      <td>Burrata \"LS\" GR.125 LOTE. cad. / /21</td>\n",
       "      <td>2,5</td>\n",
       "      <td>15,00</td>\n",
       "      <td>37,50</td>\n",
       "      <td>31</td>\n",
       "      <td>36</td>\n",
       "      <td>86.111111</td>\n",
       "      <td>1</td>\n",
       "      <td>3</td>\n",
       "      <td>33.333333</td>\n",
       "    </tr>\n",
       "  </tbody>\n",
       "</table>\n",
       "</div>"
      ],
      "text/plain": [
       "    Código                              Concepto Cantidad Precio unit.  Total  \\\n",
       "0  LAT.013  Burrata \"LS\" GR.125 LOTE. cad. / /21      2,5        15,00  37,50   \n",
       "\n",
       "   second_count  second_length  second_digit_percentage  third_count  \\\n",
       "0            31             36                86.111111            1   \n",
       "\n",
       "   third_length  third_digit_percentage  \n",
       "0             3               33.333333  "
      ]
     },
     "execution_count": 64,
     "metadata": {},
     "output_type": "execute_result"
    }
   ],
   "source": [
    "this_data"
   ]
  },
  {
   "cell_type": "code",
   "execution_count": 65,
   "id": "2dff6ffb",
   "metadata": {},
   "outputs": [
    {
     "data": {
      "text/html": [
       "<div>\n",
       "<style scoped>\n",
       "    .dataframe tbody tr th:only-of-type {\n",
       "        vertical-align: middle;\n",
       "    }\n",
       "\n",
       "    .dataframe tbody tr th {\n",
       "        vertical-align: top;\n",
       "    }\n",
       "\n",
       "    .dataframe thead th {\n",
       "        text-align: right;\n",
       "    }\n",
       "</style>\n",
       "<table border=\"1\" class=\"dataframe\">\n",
       "  <thead>\n",
       "    <tr style=\"text-align: right;\">\n",
       "      <th></th>\n",
       "      <th>Código</th>\n",
       "    </tr>\n",
       "  </thead>\n",
       "  <tbody>\n",
       "    <tr>\n",
       "      <th>0</th>\n",
       "      <td>LAT.013</td>\n",
       "    </tr>\n",
       "  </tbody>\n",
       "</table>\n",
       "</div>"
      ],
      "text/plain": [
       "    Código\n",
       "0  LAT.013"
      ]
     },
     "execution_count": 65,
     "metadata": {},
     "output_type": "execute_result"
    }
   ],
   "source": [
    "code  = this_data.iloc[:, 0]\n",
    "#codingo = this_data[code]\n",
    "codingo_data  =  pd.DataFrame(code)\n",
    "codingo_data\n"
   ]
  },
  {
   "cell_type": "code",
   "execution_count": 66,
   "id": "201561c8",
   "metadata": {},
   "outputs": [
    {
     "name": "stdout",
     "output_type": "stream",
     "text": [
      "Precio unit.\n",
      "Im condition 1\n"
     ]
    }
   ],
   "source": [
    "prec = []\n",
    "str1 = \"Precio\"\n",
    "str2 = \"Base I\"\n",
    "str3 = \"PVP\"\n",
    "str4 = 'Importe'\n",
    "str5 = 'Euro Uni.'\n",
    "str6 = \"IMP\"\n",
    "price =''\n",
    "for i in this_data.columns:\n",
    "    ratio1 = fuzz.partial_ratio(str1.lower(),str(i).lower())\n",
    "    if ratio1>=75:\n",
    "        print(i)\n",
    "        prec.append(i)\n",
    "        price = i\n",
    "        print(\"Im condition 1\")\n",
    "    ratio2 = fuzz.partial_ratio(str2.lower(),str(i).lower())\n",
    "    if ratio2>=75:\n",
    "        print(i)\n",
    "        prec.append(i)\n",
    "        price =i\n",
    "        print(\"Im condition 2\")\n",
    "    ratio3 = fuzz.partial_ratio(str3.lower(),str(i).lower())\n",
    "    if ratio3>=75:\n",
    "        print(\"Im condition 3\")\n",
    "        print(i)\n",
    "        prec.append(i)\n",
    "        price =i\n",
    "    ratio4 = fuzz.partial_ratio(str4.lower(),str(i).lower())\n",
    "    if ratio4>=75:\n",
    "        print(\"Im condition 4\")\n",
    "        print(i)\n",
    "        prec.append(i)\n",
    "        price =i\n",
    "    ratio5 = fuzz.partial_ratio(str5.lower(),str(i).lower())\n",
    "    if ratio5>=75:\n",
    "        print(\"Im condition 5\")\n",
    "        print(i)\n",
    "        prec.append(i)\n",
    "        price =i\n",
    "    ratio6 = fuzz.partial_ratio(str6.lower(),str(i).lower())\n",
    "    if ratio6>=75:\n",
    "        print(\"Im condition 6\")\n",
    "        print(i)\n",
    "        prec.append(i)\n",
    "        price =i\n",
    "if len(prec)>1:\n",
    "    price = prec[0]\n",
    "else:\n",
    "    pass"
   ]
  },
  {
   "cell_type": "code",
   "execution_count": 67,
   "id": "1353b972",
   "metadata": {},
   "outputs": [],
   "source": [
    "if price !='':\n",
    "    price_col = this_data[price]\n",
    "    price_data = pd.DataFrame(price_col,columns=[price])\n",
    "    price_data\n",
    "else:\n",
    "    print(\"Price Is Empty\")"
   ]
  },
  {
   "cell_type": "code",
   "execution_count": 68,
   "id": "bdb16309",
   "metadata": {},
   "outputs": [
    {
     "name": "stdout",
     "output_type": "stream",
     "text": [
      "\n"
     ]
    }
   ],
   "source": [
    "str1 = \"DTO\"\n",
    "str2 = \"Descuento\"\n",
    "str3 = \"DCTO\"\n",
    "str4 = \"Desc\"\n",
    "disc = ''\n",
    "for i in this_data.columns:\n",
    "    ratio1 = fuzz.ratio(str1.lower(),str(i).lower())\n",
    "    ratio2 = fuzz.ratio(str2.lower(),str(i).lower())\n",
    "    ratio3 = fuzz.ratio(str3.lower(),str(i).lower())\n",
    "    ratio4 = fuzz.ratio(str4.lower(),str(i).lower())\n",
    "    if ratio1>=75:\n",
    "        print(i)\n",
    "        disc = i\n",
    "        print(\"Im condition 1\")\n",
    "    \n",
    "    elif ratio2>=75:\n",
    "        print(i)\n",
    "        disc = i\n",
    "        print(\"Im condition 2\")\n",
    "    \n",
    "    elif ratio3>=75:\n",
    "        print(i)\n",
    "        disc = i\n",
    "        print(\"Im condition 3\")\n",
    "    \n",
    "    elif ratio4>=75:\n",
    "        print(i)\n",
    "        disc = i\n",
    "        print(\"Im condition 4\")\n",
    "    \n",
    "print(disc)"
   ]
  },
  {
   "cell_type": "code",
   "execution_count": 69,
   "id": "35aa90c4",
   "metadata": {},
   "outputs": [],
   "source": [
    "if disc!='':\n",
    "    disc_col = this_data[disc]\n",
    "    disc_data = pd.DataFrame(disc_col,columns=[disc])\n",
    "    disc_data"
   ]
  },
  {
   "cell_type": "code",
   "execution_count": 70,
   "id": "2417e85a",
   "metadata": {},
   "outputs": [
    {
     "name": "stdout",
     "output_type": "stream",
     "text": [
      "Cantidad\n",
      "Im condition 1\n"
     ]
    }
   ],
   "source": [
    "str1 = \"Cantidad\"\n",
    "str2 = \"Cant\"\n",
    "str3 = \"Unid\"\n",
    "str4 = \"Unidades\"\n",
    "str5 = \"Uds\"\n",
    "str6 = \"Peso\"\n",
    "cat = ''\n",
    "for i in this_data.columns:\n",
    "    ratio1 = fuzz.ratio(str1.lower(),str(i).lower())\n",
    "    if ratio1>=75:\n",
    "        print(i)\n",
    "        cat = i\n",
    "        print(\"Im condition 1\")\n",
    "    ratio2 = fuzz.ratio(str2.lower(),str(i).lower())\n",
    "    if ratio2>=75:\n",
    "        print(i)\n",
    "        cat =i\n",
    "        print(\"Im condition 2\")\n",
    "    ratio3 = fuzz.ratio(str3.lower(),str(i).lower())\n",
    "    if ratio3>=75:\n",
    "        print(\"Im condition 3\")\n",
    "        print(i)\n",
    "        cat =i\n",
    "    ratio4 = fuzz.ratio(str4.lower(),str(i).lower())\n",
    "    if ratio4>=75:\n",
    "        print(\"Im condition 4\")\n",
    "        print(i)\n",
    "        cat =i\n",
    "    ratio5 = fuzz.ratio(str5.lower(),str(i).lower())\n",
    "    if ratio5>=75:\n",
    "        print(\"Im condition 5\")\n",
    "        print(i)\n",
    "        cat =i\n",
    "    ratio6 = fuzz.ratio(str6.lower(),str(i).lower())\n",
    "    if ratio6>=75:\n",
    "        print(\"Im condition 6\")\n",
    "        print(i)\n",
    "        cat =i"
   ]
  },
  {
   "cell_type": "code",
   "execution_count": 71,
   "id": "b15ea524",
   "metadata": {},
   "outputs": [],
   "source": [
    "if cat!='':\n",
    "    Cantidad = this_data[cat]\n",
    "    Cantidad_data = pd.DataFrame(Cantidad,columns=[cat])\n",
    "    Cantidad_data\n",
    "else:\n",
    "    print(\"Quantity is Empty\")\n",
    "#Cantidad_data"
   ]
  },
  {
   "cell_type": "code",
   "execution_count": 72,
   "id": "70995dc1",
   "metadata": {},
   "outputs": [
    {
     "data": {
      "text/html": [
       "<div>\n",
       "<style scoped>\n",
       "    .dataframe tbody tr th:only-of-type {\n",
       "        vertical-align: middle;\n",
       "    }\n",
       "\n",
       "    .dataframe tbody tr th {\n",
       "        vertical-align: top;\n",
       "    }\n",
       "\n",
       "    .dataframe thead th {\n",
       "        text-align: right;\n",
       "    }\n",
       "</style>\n",
       "<table border=\"1\" class=\"dataframe\">\n",
       "  <thead>\n",
       "    <tr style=\"text-align: right;\">\n",
       "      <th></th>\n",
       "      <th>Cantidad</th>\n",
       "    </tr>\n",
       "  </thead>\n",
       "  <tbody>\n",
       "    <tr>\n",
       "      <th>0</th>\n",
       "      <td>2,5</td>\n",
       "    </tr>\n",
       "  </tbody>\n",
       "</table>\n",
       "</div>"
      ],
      "text/plain": [
       "  Cantidad\n",
       "0      2,5"
      ]
     },
     "execution_count": 72,
     "metadata": {},
     "output_type": "execute_result"
    }
   ],
   "source": [
    "Cantidad_data"
   ]
  },
  {
   "cell_type": "code",
   "execution_count": 73,
   "id": "d54fb815",
   "metadata": {},
   "outputs": [
    {
     "name": "stdout",
     "output_type": "stream",
     "text": [
      "  Cantidad\n",
      "0      2,5\n"
     ]
    }
   ],
   "source": [
    "if cat!='':\n",
    "    fecha= Cantidad_data.iloc[:,0].str.split(\" \", n = 1, expand = True)\n",
    "    print(Cantidad_data)"
   ]
  },
  {
   "cell_type": "code",
   "execution_count": 74,
   "id": "c8f7633d",
   "metadata": {},
   "outputs": [],
   "source": [
    "Cantidad_data = fecha[0]"
   ]
  },
  {
   "cell_type": "code",
   "execution_count": 75,
   "id": "aad1073d",
   "metadata": {},
   "outputs": [
    {
     "data": {
      "text/plain": [
       "0    2,5\n",
       "Name: 0, dtype: object"
      ]
     },
     "execution_count": 75,
     "metadata": {},
     "output_type": "execute_result"
    }
   ],
   "source": [
    "Cantidad_data"
   ]
  },
  {
   "cell_type": "code",
   "execution_count": 76,
   "id": "6212966a",
   "metadata": {},
   "outputs": [
    {
     "name": "stdout",
     "output_type": "stream",
     "text": [
      "\n"
     ]
    }
   ],
   "source": [
    "str1 = 'IMPUESTO'\n",
    "imposto = ''\n",
    "for i in this_data.columns:\n",
    "    ratio1 = fuzz.partial_ratio(str1.lower(),str(i).lower())\n",
    "    if ratio1>=75:\n",
    "        print(i)\n",
    "        imposto = i\n",
    "print(imposto)"
   ]
  },
  {
   "cell_type": "code",
   "execution_count": 77,
   "id": "9f5f093d",
   "metadata": {},
   "outputs": [],
   "source": [
    "if imposto!='':\n",
    "    imposto_col = this_data[imposto]\n",
    "    imposto_data = pd.DataFrame(imposto_col,columns=[imposto])\n",
    "    imposto_data"
   ]
  },
  {
   "cell_type": "code",
   "execution_count": 78,
   "id": "4b99087c",
   "metadata": {},
   "outputs": [
    {
     "name": "stdout",
     "output_type": "stream",
     "text": [
      "\n"
     ]
    }
   ],
   "source": [
    "str1 = 'Tasa'\n",
    "str2 = 'TIPO'\n",
    "tasa = ''\n",
    "for i in this_data.columns:\n",
    "    ratio1 = fuzz.ratio(str1.lower(),str(i).lower())\n",
    "    if ratio1>=75:\n",
    "        print(i)\n",
    "        tasa = i\n",
    "    ratio2 = fuzz.ratio(str2.lower(),str(i).lower())\n",
    "    if ratio2>=75:\n",
    "        print(i)\n",
    "        tasa = i\n",
    "print(tasa)"
   ]
  },
  {
   "cell_type": "code",
   "execution_count": 79,
   "id": "c2761cbc",
   "metadata": {},
   "outputs": [],
   "source": [
    "if tasa!='':\n",
    "    tasa_col = this_data[tasa]\n",
    "    tasa_data = pd.DataFrame(tasa_col,columns=[tasa])\n",
    "    tasa_data"
   ]
  },
  {
   "cell_type": "code",
   "execution_count": 80,
   "id": "ac020595",
   "metadata": {},
   "outputs": [
    {
     "name": "stdout",
     "output_type": "stream",
     "text": [
      "\n"
     ]
    }
   ],
   "source": [
    "str1 = 'Lote'\n",
    "str2 = 'LOTE'\n",
    "lote = ''\n",
    "for i in this_data.columns:\n",
    "    ratio1 = fuzz.ratio(str1.lower(),str(i).lower())\n",
    "    if ratio1>=75:\n",
    "        print(i)\n",
    "        lote = i\n",
    "    ratio2 = fuzz.ratio(str2.lower(),str(i).lower())\n",
    "    if ratio2>=75:\n",
    "        print(i)\n",
    "        lote = i\n",
    "print(lote)"
   ]
  },
  {
   "cell_type": "code",
   "execution_count": 81,
   "id": "0a9d3675",
   "metadata": {},
   "outputs": [],
   "source": [
    "if lote!='':\n",
    "    lote_col = this_data[lote]\n",
    "    lote_data = pd.DataFrame(lote_col,columns=[lote])\n",
    "    lote_data"
   ]
  },
  {
   "cell_type": "code",
   "execution_count": null,
   "id": "fc57cd57",
   "metadata": {},
   "outputs": [],
   "source": []
  },
  {
   "cell_type": "code",
   "execution_count": 82,
   "id": "2658e39e",
   "metadata": {},
   "outputs": [],
   "source": [
    "#codingo_data\n",
    "#dataf\n",
    "#Cantidad_data\n",
    "#price_data"
   ]
  },
  {
   "cell_type": "code",
   "execution_count": 83,
   "id": "44cbc6fb",
   "metadata": {},
   "outputs": [],
   "source": [
    "if disc =='' and imposto =='' and tasa =='' and cat=='' and price == '':\n",
    "    df2 = pd.concat([codingo_data,desc_data],axis=1, join='inner')\n",
    "    df2['Price'] = '0'\n",
    "    df2['Quantity'] = '0'\n",
    "    df2['Discount'] = '0'\n",
    "    df2['IMPUESTO']=0\n",
    "    df2['Tasa']=0\n",
    "   \n",
    "   \n",
    "\n",
    "elif disc!='' and imposto =='' and tasa =='':\n",
    "    disc_col = this_data[disc]\n",
    "    disc_data = pd.DataFrame(disc_col,columns=[disc])\n",
    "    df2 = pd.concat([codingo_data,desc_data,Cantidad_data,price_data,disc_data],axis=1, join='inner')\n",
    "    df2['IMPUESTO']=0\n",
    "    df2['Tasa']=0\n",
    "    \n",
    "elif disc!='' and imposto!='' and tasa=='':\n",
    "    df2 = pd.concat([codingo_data,desc_data,Cantidad_data,price_data,disc_data,imposto_data],axis=1, join='inner')\n",
    "    df2['Tasa']=0\n",
    "    \n",
    "elif disc!='' and imposto=='' and tasa!='':\n",
    "    df2 = pd.concat([codingo_data,desc_data,Cantidad_data,price_data,disc_data,tasa_data],axis=1, join='inner')\n",
    "    df2['IMPUESTO']=0\n",
    "    \n",
    "elif disc=='' and imposto!='' and tasa!='':\n",
    "    df2 = pd.concat([codingo_data,desc_data,Cantidad_data,price_data,imposto_data,tasa_data],axis=1, join='inner')\n",
    "    df2['Discount']='0'\n",
    "    \n",
    "elif disc=='' and imposto=='' and tasa!='':\n",
    "    df2 = pd.concat([codingo_data,desc_data,Cantidad_data,price_data,tasa_data],axis=1, join='inner')\n",
    "    df2['Discount']='0'\n",
    "    df2['IMPUESTO']=0\n",
    "    \n",
    "elif disc=='' and imposto!='' and tasa=='':\n",
    "    df2 = pd.concat([codingo_data,desc_data,Cantidad_data,price_data,imposto_data],axis=1, join='inner')\n",
    "    df2['Discount']='0'\n",
    "    df2['Tasa']=0\n",
    "\n",
    "elif disc=='' and imposto=='' and tasa=='':\n",
    "    df2 = pd.concat([codingo_data,desc_data,Cantidad_data,price_data],axis=1, join='inner')\n",
    "    df2['Discount']='0'\n",
    "    df2['IMPUESTO']=0\n",
    "    df2['Tasa']=0"
   ]
  },
  {
   "cell_type": "code",
   "execution_count": 89,
   "id": "e00207e8",
   "metadata": {},
   "outputs": [
    {
     "data": {
      "text/html": [
       "<div>\n",
       "<style scoped>\n",
       "    .dataframe tbody tr th:only-of-type {\n",
       "        vertical-align: middle;\n",
       "    }\n",
       "\n",
       "    .dataframe tbody tr th {\n",
       "        vertical-align: top;\n",
       "    }\n",
       "\n",
       "    .dataframe thead th {\n",
       "        text-align: right;\n",
       "    }\n",
       "</style>\n",
       "<table border=\"1\" class=\"dataframe\">\n",
       "  <thead>\n",
       "    <tr style=\"text-align: right;\">\n",
       "      <th></th>\n",
       "      <th>Codigo</th>\n",
       "      <th>Description</th>\n",
       "      <th>Cantidad</th>\n",
       "      <th>Precio</th>\n",
       "      <th>Discount</th>\n",
       "      <th>IMPUESTO</th>\n",
       "      <th>Tasa</th>\n",
       "    </tr>\n",
       "  </thead>\n",
       "  <tbody>\n",
       "    <tr>\n",
       "      <th>0</th>\n",
       "      <td>LAT.013</td>\n",
       "      <td>Burrata \"LS\" GR.125</td>\n",
       "      <td>2,5</td>\n",
       "      <td>15.0</td>\n",
       "      <td>0</td>\n",
       "      <td>0</td>\n",
       "      <td>0</td>\n",
       "    </tr>\n",
       "  </tbody>\n",
       "</table>\n",
       "</div>"
      ],
      "text/plain": [
       "    Codigo           Description Cantidad  Precio Discount  IMPUESTO  Tasa\n",
       "0  LAT.013  Burrata \"LS\" GR.125       2,5    15.0        0         0     0"
      ]
     },
     "execution_count": 89,
     "metadata": {},
     "output_type": "execute_result"
    }
   ],
   "source": [
    "df2.head()"
   ]
  },
  {
   "cell_type": "code",
   "execution_count": 85,
   "id": "6907d571",
   "metadata": {},
   "outputs": [],
   "source": [
    "df2 = df2.replace('',0)"
   ]
  },
  {
   "cell_type": "code",
   "execution_count": 86,
   "id": "ffccac0e",
   "metadata": {},
   "outputs": [],
   "source": [
    "df2.columns.values[0] = \"Codigo\"\n",
    "df2.columns.values[1] = \"Description\"\n",
    "df2.columns.values[2] = \"Cantidad\"\n",
    "df2.columns.values[3] = \"Precio\""
   ]
  },
  {
   "cell_type": "code",
   "execution_count": 87,
   "id": "9446af8c",
   "metadata": {},
   "outputs": [
    {
     "name": "stderr",
     "output_type": "stream",
     "text": [
      "F:\\anaconda3\\envs\\python_3_7\\lib\\site-packages\\ipykernel_launcher.py:1: FutureWarning: The default value of regex will change from True to False in a future version.\n",
      "  \"\"\"Entry point for launching an IPython kernel.\n",
      "\n",
      "F:\\anaconda3\\envs\\python_3_7\\lib\\site-packages\\ipykernel_launcher.py:2: FutureWarning: The default value of regex will change from True to False in a future version.\n",
      "  \n",
      "\n"
     ]
    }
   ],
   "source": [
    "df2.iloc[:,3]= df2.iloc[:,3].str.replace('[A-Z]', '')\n",
    "df2.iloc[:,3]= df2.iloc[:,3].str.replace('[/\\+%&*-]', '')\n",
    "df2.iloc[:,3]= df2.iloc[:,3].str.replace(',', '.').astype(float)"
   ]
  },
  {
   "cell_type": "code",
   "execution_count": 88,
   "id": "40e42327",
   "metadata": {},
   "outputs": [
    {
     "name": "stdout",
     "output_type": "stream",
     "text": [
      "<class 'pandas.core.frame.DataFrame'>\n",
      "RangeIndex: 1 entries, 0 to 0\n",
      "Data columns (total 7 columns):\n",
      " #   Column       Non-Null Count  Dtype  \n",
      "---  ------       --------------  -----  \n",
      " 0   Codigo       1 non-null      object \n",
      " 1   Description  1 non-null      object \n",
      " 2   Cantidad     1 non-null      object \n",
      " 3   Precio       1 non-null      float64\n",
      " 4   Discount     1 non-null      object \n",
      " 5   IMPUESTO     1 non-null      int64  \n",
      " 6   Tasa         1 non-null      int64  \n",
      "dtypes: float64(1), int64(2), object(4)\n",
      "memory usage: 184.0+ bytes\n"
     ]
    }
   ],
   "source": [
    "df2.info()"
   ]
  },
  {
   "cell_type": "code",
   "execution_count": 66,
   "id": "f3a3d31a",
   "metadata": {},
   "outputs": [],
   "source": [
    "df2.iloc[:,2]= df2.iloc[:,2].str.replace(',', '.').astype(float)"
   ]
  },
  {
   "cell_type": "code",
   "execution_count": 67,
   "id": "7f7827eb",
   "metadata": {},
   "outputs": [],
   "source": [
    "df2.iloc[:,4]= df2.iloc[:,4].str.replace(',', '.').astype(float)"
   ]
  },
  {
   "cell_type": "code",
   "execution_count": null,
   "id": "6237a2ae",
   "metadata": {},
   "outputs": [],
   "source": []
  },
  {
   "cell_type": "code",
   "execution_count": 68,
   "id": "ab354015",
   "metadata": {},
   "outputs": [
    {
     "data": {
      "text/html": [
       "<div>\n",
       "<style scoped>\n",
       "    .dataframe tbody tr th:only-of-type {\n",
       "        vertical-align: middle;\n",
       "    }\n",
       "\n",
       "    .dataframe tbody tr th {\n",
       "        vertical-align: top;\n",
       "    }\n",
       "\n",
       "    .dataframe thead th {\n",
       "        text-align: right;\n",
       "    }\n",
       "</style>\n",
       "<table border=\"1\" class=\"dataframe\">\n",
       "  <thead>\n",
       "    <tr style=\"text-align: right;\">\n",
       "      <th></th>\n",
       "      <th>Codigo</th>\n",
       "      <th>Description</th>\n",
       "      <th>Cantidad</th>\n",
       "      <th>Precio</th>\n",
       "      <th>Discount</th>\n",
       "      <th>IMPUESTO</th>\n",
       "      <th>Tasa</th>\n",
       "    </tr>\n",
       "  </thead>\n",
       "  <tbody>\n",
       "    <tr>\n",
       "      <th>1</th>\n",
       "      <td>05109668</td>\n",
       "      <td>AGREF CACAH.CRUNCH TIJ.JR C24UX50G</td>\n",
       "      <td>0.0</td>\n",
       "      <td>0.0</td>\n",
       "      <td>0.0</td>\n",
       "      <td>0</td>\n",
       "      <td>0</td>\n",
       "    </tr>\n",
       "    <tr>\n",
       "      <th>2</th>\n",
       "      <td>05105266</td>\n",
       "      <td>GREF MRC ORIGINAL RA C24U</td>\n",
       "      <td>0.0</td>\n",
       "      <td>0.0</td>\n",
       "      <td>0.0</td>\n",
       "      <td>0</td>\n",
       "      <td>0</td>\n",
       "    </tr>\n",
       "    <tr>\n",
       "      <th>3</th>\n",
       "      <td>05106569</td>\n",
       "      <td>EGREF MRC XL SR/AL C20UX85G</td>\n",
       "      <td>0.0</td>\n",
       "      <td>0.0</td>\n",
       "      <td>0.0</td>\n",
       "      <td>0</td>\n",
       "      <td>0</td>\n",
       "    </tr>\n",
       "    <tr>\n",
       "      <th>4</th>\n",
       "      <td>05105267</td>\n",
       "      <td>GREF MRC MIX-5 RA C24U</td>\n",
       "      <td>0.0</td>\n",
       "      <td>0.0</td>\n",
       "      <td>0.0</td>\n",
       "      <td>0</td>\n",
       "      <td>0</td>\n",
       "    </tr>\n",
       "    <tr>\n",
       "      <th>5</th>\n",
       "      <td>03104971</td>\n",
       "      <td>GREF SNATTS CHOC C/PVP SR C10U</td>\n",
       "      <td>0.0</td>\n",
       "      <td>0.0</td>\n",
       "      <td>0.0</td>\n",
       "      <td>0</td>\n",
       "      <td>0</td>\n",
       "    </tr>\n",
       "  </tbody>\n",
       "</table>\n",
       "</div>"
      ],
      "text/plain": [
       "     Codigo                         Description  Cantidad  Precio  Discount  \\\n",
       "1  05109668  AGREF CACAH.CRUNCH TIJ.JR C24UX50G       0.0     0.0       0.0   \n",
       "2  05105266           GREF MRC ORIGINAL RA C24U       0.0     0.0       0.0   \n",
       "3  05106569         EGREF MRC XL SR/AL C20UX85G       0.0     0.0       0.0   \n",
       "4  05105267              GREF MRC MIX-5 RA C24U       0.0     0.0       0.0   \n",
       "5  03104971      GREF SNATTS CHOC C/PVP SR C10U       0.0     0.0       0.0   \n",
       "\n",
       "   IMPUESTO  Tasa  \n",
       "1         0     0  \n",
       "2         0     0  \n",
       "3         0     0  \n",
       "4         0     0  \n",
       "5         0     0  "
      ]
     },
     "execution_count": 68,
     "metadata": {},
     "output_type": "execute_result"
    }
   ],
   "source": [
    "df2"
   ]
  },
  {
   "cell_type": "code",
   "execution_count": 69,
   "id": "6305081e",
   "metadata": {},
   "outputs": [
    {
     "data": {
      "text/plain": [
       "Codigo          object\n",
       "Description     object\n",
       "Cantidad       float64\n",
       "Precio         float64\n",
       "Discount       float64\n",
       "IMPUESTO         int64\n",
       "Tasa             int64\n",
       "dtype: object"
      ]
     },
     "execution_count": 69,
     "metadata": {},
     "output_type": "execute_result"
    }
   ],
   "source": [
    "df2.dtypes"
   ]
  },
  {
   "cell_type": "code",
   "execution_count": null,
   "id": "ef46325d",
   "metadata": {},
   "outputs": [],
   "source": []
  },
  {
   "cell_type": "code",
   "execution_count": null,
   "id": "8fdb7e55",
   "metadata": {},
   "outputs": [],
   "source": []
  }
 ],
 "metadata": {
  "kernelspec": {
   "display_name": "Python 3 (ipykernel)",
   "language": "python",
   "name": "python3"
  },
  "language_info": {
   "codemirror_mode": {
    "name": "ipython",
    "version": 3
   },
   "file_extension": ".py",
   "mimetype": "text/x-python",
   "name": "python",
   "nbconvert_exporter": "python",
   "pygments_lexer": "ipython3",
   "version": "3.7.11"
  }
 },
 "nbformat": 4,
 "nbformat_minor": 5
}
