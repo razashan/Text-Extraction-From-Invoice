{
 "cells": [
  {
   "cell_type": "code",
   "execution_count": 1,
   "id": "ed59fc7b",
   "metadata": {},
   "outputs": [
    {
     "name": "stderr",
     "output_type": "stream",
     "text": [
      "F:\\anaconda3\\envs\\python_3_7\\lib\\site-packages\\fuzzywuzzy\\fuzz.py:11: UserWarning: Using slow pure-python SequenceMatcher. Install python-Levenshtein to remove this warning\n",
      "  warnings.warn('Using slow pure-python SequenceMatcher. Install python-Levenshtein to remove this warning')\n",
      "\n"
     ]
    }
   ],
   "source": [
    "import fitz\n",
    "import os\n",
    "from fuzzywuzzy import fuzz\n",
    "from fuzzywuzzy import process\n",
    "from PIL import Image \n",
    "import io\n",
    "import boto3\n",
    "import numpy as np"
   ]
  },
  {
   "cell_type": "code",
   "execution_count": 2,
   "id": "2f9b49a5",
   "metadata": {},
   "outputs": [],
   "source": [
    "from PIL import Image\n",
    "import pytesseract\n",
    "import argparse\n",
    "import cv2\n",
    "import os\n",
    "import pandas as pd\n",
    "import seaborn as sns\n",
    "import matplotlib.pyplot as plt\n",
    "import numpy as np\n",
    "import csv\n",
    "import nltk\n",
    "import re\n",
    "from nltk.tokenize import word_tokenize\n",
    "from nltk.corpus import wordnet "
   ]
  },
  {
   "cell_type": "markdown",
   "id": "e62eb131",
   "metadata": {},
   "source": [
    "# Code for Converting PDF to IMG"
   ]
  },
  {
   "cell_type": "code",
   "execution_count": 49,
   "id": "0e2c3956",
   "metadata": {},
   "outputs": [],
   "source": [
    "\n",
    "def convert_pdf2img(input_file: str,pages=None):\n",
    "    \"\"\"Converts pdf to image and generates a file by page\"\"\"\n",
    "    # Open the document\n",
    "    pdfIn = fitz.open(input_file)\n",
    "    output_files = []\n",
    "    # Iterate throughout the pages\n",
    "    for pg in range(pdfIn.pageCount):\n",
    "        if str(pages) != str(None):\n",
    "            if str(pg) not in str(pages):\n",
    "                continue\n",
    "        # Select a page\n",
    "        page = pdfIn[pg]\n",
    "        rotate = int(0)\n",
    "        # PDF Page is converted into a whole picture 1056*816 and then for each picture a screenshot is taken.\n",
    "        # zoom = 1.33333333 -----> Image size = 1056*816\n",
    "        # zoom = 2 ---> 2 * Default Resolution (text is clear, image text is hard to read)    = filesize small / Image size = 1584*1224\n",
    "        # zoom = 4 ---> 4 * Default Resolution (text is clear, image text is barely readable) = filesize large\n",
    "        # zoom = 8 ---> 8 * Default Resolution (text is clear, image text is readable) = filesize large\n",
    "        zoom_x = 2\n",
    "        zoom_y = 2\n",
    "        # The zoom factor is equal to 2 in order to make text clear\n",
    "        # Pre-rotate is to rotate if needed.\n",
    "        mat = fitz.Matrix(zoom_x, zoom_y).preRotate(rotate)\n",
    "        pix = page.getPixmap(matrix=mat, alpha=False)\n",
    "        path = 'Makro Invoices/Makro Invoices/'\n",
    "        output_file = f\"{os.path.splitext(os.path.basename(input_file))[0]}_page{pg+1}.png\"\n",
    "        pix.writePNG(output_file)\n",
    "        output_files.append(output_file)\n",
    "    pdfIn.close()\n",
    "    summary = {\n",
    "        \"File\": input_file, \"Pages\": str(pages), \"Output File(s)\": str(output_files)\n",
    "    }\n",
    "    # Printing Summary\n",
    "    print(\"## Summary ########################################################\")\n",
    "    print(\"\\n\".join(\"{}:{}\".format(i, j) for i, j in summary.items()))\n",
    "    print(\"###################################################################\")\n",
    "    return output_files"
   ]
  },
  {
   "cell_type": "markdown",
   "id": "09545758",
   "metadata": {},
   "source": [
    "# Code for Converting PDF to IMG"
   ]
  },
  {
   "cell_type": "code",
   "execution_count": 51,
   "id": "fa0b20d5",
   "metadata": {},
   "outputs": [
    {
     "name": "stdout",
     "output_type": "stream",
     "text": [
      "## Summary ########################################################\n",
      "File:Makro Invoices/Makro Invoices/61908_A28647451 DEFAULT C9627 TYPE_20220530_6_FacturaCompra.pdf\n",
      "Pages:None\n",
      "Output File(s):['61908_A28647451 DEFAULT C9627 TYPE_20220530_6_FacturaCompra_page1.png']\n",
      "###################################################################\n"
     ]
    },
    {
     "data": {
      "text/plain": [
       "['61908_A28647451 DEFAULT C9627 TYPE_20220530_6_FacturaCompra_page1.png']"
      ]
     },
     "execution_count": 51,
     "metadata": {},
     "output_type": "execute_result"
    }
   ],
   "source": [
    "convert_pdf2img('Makro Invoices/Makro Invoices/61908_A28647451 DEFAULT C9627 TYPE_20220530_6_FacturaCompra.pdf')"
   ]
  },
  {
   "cell_type": "markdown",
   "id": "88ae138f",
   "metadata": {},
   "source": [
    "# Code For Extracting Fields using Tesseract "
   ]
  },
  {
   "cell_type": "code",
   "execution_count": 3,
   "id": "5626ea8b",
   "metadata": {},
   "outputs": [],
   "source": [
    "pytesseract.pytesseract.tesseract_cmd = r\"C:\\Program Files\\Tesseract-OCR\\tesseract.exe\""
   ]
  },
  {
   "cell_type": "code",
   "execution_count": 29,
   "id": "81802cce",
   "metadata": {},
   "outputs": [
    {
     "name": "stdout",
     "output_type": "stream",
     "text": [
      "<class 'list'>\n",
      "Factura\n",
      "['Factura']\n",
      "Date\n",
      "02/01/2021\n",
      "Date\n",
      "02.01.2021\n",
      "Date\n",
      "02/01/2022\n",
      "Case Total\n",
      "10,\n",
      "Wall time: 4.15 s\n"
     ]
    }
   ],
   "source": [
    "%%time\n",
    "dat = {\"Supplier\":'',\n",
    "    \"Vat Number\":'',\n",
    "       \"Total\":0,\n",
    "       \"Date\":'',\n",
    "      \"Invoice_Number\":''}\n",
    "img  = cv2.imread('Makro Invoices/Makro Invoices/Makro.png', cv2.COLOR_RGB2GRAY)\n",
    "text=(pytesseract.image_to_string(img))\n",
    "text_list = text.split(\"\\n\")\n",
    "print(type(text_list))\n",
    "for idx, a in enumerate(text_list):\n",
    "    if(a.strip() != \"\"):\n",
    "        if(\"Montesano\" in a):\n",
    "            dat[\"Supplier\"] = \"Montesano\"\n",
    "        if(\"Makro\" in a or \"MAKRO\" in a or \"makro\" in a):\n",
    "            dat[\"Supplier\"] = \"Makro\"\n",
    "        if(\"NIF:\" in a or  \"N.I.F.:\" in a  or \"CIF\" in a):\n",
    "                print(\"Case Vat Number\")\n",
    "                b = a.split(\" \")\n",
    "                if len(b[-1])>10:\n",
    "                    dat[\"Vat Number\"] = b[-1]\n",
    "                    print(b[-1])\n",
    "                elif dat[\"Supplier\"] == \"Montesano\" and len(b[-1])>8:\n",
    "                    dat[\"Vat Number\"] = b[-1]\n",
    "        if (\"Tarjeta\" in a or \"Credito\" in a or  \"pagina\" in a or \"Total:\" in a):\n",
    "            print(\"Case Total\")\n",
    "            b = a.split(\" \")\n",
    "            if len(b[-1])==2:\n",
    "                \n",
    "                dat[\"Total\"] = b[-2]+b[-1]\n",
    "                print(b[-2]+b[-1])\n",
    "            else:\n",
    "                dat[\"Total\"] = b[-1]\n",
    "                print(b[-1])\n",
    "        if (\"vent:\" in a or \"venta:\" in a or \"Fecha:\" in a or \"Fecha\" in a):\n",
    "            print(\"Date\")\n",
    "            b = a.split(\" \")\n",
    "            if len(b[-1])>7:\n",
    "                dat[\"Date\"] = b[-1]\n",
    "                print(b[-1])\n",
    "            else:\n",
    "                dat[\"Date\"] = b[-2]\n",
    "                print(b[-2])\n",
    "        if (\"Factura\" in a or \"ALBARAN\" in a or \"Factura: \" in a):\n",
    "\n",
    "            print(a)\n",
    "            b = a.split(\" \")\n",
    "            if b[0] == \"ALBARAN\":\n",
    "                dat[\"Invoice_Number\"] = b[1]\n",
    "                print(\"Hello Darling\")\n",
    "            print(b)\n",
    "            if len(b)>3:\n",
    "                print(b)\n",
    "                if len(b)>4 and b[2] !='—' and len(b[1])!=25 and len(b[1])>5:\n",
    "                    dat[\"Invoice_Number\"] = b[1]+b[2]\n",
    "                    print(b)\n",
    "                elif len(b)>=5 and len(b[1])==25:\n",
    "                    dat[\"Invoice_Number\"] = b[1]\n",
    "                elif len(b)>6 and len(b[3])>15:\n",
    "                    dat[\"Invoice_Number\"] = b[1]+ b[2]+ b[3]\n",
    "                elif len(b)>6 and b[1]== \"0/0\":\n",
    "                    dat[\"Invoice_Number\"] = b[1] + b[2]"
   ]
  },
  {
   "cell_type": "code",
   "execution_count": 30,
   "id": "a974c811",
   "metadata": {},
   "outputs": [
    {
     "data": {
      "text/plain": [
       "{'Supplier': 'Makro',\n",
       " 'Vat Number': '',\n",
       " 'Total': '10,',\n",
       " 'Date': '02/01/2022',\n",
       " 'Invoice_Number': ''}"
      ]
     },
     "execution_count": 30,
     "metadata": {},
     "output_type": "execute_result"
    }
   ],
   "source": [
    "dat"
   ]
  },
  {
   "cell_type": "markdown",
   "id": "d981f5cd",
   "metadata": {},
   "source": [
    "# Code for Extracting Table "
   ]
  },
  {
   "cell_type": "code",
   "execution_count": 31,
   "id": "413b4345",
   "metadata": {},
   "outputs": [],
   "source": [
    "im = Image.open('Makro Invoices/Makro Invoices/Makro.png')"
   ]
  },
  {
   "cell_type": "code",
   "execution_count": 32,
   "id": "31c7a622",
   "metadata": {},
   "outputs": [],
   "source": [
    "buffered = io.BytesIO()\n",
    "im.save(buffered, format='PNG')"
   ]
  },
  {
   "cell_type": "code",
   "execution_count": 33,
   "id": "be323f34",
   "metadata": {},
   "outputs": [],
   "source": [
    "client = boto3.client('textract')\n",
    "response = client.analyze_document(\n",
    "    Document={'Bytes': buffered.getvalue()},\n",
    "    FeatureTypes=['TABLES']\n",
    ")"
   ]
  },
  {
   "cell_type": "code",
   "execution_count": 34,
   "id": "6071b7a8",
   "metadata": {},
   "outputs": [],
   "source": [
    "def map_blocks(blocks, block_type):\n",
    "    return {\n",
    "        block['Id']: block\n",
    "        for block in blocks\n",
    "        if block['BlockType'] == block_type\n",
    "    }\n",
    "\n",
    "blocks = response['Blocks']\n",
    "tables = map_blocks(blocks, 'TABLE')\n",
    "cells = map_blocks(blocks, 'CELL')\n",
    "words = map_blocks(blocks, 'WORD')\n",
    "selections = map_blocks(blocks, 'SELECTION_ELEMENT')"
   ]
  },
  {
   "cell_type": "code",
   "execution_count": 35,
   "id": "abaff700",
   "metadata": {},
   "outputs": [],
   "source": [
    "def get_children_ids(block):\n",
    "    for rels in block.get('Relationships', []):\n",
    "        if rels['Type'] == 'CHILD':\n",
    "            yield from rels['Ids']"
   ]
  },
  {
   "cell_type": "code",
   "execution_count": 36,
   "id": "8460db98",
   "metadata": {},
   "outputs": [],
   "source": [
    "import pandas as pd\n",
    "\n",
    "dataframes = []\n",
    "\n",
    "for table in tables.values():\n",
    "\n",
    "    # Determine all the cells that belong to this table\n",
    "    table_cells = [cells[cell_id] for cell_id in get_children_ids(table)]\n",
    "\n",
    "    # Determine the table's number of rows and columns\n",
    "    n_rows = max(cell['RowIndex'] for cell in table_cells)\n",
    "    n_cols = max(cell['ColumnIndex'] for cell in table_cells)\n",
    "    content = [[None for _ in range(n_cols)] for _ in range(n_rows)]\n",
    "\n",
    "    # Fill in each cell\n",
    "    for cell in table_cells:\n",
    "        cell_contents = [\n",
    "            words[child_id]['Text']\n",
    "            if child_id in words\n",
    "            else selections[child_id]['SelectionStatus']\n",
    "            for child_id in get_children_ids(cell)\n",
    "        ]\n",
    "        i = cell['RowIndex'] - 1\n",
    "        j = cell['ColumnIndex'] - 1\n",
    "        content[i][j] = ' '.join(cell_contents)\n",
    "\n",
    "    # We assume that the first row corresponds to the column names\n",
    "    dataframe = pd.DataFrame(content[1:], columns=content[0])\n",
    "    dataframes.append(dataframe)"
   ]
  },
  {
   "cell_type": "code",
   "execution_count": 45,
   "id": "4a096a14",
   "metadata": {},
   "outputs": [
    {
     "name": "stdout",
     "output_type": "stream",
     "text": [
      "Yes 1\n"
     ]
    }
   ],
   "source": [
    "\n",
    "if \"MM Num. articulo\" in dataframes[1] or \"MM Num. artículo\" in dataframes[1] or \"REF.\" in dataframes[1] or \"Num. articulo\" in dataframes[1] or \"Num. artículo\" in dataframes[1]:\n",
    "    data = pd.DataFrame(dataframes[1])\n",
    "    data.to_excel('Makro Invoices/Makro Invoices/Saved_Datad.xlsx')\n",
    "    print(\"Yes 1\")\n",
    "elif \"MM Num. articulo\" in dataframes[0] or \"MM Num. artículo\" in dataframes[0] or  \"Num. articulo\" in dataframes[0]:\n",
    "    data = pd.DataFrame(dataframes[0])\n",
    "    data.to_excel('Makro Invoices/Makro Invoices/Saved_Datad.xlsx')\n",
    "    print(\"Yes 2\")\n",
    "\n",
    "elif \"Bsdc SL\" in dataframes[0] :\n",
    "    data = pd.DataFrame(dataframes[1])\n",
    "    data.to_excel('Makro Invoices/Makro Invoices/Saved_Datad.xlsx')\n",
    "    \n",
    "elif (len(dataframes)>=3 and (\"MM Num. artículo\" in dataframes[2] or \"MM Num. artículo\" in dataframes[2] \n",
    "                            or \"MM Num. articulo\" in dataframes[2])):\n",
    "    data = pd.DataFrame(dataframes[2])\n",
    "    data.to_excel('Makro Invoices/Makro Invoices/Saved_Datad.xlsx')\n",
    "    print('Condition 2')\n",
    "    \n",
    "else:\n",
    "    data = pd.DataFrame(dataframes[0])\n",
    "    data.to_excel('Makro Invoices/Makro Invoices/Saved_Datad.xlsx')\n",
    "    print(\"Yes\")"
   ]
  },
  {
   "cell_type": "code",
   "execution_count": 46,
   "id": "34b8fc02",
   "metadata": {},
   "outputs": [
    {
     "data": {
      "text/html": [
       "<div>\n",
       "<style scoped>\n",
       "    .dataframe tbody tr th:only-of-type {\n",
       "        vertical-align: middle;\n",
       "    }\n",
       "\n",
       "    .dataframe tbody tr th {\n",
       "        vertical-align: top;\n",
       "    }\n",
       "\n",
       "    .dataframe thead th {\n",
       "        text-align: right;\n",
       "    }\n",
       "</style>\n",
       "<table border=\"1\" class=\"dataframe\">\n",
       "  <thead>\n",
       "    <tr style=\"text-align: right;\">\n",
       "      <th></th>\n",
       "      <th>Num. artículo</th>\n",
       "      <th>Descrip. artículo</th>\n",
       "      <th>Cont</th>\n",
       "      <th></th>\n",
       "      <th>Prec. Ud.</th>\n",
       "      <th>Cont P.</th>\n",
       "      <th>Precio</th>\n",
       "      <th>Cant.</th>\n",
       "      <th>Importe</th>\n",
       "      <th>Imp</th>\n",
       "      <th>Prec.Ud.*. DT</th>\n",
       "      <th>AOO</th>\n",
       "      <th>RCD</th>\n",
       "    </tr>\n",
       "  </thead>\n",
       "  <tbody>\n",
       "    <tr>\n",
       "      <th>0</th>\n",
       "      <td>08437006156653</td>\n",
       "      <td>LIMON GRANEL CJ/KG</td>\n",
       "      <td>KG</td>\n",
       "      <td></td>\n",
       "      <td>1,090</td>\n",
       "      <td>2,020</td>\n",
       "      <td>2,20</td>\n",
       "      <td>1</td>\n",
       "      <td>2,20</td>\n",
       "      <td>0</td>\n",
       "      <td></td>\n",
       "      <td></td>\n",
       "      <td></td>\n",
       "    </tr>\n",
       "    <tr>\n",
       "      <th>1</th>\n",
       "      <td>08437009243169</td>\n",
       "      <td>CEBOLLA ROJA CJ/KG</td>\n",
       "      <td>KG</td>\n",
       "      <td></td>\n",
       "      <td>1,250</td>\n",
       "      <td>3,165</td>\n",
       "      <td>3,96</td>\n",
       "      <td>1</td>\n",
       "      <td>3,96</td>\n",
       "      <td>0</td>\n",
       "      <td></td>\n",
       "      <td></td>\n",
       "      <td></td>\n",
       "    </tr>\n",
       "    <tr>\n",
       "      <th>2</th>\n",
       "      <td>2054846052400</td>\n",
       "      <td>COL VERDE CAMPO CJ/KG</td>\n",
       "      <td>KG</td>\n",
       "      <td></td>\n",
       "      <td>0,890</td>\n",
       "      <td>5,240</td>\n",
       "      <td>4,66</td>\n",
       "      <td>1</td>\n",
       "      <td>4,66</td>\n",
       "      <td>0</td>\n",
       "      <td></td>\n",
       "      <td></td>\n",
       "      <td></td>\n",
       "    </tr>\n",
       "    <tr>\n",
       "      <th>3</th>\n",
       "      <td>M 110359</td>\n",
       "      <td>PAPAS KING EDWARDS MC so 25KG</td>\n",
       "      <td>SC</td>\n",
       "      <td></td>\n",
       "      <td>16,250</td>\n",
       "      <td>1</td>\n",
       "      <td>16,25</td>\n",
       "      <td>1</td>\n",
       "      <td>16,25</td>\n",
       "      <td>0</td>\n",
       "      <td></td>\n",
       "      <td></td>\n",
       "      <td></td>\n",
       "    </tr>\n",
       "    <tr>\n",
       "      <th>4</th>\n",
       "      <td>8437005995079</td>\n",
       "      <td>PADRON DULCE MC BL 500G</td>\n",
       "      <td>BL</td>\n",
       "      <td></td>\n",
       "      <td>3,750</td>\n",
       "      <td>1</td>\n",
       "      <td>3,75</td>\n",
       "      <td>2</td>\n",
       "      <td>7,50</td>\n",
       "      <td>0</td>\n",
       "      <td></td>\n",
       "      <td></td>\n",
       "      <td></td>\n",
       "    </tr>\n",
       "    <tr>\n",
       "      <th>5</th>\n",
       "      <td>5449000279217</td>\n",
       "      <td>COCACOLA BT 20CL ZERO</td>\n",
       "      <td>BT</td>\n",
       "      <td></td>\n",
       "      <td>0,650</td>\n",
       "      <td>24</td>\n",
       "      <td>15,59</td>\n",
       "      <td>2</td>\n",
       "      <td>31,18</td>\n",
       "      <td>1</td>\n",
       "      <td></td>\n",
       "      <td></td>\n",
       "      <td></td>\n",
       "    </tr>\n",
       "    <tr>\n",
       "      <th>6</th>\n",
       "      <td>5449000279187</td>\n",
       "      <td>COCACOLA BT 20CL REGULAR</td>\n",
       "      <td>BT</td>\n",
       "      <td></td>\n",
       "      <td>0,650</td>\n",
       "      <td>24</td>\n",
       "      <td>15,59</td>\n",
       "      <td>2</td>\n",
       "      <td>31,18</td>\n",
       "      <td>1</td>\n",
       "      <td></td>\n",
       "      <td></td>\n",
       "      <td></td>\n",
       "    </tr>\n",
       "    <tr>\n",
       "      <th>7</th>\n",
       "      <td>Número de bultos:</td>\n",
       "      <td>10 Peso Total: 10, 425 KG</td>\n",
       "      <td></td>\n",
       "      <td>Envases:</td>\n",
       "      <td>0</td>\n",
       "      <td></td>\n",
       "      <td></td>\n",
       "      <td></td>\n",
       "      <td>Importe</td>\n",
       "      <td></td>\n",
       "      <td>96,93</td>\n",
       "      <td></td>\n",
       "      <td></td>\n",
       "    </tr>\n",
       "  </tbody>\n",
       "</table>\n",
       "</div>"
      ],
      "text/plain": [
       "       Num. artículo              Descrip. artículo Cont           Prec. Ud.  \\\n",
       "0     08437006156653             LIMON GRANEL CJ/KG   KG               1,090   \n",
       "1     08437009243169             CEBOLLA ROJA CJ/KG   KG               1,250   \n",
       "2      2054846052400          COL VERDE CAMPO CJ/KG   KG               0,890   \n",
       "3           M 110359  PAPAS KING EDWARDS MC so 25KG   SC              16,250   \n",
       "4      8437005995079        PADRON DULCE MC BL 500G   BL               3,750   \n",
       "5      5449000279217          COCACOLA BT 20CL ZERO   BT               0,650   \n",
       "6      5449000279187       COCACOLA BT 20CL REGULAR   BT               0,650   \n",
       "7  Número de bultos:      10 Peso Total: 10, 425 KG       Envases:         0   \n",
       "\n",
       "  Cont P. Precio Cant.  Importe Imp Prec.Ud.*. DT AOO RCD  \n",
       "0   2,020   2,20     1     2,20   0                        \n",
       "1   3,165   3,96     1     3,96   0                        \n",
       "2   5,240   4,66     1     4,66   0                        \n",
       "3       1  16,25     1    16,25   0                        \n",
       "4       1   3,75     2     7,50   0                        \n",
       "5      24  15,59     2    31,18   1                        \n",
       "6      24  15,59     2    31,18   1                        \n",
       "7                       Importe             96,93          "
      ]
     },
     "execution_count": 46,
     "metadata": {},
     "output_type": "execute_result"
    }
   ],
   "source": [
    "dataframes[1]"
   ]
  },
  {
   "cell_type": "code",
   "execution_count": 47,
   "id": "acd7a1e0",
   "metadata": {
    "scrolled": true
   },
   "outputs": [
    {
     "data": {
      "text/plain": [
       "(8, 13)"
      ]
     },
     "execution_count": 47,
     "metadata": {},
     "output_type": "execute_result"
    }
   ],
   "source": [
    "data.shape"
   ]
  },
  {
   "cell_type": "code",
   "execution_count": 20,
   "id": "afe8b9ef",
   "metadata": {},
   "outputs": [
    {
     "name": "stdout",
     "output_type": "stream",
     "text": [
      "111.29\n",
      "24.87\n",
      "17.14\n",
      "154.05 154.05\n",
      "Both Values are equal\n"
     ]
    }
   ],
   "source": [
    "if dat[\"Supplier\"] == \"Makro\":\n",
    "    big = data.columns[0]\n",
    "    cont = data.columns[2]\n",
    "    lot = data.columns[1]\n",
    "    prec = data.columns[3]\n",
    "    cant = data.columns[-5]\n",
    "    imp = data.columns[-2]\n",
    "    importe = data.columns[-3]\n",
    "    third = data.columns[-4]\n",
    "    da = data.loc[(data[big] != \"Número de pedido\") & (data[big] != \"*** Número de pedido\") & (data[big]!=\"*** Número de\") & (data[big]!=\"*** Número\")]\n",
    "    da = da.loc[(da[big] != \"Entregado a: TABERNA\") & (da[big] !=\"Entregado a: TASCA\") & (da[big]!=\"Entregado a: TABERNA OSUNA\")\n",
    "          & (da[big]!= \"Entregado a: TABERNA osuna\")& (da[big]!=\"Fin de número\")]\n",
    "    da = da.loc[da[cont] !=\"LOT:\"]\n",
    "    da = da.loc[da[cant] !=\"Total\"]\n",
    "    da = da.loc[da[cant]!=\"LA LAGUNA\" ]\n",
    "    da = da.replace('',np.nan)\n",
    "    da = da.dropna(axis=0, thresh=3, how=\"any\")\n",
    "    limitPer = len(da) * .100\n",
    "    da = da.dropna(thresh=limitPer, axis=1)\n",
    "    da = da.replace(np.nan,'')\n",
    "    da = da.applymap(lambda x: str(x.replace(',','.')))\n",
    "    #da[lot] = da[lot]+' ' + da[cont]\n",
    "    #da =da.drop(labels=[cont,prec], axis=1)\n",
    "    #typee = {da.columns[2]:int}\n",
    "    #da = da.astype(typee)\n",
    "    da = da.astype({'Precio':float,'Importe':float,'Imp':int})\n",
    "    one_tax = da.loc[(da['Imp'] == 1)]\n",
    "    tax_one = 0\n",
    "    for i in one_tax['Importe']:\n",
    "        tax_one +=i\n",
    "    tax_one = round(tax_one*0.03,2)\n",
    "    two_tax =  da.loc[(da['Imp'] == 2)]\n",
    "    tax_two = 0\n",
    "    for i in two_tax['Importe']:\n",
    "        tax_two +=i\n",
    "    tax_two = round(tax_two*0.07,2)\n",
    "    final_total = 0\n",
    "    for i in da['Importe']:\n",
    "        final_total +=i\n",
    "    final_total = round(final_total)\n",
    "    final_sum = round(final_total + tax_one + tax_two,2)\n",
    "    print(final_sum)\n",
    "    print(dat[\"Total\"])\n",
    "    if str(final_sum) == dat[\"Total\"]:\n",
    "        print(\"Both Are equal\")\n",
    "    \n",
    "elif dat[\"Supplier\"] ==\"Montesano\":\n",
    "    da = data\n",
    "    da = da.applymap(lambda x: str(x.replace(',','.')))\n",
    "    da = da.astype({'Neto':float,'Total':float})\n",
    "    dat['Total'] = dat['Total'].replace(',','.')\n",
    "    tot = 0\n",
    "    for i in da[\"Total\"]:\n",
    "        print(i)\n",
    "        tot +=i\n",
    "        tot = round(tot,2)\n",
    "    three_percent = da.loc[(da['IGIC'] == '3%')]\n",
    "    three_var = 0 \n",
    "    for i in three_percent[\"Total\"]:\n",
    "        three_var +=i\n",
    "    three_var = round(three_var *0.03,2)\n",
    "    tot = three_var + tot\n",
    "    tot = str(tot)\n",
    "    print(tot,dat[\"Total\"])\n",
    "    if tot == dat[\"Total\"]:\n",
    "        print(\"Both Values are equal\")\n",
    "    \n",
    "    "
   ]
  },
  {
   "cell_type": "code",
   "execution_count": 149,
   "id": "faaa14a3",
   "metadata": {},
   "outputs": [
    {
     "data": {
      "text/plain": [
       "Index(['MM Num. articulo', 'Descrip. articulo', 'Cont P.', 'Precio', 'Cant.',\n",
       "       'Importe', 'Imp', 'DT AOO'],\n",
       "      dtype='object')"
      ]
     },
     "execution_count": 149,
     "metadata": {},
     "output_type": "execute_result"
    }
   ],
   "source": [
    "# drop cont  Prec. Ud. \n",
    "da.columns"
   ]
  },
  {
   "cell_type": "code",
   "execution_count": 160,
   "id": "04f5ca4b",
   "metadata": {},
   "outputs": [
    {
     "data": {
      "text/html": [
       "<div>\n",
       "<style scoped>\n",
       "    .dataframe tbody tr th:only-of-type {\n",
       "        vertical-align: middle;\n",
       "    }\n",
       "\n",
       "    .dataframe tbody tr th {\n",
       "        vertical-align: top;\n",
       "    }\n",
       "\n",
       "    .dataframe thead th {\n",
       "        text-align: right;\n",
       "    }\n",
       "</style>\n",
       "<table border=\"1\" class=\"dataframe\">\n",
       "  <thead>\n",
       "    <tr style=\"text-align: right;\">\n",
       "      <th></th>\n",
       "      <th>MM Num. articulo</th>\n",
       "      <th>Descrip. articulo</th>\n",
       "      <th>Cont</th>\n",
       "      <th>Prec. Ud.</th>\n",
       "      <th>Cont P.</th>\n",
       "      <th>Precio</th>\n",
       "      <th>Cant.</th>\n",
       "      <th>Importe</th>\n",
       "      <th>Imp</th>\n",
       "      <th>DT AOO</th>\n",
       "    </tr>\n",
       "  </thead>\n",
       "  <tbody>\n",
       "    <tr>\n",
       "      <th>0</th>\n",
       "      <td>8437017304685</td>\n",
       "      <td>VINO TTO REMIREZ GANUZA RVA75C</td>\n",
       "      <td>BT</td>\n",
       "      <td>45.250</td>\n",
       "      <td>1</td>\n",
       "      <td>45.25</td>\n",
       "      <td>1</td>\n",
       "      <td>45.25</td>\n",
       "      <td>2</td>\n",
       "      <td></td>\n",
       "    </tr>\n",
       "    <tr>\n",
       "      <th>1</th>\n",
       "      <td>8436557311009</td>\n",
       "      <td>VINO TINTO LA FELISA 75 CL</td>\n",
       "      <td>BT</td>\n",
       "      <td>21.150</td>\n",
       "      <td>1</td>\n",
       "      <td>21.15</td>\n",
       "      <td>6</td>\n",
       "      <td>126.90</td>\n",
       "      <td>2</td>\n",
       "      <td>c</td>\n",
       "    </tr>\n",
       "    <tr>\n",
       "      <th>2</th>\n",
       "      <td>8436014246486</td>\n",
       "      <td>VINO TTO VALBUENA 5 AN 75CL</td>\n",
       "      <td>BT</td>\n",
       "      <td>102.790</td>\n",
       "      <td>1</td>\n",
       "      <td>102.79</td>\n",
       "      <td>2</td>\n",
       "      <td>205.58</td>\n",
       "      <td>2</td>\n",
       "      <td></td>\n",
       "    </tr>\n",
       "    <tr>\n",
       "      <th>3</th>\n",
       "      <td>8423339924014</td>\n",
       "      <td>VINO TTO PESQUERA CZA RD 75CL</td>\n",
       "      <td>BT</td>\n",
       "      <td>16.290</td>\n",
       "      <td>1</td>\n",
       "      <td>16.29</td>\n",
       "      <td>6</td>\n",
       "      <td>97.74</td>\n",
       "      <td>2</td>\n",
       "      <td>P</td>\n",
       "    </tr>\n",
       "    <tr>\n",
       "      <th>4</th>\n",
       "      <td>18414892358665</td>\n",
       "      <td>REFRESCO ARO PT 2L LIMON ASB</td>\n",
       "      <td>BO</td>\n",
       "      <td>0.615</td>\n",
       "      <td>6</td>\n",
       "      <td>3.69</td>\n",
       "      <td>1</td>\n",
       "      <td>3.69</td>\n",
       "      <td>1</td>\n",
       "      <td></td>\n",
       "    </tr>\n",
       "    <tr>\n",
       "      <th>5</th>\n",
       "      <td>8414892700696</td>\n",
       "      <td>CAZUELA RDA BARRO MPRO 32CM</td>\n",
       "      <td>PZ</td>\n",
       "      <td>7.350</td>\n",
       "      <td>1</td>\n",
       "      <td>7.35</td>\n",
       "      <td>1</td>\n",
       "      <td>7.35</td>\n",
       "      <td>1</td>\n",
       "      <td>P</td>\n",
       "    </tr>\n",
       "    <tr>\n",
       "      <th>6</th>\n",
       "      <td>4337147823893</td>\n",
       "      <td>PLATO TAPAS CUADRADO MPR06CM</td>\n",
       "      <td>BS</td>\n",
       "      <td>0.850</td>\n",
       "      <td>6</td>\n",
       "      <td>5.10</td>\n",
       "      <td>2</td>\n",
       "      <td>10.20</td>\n",
       "      <td>1</td>\n",
       "      <td></td>\n",
       "    </tr>\n",
       "    <tr>\n",
       "      <th>7</th>\n",
       "      <td>8428141244435</td>\n",
       "      <td>BOWL DOBLE MING 17X18X4CM</td>\n",
       "      <td>UD</td>\n",
       "      <td>3.500</td>\n",
       "      <td>1</td>\n",
       "      <td>3.50</td>\n",
       "      <td>9</td>\n",
       "      <td>31.50</td>\n",
       "      <td>1</td>\n",
       "      <td></td>\n",
       "    </tr>\n",
       "    <tr>\n",
       "      <th>8</th>\n",
       "      <td>8414892816298</td>\n",
       "      <td>COPA VINO PRIME TIME ARO 52.5C</td>\n",
       "      <td>UD</td>\n",
       "      <td>0.920</td>\n",
       "      <td>1</td>\n",
       "      <td>0.92</td>\n",
       "      <td>12</td>\n",
       "      <td>11.04</td>\n",
       "      <td>1</td>\n",
       "      <td></td>\n",
       "    </tr>\n",
       "  </tbody>\n",
       "</table>\n",
       "</div>"
      ],
      "text/plain": [
       "  MM Num. articulo               Descrip. articulo Cont Prec. Ud. Cont P.  \\\n",
       "0    8437017304685  VINO TTO REMIREZ GANUZA RVA75C   BT    45.250       1   \n",
       "1    8436557311009      VINO TINTO LA FELISA 75 CL   BT    21.150       1   \n",
       "2    8436014246486     VINO TTO VALBUENA 5 AN 75CL   BT   102.790       1   \n",
       "3    8423339924014   VINO TTO PESQUERA CZA RD 75CL   BT    16.290       1   \n",
       "4   18414892358665    REFRESCO ARO PT 2L LIMON ASB   BO     0.615       6   \n",
       "5    8414892700696     CAZUELA RDA BARRO MPRO 32CM   PZ     7.350       1   \n",
       "6    4337147823893    PLATO TAPAS CUADRADO MPR06CM   BS     0.850       6   \n",
       "7    8428141244435       BOWL DOBLE MING 17X18X4CM   UD     3.500       1   \n",
       "8    8414892816298  COPA VINO PRIME TIME ARO 52.5C   UD     0.920       1   \n",
       "\n",
       "   Precio Cant.  Importe  Imp DT AOO  \n",
       "0   45.25     1    45.25    2         \n",
       "1   21.15     6   126.90    2      c  \n",
       "2  102.79     2   205.58    2         \n",
       "3   16.29     6    97.74    2      P  \n",
       "4    3.69     1     3.69    1         \n",
       "5    7.35     1     7.35    1      P  \n",
       "6    5.10     2    10.20    1         \n",
       "7    3.50     9    31.50    1         \n",
       "8    0.92    12    11.04    1         "
      ]
     },
     "execution_count": 160,
     "metadata": {},
     "output_type": "execute_result"
    }
   ],
   "source": [
    "da.head(100)"
   ]
  },
  {
   "cell_type": "code",
   "execution_count": 158,
   "id": "7c659e44",
   "metadata": {},
   "outputs": [
    {
     "data": {
      "text/plain": [
       "(9, 10)"
      ]
     },
     "execution_count": 158,
     "metadata": {},
     "output_type": "execute_result"
    }
   ],
   "source": [
    "da.shape"
   ]
  },
  {
   "cell_type": "code",
   "execution_count": 159,
   "id": "e30ed133",
   "metadata": {},
   "outputs": [
    {
     "data": {
      "text/plain": [
       "Index(['MM Num. articulo', 'Descrip. articulo', 'Cont', 'Prec. Ud.', 'Cont P.',\n",
       "       'Precio', 'Cant.', 'Importe', 'Imp', 'DT AOO'],\n",
       "      dtype='object')"
      ]
     },
     "execution_count": 159,
     "metadata": {},
     "output_type": "execute_result"
    }
   ],
   "source": [
    "da.columns"
   ]
  },
  {
   "cell_type": "code",
   "execution_count": null,
   "id": "667a7d44",
   "metadata": {},
   "outputs": [],
   "source": []
  },
  {
   "cell_type": "code",
   "execution_count": 56,
   "id": "6a6831a2",
   "metadata": {},
   "outputs": [],
   "source": [
    "fi = db.astype({'NOT_SELECTED Precio':float,'Importe':float,'Imp Prec. Ud. DT':int})"
   ]
  },
  {
   "cell_type": "code",
   "execution_count": 61,
   "id": "7cc205b8",
   "metadata": {},
   "outputs": [
    {
     "name": "stdout",
     "output_type": "stream",
     "text": [
      "325.11\n"
     ]
    }
   ],
   "source": [
    "tot = 0\n",
    "for i in fi['Importe']:\n",
    "    tot +=i\n",
    "    tot = round(tot,2)\n",
    "print(tot)"
   ]
  },
  {
   "cell_type": "code",
   "execution_count": 51,
   "id": "2ba99a5d",
   "metadata": {},
   "outputs": [
    {
     "data": {
      "text/plain": [
       "MM Num. articulo      object\n",
       "Descrip. articulo     object\n",
       "Cont                  object\n",
       "Prec. Ud.            float64\n",
       "Cont P.               object\n",
       "Precio               float64\n",
       "Cant.                  int32\n",
       "Importe              float64\n",
       "Imp                    int32\n",
       "dtype: object"
      ]
     },
     "execution_count": 51,
     "metadata": {},
     "output_type": "execute_result"
    }
   ],
   "source": [
    "fi.dtypes"
   ]
  },
  {
   "cell_type": "code",
   "execution_count": 63,
   "id": "4828bdc7",
   "metadata": {},
   "outputs": [],
   "source": [
    "one_tax = fi.loc[(fi['Imp Prec. Ud. DT'] == 1)]"
   ]
  },
  {
   "cell_type": "code",
   "execution_count": 64,
   "id": "462ddbb5",
   "metadata": {},
   "outputs": [
    {
     "name": "stdout",
     "output_type": "stream",
     "text": [
      "6.94\n"
     ]
    }
   ],
   "source": [
    "one_tax \n",
    "three_tax = 0\n",
    "for i in one_tax['Importe']:\n",
    "    three_tax +=i\n",
    "three_tax = round(three_tax * 0.03,2)\n",
    "\n",
    "print(three_tax)"
   ]
  },
  {
   "cell_type": "code",
   "execution_count": 65,
   "id": "77589752",
   "metadata": {},
   "outputs": [],
   "source": [
    "two_tax = fi.loc[(fi['Imp Prec. Ud. DT'] == 2)]"
   ]
  },
  {
   "cell_type": "code",
   "execution_count": 66,
   "id": "9e9fe451",
   "metadata": {},
   "outputs": [
    {
     "name": "stdout",
     "output_type": "stream",
     "text": [
      "2.52\n"
     ]
    }
   ],
   "source": [
    "two_tax\n",
    "seven_tax = 0\n",
    "for i in two_tax['Importe']:\n",
    "    seven_tax +=i\n",
    "seven_tax = round(seven_tax *0.07,2)\n",
    "print(seven_tax)"
   ]
  },
  {
   "cell_type": "code",
   "execution_count": 67,
   "id": "af84b20a",
   "metadata": {},
   "outputs": [
    {
     "name": "stdout",
     "output_type": "stream",
     "text": [
      "334.57\n"
     ]
    }
   ],
   "source": [
    "final_sum = round(tot+ three_tax + seven_tax,2)\n",
    "print(final_sum)"
   ]
  },
  {
   "cell_type": "code",
   "execution_count": 79,
   "id": "d25d45c2",
   "metadata": {},
   "outputs": [
    {
     "name": "stdout",
     "output_type": "stream",
     "text": [
      "{'Vat Number': 'A-28/647451', 'Total': '334.57', 'Date': '20/05/202'}\n"
     ]
    }
   ],
   "source": [
    "dat['Total'] = dat['Total'].replace(',','.')\n",
    "#dat = dat.applymap(lambda x: str(x.replace(',','.')))\n",
    "print(dat)"
   ]
  },
  {
   "cell_type": "code",
   "execution_count": 81,
   "id": "3cf53d53",
   "metadata": {},
   "outputs": [
    {
     "name": "stdout",
     "output_type": "stream",
     "text": [
      "334.57 Both Sums are equal 334.57\n"
     ]
    }
   ],
   "source": [
    "if str(final_sum) == dat['Total']:\n",
    "    print(final_sum,\"Both Sums are equal\",dat['Total'])"
   ]
  },
  {
   "cell_type": "code",
   "execution_count": 82,
   "id": "3b856794",
   "metadata": {},
   "outputs": [
    {
     "data": {
      "text/html": [
       "<div>\n",
       "<style scoped>\n",
       "    .dataframe tbody tr th:only-of-type {\n",
       "        vertical-align: middle;\n",
       "    }\n",
       "\n",
       "    .dataframe tbody tr th {\n",
       "        vertical-align: top;\n",
       "    }\n",
       "\n",
       "    .dataframe thead th {\n",
       "        text-align: right;\n",
       "    }\n",
       "</style>\n",
       "<table border=\"1\" class=\"dataframe\">\n",
       "  <thead>\n",
       "    <tr style=\"text-align: right;\">\n",
       "      <th></th>\n",
       "      <th>MM Num. artículo</th>\n",
       "      <th>Descrip. artículo</th>\n",
       "      <th>Cont</th>\n",
       "      <th>Prec. Ud.</th>\n",
       "      <th>Cont P.</th>\n",
       "      <th>NOT_SELECTED Precio</th>\n",
       "      <th>Cant.</th>\n",
       "      <th>Importe</th>\n",
       "      <th>Imp Prec. Ud. DT</th>\n",
       "      <th>AOO RC</th>\n",
       "    </tr>\n",
       "  </thead>\n",
       "  <tbody>\n",
       "    <tr>\n",
       "      <th>2</th>\n",
       "      <td>0</td>\n",
       "      <td>0</td>\n",
       "      <td>UD</td>\n",
       "      <td>10.260</td>\n",
       "      <td>1</td>\n",
       "      <td>10.26</td>\n",
       "      <td>4</td>\n",
       "      <td>41.04</td>\n",
       "      <td>0</td>\n",
       "      <td>0</td>\n",
       "    </tr>\n",
       "    <tr>\n",
       "      <th>3</th>\n",
       "      <td>091867</td>\n",
       "      <td>Tello Codillo asado 700g</td>\n",
       "      <td>PZ</td>\n",
       "      <td>5.770</td>\n",
       "      <td>1</td>\n",
       "      <td>5.77</td>\n",
       "      <td>18</td>\n",
       "      <td>103.86</td>\n",
       "      <td>1</td>\n",
       "      <td>0</td>\n",
       "    </tr>\n",
       "    <tr>\n",
       "      <th>4</th>\n",
       "      <td>98435223249021</td>\n",
       "      <td>Atún lomo sin piel 2-4piezas/kg</td>\n",
       "      <td>FAO 51</td>\n",
       "      <td>Océano Índico</td>\n",
       "      <td>Oeste</td>\n",
       "      <td>0.00</td>\n",
       "      <td>0</td>\n",
       "      <td>0.00</td>\n",
       "      <td>0</td>\n",
       "      <td>0</td>\n",
       "    </tr>\n",
       "    <tr>\n",
       "      <th>5</th>\n",
       "      <td>0</td>\n",
       "      <td>0</td>\n",
       "      <td>KG</td>\n",
       "      <td>16.590</td>\n",
       "      <td>4.734</td>\n",
       "      <td>78.54</td>\n",
       "      <td>1</td>\n",
       "      <td>78.54</td>\n",
       "      <td>1</td>\n",
       "      <td>HD</td>\n",
       "    </tr>\n",
       "    <tr>\n",
       "      <th>6</th>\n",
       "      <td>0</td>\n",
       "      <td>GTIN: 98435223249021 Lote: 5 GTIN: 98435223249...</td>\n",
       "      <td>LOT: 5</td>\n",
       "      <td>0</td>\n",
       "      <td>0</td>\n",
       "      <td>0.00</td>\n",
       "      <td>0</td>\n",
       "      <td>0.00</td>\n",
       "      <td>0</td>\n",
       "      <td>0</td>\n",
       "    </tr>\n",
       "    <tr>\n",
       "      <th>7</th>\n",
       "      <td>078438</td>\n",
       "      <td>makro Chef Manjares de mar 2x200g</td>\n",
       "      <td>BJ</td>\n",
       "      <td>2.850</td>\n",
       "      <td>1</td>\n",
       "      <td>2.85</td>\n",
       "      <td>5</td>\n",
       "      <td>14.25</td>\n",
       "      <td>1</td>\n",
       "      <td>0</td>\n",
       "    </tr>\n",
       "    <tr>\n",
       "      <th>8</th>\n",
       "      <td>155329</td>\n",
       "      <td>Altamar Almeja marron congelada</td>\n",
       "      <td>60/80</td>\n",
       "      <td>piezas 1kg</td>\n",
       "      <td>0</td>\n",
       "      <td>0.00</td>\n",
       "      <td>0</td>\n",
       "      <td>0.00</td>\n",
       "      <td>0</td>\n",
       "      <td>0</td>\n",
       "    </tr>\n",
       "    <tr>\n",
       "      <th>9</th>\n",
       "      <td>0</td>\n",
       "      <td>0</td>\n",
       "      <td>BL</td>\n",
       "      <td>3.650</td>\n",
       "      <td>1</td>\n",
       "      <td>3.65</td>\n",
       "      <td>2</td>\n",
       "      <td>7.30</td>\n",
       "      <td>0</td>\n",
       "      <td>0</td>\n",
       "    </tr>\n",
       "    <tr>\n",
       "      <th>10</th>\n",
       "      <td>111089</td>\n",
       "      <td>Signo Arroz bomba bolsa 1 kg</td>\n",
       "      <td>PQ</td>\n",
       "      <td>2.950</td>\n",
       "      <td>1</td>\n",
       "      <td>2.95</td>\n",
       "      <td>3</td>\n",
       "      <td>8.85</td>\n",
       "      <td>1</td>\n",
       "      <td>0</td>\n",
       "    </tr>\n",
       "    <tr>\n",
       "      <th>11</th>\n",
       "      <td>451555</td>\n",
       "      <td>makro Chef Mayonesa cubo 51</td>\n",
       "      <td>CB</td>\n",
       "      <td>17.300</td>\n",
       "      <td>1</td>\n",
       "      <td>17.30</td>\n",
       "      <td>1</td>\n",
       "      <td>17.30</td>\n",
       "      <td>1</td>\n",
       "      <td>0</td>\n",
       "    </tr>\n",
       "    <tr>\n",
       "      <th>12</th>\n",
       "      <td>146468</td>\n",
       "      <td>Ello ermol Crema batir unidad</td>\n",
       "      <td>250g</td>\n",
       "      <td>0</td>\n",
       "      <td>0</td>\n",
       "      <td>0.00</td>\n",
       "      <td>0</td>\n",
       "      <td>0.00</td>\n",
       "      <td>0</td>\n",
       "      <td>0</td>\n",
       "    </tr>\n",
       "    <tr>\n",
       "      <th>13</th>\n",
       "      <td>0</td>\n",
       "      <td>0</td>\n",
       "      <td>UD</td>\n",
       "      <td>2.160</td>\n",
       "      <td>1</td>\n",
       "      <td>2.16</td>\n",
       "      <td>4</td>\n",
       "      <td>8.64</td>\n",
       "      <td>1</td>\n",
       "      <td>0</td>\n",
       "    </tr>\n",
       "    <tr>\n",
       "      <th>14</th>\n",
       "      <td>156268</td>\n",
       "      <td>Gp Leche condensada botella 1kg</td>\n",
       "      <td>BT</td>\n",
       "      <td>2.320</td>\n",
       "      <td>1</td>\n",
       "      <td>2.32</td>\n",
       "      <td>4</td>\n",
       "      <td>9.28</td>\n",
       "      <td>0</td>\n",
       "      <td>0</td>\n",
       "    </tr>\n",
       "    <tr>\n",
       "      <th>15</th>\n",
       "      <td>803920</td>\n",
       "      <td>Castillo de chiva Vino blanco</td>\n",
       "      <td>moscatel</td>\n",
       "      <td>75cl</td>\n",
       "      <td>0</td>\n",
       "      <td>0.00</td>\n",
       "      <td>0</td>\n",
       "      <td>0.00</td>\n",
       "      <td>0</td>\n",
       "      <td>0</td>\n",
       "    </tr>\n",
       "    <tr>\n",
       "      <th>16</th>\n",
       "      <td>0</td>\n",
       "      <td>0</td>\n",
       "      <td>BT</td>\n",
       "      <td>3.010</td>\n",
       "      <td>1</td>\n",
       "      <td>3.01</td>\n",
       "      <td>5</td>\n",
       "      <td>15.05</td>\n",
       "      <td>2</td>\n",
       "      <td>0</td>\n",
       "    </tr>\n",
       "    <tr>\n",
       "      <th>17</th>\n",
       "      <td>072447</td>\n",
       "      <td>Clipper Recarga soplete</td>\n",
       "      <td>UD</td>\n",
       "      <td>5.250</td>\n",
       "      <td>1</td>\n",
       "      <td>5.25</td>\n",
       "      <td>4</td>\n",
       "      <td>21.00</td>\n",
       "      <td>2</td>\n",
       "      <td>0</td>\n",
       "    </tr>\n",
       "  </tbody>\n",
       "</table>\n",
       "</div>"
      ],
      "text/plain": [
       "   MM Num. artículo                                  Descrip. artículo  \\\n",
       "2                 0                                                  0   \n",
       "3            091867                           Tello Codillo asado 700g   \n",
       "4    98435223249021                    Atún lomo sin piel 2-4piezas/kg   \n",
       "5                 0                                                  0   \n",
       "6                 0  GTIN: 98435223249021 Lote: 5 GTIN: 98435223249...   \n",
       "7            078438                  makro Chef Manjares de mar 2x200g   \n",
       "8            155329                    Altamar Almeja marron congelada   \n",
       "9                 0                                                  0   \n",
       "10           111089                       Signo Arroz bomba bolsa 1 kg   \n",
       "11           451555                        makro Chef Mayonesa cubo 51   \n",
       "12           146468                      Ello ermol Crema batir unidad   \n",
       "13                0                                                  0   \n",
       "14           156268                    Gp Leche condensada botella 1kg   \n",
       "15           803920                      Castillo de chiva Vino blanco   \n",
       "16                0                                                  0   \n",
       "17           072447                            Clipper Recarga soplete   \n",
       "\n",
       "        Cont      Prec. Ud. Cont P.  NOT_SELECTED Precio Cant.  Importe  \\\n",
       "2         UD         10.260       1                10.26     4    41.04   \n",
       "3         PZ          5.770       1                 5.77    18   103.86   \n",
       "4     FAO 51  Océano Índico   Oeste                 0.00     0     0.00   \n",
       "5         KG         16.590   4.734                78.54     1    78.54   \n",
       "6     LOT: 5              0       0                 0.00     0     0.00   \n",
       "7         BJ          2.850       1                 2.85     5    14.25   \n",
       "8      60/80     piezas 1kg       0                 0.00     0     0.00   \n",
       "9         BL          3.650       1                 3.65     2     7.30   \n",
       "10        PQ          2.950       1                 2.95     3     8.85   \n",
       "11        CB         17.300       1                17.30     1    17.30   \n",
       "12      250g              0       0                 0.00     0     0.00   \n",
       "13        UD          2.160       1                 2.16     4     8.64   \n",
       "14        BT          2.320       1                 2.32     4     9.28   \n",
       "15  moscatel           75cl       0                 0.00     0     0.00   \n",
       "16        BT          3.010       1                 3.01     5    15.05   \n",
       "17        UD          5.250       1                 5.25     4    21.00   \n",
       "\n",
       "    Imp Prec. Ud. DT AOO RC  \n",
       "2                  0      0  \n",
       "3                  1      0  \n",
       "4                  0      0  \n",
       "5                  1     HD  \n",
       "6                  0      0  \n",
       "7                  1      0  \n",
       "8                  0      0  \n",
       "9                  0      0  \n",
       "10                 1      0  \n",
       "11                 1      0  \n",
       "12                 0      0  \n",
       "13                 1      0  \n",
       "14                 0      0  \n",
       "15                 0      0  \n",
       "16                 2      0  \n",
       "17                 2      0  "
      ]
     },
     "execution_count": 82,
     "metadata": {},
     "output_type": "execute_result"
    }
   ],
   "source": [
    "fi.head(100)"
   ]
  }
 ],
 "metadata": {
  "kernelspec": {
   "display_name": "Python 3 (ipykernel)",
   "language": "python",
   "name": "python3"
  },
  "language_info": {
   "codemirror_mode": {
    "name": "ipython",
    "version": 3
   },
   "file_extension": ".py",
   "mimetype": "text/x-python",
   "name": "python",
   "nbconvert_exporter": "python",
   "pygments_lexer": "ipython3",
   "version": "3.7.11"
  }
 },
 "nbformat": 4,
 "nbformat_minor": 5
}
