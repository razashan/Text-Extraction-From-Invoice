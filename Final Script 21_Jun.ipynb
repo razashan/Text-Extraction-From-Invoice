{
 "cells": [
  {
   "cell_type": "code",
   "execution_count": 8,
   "id": "ed59fc7b",
   "metadata": {},
   "outputs": [],
   "source": [
    "import fitz\n",
    "import os\n",
    "from fuzzywuzzy import fuzz\n",
    "from fuzzywuzzy import process\n",
    "from PIL import Image \n",
    "import io\n",
    "import boto3\n",
    "import numpy as np\n",
    "import re"
   ]
  },
  {
   "cell_type": "code",
   "execution_count": 2,
   "id": "2f9b49a5",
   "metadata": {},
   "outputs": [],
   "source": [
    "import pytesseract\n",
    "import cv2"
   ]
  },
  {
   "cell_type": "markdown",
   "id": "21387f41",
   "metadata": {},
   "source": [
    "# Code for Converting PDF to IMG"
   ]
  },
  {
   "cell_type": "code",
   "execution_count": 3,
   "id": "34b1bb82",
   "metadata": {},
   "outputs": [],
   "source": [
    "\n",
    "def convert_pdf2img(input_file: str,pages=None):\n",
    "    \"\"\"Converts pdf to image and generates a file by page\"\"\"\n",
    "    # Open the document\n",
    "    pdfIn = fitz.open(input_file)\n",
    "    output_files = []\n",
    "    # Iterate throughout the pages\n",
    "    for pg in range(pdfIn.pageCount):\n",
    "        if str(pages) != str(None):\n",
    "            if str(pg) not in str(pages):\n",
    "                continue\n",
    "        # Select a page\n",
    "        page = pdfIn[pg]\n",
    "        rotate = int(0)\n",
    "        # PDF Page is converted into a whole picture 1056*816 and then for each picture a screenshot is taken.\n",
    "        # zoom = 1.33333333 -----> Image size = 1056*816\n",
    "        # zoom = 2 ---> 2 * Default Resolution (text is clear, image text is hard to read)    = filesize small / Image size = 1584*1224\n",
    "        # zoom = 4 ---> 4 * Default Resolution (text is clear, image text is barely readable) = filesize large\n",
    "        # zoom = 8 ---> 8 * Default Resolution (text is clear, image text is readable) = filesize large\n",
    "        zoom_x = 2\n",
    "        zoom_y = 2\n",
    "        # The zoom factor is equal to 2 in order to make text clear\n",
    "        # Pre-rotate is to rotate if needed.\n",
    "        mat = fitz.Matrix(zoom_x, zoom_y).preRotate(rotate)\n",
    "        pix = page.getPixmap(matrix=mat, alpha=False)\n",
    "        path = 'Makro Invoices/Makro Invoices/Converted/'\n",
    "        output_file = f\"{path+os.path.splitext(os.path.basename(input_file))[0]}_page{pg+1}.png\"\n",
    "        pix.writePNG(output_file)\n",
    "        output_files.append(output_file)\n",
    "    pdfIn.close()\n",
    "    summary = {\n",
    "        \"File\": input_file, \"Pages\": str(pages), \"Output File(s)\": str(output_files)\n",
    "    }\n",
    "    # Printing Summary\n",
    "    print(\"## Summary ########################################################\")\n",
    "    print(\"\\n\".join(\"{}:{}\".format(i, j) for i, j in summary.items()))\n",
    "    print(\"###################################################################\")\n",
    "    return output_files"
   ]
  },
  {
   "cell_type": "markdown",
   "id": "ec163d4e",
   "metadata": {},
   "source": [
    "# Code for Converting PDF to IMG"
   ]
  },
  {
   "cell_type": "code",
   "execution_count": 63,
   "id": "3e6461ca",
   "metadata": {},
   "outputs": [
    {
     "name": "stdout",
     "output_type": "stream",
     "text": [
      "## Summary ########################################################\n",
      "File:Makro Invoices/Makro Invoices/check/03.07.20_Extintores Valle Union Sl_3243,8.pdf\n",
      "Pages:None\n",
      "Output File(s):['Makro Invoices/Makro Invoices/Converted/03.07.20_Extintores Valle Union Sl_3243,8_page1.png']\n",
      "###################################################################\n"
     ]
    },
    {
     "data": {
      "text/plain": [
       "['Makro Invoices/Makro Invoices/Converted/03.07.20_Extintores Valle Union Sl_3243,8_page1.png']"
      ]
     },
     "execution_count": 63,
     "metadata": {},
     "output_type": "execute_result"
    }
   ],
   "source": [
    "convert_pdf2img('Makro Invoices/Makro Invoices/check/03.07.20_Extintores Valle Union Sl_3243,8.pdf')"
   ]
  },
  {
   "cell_type": "markdown",
   "id": "61a2840e",
   "metadata": {},
   "source": [
    "# Code For Extracting Fields using Tesseract "
   ]
  },
  {
   "cell_type": "code",
   "execution_count": 5,
   "id": "5626ea8b",
   "metadata": {},
   "outputs": [],
   "source": [
    "pytesseract.pytesseract.tesseract_cmd = r\"C:\\Program Files\\Tesseract-OCR\\tesseract.exe\""
   ]
  },
  {
   "cell_type": "code",
   "execution_count": 84,
   "id": "81802cce",
   "metadata": {},
   "outputs": [
    {
     "name": "stdout",
     "output_type": "stream",
     "text": [
      "<class 'list'>\n",
      "Case Total\n",
      "TOTAL\n",
      "Wall time: 5.19 s\n"
     ]
    }
   ],
   "source": [
    "%%time\n",
    "dat = {\n",
    "    \"Vat Number\":'',\n",
    "       \"Total\":0,\n",
    "       \"Date\":'',\n",
    "      \"Invoice_Number\":''}\n",
    "img  = cv2.imread('Makro Invoices/Makro Invoices/Converted/03.07.20_Extintores Valle Union Sl_3243,8_page1.png', cv2.COLOR_RGB2GRAY)\n",
    "text=(pytesseract.image_to_string(img))\n",
    "text_list = text.split(\"\\n\")\n",
    "print(type(text_list))\n",
    "for idx, a in enumerate(text_list):\n",
    "    if(a.strip() != \"\"):\n",
    "        #vat number section\n",
    "        if (re.search(\"[A-Z]-\\d{2}/\\d{6}\",a)):\n",
    "            b = re.findall(\"[A-Z]-\\d{2}/\\d{6}\",a)\n",
    "            dat[\"Vat Number\"] = b[0]\n",
    "        if (re.search(\"\\d{8}-[A-Z]\",a)):\n",
    "            b = re.findall(\"\\d{8}-[A-Z]\",a)\n",
    "            dat[\"Vat Number\"] = b[0]\n",
    "\n",
    "        if (re.search(\"[A-Z]{1}[0-9]{8}\",a)):\n",
    "            b = re.findall(\"[A-Z]{1}[0-9]{8}\",a)\n",
    "            dat[\"Vat Number\"] = b[0]              \n",
    "\n",
    "         #Date section           \n",
    "        if (re.search(\"\\d{2}/\\d{2}/\\d{4}\",a)):\n",
    "            b  = re.findall(\"\\d{2}/\\d{2}/\\d{4}\", a)\n",
    "            dat[\"Date\"] = b\n",
    "        if (re.search(\"\\d{2}-\\d{2}-\\d{4}\",a)):\n",
    "            b = re.findall(\"\\d{2}-\\d{2}-\\d{4}\",a)\n",
    "            dat[\"Date\"] = b\n",
    "\n",
    "        #invoice number section\n",
    "        if (\"Factura\" in a or \"ALBARAN\" in a or \"Factura: \" in a):\n",
    "\n",
    "            print(a)\n",
    "            b = a.split(\" \")\n",
    "            if b[0] == \"ALBARAN\":\n",
    "                dat[\"Invoice_Number\"] = b[1]\n",
    "            print(b)\n",
    "            if len(b)>3:\n",
    "                print(b)\n",
    "                if len(b)>4 and b[2] !='—' and len(b[1])!=25 and len(b[1])>5:\n",
    "                    dat[\"Invoice_Number\"] = b[1]+b[2]\n",
    "                    print(b)\n",
    "                elif len(b)>=5 and len(b[1])==25:\n",
    "                    dat[\"Invoice_Number\"] = b[1]\n",
    "                elif len(b)>6 and len(b[3])>15:\n",
    "                    dat[\"Invoice_Number\"] = b[1]+ b[2]+ b[3]\n",
    "                elif len(b)>6 and b[1]== \"0/0\":\n",
    "                    dat[\"Invoice_Number\"] = b[1] + b[2]\n",
    "                    \n",
    "        if (\"Tarjeta\" in a or \"Credito\" in a or  \"pagina\" in a or \"Total:\" in a  or \"TOTAL\" in a):\n",
    "            print(\"Case Total\")\n",
    "            b = a.split(\" \")\n",
    "            if len(b[-1])==2:\n",
    "                \n",
    "                dat[\"Total\"] = b[-2]+b[-1]\n",
    "                print(b[-2]+b[-1])\n",
    "            if b[-1]=='€':\n",
    "                dat[\"Total\"] = b[-2]\n",
    "            else:\n",
    "                dat[\"Total\"] = b[-1]\n",
    "                print(b[-1])\n",
    "        "
   ]
  },
  {
   "cell_type": "code",
   "execution_count": 85,
   "id": "a974c811",
   "metadata": {},
   "outputs": [
    {
     "data": {
      "text/plain": [
       "{'Vat Number': 'B38574281',\n",
       " 'Total': 'TOTAL',\n",
       " 'Date': ['03/07/2020'],\n",
       " 'Invoice_Number': ''}"
      ]
     },
     "execution_count": 85,
     "metadata": {},
     "output_type": "execute_result"
    }
   ],
   "source": [
    "dat"
   ]
  },
  {
   "cell_type": "markdown",
   "id": "d981f5cd",
   "metadata": {},
   "source": [
    "# Code for Extracting Table "
   ]
  },
  {
   "cell_type": "code",
   "execution_count": 59,
   "id": "413b4345",
   "metadata": {},
   "outputs": [],
   "source": [
    "im = Image.open('Makro Invoices/Makro Invoices/02.08.21_MAKRO, S.A._377,47_page2.png')"
   ]
  },
  {
   "cell_type": "code",
   "execution_count": 60,
   "id": "31c7a622",
   "metadata": {},
   "outputs": [],
   "source": [
    "buffered = io.BytesIO()\n",
    "im.save(buffered, format='PNG')"
   ]
  },
  {
   "cell_type": "code",
   "execution_count": 61,
   "id": "be323f34",
   "metadata": {},
   "outputs": [],
   "source": [
    "client = boto3.client('textract')\n",
    "response = client.analyze_document(\n",
    "    Document={'Bytes': buffered.getvalue()},\n",
    "    FeatureTypes=['TABLES']\n",
    ")"
   ]
  },
  {
   "cell_type": "code",
   "execution_count": 62,
   "id": "6071b7a8",
   "metadata": {},
   "outputs": [],
   "source": [
    "def map_blocks(blocks, block_type):\n",
    "    return {\n",
    "        block['Id']: block\n",
    "        for block in blocks\n",
    "        if block['BlockType'] == block_type\n",
    "    }\n",
    "\n",
    "blocks = response['Blocks']\n",
    "tables = map_blocks(blocks, 'TABLE')\n",
    "cells = map_blocks(blocks, 'CELL')\n",
    "words = map_blocks(blocks, 'WORD')\n",
    "selections = map_blocks(blocks, 'SELECTION_ELEMENT')"
   ]
  },
  {
   "cell_type": "code",
   "execution_count": 63,
   "id": "abaff700",
   "metadata": {},
   "outputs": [],
   "source": [
    "def get_children_ids(block):\n",
    "    for rels in block.get('Relationships', []):\n",
    "        if rels['Type'] == 'CHILD':\n",
    "            yield from rels['Ids']"
   ]
  },
  {
   "cell_type": "code",
   "execution_count": 64,
   "id": "8460db98",
   "metadata": {},
   "outputs": [],
   "source": [
    "import pandas as pd\n",
    "\n",
    "dataframes = []\n",
    "\n",
    "for table in tables.values():\n",
    "\n",
    "    # Determine all the cells that belong to this table\n",
    "    table_cells = [cells[cell_id] for cell_id in get_children_ids(table)]\n",
    "\n",
    "    # Determine the table's number of rows and columns\n",
    "    n_rows = max(cell['RowIndex'] for cell in table_cells)\n",
    "    n_cols = max(cell['ColumnIndex'] for cell in table_cells)\n",
    "    content = [[None for _ in range(n_cols)] for _ in range(n_rows)]\n",
    "\n",
    "    # Fill in each cell\n",
    "    for cell in table_cells:\n",
    "        cell_contents = [\n",
    "            words[child_id]['Text']\n",
    "            if child_id in words\n",
    "            else selections[child_id]['SelectionStatus']\n",
    "            for child_id in get_children_ids(cell)\n",
    "        ]\n",
    "        i = cell['RowIndex'] - 1\n",
    "        j = cell['ColumnIndex'] - 1\n",
    "        content[i][j] = ' '.join(cell_contents)\n",
    "\n",
    "    # We assume that the first row corresponds to the column names\n",
    "    dataframe = pd.DataFrame(content[1:], columns=content[0])\n",
    "    dataframes.append(dataframe)"
   ]
  },
  {
   "cell_type": "code",
   "execution_count": 65,
   "id": "4a096a14",
   "metadata": {},
   "outputs": [
    {
     "name": "stdout",
     "output_type": "stream",
     "text": [
      "Condition 2\n"
     ]
    }
   ],
   "source": [
    "\n",
    "if \"MM Num. articulo\" in dataframes[1] or \"MM Num. artículo\" in dataframes[1] or \"REF.\" in dataframes[1] or \"Num. articulo\" in dataframes[1] or \"Num. artículo\" in dataframes[1]:\n",
    "    data = pd.DataFrame(dataframes[1])\n",
    "    data.to_excel('Makro Invoices/Makro Invoices/Saved_Datad.xlsx')\n",
    "    print(\"Yes 1\")\n",
    "elif \"MM Num. articulo\" in dataframes[0] or \"MM Num. artículo\" in dataframes[0] or  \"Num. articulo\" in dataframes[0]:\n",
    "    data = pd.DataFrame(dataframes[0])\n",
    "    data.to_excel('Makro Invoices/Makro Invoices/Saved_Datad.xlsx')\n",
    "    print(\"Yes 2\")\n",
    "\n",
    "elif \"Bsdc SL\" in dataframes[0] :\n",
    "    data = pd.DataFrame(dataframes[1])\n",
    "    data.to_excel('Makro Invoices/Makro Invoices/Saved_Datad.xlsx')\n",
    "    \n",
    "elif (len(dataframes)>=3 and (\"MM Num. artículo\" in dataframes[2] or \"MM Num. artículo\" in dataframes[2] \n",
    "                            or \"MM Num. articulo\" in dataframes[2])):\n",
    "    data = pd.DataFrame(dataframes[2])\n",
    "    data.to_excel('Makro Invoices/Makro Invoices/Saved_Datad.xlsx')\n",
    "    print('Condition 2')\n",
    "    \n",
    "else:\n",
    "    data = pd.DataFrame(dataframes[0])\n",
    "    data.to_excel('Makro Invoices/Makro Invoices/Saved_Datad.xlsx')\n",
    "    print(\"Yes\")"
   ]
  },
  {
   "cell_type": "code",
   "execution_count": 66,
   "id": "a9d49648",
   "metadata": {},
   "outputs": [
    {
     "data": {
      "text/html": [
       "<div>\n",
       "<style scoped>\n",
       "    .dataframe tbody tr th:only-of-type {\n",
       "        vertical-align: middle;\n",
       "    }\n",
       "\n",
       "    .dataframe tbody tr th {\n",
       "        vertical-align: top;\n",
       "    }\n",
       "\n",
       "    .dataframe thead th {\n",
       "        text-align: right;\n",
       "    }\n",
       "</style>\n",
       "<table border=\"1\" class=\"dataframe\">\n",
       "  <thead>\n",
       "    <tr style=\"text-align: right;\">\n",
       "      <th></th>\n",
       "      <th>MM Num. artículo</th>\n",
       "      <th>Descrip. artículo</th>\n",
       "      <th>Cont</th>\n",
       "      <th>Prec. Ud.</th>\n",
       "      <th>Cont P.</th>\n",
       "      <th>Precio</th>\n",
       "      <th>Cant.</th>\n",
       "      <th>Importe</th>\n",
       "      <th>Imp</th>\n",
       "      <th>Prec. Ud. DT</th>\n",
       "      <th>AOO</th>\n",
       "      <th>RCD</th>\n",
       "    </tr>\n",
       "  </thead>\n",
       "  <tbody>\n",
       "    <tr>\n",
       "      <th>0</th>\n",
       "      <td>8414892353052</td>\n",
       "      <td>TORTILLA PATATA REDO MC 800G</td>\n",
       "      <td>RT</td>\n",
       "      <td>2,350</td>\n",
       "      <td>3</td>\n",
       "      <td>7,05</td>\n",
       "      <td>1</td>\n",
       "      <td>7,05</td>\n",
       "      <td>1</td>\n",
       "      <td></td>\n",
       "      <td></td>\n",
       "      <td></td>\n",
       "    </tr>\n",
       "    <tr>\n",
       "      <th>1</th>\n",
       "      <td>9414892322010</td>\n",
       "      <td>SALCHICHON EXTRA ARO 300G</td>\n",
       "      <td>BS</td>\n",
       "      <td>4,290</td>\n",
       "      <td>1</td>\n",
       "      <td>4,29</td>\n",
       "      <td>1</td>\n",
       "      <td>4,29</td>\n",
       "      <td>1</td>\n",
       "      <td></td>\n",
       "      <td></td>\n",
       "      <td></td>\n",
       "    </tr>\n",
       "    <tr>\n",
       "      <th>2</th>\n",
       "      <td>2062106015607</td>\n",
       "      <td>PECHUGA POLLO FILETEADA INTERF</td>\n",
       "      <td>KG</td>\n",
       "      <td>3,890</td>\n",
       "      <td>1,560</td>\n",
       "      <td>6,07</td>\n",
       "      <td>1</td>\n",
       "      <td>6,07</td>\n",
       "      <td>0</td>\n",
       "      <td></td>\n",
       "      <td></td>\n",
       "      <td></td>\n",
       "    </tr>\n",
       "    <tr>\n",
       "      <th>3</th>\n",
       "      <td>2062106015300</td>\n",
       "      <td>PECHUGA POLLO FILETEADA INTERF</td>\n",
       "      <td>KG</td>\n",
       "      <td>3.890</td>\n",
       "      <td>1,530</td>\n",
       "      <td>5,95</td>\n",
       "      <td>1</td>\n",
       "      <td>5,95</td>\n",
       "      <td>0</td>\n",
       "      <td></td>\n",
       "      <td></td>\n",
       "      <td></td>\n",
       "    </tr>\n",
       "    <tr>\n",
       "      <th>4</th>\n",
       "      <td>2062106015102</td>\n",
       "      <td>PECHUGA POLLO FILETEADA INTERF</td>\n",
       "      <td>KG</td>\n",
       "      <td>3,890</td>\n",
       "      <td>1,510</td>\n",
       "      <td>5,87</td>\n",
       "      <td>1</td>\n",
       "      <td>5,87</td>\n",
       "      <td>0</td>\n",
       "      <td></td>\n",
       "      <td></td>\n",
       "      <td></td>\n",
       "    </tr>\n",
       "    <tr>\n",
       "      <th>5</th>\n",
       "      <td>2053941035950</td>\n",
       "      <td>TOMATE ENSALADA GG MC CJ/KG</td>\n",
       "      <td>KG</td>\n",
       "      <td>1,890</td>\n",
       "      <td>3,595</td>\n",
       "      <td>6,79</td>\n",
       "      <td>1</td>\n",
       "      <td>6,79</td>\n",
       "      <td>0</td>\n",
       "      <td></td>\n",
       "      <td></td>\n",
       "      <td></td>\n",
       "    </tr>\n",
       "    <tr>\n",
       "      <th>6</th>\n",
       "      <td>8437006417761</td>\n",
       "      <td>LECHUGA BATAVIA BANDEJA</td>\n",
       "      <td>BJ</td>\n",
       "      <td>1,190</td>\n",
       "      <td>1</td>\n",
       "      <td>1,19</td>\n",
       "      <td>4</td>\n",
       "      <td>4,76</td>\n",
       "      <td>0</td>\n",
       "      <td></td>\n",
       "      <td></td>\n",
       "      <td></td>\n",
       "    </tr>\n",
       "    <tr>\n",
       "      <th>7</th>\n",
       "      <td>8427149890149</td>\n",
       "      <td>MULTIPACK SELECTA CUMBA BL 400</td>\n",
       "      <td>BL</td>\n",
       "      <td>5,350</td>\n",
       "      <td>1</td>\n",
       "      <td>5,35</td>\n",
       "      <td>2</td>\n",
       "      <td>10,70</td>\n",
       "      <td>1</td>\n",
       "      <td></td>\n",
       "      <td></td>\n",
       "      <td></td>\n",
       "    </tr>\n",
       "  </tbody>\n",
       "</table>\n",
       "</div>"
      ],
      "text/plain": [
       "  MM Num. artículo               Descrip. artículo Cont Prec. Ud. Cont P.  \\\n",
       "0    8414892353052    TORTILLA PATATA REDO MC 800G   RT     2,350       3   \n",
       "1    9414892322010       SALCHICHON EXTRA ARO 300G   BS     4,290       1   \n",
       "2    2062106015607  PECHUGA POLLO FILETEADA INTERF   KG     3,890   1,560   \n",
       "3    2062106015300  PECHUGA POLLO FILETEADA INTERF   KG     3.890   1,530   \n",
       "4    2062106015102  PECHUGA POLLO FILETEADA INTERF   KG     3,890   1,510   \n",
       "5    2053941035950     TOMATE ENSALADA GG MC CJ/KG   KG     1,890   3,595   \n",
       "6    8437006417761         LECHUGA BATAVIA BANDEJA   BJ     1,190       1   \n",
       "7    8427149890149  MULTIPACK SELECTA CUMBA BL 400   BL     5,350       1   \n",
       "\n",
       "  Precio Cant. Importe Imp Prec. Ud. DT AOO RCD  \n",
       "0   7,05     1    7,05   1                       \n",
       "1   4,29     1    4,29   1                       \n",
       "2   6,07     1    6,07   0                       \n",
       "3   5,95     1    5,95   0                       \n",
       "4   5,87     1    5,87   0                       \n",
       "5   6,79     1    6,79   0                       \n",
       "6   1,19     4    4,76   0                       \n",
       "7   5,35     2   10,70   1                       "
      ]
     },
     "execution_count": 66,
     "metadata": {},
     "output_type": "execute_result"
    }
   ],
   "source": [
    "data.head(100)"
   ]
  },
  {
   "cell_type": "code",
   "execution_count": 67,
   "id": "f23cfbc6",
   "metadata": {},
   "outputs": [
    {
     "data": {
      "text/plain": [
       "Index(['MM Num. artículo', 'Descrip. artículo', 'Cont', 'Prec. Ud.', 'Cont P.',\n",
       "       'Precio', 'Cant.', 'Importe', 'Imp', 'Prec. Ud. DT', 'AOO', 'RCD'],\n",
       "      dtype='object')"
      ]
     },
     "execution_count": 67,
     "metadata": {},
     "output_type": "execute_result"
    }
   ],
   "source": [
    "data.columns"
   ]
  },
  {
   "cell_type": "code",
   "execution_count": 68,
   "id": "076ad914",
   "metadata": {},
   "outputs": [],
   "source": [
    "\n",
    "if data.iloc[0,0] == \"Número de pedido\" or data.iloc[0,0] ==\"\":\n",
    "    print('HI')\n",
    "    big = data.columns[0]\n",
    "    cont = data.columns[2]\n",
    "    lot = data.columns[1]\n",
    "    prec = data.columns[3]\n",
    "    cant = data.columns[-5]\n",
    "    imp = data.columns[-2]\n",
    "    importe = data.columns[-3]\n",
    "    third = data.columns[-4]\n",
    "    da = data.loc[(data[big] != \"Número de pedido\") & (data[big] != \"*** Número de pedido\") & (data[big]!=\"*** Número de\") & (data[big]!=\"*** Número\")]\n",
    "    da = da.loc[(da[big] != \"Entregado a: TABERNA\") & (da[big] !=\"Entregado a: TASCA\") & (da[big]!=\"Entregado a: TABERNA OSUNA\")\n",
    "          & (da[big]!= \"Entregado a: TABERNA osuna\")& (da[big]!=\"Fin de número\") ]\n",
    "    da = da.loc[(da[imp]!= \"Spain Fecha:\") & (da[imp]!= \"Spain Fecha:0\") & (da[imp]!= \"Spain Fecha:1\")]\n",
    "    da = da.loc[da[cont] !=\"LOT:\"]\n",
    "    da = da.loc[da[cant] !=\"Total\"]\n",
    "    da = da.loc[da[cant]!=\"LA LAGUNA\" ]\n",
    "    da = da.applymap(lambda x: str(x.replace(',','.'))) \n",
    "    da = da.applymap(lambda x: str(x.replace(';','.')))\n",
    "    da = da.applymap(lambda x: str(x.replace(':','.')))\n",
    "    da = da.replace('',np.nan)\n",
    "    da = da.dropna(axis=0, thresh=3, how=\"any\")\n",
    "    limitPer = len(da) * .100\n",
    "    da = da.dropna(thresh=limitPer, axis=1)\n",
    "    da = da.replace(np.nan,'0')\n",
    "else:\n",
    "    da = data"
   ]
  },
  {
   "cell_type": "code",
   "execution_count": 69,
   "id": "c843e06c",
   "metadata": {},
   "outputs": [],
   "source": [
    "data =da"
   ]
  },
  {
   "cell_type": "code",
   "execution_count": 70,
   "id": "13e5d46a",
   "metadata": {},
   "outputs": [],
   "source": [
    "data.columns = data.columns.str.replace('NOT_SELECTED  ', '')\n",
    "data.columns = data.columns.str.replace('NOT_SELECTED', '')"
   ]
  },
  {
   "cell_type": "code",
   "execution_count": 71,
   "id": "5033003c",
   "metadata": {},
   "outputs": [],
   "source": [
    "data.columns = data.columns.str.replace('SELECTED  ', '')\n",
    "data.columns = data.columns.str.replace('SELECTED ', '')\n",
    "data.columns = data.columns.str.replace('SELECTED', '')\n",
    "data.columns = data.columns.str.replace('NOT_', '')"
   ]
  },
  {
   "cell_type": "code",
   "execution_count": 72,
   "id": "5a64df22",
   "metadata": {},
   "outputs": [],
   "source": [
    "data.columns = data.columns.str.replace(' ', '')"
   ]
  },
  {
   "cell_type": "code",
   "execution_count": 73,
   "id": "c6b9b975",
   "metadata": {},
   "outputs": [],
   "source": [
    "data = data.replace('','0')\n",
    "data = data.applymap(lambda x: str(x.replace(',','.')))\n",
    "data = data.applymap(lambda x: str(x.replace(';','.')))\n",
    "#data = data.astype({'Precio':float,'Importe':float})"
   ]
  },
  {
   "cell_type": "code",
   "execution_count": 74,
   "id": "17b7077f",
   "metadata": {},
   "outputs": [
    {
     "data": {
      "text/plain": [
       "MMNum.artículo      object\n",
       "Descrip.artículo    object\n",
       "Cont                object\n",
       "Prec.Ud.            object\n",
       "ContP.              object\n",
       "Precio              object\n",
       "Cant.               object\n",
       "Importe             object\n",
       "Imp                 object\n",
       "Prec.Ud.DT          object\n",
       "AOO                 object\n",
       "RCD                 object\n",
       "dtype: object"
      ]
     },
     "execution_count": 74,
     "metadata": {},
     "output_type": "execute_result"
    }
   ],
   "source": [
    "data.dtypes"
   ]
  },
  {
   "cell_type": "code",
   "execution_count": 75,
   "id": "19052d98",
   "metadata": {},
   "outputs": [
    {
     "data": {
      "text/html": [
       "<div>\n",
       "<style scoped>\n",
       "    .dataframe tbody tr th:only-of-type {\n",
       "        vertical-align: middle;\n",
       "    }\n",
       "\n",
       "    .dataframe tbody tr th {\n",
       "        vertical-align: top;\n",
       "    }\n",
       "\n",
       "    .dataframe thead th {\n",
       "        text-align: right;\n",
       "    }\n",
       "</style>\n",
       "<table border=\"1\" class=\"dataframe\">\n",
       "  <thead>\n",
       "    <tr style=\"text-align: right;\">\n",
       "      <th></th>\n",
       "      <th>MMNum.artículo</th>\n",
       "      <th>Descrip.artículo</th>\n",
       "      <th>Cont</th>\n",
       "      <th>Prec.Ud.</th>\n",
       "      <th>ContP.</th>\n",
       "      <th>Precio</th>\n",
       "      <th>Cant.</th>\n",
       "      <th>Importe</th>\n",
       "      <th>Imp</th>\n",
       "      <th>Prec.Ud.DT</th>\n",
       "      <th>AOO</th>\n",
       "      <th>RCD</th>\n",
       "    </tr>\n",
       "  </thead>\n",
       "  <tbody>\n",
       "    <tr>\n",
       "      <th>0</th>\n",
       "      <td>8414892353052</td>\n",
       "      <td>TORTILLA PATATA REDO MC 800G</td>\n",
       "      <td>RT</td>\n",
       "      <td>2.350</td>\n",
       "      <td>3</td>\n",
       "      <td>7.05</td>\n",
       "      <td>1</td>\n",
       "      <td>7.05</td>\n",
       "      <td>1</td>\n",
       "      <td>0</td>\n",
       "      <td>0</td>\n",
       "      <td>0</td>\n",
       "    </tr>\n",
       "    <tr>\n",
       "      <th>1</th>\n",
       "      <td>9414892322010</td>\n",
       "      <td>SALCHICHON EXTRA ARO 300G</td>\n",
       "      <td>BS</td>\n",
       "      <td>4.290</td>\n",
       "      <td>1</td>\n",
       "      <td>4.29</td>\n",
       "      <td>1</td>\n",
       "      <td>4.29</td>\n",
       "      <td>1</td>\n",
       "      <td>0</td>\n",
       "      <td>0</td>\n",
       "      <td>0</td>\n",
       "    </tr>\n",
       "    <tr>\n",
       "      <th>2</th>\n",
       "      <td>2062106015607</td>\n",
       "      <td>PECHUGA POLLO FILETEADA INTERF</td>\n",
       "      <td>KG</td>\n",
       "      <td>3.890</td>\n",
       "      <td>1.560</td>\n",
       "      <td>6.07</td>\n",
       "      <td>1</td>\n",
       "      <td>6.07</td>\n",
       "      <td>0</td>\n",
       "      <td>0</td>\n",
       "      <td>0</td>\n",
       "      <td>0</td>\n",
       "    </tr>\n",
       "    <tr>\n",
       "      <th>3</th>\n",
       "      <td>2062106015300</td>\n",
       "      <td>PECHUGA POLLO FILETEADA INTERF</td>\n",
       "      <td>KG</td>\n",
       "      <td>3.890</td>\n",
       "      <td>1.530</td>\n",
       "      <td>5.95</td>\n",
       "      <td>1</td>\n",
       "      <td>5.95</td>\n",
       "      <td>0</td>\n",
       "      <td>0</td>\n",
       "      <td>0</td>\n",
       "      <td>0</td>\n",
       "    </tr>\n",
       "    <tr>\n",
       "      <th>4</th>\n",
       "      <td>2062106015102</td>\n",
       "      <td>PECHUGA POLLO FILETEADA INTERF</td>\n",
       "      <td>KG</td>\n",
       "      <td>3.890</td>\n",
       "      <td>1.510</td>\n",
       "      <td>5.87</td>\n",
       "      <td>1</td>\n",
       "      <td>5.87</td>\n",
       "      <td>0</td>\n",
       "      <td>0</td>\n",
       "      <td>0</td>\n",
       "      <td>0</td>\n",
       "    </tr>\n",
       "    <tr>\n",
       "      <th>5</th>\n",
       "      <td>2053941035950</td>\n",
       "      <td>TOMATE ENSALADA GG MC CJ/KG</td>\n",
       "      <td>KG</td>\n",
       "      <td>1.890</td>\n",
       "      <td>3.595</td>\n",
       "      <td>6.79</td>\n",
       "      <td>1</td>\n",
       "      <td>6.79</td>\n",
       "      <td>0</td>\n",
       "      <td>0</td>\n",
       "      <td>0</td>\n",
       "      <td>0</td>\n",
       "    </tr>\n",
       "    <tr>\n",
       "      <th>6</th>\n",
       "      <td>8437006417761</td>\n",
       "      <td>LECHUGA BATAVIA BANDEJA</td>\n",
       "      <td>BJ</td>\n",
       "      <td>1.190</td>\n",
       "      <td>1</td>\n",
       "      <td>1.19</td>\n",
       "      <td>4</td>\n",
       "      <td>4.76</td>\n",
       "      <td>0</td>\n",
       "      <td>0</td>\n",
       "      <td>0</td>\n",
       "      <td>0</td>\n",
       "    </tr>\n",
       "    <tr>\n",
       "      <th>7</th>\n",
       "      <td>8427149890149</td>\n",
       "      <td>MULTIPACK SELECTA CUMBA BL 400</td>\n",
       "      <td>BL</td>\n",
       "      <td>5.350</td>\n",
       "      <td>1</td>\n",
       "      <td>5.35</td>\n",
       "      <td>2</td>\n",
       "      <td>10.70</td>\n",
       "      <td>1</td>\n",
       "      <td>0</td>\n",
       "      <td>0</td>\n",
       "      <td>0</td>\n",
       "    </tr>\n",
       "  </tbody>\n",
       "</table>\n",
       "</div>"
      ],
      "text/plain": [
       "  MMNum.artículo                Descrip.artículo Cont Prec.Ud. ContP. Precio  \\\n",
       "0  8414892353052    TORTILLA PATATA REDO MC 800G   RT    2.350      3   7.05   \n",
       "1  9414892322010       SALCHICHON EXTRA ARO 300G   BS    4.290      1   4.29   \n",
       "2  2062106015607  PECHUGA POLLO FILETEADA INTERF   KG    3.890  1.560   6.07   \n",
       "3  2062106015300  PECHUGA POLLO FILETEADA INTERF   KG    3.890  1.530   5.95   \n",
       "4  2062106015102  PECHUGA POLLO FILETEADA INTERF   KG    3.890  1.510   5.87   \n",
       "5  2053941035950     TOMATE ENSALADA GG MC CJ/KG   KG    1.890  3.595   6.79   \n",
       "6  8437006417761         LECHUGA BATAVIA BANDEJA   BJ    1.190      1   1.19   \n",
       "7  8427149890149  MULTIPACK SELECTA CUMBA BL 400   BL    5.350      1   5.35   \n",
       "\n",
       "  Cant. Importe Imp Prec.Ud.DT AOO RCD  \n",
       "0     1    7.05   1          0   0   0  \n",
       "1     1    4.29   1          0   0   0  \n",
       "2     1    6.07   0          0   0   0  \n",
       "3     1    5.95   0          0   0   0  \n",
       "4     1    5.87   0          0   0   0  \n",
       "5     1    6.79   0          0   0   0  \n",
       "6     4    4.76   0          0   0   0  \n",
       "7     2   10.70   1          0   0   0  "
      ]
     },
     "execution_count": 75,
     "metadata": {},
     "output_type": "execute_result"
    }
   ],
   "source": [
    "data.head(100)"
   ]
  },
  {
   "cell_type": "code",
   "execution_count": 77,
   "id": "afe8b9ef",
   "metadata": {},
   "outputs": [
    {
     "name": "stdout",
     "output_type": "stream",
     "text": [
      "Final_Sum 51.66\n",
      "Tarjeta Table Sum 51.66\n"
     ]
    }
   ],
   "source": [
    "if dat[\"Supplier\"] == \"Makro\":\n",
    "    \n",
    "    if data.iloc[0,0] == \"Número de pedido\" or data.iloc[0,0] ==\"\":\n",
    "        print('HI')\n",
    "        big = data.columns[0]\n",
    "        cont = data.columns[2]\n",
    "        lot = data.columns[1]\n",
    "        prec = data.columns[3]\n",
    "        cant = data.columns[-5]\n",
    "        imp = data.columns[-2]\n",
    "        importe = data.columns[-3]\n",
    "        third = data.columns[-4]\n",
    "        da = data.loc[(data[big] != \"Número de pedido\") & (data[big] != \"*** Número de pedido\") & (data[big]!=\"*** Número de\") & (data[big]!=\"*** Número\")]\n",
    "        da = da.loc[(da[big] != \"Entregado a: TABERNA\") & (da[big] !=\"Entregado a: TASCA\") & (da[big]!=\"Entregado a: TABERNA OSUNA\")\n",
    "          & (da[big]!= \"Entregado a: TABERNA osuna\")& (da[big]!=\"Fin de número\") ]\n",
    "        da = da.loc[(da[imp]!= \"Spain Fecha:\") & (da[imp]!= \"Spain Fecha:0\") & (da[imp]!= \"Spain Fecha:1\")]\n",
    "        da = da.loc[da[cont] !=\"LOT:\"]\n",
    "        da = da.loc[da[cant] !=\"Total\"]\n",
    "        da = da.loc[da[cant]!=\"LA LAGUNA\" ]\n",
    "        da = da.applymap(lambda x: str(x.replace(',','.'))) \n",
    "        da = da.applymap(lambda x: str(x.replace(';','.')))\n",
    "        da = da.applymap(lambda x: str(x.replace(':','.')))\n",
    "        da = da.replace('',np.nan)\n",
    "        da = da.dropna(axis=0, thresh=3, how=\"any\")\n",
    "        limitPer = len(da) * .100\n",
    "        da = da.dropna(thresh=limitPer, axis=1)\n",
    "        da = da.replace(np.nan,'0')\n",
    "        da = da.astype({'Importe':float})\n",
    "        one_tax = da.loc[(da['Imp'] == '1')]\n",
    "        tax_one = 0\n",
    "        for i in one_tax['Importe']:\n",
    "            tax_one +=i\n",
    "        tax_one = round(tax_one*0.03,2)\n",
    "        two_tax =  da.loc[(da['Imp'] == '2')]\n",
    "        tax_two = 0\n",
    "        for i in two_tax['Importe']:\n",
    "            tax_two +=i\n",
    "        tax_two = round(tax_two*0.07,2)\n",
    "        three_tax =  da.loc[(da['Imp'] == '3')]\n",
    "        tax_three = 0\n",
    "        for i in three_tax['Importe']:\n",
    "            tax_three +=i\n",
    "        tax_three = round(tax_three*0.15,2)\n",
    "        final_total = 0\n",
    "        for i in da['Importe']:\n",
    "            final_total +=i\n",
    "        final_total = round(final_total)\n",
    "        final_sum = round(final_total + tax_one + tax_two+tax_three,2)\n",
    "        print(\"Final_Sum\",final_sum)\n",
    "        dat['Total'] = (dat['Total'].replace(',', '.'))\n",
    "        dat['Total'] = float(dat['Total'])\n",
    "        dat['Total'] = int(dat['Total'])\n",
    "        print(dat[\"Total\"],\"Table Sum\",final_sum)\n",
    "        final_sum = int(final_sum)\n",
    "        if (final_sum) == dat[\"Total\"]:\n",
    "            print(\"Both Are equal\")\n",
    "    else:\n",
    "        #da = data.applymap(lambda x: str(x.replace(',','.'))) \n",
    "        #da = data.applymap(lambda x: str(x.replace(';','.')))\n",
    "        #da = data.applymap(lambda x: str(x.replace(':','.')))\n",
    "        #da = data.replace('',np.nan)\n",
    "        #limitPer = len(da) * .100\n",
    "        da = data\n",
    "        #da = da.dropna(thresh=limitPer, axis=1)\n",
    "        da = da.astype({'Precio':float,'Importe':float})\n",
    "        one_tax = da.loc[(da['Imp'] == '1')]\n",
    "        tax_one = 0\n",
    "        for i in one_tax['Importe']:\n",
    "            tax_one +=i\n",
    "        tax_one = round(tax_one*0.03,2)\n",
    "        two_tax =  da.loc[(da['Imp'] == '2')]\n",
    "        tax_two = 0\n",
    "        for i in two_tax['Importe']:\n",
    "            tax_two +=i\n",
    "        tax_two = round(tax_two*0.07,2)\n",
    "        three_tax =  da.loc[(da['Imp'] == '3')]\n",
    "        tax_three = 0\n",
    "        for i in three_tax['Importe']:\n",
    "            tax_three +=i\n",
    "        tax_three = round(tax_three*0.15,2)\n",
    "        final_total = 0\n",
    "        for i in da['Importe']:\n",
    "            final_total +=i\n",
    "        final_total = round(final_total)\n",
    "        final_sum = round(final_total + tax_one + tax_two+tax_three,2)\n",
    "        print(\"Final_Sum\",final_sum)\n",
    "        dat['Total'] = (dat['Total'].replace(',', '.'))\n",
    "        if dat['Total']== 'Tarjeta':\n",
    "            pass\n",
    "        else:\n",
    "            dat['Total'] = float(dat['Total'])\n",
    "        #dat['Total'] = int(dat['Total'])\n",
    "        print(dat[\"Total\"],\"Table Sum\",final_sum)\n",
    "        final_sum = int(final_sum)\n",
    "        if (final_sum) == dat[\"Total\"]:\n",
    "            print(\"Both Are equal\")\n",
    "\n",
    "    \n",
    "elif dat[\"Supplier\"] ==\"Montesano\":\n",
    "    da = data\n",
    "    da = da.applymap(lambda x: str(x.replace(',','.')))\n",
    "    da = da.astype({'Neto':float,'Total':float})\n",
    "    dat['Total'] = dat['Total'].replace(',','.')\n",
    "    tot = 0\n",
    "    for i in da[\"Total\"]:\n",
    "        print(i)\n",
    "        tot +=i\n",
    "        tot = round(tot,2)\n",
    "    three_percent = da.loc[(da['IGIC'] == '3%')]\n",
    "    three_var = 0 \n",
    "    for i in three_percent[\"Total\"]:\n",
    "        three_var +=i\n",
    "    three_var = round(three_var *0.03,2)\n",
    "    tot = three_var + tot\n",
    "    tot = str(tot)\n",
    "    print(tot,dat[\"Total\"])\n",
    "    if tot == dat[\"Total\"]:\n",
    "        print(\"Both Values are equal\")\n",
    "    \n",
    "    "
   ]
  },
  {
   "cell_type": "code",
   "execution_count": 56,
   "id": "9514707e",
   "metadata": {},
   "outputs": [
    {
     "data": {
      "text/plain": [
       "MMNum.articulo       object\n",
       "Descrip.artículo     object\n",
       "Cont                 object\n",
       "Prec.Ud.             object\n",
       "ContP.               object\n",
       "Precio              float64\n",
       "Cant.                object\n",
       "Importe             float64\n",
       "Imp                  object\n",
       "Prec.Ud.             object\n",
       "DT                   object\n",
       "AOO                  object\n",
       "RCD                  object\n",
       "dtype: object"
      ]
     },
     "execution_count": 56,
     "metadata": {},
     "output_type": "execute_result"
    }
   ],
   "source": [
    "da.dtypes"
   ]
  },
  {
   "cell_type": "code",
   "execution_count": 62,
   "id": "a1856afb",
   "metadata": {},
   "outputs": [
    {
     "name": "stdout",
     "output_type": "stream",
     "text": [
      "['021']\n",
      "['021']\n",
      "['474']\n"
     ]
    }
   ],
   "source": [
    "import re\n",
    "for idx,a in enumerate(text_list):\n",
    "    if(a.strip() != \"\"):\n",
    "        if (re.search(\"\\d{1}/\\d{1}(\\d{3})\",a)):\n",
    "            b  = re.findall(\"\\d{1}/\\d{1}(\\d{3})\", a)\n",
    "            print(b)"
   ]
  },
  {
   "cell_type": "raw",
   "id": "ba004733",
   "metadata": {},
   "source": [
    "Factura 070 (U06) 00077 (2021)153017 — (007-575822) 006/034\n",
    "['Factura', '070', '(U06)', '00077', '(2021)153017', '—', '(007-575822)', '006/034']\n",
    "['Factura', '070', '(U06)', '00077', '(2021)153017', '—', '(007-575822)', '006/034']\n",
    "Case Total\n",
    "137,67\n",
    "Case Total\n",
    "142,40"
   ]
  },
  {
   "cell_type": "code",
   "execution_count": 70,
   "id": "7df3d9bb",
   "metadata": {},
   "outputs": [],
   "source": [
    "img  = cv2.imread('Makro Invoices/Makro Invoices/Converted/03.07.20_Extintores Valle Union Sl_3243,8_page1.png', cv2.COLOR_RGB2GRAY)\n",
    "text=(pytesseract.image_to_string(img))\n",
    "text_list = text.split(\"\\n\")"
   ]
  },
  {
   "cell_type": "code",
   "execution_count": 82,
   "id": "109cdb1a",
   "metadata": {},
   "outputs": [],
   "source": [
    "dat = {\n",
    "    \"Vat Number\":'',\n",
    "       \"Total\":0,\n",
    "       \"Date\":''}\n",
    "for idx, a in enumerate(text_list):\n",
    "    if(a.strip() != \"\"):\n",
    "        #vat number section\n",
    "        if (re.search(\"[A-Z]-\\d{2}/\\d{6}\",a)):\n",
    "            b = re.findall(\"[A-Z]-\\d{2}/\\d{6}\",a)\n",
    "            dat[\"Vat Number\"] = b[0]\n",
    "        if (re.search(\"\\d{8}-[A-Z]\",a)):\n",
    "            b = re.findall(\"\\d{8}-[A-Z]\",a)\n",
    "            dat[\"Vat Number\"] = b[0]\n",
    "\n",
    "        if (re.search(\"[A-Z]{1}[0-9]{8}\",a)):\n",
    "            b = re.findall(\"[A-Z]{1}[0-9]{8}\",a)\n",
    "            dat[\"Vat Number\"] = b[0]              \n",
    "\n",
    "         #Date section           \n",
    "        if (re.search(\"\\d{2}/\\d{2}/\\d{4}\",a)):\n",
    "            b  = re.findall(\"\\d{2}/\\d{2}/\\d{4}\", a)\n",
    "            dat[\"Date\"] = b\n",
    "        elif (re.search(\"\\d{2}-\\d{2}-\\d{4}\",a)):\n",
    "            b = re.findall(\"\\d{2}-\\d{2}-\\d{4}\",a)\n",
    "            dat[\"Date\"] = b"
   ]
  },
  {
   "cell_type": "code",
   "execution_count": 83,
   "id": "7bbdfbe0",
   "metadata": {},
   "outputs": [
    {
     "data": {
      "text/plain": [
       "{'Vat Number': 'B38574281', 'Total': 0, 'Date': ['03/07/2020']}"
      ]
     },
     "execution_count": 83,
     "metadata": {},
     "output_type": "execute_result"
    }
   ],
   "source": [
    "dat\n",
    "#s = \"alpha.Customer[cus_Y4o9qMEZAugtnW] ...\""
   ]
  },
  {
   "cell_type": "code",
   "execution_count": 32,
   "id": "90f2ea1d",
   "metadata": {},
   "outputs": [
    {
     "name": "stdout",
     "output_type": "stream",
     "text": [
      "<re.Match object; span=(14, 34), match='[cus_Y4o9qMEZAugtnW]'>\n"
     ]
    }
   ],
   "source": [
    "m = re.search(r\"\\[(\\w+)\\]\", s)\n",
    "print(m)"
   ]
  },
  {
   "cell_type": "code",
   "execution_count": 36,
   "id": "8a08b5c0",
   "metadata": {},
   "outputs": [
    {
     "data": {
      "text/plain": [
       "'lnfgbdgfi343456dsfidf(my data) ljfbgns47647jfbgfjbgsk'"
      ]
     },
     "execution_count": 36,
     "metadata": {},
     "output_type": "execute_result"
    }
   ],
   "source": [
    "your_string = \"lnfgbdgfi343456dsfidf(123) ljfbgns47647jfbgfjbgskj\"\n",
    "your_string[your_string.find(\"[\")+1 : your_string.find(\"]\")]"
   ]
  },
  {
   "cell_type": "code",
   "execution_count": 43,
   "id": "07a932ac",
   "metadata": {},
   "outputs": [
    {
     "data": {
      "text/plain": [
       "[]"
      ]
     },
     "execution_count": 43,
     "metadata": {},
     "output_type": "execute_result"
    }
   ],
   "source": [
    "re.findall(r\"\\(([a-zA-Z0-9 ._]*)\\)\", your_string)"
   ]
  },
  {
   "cell_type": "code",
   "execution_count": 58,
   "id": "14d6e745",
   "metadata": {},
   "outputs": [
    {
     "data": {
      "text/plain": [
       "['076']"
      ]
     },
     "execution_count": 58,
     "metadata": {},
     "output_type": "execute_result"
    }
   ],
   "source": [
    "your_string = \"1234lnfgbdgfi343456dsfidf(076) ljfbgns47647jfbgfjbgskj\"\n",
    "re.findall(r\"\\(([0-9{3}]*)\\)\", your_string)"
   ]
  },
  {
   "cell_type": "code",
   "execution_count": null,
   "id": "42f54094",
   "metadata": {},
   "outputs": [],
   "source": []
  }
 ],
 "metadata": {
  "kernelspec": {
   "display_name": "Python 3 (ipykernel)",
   "language": "python",
   "name": "python3"
  },
  "language_info": {
   "codemirror_mode": {
    "name": "ipython",
    "version": 3
   },
   "file_extension": ".py",
   "mimetype": "text/x-python",
   "name": "python",
   "nbconvert_exporter": "python",
   "pygments_lexer": "ipython3",
   "version": "3.7.11"
  }
 },
 "nbformat": 4,
 "nbformat_minor": 5
}
