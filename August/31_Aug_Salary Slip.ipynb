{
 "cells": [
  {
   "cell_type": "code",
   "execution_count": 1,
   "id": "c9122f53",
   "metadata": {},
   "outputs": [
    {
     "name": "stderr",
     "output_type": "stream",
     "text": [
      "F:\\anaconda3\\envs\\python_3_7\\lib\\site-packages\\fuzzywuzzy\\fuzz.py:11: UserWarning: Using slow pure-python SequenceMatcher. Install python-Levenshtein to remove this warning\n",
      "  warnings.warn('Using slow pure-python SequenceMatcher. Install python-Levenshtein to remove this warning')\n",
      "\n"
     ]
    }
   ],
   "source": [
    "import pytesseract\n",
    "import cv2\n",
    "from PIL import Image \n",
    "import re\n",
    "import pandas as pd\n",
    "import fitz\n",
    "import os\n",
    "import boto3\n",
    "import io\n",
    "from fuzzywuzzy import fuzz\n",
    "from fuzzywuzzy import process\n",
    "import numpy as np"
   ]
  },
  {
   "cell_type": "code",
   "execution_count": 2,
   "id": "84fef75c",
   "metadata": {},
   "outputs": [],
   "source": [
    "pytesseract.pytesseract.tesseract_cmd = r\"C:\\Program Files\\Tesseract-OCR\\tesseract.exe\""
   ]
  },
  {
   "cell_type": "code",
   "execution_count": 252,
   "id": "d769abce",
   "metadata": {},
   "outputs": [],
   "source": [
    "Ima = \"Makro Invoices/Makro Invoices/New/FD.- nominas de Marzo_page4.png\""
   ]
  },
  {
   "cell_type": "code",
   "execution_count": 253,
   "id": "d352bd2a",
   "metadata": {},
   "outputs": [],
   "source": [
    "def find_amounts(text):\n",
    "    amounts = re.findall(r'\\d+\\.\\d{2}\\b', text)\n",
    "    floats = [float(amount) for amount in amounts]\n",
    "    unique = list(dict.fromkeys(floats))\n",
    "    if len(unique)==0:\n",
    "        return 0\n",
    "    else:\n",
    "        return max(unique)"
   ]
  },
  {
   "cell_type": "code",
   "execution_count": 254,
   "id": "5e96a6fd",
   "metadata": {},
   "outputs": [
    {
     "name": "stdout",
     "output_type": "stream",
     "text": [
      "['B38339362']\n",
      "['38/1010368-91']\n",
      "['46262065A']\n",
      "['38/10830624-63']\n"
     ]
    }
   ],
   "source": [
    "dat = {\"NIF\":'',\n",
    "      \"seguridad_social\": '',\n",
    "      \"dni\":'',\n",
    "      \"seguridad_social1\": '',\n",
    "      \"nombre\": '',\n",
    "      \"nombre1\": '',\n",
    "      \"categoria\": '',\n",
    "      \"antiguedad\": '',\n",
    "      \"periodo\": '',\n",
    "      \"dias\": '',\n",
    "      \"devengado\": ''}\n",
    "img  = cv2.imread(Ima, cv2.COLOR_RGB2GRAY)\n",
    "text=(pytesseract.image_to_string(img))\n",
    "text_list = text.split(\"\\n\")\n",
    "for idx, a in enumerate(text_list):\n",
    "    if(a.strip() != \"\"):\n",
    "        a = a.replace(',','.')\n",
    "        if (re.search(\"[A-Z]{1}[0-9]{8}\",a)):\n",
    "            b = re.findall(\"[A-Z]{1}[0-9]{8}\",a)\n",
    "            print(b)\n",
    "            dat['NIF'] = b[0]\n",
    "        if (re.search(\"[0-9]{2}/[0-9]{7}-[0-9]{2}\",a)):\n",
    "            b = re.findall(\"[0-9]{2}/[0-9]{7}-[0-9]{2}\",a)\n",
    "            print(b)\n",
    "            dat['seguridad_social'] = b[0]\n",
    "        if (re.search(\"[0-9]{2}/[0-9]{8}-[0-9]{2}\",a)):\n",
    "            b = re.findall(\"[0-9]{2}/[0-9]{8}-[0-9]{2}\",a)\n",
    "            print(b)\n",
    "            dat['seguridad_social1'] = b[0]\n",
    "        if (re.search(\"[0-9]{8}[A-Z]{1}\",a)):\n",
    "            b = re.findall(\"[0-9]{8}[A-Z]{1}\",a)\n",
    "            print(b)\n",
    "            dat['dni'] = b[0]"
   ]
  },
  {
   "cell_type": "code",
   "execution_count": 255,
   "id": "677764d2",
   "metadata": {},
   "outputs": [
    {
     "data": {
      "text/plain": [
       "{'NIF': 'B38339362',\n",
       " 'seguridad_social': '38/1010368-91',\n",
       " 'dni': '46262065A',\n",
       " 'seguridad_social1': '38/10830624-63',\n",
       " 'nombre': '',\n",
       " 'nombre1': '',\n",
       " 'categoria': '',\n",
       " 'antiguedad': '',\n",
       " 'periodo': '',\n",
       " 'dias': '',\n",
       " 'devengado': ''}"
      ]
     },
     "execution_count": 255,
     "metadata": {},
     "output_type": "execute_result"
    }
   ],
   "source": [
    "dat"
   ]
  },
  {
   "cell_type": "code",
   "execution_count": 256,
   "id": "ffaf7d20",
   "metadata": {},
   "outputs": [
    {
     "data": {
      "text/plain": [
       "275.34"
      ]
     },
     "execution_count": 256,
     "metadata": {},
     "output_type": "execute_result"
    }
   ],
   "source": [
    "#find_amounts(text_list)\n",
    "find_amounts(text.replace(',','.'))"
   ]
  },
  {
   "cell_type": "code",
   "execution_count": 257,
   "id": "6781014f",
   "metadata": {},
   "outputs": [
    {
     "data": {
      "text/plain": [
       "['GARCIA BELTRAN, RAUL',\n",
       " '',\n",
       " 'cL VERA DE ARRIBA 32',\n",
       " '38626 ARONA',\n",
       " 'SC DE TENERIFE',\n",
       " 'NIF. B38339362 784',\n",
       " 'EMPRESA DOMICILIO N NS. SS.',\n",
       " 'FERRETERIA DORTA SL CL CHINDIA, 10 38/1010368-91',\n",
       " 'TRABAJADORIA CATEGORIA N°MATRIC. ANTIGUEDAD DNL',\n",
       " 'IGARCIA BELTRAN, RAUL MOZO 19 JUL 21 46262065A',\n",
       " 'N° AFILIAGION. S.S._[TARIFA|COD.CT| SECCION | _NRO. PERIODO TOT. DAS',\n",
       " '38/10830624-63 10 [189 123 [MENS 01 MAR 22 a 31 MAR 22 30',\n",
       " '‘CUANTIA PRECIO CONCEPTO. DEVENGOS | _DEDUCCIONES',\n",
       " '30,00 33,333 1] *Salario Base 1.000,00',\n",
       " '30] *P.P.Paga Extra 166,67',\n",
       " '995 COTIZACION CONT.COMU 4,70 54,83',\n",
       " '996 COTIZACION FORMACION 0,10 1,17',\n",
       " '997 COTIZACION DESEMPLEO 1,55 18,08',\n",
       " '999 TRIBUTACION I.R.P.F. 1,44 16,80',\n",
       " 'REM.TOTAL | __P.P.EXTRAS BASE S.S. BASEA.T.Y DES. | BASELRP.F._| T. DEVENGADO| T. A DEDUCIR',\n",
       " '1.166, 67 1.166, 70 1.166, 70 1.166,67 | 1.166,67 90,88',\n",
       " '* Percepciones Salariales sujetas a Cot. S.S. - Percepciones no Salariales excluidas Cot. S.S.',\n",
       " 'FECHA ‘SELLO EMPRESA RECBI',\n",
       " '31 MARZO 2022',\n",
       " 'ARONA',\n",
       " 'LIQUIDO A PERCIBIR',\n",
       " '1.075,79',\n",
       " 'IBAN:',\n",
       " 'SWIFT/BIC:',\n",
       " 'DETERMINACION DE LAS B. DE COTZACION A LA S.S. Y CONCEPTOS DE RECAUDACION CONJUNTA Y APORTACION DE LA EMPRESA',\n",
       " 'CONCEPTO BASE TIPO APORTACION EMPRESARIAL',\n",
       " '1. Contingencias comunes 1.166,70 23,60 275,34',\n",
       " '. . 1.166,70 1,65 19,25',\n",
       " 'Fonale a ea tos de Desempleo.. 1.166, 70 5,50 64,17',\n",
       " 'recaudacién conjunta Formacién Profesional. 1.166,70 0,60 7,00',\n",
       " 'Fondo Garantia Salarial.......0 -1+166,70 0,20 2,33',\n",
       " '3. Cotizaci6n adicional horas extraordinarias.....creorsen',\n",
       " '',\n",
       " 'DESCANSO DIARIO Y SEMANAL DISFRUTADO',\n",
       " '',\n",
       " '']"
      ]
     },
     "execution_count": 257,
     "metadata": {},
     "output_type": "execute_result"
    }
   ],
   "source": [
    "text_list"
   ]
  },
  {
   "cell_type": "code",
   "execution_count": 258,
   "id": "76361148",
   "metadata": {},
   "outputs": [],
   "source": [
    "im = Image.open(Ima)"
   ]
  },
  {
   "cell_type": "code",
   "execution_count": 259,
   "id": "80136c0a",
   "metadata": {},
   "outputs": [],
   "source": [
    "buffered = io.BytesIO()\n",
    "im.save(buffered, format='PNG')\n",
    "client = boto3.client('textract')\n",
    "response = client.analyze_document(\n",
    "    Document={'Bytes': buffered.getvalue()},\n",
    "    FeatureTypes=['TABLES']\n",
    ")"
   ]
  },
  {
   "cell_type": "code",
   "execution_count": 260,
   "id": "cc419078",
   "metadata": {},
   "outputs": [],
   "source": [
    "def map_blocks(blocks, block_type):\n",
    "    return {\n",
    "        block['Id']: block\n",
    "        for block in blocks\n",
    "        if block['BlockType'] == block_type\n",
    "    }\n",
    "\n",
    "blocks = response['Blocks']\n",
    "tables = map_blocks(blocks, 'TABLE')\n",
    "cells = map_blocks(blocks, 'CELL')\n",
    "words = map_blocks(blocks, 'WORD')\n",
    "selections = map_blocks(blocks, 'SELECTION_ELEMENT')\n",
    "\n",
    "def get_children_ids(block):\n",
    "    for rels in block.get('Relationships', []):\n",
    "        if rels['Type'] == 'CHILD':\n",
    "            yield from rels['Ids']\n",
    "            \n",
    "dataframes = []\n",
    "\n",
    "for table in tables.values():\n",
    "\n",
    "    # Determine all the cells that belong to this table\n",
    "    table_cells = [cells[cell_id] for cell_id in get_children_ids(table)]\n",
    "\n",
    "    # Determine the table's number of rows and columns\n",
    "    n_rows = max(cell['RowIndex'] for cell in table_cells)\n",
    "    n_cols = max(cell['ColumnIndex'] for cell in table_cells)\n",
    "    content = [[None for _ in range(n_cols)] for _ in range(n_rows)]\n",
    "\n",
    "    # Fill in each cell\n",
    "    for cell in table_cells:\n",
    "        cell_contents = [\n",
    "            words[child_id]['Text']\n",
    "            if child_id in words\n",
    "            else selections[child_id]['SelectionStatus']\n",
    "            for child_id in get_children_ids(cell)\n",
    "        ]\n",
    "        i = cell['RowIndex'] - 1\n",
    "        j = cell['ColumnIndex'] - 1\n",
    "        content[i][j] = ' '.join(cell_contents)\n",
    "\n",
    "    # We assume that the first row corresponds to the column names\n",
    "    dataframe = pd.DataFrame(content[1:], columns=content[0])\n",
    "    dataframes.append(dataframe)"
   ]
  },
  {
   "cell_type": "code",
   "execution_count": 261,
   "id": "fd84b091",
   "metadata": {},
   "outputs": [
    {
     "data": {
      "text/plain": [
       "6"
      ]
     },
     "execution_count": 261,
     "metadata": {},
     "output_type": "execute_result"
    }
   ],
   "source": [
    "len(dataframes)"
   ]
  },
  {
   "cell_type": "code",
   "execution_count": 262,
   "id": "2b46f016",
   "metadata": {},
   "outputs": [],
   "source": [
    "d1 = dataframes[0]\n",
    "d2 = dataframes[1]\n",
    "d3 = dataframes[2]\n",
    "if len(dataframes)>3:\n",
    "    d4 = dataframes[3]\n",
    "if len(dataframes)>4:\n",
    "    d5 = dataframes[4]\n",
    "if len(dataframes)>5:\n",
    "    d6 = dataframes[5]"
   ]
  },
  {
   "cell_type": "code",
   "execution_count": 263,
   "id": "e6266267",
   "metadata": {},
   "outputs": [
    {
     "data": {
      "text/html": [
       "<div>\n",
       "<style scoped>\n",
       "    .dataframe tbody tr th:only-of-type {\n",
       "        vertical-align: middle;\n",
       "    }\n",
       "\n",
       "    .dataframe tbody tr th {\n",
       "        vertical-align: top;\n",
       "    }\n",
       "\n",
       "    .dataframe thead th {\n",
       "        text-align: right;\n",
       "    }\n",
       "</style>\n",
       "<table border=\"1\" class=\"dataframe\">\n",
       "  <thead>\n",
       "    <tr style=\"text-align: right;\">\n",
       "      <th></th>\n",
       "      <th>EMPRESA</th>\n",
       "      <th>DOMICILIO</th>\n",
       "      <th>N° INS. S.S.</th>\n",
       "    </tr>\n",
       "  </thead>\n",
       "  <tbody>\n",
       "    <tr>\n",
       "      <th>0</th>\n",
       "      <td>FERRETERIA DORTA SL</td>\n",
       "      <td>CL CHINDIA, 10</td>\n",
       "      <td>38/1010368-91</td>\n",
       "    </tr>\n",
       "  </tbody>\n",
       "</table>\n",
       "</div>"
      ],
      "text/plain": [
       "               EMPRESA       DOMICILIO   N° INS. S.S.\n",
       "0  FERRETERIA DORTA SL  CL CHINDIA, 10  38/1010368-91"
      ]
     },
     "execution_count": 263,
     "metadata": {},
     "output_type": "execute_result"
    }
   ],
   "source": [
    "d1.head(20)"
   ]
  },
  {
   "cell_type": "code",
   "execution_count": 264,
   "id": "95c94843",
   "metadata": {},
   "outputs": [
    {
     "name": "stdout",
     "output_type": "stream",
     "text": [
      "HI\n"
     ]
    }
   ],
   "source": [
    "if 'EMPRESA' in d1.columns or 'DOMICILIO' in d1.columns:\n",
    "    print('HI')\n",
    "    for i in d1['EMPRESA']:\n",
    "        nombre = i\n",
    "    dat[\"nombre\"] = nombre"
   ]
  },
  {
   "cell_type": "code",
   "execution_count": 265,
   "id": "283dd3cf",
   "metadata": {},
   "outputs": [],
   "source": [
    "#dat[\"nombre\"] = d1['EMPRESA']"
   ]
  },
  {
   "cell_type": "code",
   "execution_count": 266,
   "id": "1d107a70",
   "metadata": {},
   "outputs": [
    {
     "data": {
      "text/plain": [
       "{'NIF': 'B38339362',\n",
       " 'seguridad_social': '38/1010368-91',\n",
       " 'dni': '46262065A',\n",
       " 'seguridad_social1': '38/10830624-63',\n",
       " 'nombre': 'FERRETERIA DORTA SL',\n",
       " 'nombre1': '',\n",
       " 'categoria': '',\n",
       " 'antiguedad': '',\n",
       " 'periodo': '',\n",
       " 'dias': '',\n",
       " 'devengado': ''}"
      ]
     },
     "execution_count": 266,
     "metadata": {},
     "output_type": "execute_result"
    }
   ],
   "source": [
    "dat"
   ]
  },
  {
   "cell_type": "code",
   "execution_count": 267,
   "id": "df0065e3",
   "metadata": {},
   "outputs": [
    {
     "data": {
      "text/plain": [
       "0    FERRETERIA DORTA SL\n",
       "Name: EMPRESA, dtype: object"
      ]
     },
     "execution_count": 267,
     "metadata": {},
     "output_type": "execute_result"
    }
   ],
   "source": [
    "d1['EMPRESA']"
   ]
  },
  {
   "cell_type": "code",
   "execution_count": 268,
   "id": "7ffdcfbf",
   "metadata": {},
   "outputs": [
    {
     "data": {
      "text/html": [
       "<div>\n",
       "<style scoped>\n",
       "    .dataframe tbody tr th:only-of-type {\n",
       "        vertical-align: middle;\n",
       "    }\n",
       "\n",
       "    .dataframe tbody tr th {\n",
       "        vertical-align: top;\n",
       "    }\n",
       "\n",
       "    .dataframe thead th {\n",
       "        text-align: right;\n",
       "    }\n",
       "</style>\n",
       "<table border=\"1\" class=\"dataframe\">\n",
       "  <thead>\n",
       "    <tr style=\"text-align: right;\">\n",
       "      <th></th>\n",
       "      <th>TRABAJADOR/A</th>\n",
       "      <th>CATEGORIA</th>\n",
       "      <th>N°MATRIC</th>\n",
       "      <th>ANTIGUEDAD</th>\n",
       "      <th>D.N.I.</th>\n",
       "    </tr>\n",
       "  </thead>\n",
       "  <tbody>\n",
       "    <tr>\n",
       "      <th>0</th>\n",
       "      <td>GARCIA BELTRAN, RAUL</td>\n",
       "      <td>MOZO</td>\n",
       "      <td></td>\n",
       "      <td>19 JUL 21</td>\n",
       "      <td>46262065A</td>\n",
       "    </tr>\n",
       "  </tbody>\n",
       "</table>\n",
       "</div>"
      ],
      "text/plain": [
       "           TRABAJADOR/A CATEGORIA N°MATRIC ANTIGUEDAD     D.N.I.\n",
       "0  GARCIA BELTRAN, RAUL      MOZO           19 JUL 21  46262065A"
      ]
     },
     "execution_count": 268,
     "metadata": {},
     "output_type": "execute_result"
    }
   ],
   "source": [
    "d2.head()"
   ]
  },
  {
   "cell_type": "code",
   "execution_count": 269,
   "id": "b2121230",
   "metadata": {},
   "outputs": [],
   "source": [
    "if 'TRABAJADOR/A' in d2.columns or 'CATEGORIA' in d2.columns:\n",
    "    for i in d2['TRABAJADOR/A']:\n",
    "        nombre1 = i\n",
    "    dat['nombre1'] = nombre1\n",
    "    for j in d2['CATEGORIA']:\n",
    "        categoria = j\n",
    "    dat['categoria'] = categoria\n",
    "    for k in d2['ANTIGUEDAD']:\n",
    "        antigue = k\n",
    "    dat['antiguedad'] = antigue\n",
    "    "
   ]
  },
  {
   "cell_type": "code",
   "execution_count": 270,
   "id": "92c4da41",
   "metadata": {},
   "outputs": [
    {
     "data": {
      "text/html": [
       "<div>\n",
       "<style scoped>\n",
       "    .dataframe tbody tr th:only-of-type {\n",
       "        vertical-align: middle;\n",
       "    }\n",
       "\n",
       "    .dataframe tbody tr th {\n",
       "        vertical-align: top;\n",
       "    }\n",
       "\n",
       "    .dataframe thead th {\n",
       "        text-align: right;\n",
       "    }\n",
       "</style>\n",
       "<table border=\"1\" class=\"dataframe\">\n",
       "  <thead>\n",
       "    <tr style=\"text-align: right;\">\n",
       "      <th></th>\n",
       "      <th>N° AFILIACION. S.S.</th>\n",
       "      <th>TARIFA</th>\n",
       "      <th>COD.CT</th>\n",
       "      <th>SECCION</th>\n",
       "      <th>NRO.</th>\n",
       "      <th>PERIODO</th>\n",
       "      <th>TOT. DIAS</th>\n",
       "    </tr>\n",
       "  </thead>\n",
       "  <tbody>\n",
       "    <tr>\n",
       "      <th>0</th>\n",
       "      <td>38/10830624-63</td>\n",
       "      <td>10</td>\n",
       "      <td>189</td>\n",
       "      <td></td>\n",
       "      <td>123</td>\n",
       "      <td>MENS 01 MAR 22 a 31 MAR 22</td>\n",
       "      <td>30</td>\n",
       "    </tr>\n",
       "  </tbody>\n",
       "</table>\n",
       "</div>"
      ],
      "text/plain": [
       "  N° AFILIACION. S.S. TARIFA COD.CT SECCION NRO.                     PERIODO  \\\n",
       "0      38/10830624-63     10    189          123  MENS 01 MAR 22 a 31 MAR 22   \n",
       "\n",
       "  TOT. DIAS  \n",
       "0        30  "
      ]
     },
     "execution_count": 270,
     "metadata": {},
     "output_type": "execute_result"
    }
   ],
   "source": [
    "d3.head()"
   ]
  },
  {
   "cell_type": "code",
   "execution_count": 271,
   "id": "843331ca",
   "metadata": {},
   "outputs": [],
   "source": [
    "if 'NRO.' in d3.columns or 'PERIODO' in d3.columns or 'TOT. DIAS' in d3.columns:\n",
    "    for i in d3['PERIODO']:\n",
    "        period = i\n",
    "    dat[\"periodo\"] = period\n",
    "    for j in d3['TOT. DIAS']:\n",
    "        dias = j\n",
    "    dat['dias'] = dias\n",
    "    "
   ]
  },
  {
   "cell_type": "code",
   "execution_count": 272,
   "id": "28f69e2b",
   "metadata": {},
   "outputs": [],
   "source": [
    "if 'REM. TOTAL' in d4.columns or 'T. DEVENGADO' in d4.columns:\n",
    "    for i in d4['T. DEVENGADO']:\n",
    "        devengado = i.replace(',','.')\n",
    "    dat[\"devengado\"] = devengado\n",
    "\n",
    "if 'REM. TOTAL' in d5.columns or 'T. DEVENGADO' in d5.columns:\n",
    "    for i in d5['T. DEVENGADO']:\n",
    "        devengado = i.replace(',','.')\n",
    "    dat[\"devengado\"] = devengado"
   ]
  },
  {
   "cell_type": "code",
   "execution_count": 273,
   "id": "1d0460f0",
   "metadata": {},
   "outputs": [
    {
     "data": {
      "text/plain": [
       "{'NIF': 'B38339362',\n",
       " 'seguridad_social': '38/1010368-91',\n",
       " 'dni': '46262065A',\n",
       " 'seguridad_social1': '38/10830624-63',\n",
       " 'nombre': 'FERRETERIA DORTA SL',\n",
       " 'nombre1': 'GARCIA BELTRAN, RAUL',\n",
       " 'categoria': 'MOZO',\n",
       " 'antiguedad': '19 JUL 21',\n",
       " 'periodo': 'MENS 01 MAR 22 a 31 MAR 22',\n",
       " 'dias': '30',\n",
       " 'devengado': '1.166.67'}"
      ]
     },
     "execution_count": 273,
     "metadata": {},
     "output_type": "execute_result"
    }
   ],
   "source": [
    "dat"
   ]
  },
  {
   "cell_type": "code",
   "execution_count": 277,
   "id": "a0ca6b85",
   "metadata": {},
   "outputs": [
    {
     "data": {
      "text/html": [
       "<div>\n",
       "<style scoped>\n",
       "    .dataframe tbody tr th:only-of-type {\n",
       "        vertical-align: middle;\n",
       "    }\n",
       "\n",
       "    .dataframe tbody tr th {\n",
       "        vertical-align: top;\n",
       "    }\n",
       "\n",
       "    .dataframe thead th {\n",
       "        text-align: right;\n",
       "    }\n",
       "</style>\n",
       "<table border=\"1\" class=\"dataframe\">\n",
       "  <thead>\n",
       "    <tr style=\"text-align: right;\">\n",
       "      <th></th>\n",
       "      <th>CUANTIA</th>\n",
       "      <th>PRECIO</th>\n",
       "      <th></th>\n",
       "      <th>CONCEPTO</th>\n",
       "      <th>DEVENGOS</th>\n",
       "      <th>DEDUCCIONES</th>\n",
       "    </tr>\n",
       "  </thead>\n",
       "  <tbody>\n",
       "    <tr>\n",
       "      <th>0</th>\n",
       "      <td>30,00</td>\n",
       "      <td>33,333</td>\n",
       "      <td>1</td>\n",
       "      <td>*Salario Base</td>\n",
       "      <td>1.000,00</td>\n",
       "      <td></td>\n",
       "    </tr>\n",
       "    <tr>\n",
       "      <th>1</th>\n",
       "      <td></td>\n",
       "      <td></td>\n",
       "      <td>30</td>\n",
       "      <td>*P Paga Extra</td>\n",
       "      <td>166,67</td>\n",
       "      <td></td>\n",
       "    </tr>\n",
       "    <tr>\n",
       "      <th>2</th>\n",
       "      <td></td>\n",
       "      <td></td>\n",
       "      <td>995</td>\n",
       "      <td>COTIZACION CONT.COMU 4,70</td>\n",
       "      <td></td>\n",
       "      <td>54,83</td>\n",
       "    </tr>\n",
       "    <tr>\n",
       "      <th>3</th>\n",
       "      <td></td>\n",
       "      <td></td>\n",
       "      <td>996</td>\n",
       "      <td>COTIZACION FORMACION 0,10</td>\n",
       "      <td></td>\n",
       "      <td>1,17</td>\n",
       "    </tr>\n",
       "    <tr>\n",
       "      <th>4</th>\n",
       "      <td></td>\n",
       "      <td></td>\n",
       "      <td>997 999</td>\n",
       "      <td>COTIZACION DESEMPLEO 1,55 TRIBUTACION I.R.P.F....</td>\n",
       "      <td></td>\n",
       "      <td>18,08 16,80</td>\n",
       "    </tr>\n",
       "    <tr>\n",
       "      <th>5</th>\n",
       "      <td></td>\n",
       "      <td></td>\n",
       "      <td></td>\n",
       "      <td></td>\n",
       "      <td></td>\n",
       "      <td></td>\n",
       "    </tr>\n",
       "  </tbody>\n",
       "</table>\n",
       "</div>"
      ],
      "text/plain": [
       "  CUANTIA  PRECIO                                                    CONCEPTO  \\\n",
       "0   30,00  33,333        1                                      *Salario Base   \n",
       "1                       30                                      *P Paga Extra   \n",
       "2                      995                          COTIZACION CONT.COMU 4,70   \n",
       "3                      996                          COTIZACION FORMACION 0,10   \n",
       "4                  997 999  COTIZACION DESEMPLEO 1,55 TRIBUTACION I.R.P.F....   \n",
       "5                                                                               \n",
       "\n",
       "   DEVENGOS  DEDUCCIONES  \n",
       "0  1.000,00               \n",
       "1    166,67               \n",
       "2                  54,83  \n",
       "3                   1,17  \n",
       "4            18,08 16,80  \n",
       "5                         "
      ]
     },
     "execution_count": 277,
     "metadata": {},
     "output_type": "execute_result"
    }
   ],
   "source": [
    "dataframes[3]"
   ]
  },
  {
   "cell_type": "code",
   "execution_count": 278,
   "id": "cf40f4aa",
   "metadata": {},
   "outputs": [
    {
     "name": "stdout",
     "output_type": "stream",
     "text": [
      "(1190, 1684)\n",
      "['\"DES. BASE LR.P.F. T. DEVENGADO| T. A DEDUCIR', '36,70 1.166, 67 1.166,67 90,88', '~ Percepciones no Salariales excluidas Cot. S.S.', 'RECBI', '', 'LIQUIDO A PERCIBIR', '', '1.675; 79', '', 'DE RECAUDACION CONJUNTA Y APORTACION DE LA EMPRESA', '', 'BASE', '', '166,70', '166,70', '166,70', '', 'APORTACION EMPRESA RIAL}', '', '']\n"
     ]
    }
   ],
   "source": [
    "im = Image.open(Ima) \n",
    "        # Size of the image in pixels (size of orginal image) \n",
    "        # (This is not mandatory) \n",
    "width, height = im.size \n",
    "print(im.size)\n",
    "        # Setting the points for cropped image \n",
    "left = 605\n",
    "top = 900\n",
    "right = 1675\n",
    "bottom = 1500\n",
    "# Cropped image of above dimension \n",
    "        # (It will not change orginal image) \n",
    "im1 = im.crop((left, top, right, bottom)) \n",
    "         # Shows the image in image viewer \n",
    "im1.save(\"Makro Invoices/Makro Invoices/New/pp2.jpg\")\n",
    "img  = cv2.imread('Makro Invoices/Makro Invoices/New/pp2.jpg', cv2.COLOR_RGB2GRAY)\n",
    "tex=(pytesseract.image_to_string(img))\n",
    "text_list = tex.split(\"\\n\")\n",
    "text_list = text_list\n",
    "print(text_list)"
   ]
  },
  {
   "cell_type": "code",
   "execution_count": 279,
   "id": "2b728617",
   "metadata": {},
   "outputs": [
    {
     "data": {
      "text/plain": [
       "166.7"
      ]
     },
     "execution_count": 279,
     "metadata": {},
     "output_type": "execute_result"
    }
   ],
   "source": [
    "#find_amounts(text_list)\n",
    "find_amounts(tex.replace(',','.'))"
   ]
  },
  {
   "cell_type": "code",
   "execution_count": null,
   "id": "bd80ff96",
   "metadata": {},
   "outputs": [],
   "source": []
  }
 ],
 "metadata": {
  "kernelspec": {
   "display_name": "Python 3 (ipykernel)",
   "language": "python",
   "name": "python3"
  },
  "language_info": {
   "codemirror_mode": {
    "name": "ipython",
    "version": 3
   },
   "file_extension": ".py",
   "mimetype": "text/x-python",
   "name": "python",
   "nbconvert_exporter": "python",
   "pygments_lexer": "ipython3",
   "version": "3.7.11"
  }
 },
 "nbformat": 4,
 "nbformat_minor": 5
}
