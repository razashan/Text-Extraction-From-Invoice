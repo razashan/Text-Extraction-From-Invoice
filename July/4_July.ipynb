{
 "cells": [
  {
   "cell_type": "code",
   "execution_count": 1,
   "id": "01721d19",
   "metadata": {},
   "outputs": [],
   "source": [
    "import pytesseract\n",
    "import cv2\n",
    "from PIL import Image \n",
    "import re\n",
    "import pandas as pd\n",
    "from PIL import Image\n",
    "import fitz\n",
    "import os"
   ]
  },
  {
   "cell_type": "markdown",
   "id": "9d051429",
   "metadata": {},
   "source": [
    "# Code to Convert PDF to PNG"
   ]
  },
  {
   "cell_type": "code",
   "execution_count": 2,
   "id": "c1744653",
   "metadata": {},
   "outputs": [],
   "source": [
    "def convert_pdf2img(input_file: str,pages=None):\n",
    "    \"\"\"Converts pdf to image and generates a file by page\"\"\"\n",
    "    # Open the document\n",
    "    pdfIn = fitz.open(input_file)\n",
    "    output_files = []\n",
    "    # Iterate throughout the pages\n",
    "    for pg in range(pdfIn.pageCount):\n",
    "        if str(pages) != str(None):\n",
    "            if str(pg) not in str(pages):\n",
    "                continue\n",
    "        # Select a page\n",
    "        page = pdfIn[pg]\n",
    "        rotate = int(0)\n",
    "        # PDF Page is converted into a whole picture 1056*816 and then for each picture a screenshot is taken.\n",
    "        # zoom = 1.33333333 -----> Image size = 1056*816\n",
    "        # zoom = 2 ---> 2 * Default Resolution (text is clear, image text is hard to read)    = filesize small / Image size = 1584*1224\n",
    "        # zoom = 4 ---> 4 * Default Resolution (text is clear, image text is barely readable) = filesize large\n",
    "        # zoom = 8 ---> 8 * Default Resolution (text is clear, image text is readable) = filesize large\n",
    "        zoom_x = 2\n",
    "        zoom_y = 2\n",
    "        # The zoom factor is equal to 2 in order to make text clear\n",
    "        # Pre-rotate is to rotate if needed.\n",
    "        mat = fitz.Matrix(zoom_x, zoom_y).preRotate(rotate)\n",
    "        pix = page.getPixmap(matrix=mat, alpha=False)\n",
    "        path = 'Makro Invoices/Makro Invoices/New/'\n",
    "        output_file = f\"{path+os.path.splitext(os.path.basename(input_file))[0]}_page{pg+1}.png\"\n",
    "        pix.writePNG(output_file)\n",
    "        output_files.append(output_file)\n",
    "    pdfIn.close()\n",
    "    summary = {\n",
    "        \"File\": input_file, \"Pages\": str(pages), \"Output File(s)\": str(output_files)\n",
    "    }\n",
    "    # Printing Summary\n",
    "    print(\"## Summary ########################################################\")\n",
    "    print(\"\\n\".join(\"{}:{}\".format(i, j) for i, j in summary.items()))\n",
    "    print(\"###################################################################\")\n",
    "    return output_files"
   ]
  },
  {
   "cell_type": "code",
   "execution_count": 3,
   "id": "70bd8322",
   "metadata": {},
   "outputs": [
    {
     "name": "stderr",
     "output_type": "stream",
     "text": [
      "Deprecation: 'preRotate' removed from class 'Matrix' after v1.19 - use 'prerotate'.\n",
      "Deprecation: 'getPixmap' removed from class 'Page' after v1.19 - use 'get_pixmap'.\n"
     ]
    },
    {
     "name": "stdout",
     "output_type": "stream",
     "text": [
      "## Summary ########################################################\n",
      "File:Makro Invoices/Makro Invoices/Convert/PEDIDO MENEGHELLO 4000107017--COCINA MINAMI.pdf\n",
      "Pages:None\n",
      "Output File(s):['Makro Invoices/Makro Invoices/New/PEDIDO MENEGHELLO 4000107017--COCINA MINAMI_page1.png']\n",
      "###################################################################\n"
     ]
    },
    {
     "name": "stderr",
     "output_type": "stream",
     "text": [
      "Deprecation: 'writePNG' removed from class 'Pixmap' after v1.19 - use 'save'.\n"
     ]
    },
    {
     "data": {
      "text/plain": [
       "['Makro Invoices/Makro Invoices/New/PEDIDO MENEGHELLO 4000107017--COCINA MINAMI_page1.png']"
      ]
     },
     "execution_count": 3,
     "metadata": {},
     "output_type": "execute_result"
    }
   ],
   "source": [
    "convert_pdf2img('Makro Invoices/Makro Invoices/Convert/PEDIDO MENEGHELLO 4000107017--COCINA MINAMI.pdf')"
   ]
  },
  {
   "cell_type": "code",
   "execution_count": 4,
   "id": "3577cb91",
   "metadata": {},
   "outputs": [],
   "source": [
    "pytesseract.pytesseract.tesseract_cmd = r\"C:\\Program Files\\Tesseract-OCR\\tesseract.exe\""
   ]
  },
  {
   "cell_type": "code",
   "execution_count": 5,
   "id": "84b38766",
   "metadata": {},
   "outputs": [],
   "source": [
    "formats = pd.read_excel('invoice_formats.xlsx')\n",
    "final = pd.read_excel('Extracted_Data.xlsx')"
   ]
  },
  {
   "cell_type": "code",
   "execution_count": 9,
   "id": "90832141",
   "metadata": {},
   "outputs": [],
   "source": [
    "Ima = \"Makro Invoices/Makro Invoices/Converted/03.02.20_Softtoner, SL_37,45_page1.png\""
   ]
  },
  {
   "cell_type": "code",
   "execution_count": 12,
   "id": "4a19f044",
   "metadata": {},
   "outputs": [
    {
     "name": "stdout",
     "output_type": "stream",
     "text": [
      "<class 'list'>\n",
      "NO de Factura Fecha N° de Cli./Prov. N° de Bultos\n",
      "['NO', 'de', 'Factura', 'Fecha', 'N°', 'de', 'Cli./Prov.', 'N°', 'de', 'Bultos']\n",
      "['NO', 'de', 'Factura', 'Fecha', 'N°', 'de', 'Cli./Prov.', 'N°', 'de', 'Bultos']\n",
      "Case Total\n",
      "['TOTAL', 'FACTURA', '©']\n",
      "©\n",
      "(1157, 1649)\n",
      "['— Z', 'LG.1LC Cuotas IGIC', '', 'SAS J', '', 'PAGADO', 'EFECTIVO', '', '']\n",
      "Wall time: 6.26 s\n"
     ]
    }
   ],
   "source": [
    "%%time\n",
    "dat = {\n",
    "    \"Vat Number\":'',\n",
    "       \"Total\":0,\n",
    "       \"Date\":'',\n",
    "      \"Invoice_Number\":''}\n",
    "img  = cv2.imread(Ima, cv2.COLOR_RGB2GRAY)\n",
    "text=(pytesseract.image_to_string(img))\n",
    "text_list = text.split(\"\\n\")\n",
    "vat = []\n",
    "date = []\n",
    "tot = []\n",
    "print(type(text_list))\n",
    "for idx, a in enumerate(text_list):\n",
    "    if(a.strip() != \"\"):\n",
    "\n",
    "\n",
    "        if (re.search(\"[A-Z]{1}-[0-9]{8}\",a)):\n",
    "            b = re.findall(\"[A-Z]{1}-[0-9]{8}\",a)\n",
    "            dat[\"Vat Number\"] = b[0]\n",
    "            vat.append(b)\n",
    "            print(b)\n",
    "        elif (re.search(\"[0-9]{8}-[A-Z]{1}\",a)):\n",
    "            b = re.findall(\"[0-9]{8}-[A-Z]{1}\",a)\n",
    "            dat[\"Vat Number\"] = b[0]\n",
    "            vat.append(b)\n",
    "        elif (re.search(\"[0-9]{8}[A-Z]{1}\",a)):\n",
    "            b = re.findall(\"[0-9]{8}[A-Z]{1}\",a)\n",
    "            dat[\"Vat Number\"] = b\n",
    "            vat.append(b)\n",
    "    \n",
    "        elif (re.search(\"[A-Z]{1}-[0-9]{8}\",a)):\n",
    "            b = re.findall(\"[A-Z]{1}-[0-9]{8}\",a)\n",
    "            dat[\"Vat Number\"] = b[0]\n",
    "            vat.append(b)\n",
    "\n",
    "        elif (re.search(\"[A-Z]{1}[0-9]{8}\",a)):\n",
    "            b = re.findall(\"[A-Z]{1}[0-9]{8}\",a)\n",
    "            dat[\"Vat Number\"] = b[0]\n",
    "            vat.append(b)\n",
    "            \n",
    "        elif (re.search(\"[A-Z]{1}[0-9]{2}/[0-9]{6}\",a)):\n",
    "            b = re.findall(\"[A-Z]{1}[0-9]{2}/[0-9]{6}\",a)\n",
    "            dat[\"Vat Number\"] = b[0]\n",
    "            vat.append(b)\n",
    "            \n",
    "        elif (re.search(\"[A-Z]{1}-[0-9]{2}.[0-9]{3}.[0-9]{3}\",a)):\n",
    "            b = re.findall(\"[A-Z]{1}-[0-9]{2}.[0-9]{3}.[0-9]{3}\",a)\n",
    "            dat[\"Vat Number\"] = b[0]\n",
    "        elif (re.search(\"[A-Z]{1}-[0-9]{2}/[0-9]{6}\",a)):\n",
    "            b = re.findall(\"[A-Z]{1}-[0-9]{2}/[0-9]{6}\",a)\n",
    "            dat[\"Vat Number\"] = b[0]\n",
    "\n",
    "        if len(vat)>1:\n",
    "            dat[\"Vat Number\"] = vat[0]\n",
    "        else:\n",
    "            pass\n",
    "         #Date section           \n",
    "        if (re.search(\"\\d{2}/\\d{2}/\\d{4}\",a)):\n",
    "            b  = re.findall(\"\\d{2}/\\d{2}/\\d{4}\", a)\n",
    "            dat[\"Date\"] = b[0]\n",
    "            date.append(b[0])\n",
    "        elif (re.search(\"\\d{2}-\\d{2}-\\d{4}\",a)):\n",
    "            b = re.findall(\"\\d{2}-\\d{2}-\\d{4}\",a)\n",
    "            dat[\"Date\"] = b[0]\n",
    "            date.append(b[0])\n",
    "        elif (re.search(\"\\d{2}/\\d{2}/\\d{2}\",a)):\n",
    "            b = re.findall(\"\\d{2}/\\d{2}/\\d{2}\",a)\n",
    "            dat[\"Date\"] = b[0]\n",
    "            date.append(b[0])\n",
    "        elif (re.search(\"\\d{1}/\\d{2}/\\d{2}\",a)):\n",
    "            b = re.findall(\"\\d{1}/\\d{2}/\\d{2}\",a)\n",
    "            dat[\"Date\"] = b[0]\n",
    "            date.append(b[0])\n",
    "        \n",
    "        elif (re.search(\"[0-9]{2}\\.[0-9]{2}\\.[0-9]{4}\",a)):\n",
    "            b = re.findall(\"[0-9]{2}\\.[0-9]{2}\\.[0-9]{4}\",a)\n",
    "            dat[\"Date\"] = b[0]\n",
    "            date.append(b[0])\n",
    "    \n",
    "        if len(date)>1:\n",
    "            dat[\"Date\"] = date[0]\n",
    "\n",
    "        #invoice number section\n",
    "        if (\"Factura\" in a or \"ALBARAN\" in a or \"Factura: \" in a):\n",
    "\n",
    "            print(a)\n",
    "            b = a.split(\" \")\n",
    "            if b[0] == \"ALBARAN\":\n",
    "                dat[\"Invoice_Number\"] = b[1]\n",
    "            print(b)\n",
    "            if len(b)>3:\n",
    "                print(b)\n",
    "                if len(b)>4 and b[2] !='—' and len(b[1])!=25 and len(b[1])>5:\n",
    "                    dat[\"Invoice_Number\"] = b[1]+b[2]\n",
    "                    print(b)\n",
    "                elif len(b)>=5 and len(b[1])==25:\n",
    "                    dat[\"Invoice_Number\"] = b[1]\n",
    "                elif len(b)>6 and len(b[3])>15:\n",
    "                    dat[\"Invoice_Number\"] = b[1]+ b[2]+ b[3]\n",
    "                elif len(b)>6 and b[1]== \"0/0\":\n",
    "                    dat[\"Invoice_Number\"] = b[1] + b[2]\n",
    "    \n",
    "    \n",
    "    \n",
    "    \n",
    "        if (\"Tarjeta\" in a or \"Credito\" in a or  \"pagina\" in a or \"Total:\" in a  or \"TOTAL\" in a or  \"Total factura\" in a or  \"Total Factura\" in a or \"TOTAL FACTURA\" in a or \"Total CON IGIC\" in a  or \"IMPORTE FACTURA EU\" in a or \"IMPORTE FACTURA\" in a or \"EUROS\" in a or \"Importe:\" in a):\n",
    "            print(\"Case Total\")\n",
    "            b = a.split(\" \")\n",
    "            print(b)\n",
    "            if len(b[-1])==2:\n",
    "                \n",
    "                dat[\"Total\"] = b[-2]+b[-1]\n",
    "                print(b[-2]+b[-1])\n",
    "                \n",
    "            if b[-1]=='€':\n",
    "                dat[\"Total\"] = b[-2]\n",
    "            if b[-1] == \"|\":\n",
    "                dat[\"Total\"] = b[-2]\n",
    "            if b[-1] == \"EUR\":\n",
    "                dat[\"Total\"] = b[-2]\n",
    "            else:\n",
    "                dat[\"Total\"] = b[-1]\n",
    "                print(b[-1])\n",
    "\n",
    "\n",
    "                \n",
    "       \n",
    "                \n",
    "if dat[\"Total\"] == 0 or dat[\"Total\"]== \"©\" or (dat['Total'])==1 or dat[\"Total\"]==\"SUB TOTAL\"  or dat[\"Total\"] == 'factura' or dat[\"Total\"]==\"FACTURA\" or dat[\"Total\"]== \"EUROS\" or dat[\"Total\"] == \"©\" or dat[\"Total\"]==\"TOTAL\":\n",
    "        tot = []\n",
    "        im = Image.open(Ima) \n",
    "        # Size of the image in pixels (size of orginal image) \n",
    "        # (This is not mandatory) \n",
    "        width, height = im.size \n",
    "        print(im.size)\n",
    "        # Setting the points for cropped image \n",
    "        left = 605\n",
    "        top = 600\n",
    "        right = 1675\n",
    "        bottom = 1590\n",
    "        # Cropped image of above dimension \n",
    "        # (It will not change orginal image) \n",
    "        im1 = im.crop((left, top, right, bottom)) \n",
    "         # Shows the image in image viewer \n",
    "        im1.save(\"Makro Invoices/Makro Invoices/New/pp2.jpg\")\n",
    "        img  = cv2.imread('Makro Invoices/Makro Invoices/New/pp2.jpg', cv2.COLOR_RGB2GRAY)\n",
    "        tex=(pytesseract.image_to_string(img))\n",
    "        text_list = tex.split(\"\\n\")\n",
    "        text_list = text_list\n",
    "        print(text_list)\n",
    "        for idx, a in enumerate(text_list):\n",
    "            if(a.strip() != \"\"):\n",
    "                if re.search('[0-9]{2},[0-9]{2}',a):\n",
    "                    b = re.findall('[0-9]{2},[0-9]{2}',a)\n",
    "                    print(b,'this is total')\n",
    "                \n",
    "                \n",
    "                \n",
    "                \n",
    "        \n",
    "            \n",
    "            \n",
    "        "
   ]
  },
  {
   "cell_type": "raw",
   "id": "c5537ddc",
   "metadata": {},
   "source": [
    "        if re.search('[0-9]{2},[0-9]{2}',a):\n",
    "                    b = re.findall('[0-9]{2},[0-9]{2}',a)\n",
    "                    print(b,'this is total')\n",
    "                    tot.append(b)\n",
    "                    \n",
    "dat['Total'] = tot[-1]"
   ]
  },
  {
   "cell_type": "code",
   "execution_count": 13,
   "id": "0a61c863",
   "metadata": {},
   "outputs": [
    {
     "data": {
      "text/plain": [
       "{'Vat Number': ['B76761915'],\n",
       " 'Total': '©',\n",
       " 'Date': '03/02/2020',\n",
       " 'Invoice_Number': ''}"
      ]
     },
     "execution_count": 13,
     "metadata": {},
     "output_type": "execute_result"
    }
   ],
   "source": [
    "dat"
   ]
  },
  {
   "cell_type": "code",
   "execution_count": 154,
   "id": "60e675e5",
   "metadata": {},
   "outputs": [
    {
     "name": "stdout",
     "output_type": "stream",
     "text": [
      "  Vat Number   Total        Date Invoice_Number\n",
      "0  B76546787  574.88  04/08/2021      emitidaal\n"
     ]
    }
   ],
   "source": [
    "data  =  pd.DataFrame(dat,index=[0])\n",
    "data['Vat Number']= data['Vat Number'].str.replace(' ', '')\n",
    "print(data)"
   ]
  },
  {
   "cell_type": "code",
   "execution_count": 155,
   "id": "3211f2af",
   "metadata": {},
   "outputs": [
    {
     "name": "stderr",
     "output_type": "stream",
     "text": [
      "F:\\anaconda3\\envs\\python_3_7\\lib\\site-packages\\ipykernel_launcher.py:3: FutureWarning: The default value of regex will change from True to False in a future version. In addition, single character regular expressions will *not* be treated as literal strings when regex=True.\n",
      "  This is separate from the ipykernel package so we can avoid doing imports until\n",
      "\n"
     ]
    },
    {
     "data": {
      "text/html": [
       "<div>\n",
       "<style scoped>\n",
       "    .dataframe tbody tr th:only-of-type {\n",
       "        vertical-align: middle;\n",
       "    }\n",
       "\n",
       "    .dataframe tbody tr th {\n",
       "        vertical-align: top;\n",
       "    }\n",
       "\n",
       "    .dataframe thead th {\n",
       "        text-align: right;\n",
       "    }\n",
       "</style>\n",
       "<table border=\"1\" class=\"dataframe\">\n",
       "  <thead>\n",
       "    <tr style=\"text-align: right;\">\n",
       "      <th></th>\n",
       "      <th>Vat Number</th>\n",
       "      <th>Total</th>\n",
       "      <th>Date</th>\n",
       "      <th>Invoice_Number</th>\n",
       "    </tr>\n",
       "  </thead>\n",
       "  <tbody>\n",
       "    <tr>\n",
       "      <th>0</th>\n",
       "      <td>B76546787</td>\n",
       "      <td>574.88</td>\n",
       "      <td>04/08/2021</td>\n",
       "      <td>emitidaal</td>\n",
       "    </tr>\n",
       "  </tbody>\n",
       "</table>\n",
       "</div>"
      ],
      "text/plain": [
       "  Vat Number   Total        Date Invoice_Number\n",
       "0  B76546787  574.88  04/08/2021      emitidaal"
      ]
     },
     "execution_count": 155,
     "metadata": {},
     "output_type": "execute_result"
    }
   ],
   "source": [
    "data['Vat Number']= data['Vat Number'].str.replace('-', '')\n",
    "data['Vat Number']= data['Vat Number'].str.replace(',', '')\n",
    "data['Vat Number']= data['Vat Number'].str.replace('.', '')\n",
    "data['Vat Number']= data['Vat Number'].str.replace('/', '')\n",
    "data"
   ]
  },
  {
   "cell_type": "code",
   "execution_count": 156,
   "id": "0f047807",
   "metadata": {},
   "outputs": [],
   "source": [
    "formats['last']= (formats['nif'].isin(data['Vat Number']))"
   ]
  },
  {
   "cell_type": "code",
   "execution_count": 157,
   "id": "c2b82863",
   "metadata": {},
   "outputs": [],
   "source": [
    "df2 = formats.query(\"last == True\")"
   ]
  },
  {
   "cell_type": "code",
   "execution_count": 158,
   "id": "1c12a9fa",
   "metadata": {},
   "outputs": [
    {
     "data": {
      "text/html": [
       "<div>\n",
       "<style scoped>\n",
       "    .dataframe tbody tr th:only-of-type {\n",
       "        vertical-align: middle;\n",
       "    }\n",
       "\n",
       "    .dataframe tbody tr th {\n",
       "        vertical-align: top;\n",
       "    }\n",
       "\n",
       "    .dataframe thead th {\n",
       "        text-align: right;\n",
       "    }\n",
       "</style>\n",
       "<table border=\"1\" class=\"dataframe\">\n",
       "  <thead>\n",
       "    <tr style=\"text-align: right;\">\n",
       "      <th></th>\n",
       "      <th>formato</th>\n",
       "      <th>nombre</th>\n",
       "      <th>nif</th>\n",
       "      <th>last</th>\n",
       "    </tr>\n",
       "  </thead>\n",
       "  <tbody>\n",
       "    <tr>\n",
       "      <th>411</th>\n",
       "      <td>[0-9]{12}</td>\n",
       "      <td>La Creme Films SL</td>\n",
       "      <td>B76546787</td>\n",
       "      <td>True</td>\n",
       "    </tr>\n",
       "    <tr>\n",
       "      <th>5768</th>\n",
       "      <td>[0-9]{12}</td>\n",
       "      <td>La Creme Films SL</td>\n",
       "      <td>B76546787</td>\n",
       "      <td>True</td>\n",
       "    </tr>\n",
       "    <tr>\n",
       "      <th>5774</th>\n",
       "      <td>[0-9]{12}</td>\n",
       "      <td>La Creme Films SL</td>\n",
       "      <td>B76546787</td>\n",
       "      <td>True</td>\n",
       "    </tr>\n",
       "    <tr>\n",
       "      <th>7869</th>\n",
       "      <td>[0-9]{12}</td>\n",
       "      <td>La Creme Films SL</td>\n",
       "      <td>B76546787</td>\n",
       "      <td>True</td>\n",
       "    </tr>\n",
       "    <tr>\n",
       "      <th>11762</th>\n",
       "      <td>[0-9]{12}</td>\n",
       "      <td>La Creme Films SL</td>\n",
       "      <td>B76546787</td>\n",
       "      <td>True</td>\n",
       "    </tr>\n",
       "    <tr>\n",
       "      <th>21689</th>\n",
       "      <td>[0-9]{12}</td>\n",
       "      <td>Graciosamar Cruceros</td>\n",
       "      <td>B76546787</td>\n",
       "      <td>True</td>\n",
       "    </tr>\n",
       "  </tbody>\n",
       "</table>\n",
       "</div>"
      ],
      "text/plain": [
       "         formato                nombre        nif  last\n",
       "411    [0-9]{12}     La Creme Films SL  B76546787  True\n",
       "5768   [0-9]{12}     La Creme Films SL  B76546787  True\n",
       "5774   [0-9]{12}     La Creme Films SL  B76546787  True\n",
       "7869   [0-9]{12}     La Creme Films SL  B76546787  True\n",
       "11762  [0-9]{12}     La Creme Films SL  B76546787  True\n",
       "21689  [0-9]{12}  Graciosamar Cruceros  B76546787  True"
      ]
     },
     "execution_count": 158,
     "metadata": {},
     "output_type": "execute_result"
    }
   ],
   "source": [
    "df2"
   ]
  },
  {
   "cell_type": "code",
   "execution_count": 159,
   "id": "a25f17fd",
   "metadata": {},
   "outputs": [],
   "source": [
    "inv = 0\n",
    "for i in df2['formato']:\n",
    "    inv = i\n",
    "pat = 'F1-1-01353'\n",
    "factura = re.compile(inv)\n",
    "mo = factura.search(text)\n",
    "dat[\"Invoice_Number\"]=mo.group()"
   ]
  },
  {
   "cell_type": "code",
   "execution_count": 160,
   "id": "849fd0f7",
   "metadata": {},
   "outputs": [
    {
     "data": {
      "text/plain": [
       "{'Vat Number': 'B76546787',\n",
       " 'Total': '574.88',\n",
       " 'Date': '04/08/2021',\n",
       " 'Invoice_Number': '721000050614'}"
      ]
     },
     "execution_count": 160,
     "metadata": {},
     "output_type": "execute_result"
    }
   ],
   "source": [
    "dat"
   ]
  },
  {
   "cell_type": "code",
   "execution_count": 145,
   "id": "e0390424",
   "metadata": {},
   "outputs": [],
   "source": [
    "import boto3\n",
    "import io"
   ]
  },
  {
   "cell_type": "code",
   "execution_count": 161,
   "id": "e39739c0",
   "metadata": {},
   "outputs": [],
   "source": [
    "im = Image.open(Ima)"
   ]
  },
  {
   "cell_type": "code",
   "execution_count": 162,
   "id": "01dedef9",
   "metadata": {},
   "outputs": [],
   "source": [
    "buffered = io.BytesIO()\n",
    "im.save(buffered, format='PNG')\n",
    "client = boto3.client('textract')\n",
    "response = client.analyze_document(\n",
    "    Document={'Bytes': buffered.getvalue()},\n",
    "    FeatureTypes=['TABLES']\n",
    ")"
   ]
  },
  {
   "cell_type": "code",
   "execution_count": 163,
   "id": "873050fb",
   "metadata": {},
   "outputs": [],
   "source": [
    "def map_blocks(blocks, block_type):\n",
    "    return {\n",
    "        block['Id']: block\n",
    "        for block in blocks\n",
    "        if block['BlockType'] == block_type\n",
    "    }\n",
    "\n",
    "blocks = response['Blocks']\n",
    "tables = map_blocks(blocks, 'TABLE')\n",
    "cells = map_blocks(blocks, 'CELL')\n",
    "words = map_blocks(blocks, 'WORD')\n",
    "selections = map_blocks(blocks, 'SELECTION_ELEMENT')\n",
    "\n",
    "def get_children_ids(block):\n",
    "    for rels in block.get('Relationships', []):\n",
    "        if rels['Type'] == 'CHILD':\n",
    "            yield from rels['Ids']\n",
    "            \n",
    "dataframes = []\n",
    "\n",
    "for table in tables.values():\n",
    "\n",
    "    # Determine all the cells that belong to this table\n",
    "    table_cells = [cells[cell_id] for cell_id in get_children_ids(table)]\n",
    "\n",
    "    # Determine the table's number of rows and columns\n",
    "    n_rows = max(cell['RowIndex'] for cell in table_cells)\n",
    "    n_cols = max(cell['ColumnIndex'] for cell in table_cells)\n",
    "    content = [[None for _ in range(n_cols)] for _ in range(n_rows)]\n",
    "\n",
    "    # Fill in each cell\n",
    "    for cell in table_cells:\n",
    "        cell_contents = [\n",
    "            words[child_id]['Text']\n",
    "            if child_id in words\n",
    "            else selections[child_id]['SelectionStatus']\n",
    "            for child_id in get_children_ids(cell)\n",
    "        ]\n",
    "        i = cell['RowIndex'] - 1\n",
    "        j = cell['ColumnIndex'] - 1\n",
    "        content[i][j] = ' '.join(cell_contents)\n",
    "\n",
    "    # We assume that the first row corresponds to the column names\n",
    "    dataframe = pd.DataFrame(content[1:], columns=content[0])\n",
    "    dataframes.append(dataframe)"
   ]
  },
  {
   "cell_type": "code",
   "execution_count": 164,
   "id": "f5c16b92",
   "metadata": {},
   "outputs": [
    {
     "data": {
      "text/html": [
       "<div>\n",
       "<style scoped>\n",
       "    .dataframe tbody tr th:only-of-type {\n",
       "        vertical-align: middle;\n",
       "    }\n",
       "\n",
       "    .dataframe tbody tr th {\n",
       "        vertical-align: top;\n",
       "    }\n",
       "\n",
       "    .dataframe thead th {\n",
       "        text-align: right;\n",
       "    }\n",
       "</style>\n",
       "<table border=\"1\" class=\"dataframe\">\n",
       "  <thead>\n",
       "    <tr style=\"text-align: right;\">\n",
       "      <th></th>\n",
       "      <th></th>\n",
       "      <th></th>\n",
       "      <th></th>\n",
       "      <th></th>\n",
       "      <th></th>\n",
       "      <th></th>\n",
       "      <th></th>\n",
       "    </tr>\n",
       "  </thead>\n",
       "  <tbody>\n",
       "    <tr>\n",
       "      <th>0</th>\n",
       "      <td>Fecha</td>\n",
       "      <td>Concepto</td>\n",
       "      <td>Base Imponible</td>\n",
       "      <td>Tipo</td>\n",
       "      <td>Importe Impuesto</td>\n",
       "      <td>Base Exenta</td>\n",
       "      <td>Total Importe</td>\n",
       "    </tr>\n",
       "    <tr>\n",
       "      <th>1</th>\n",
       "      <td>04/08/2021</td>\n",
       "      <td>Cargo por emisión Compañia: BINTER CANARIAS Bi...</td>\n",
       "      <td>1,40 €</td>\n",
       "      <td>IGIC 7%</td>\n",
       "      <td>0,10 €</td>\n",
       "      <td>0,00 €</td>\n",
       "      <td>1,50 €</td>\n",
       "    </tr>\n",
       "    <tr>\n",
       "      <th>2</th>\n",
       "      <td></td>\n",
       "      <td>Pasajero: PRIETO ALVAREZ/PEDRO DANIEL Compañia...</td>\n",
       "      <td></td>\n",
       "      <td></td>\n",
       "      <td></td>\n",
       "      <td></td>\n",
       "      <td></td>\n",
       "    </tr>\n",
       "    <tr>\n",
       "      <th>3</th>\n",
       "      <td>04/08/2021</td>\n",
       "      <td>Trayecto : ARRECIFE/TENERIFE Fechas: Salida: 0...</td>\n",
       "      <td>28,00 €</td>\n",
       "      <td>IGIC 0%</td>\n",
       "      <td>0,00 €</td>\n",
       "      <td>0,00 €</td>\n",
       "      <td>28,00 €</td>\n",
       "    </tr>\n",
       "    <tr>\n",
       "      <th>4</th>\n",
       "      <td>04/08/2021</td>\n",
       "      <td>TASAS Compañia: BINTER CANARIAS Billete Aéreo ...</td>\n",
       "      <td>0,51 €</td>\n",
       "      <td>IGIC 0%</td>\n",
       "      <td>0,00 €</td>\n",
       "      <td>1,90 €</td>\n",
       "      <td>2,41 €</td>\n",
       "    </tr>\n",
       "    <tr>\n",
       "      <th>5</th>\n",
       "      <td></td>\n",
       "      <td>CARGADO EN SU CUENTA DE CRÉDITO</td>\n",
       "      <td></td>\n",
       "      <td></td>\n",
       "      <td></td>\n",
       "      <td></td>\n",
       "      <td></td>\n",
       "    </tr>\n",
       "  </tbody>\n",
       "</table>\n",
       "</div>"
      ],
      "text/plain": [
       "                                                                  \\\n",
       "0       Fecha                                           Concepto   \n",
       "1  04/08/2021  Cargo por emisión Compañia: BINTER CANARIAS Bi...   \n",
       "2              Pasajero: PRIETO ALVAREZ/PEDRO DANIEL Compañia...   \n",
       "3  04/08/2021  Trayecto : ARRECIFE/TENERIFE Fechas: Salida: 0...   \n",
       "4  04/08/2021  TASAS Compañia: BINTER CANARIAS Billete Aéreo ...   \n",
       "5                                CARGADO EN SU CUENTA DE CRÉDITO   \n",
       "\n",
       "                                                                          \n",
       "0  Base Imponible     Tipo  Importe Impuesto  Base Exenta  Total Importe  \n",
       "1          1,40 €  IGIC 7%            0,10 €       0,00 €         1,50 €  \n",
       "2                                                                         \n",
       "3         28,00 €  IGIC 0%            0,00 €       0,00 €        28,00 €  \n",
       "4          0,51 €  IGIC 0%            0,00 €       1,90 €         2,41 €  \n",
       "5                                                                         "
      ]
     },
     "execution_count": 164,
     "metadata": {},
     "output_type": "execute_result"
    }
   ],
   "source": [
    "if dataframes[0].shape[1] >=4:\n",
    "    this_data = pd.DataFrame(dataframes[0])\n",
    "\n",
    "elif  dataframes[1].shape[1] >=4:\n",
    "    this_data = pd.DataFrame(dataframes[1])\n",
    "  \n",
    "elif dataframes[2].shape[1] >=4:\n",
    "    this_data = pd.DataFrame(dataframes[2])\n",
    "\n",
    "else:\n",
    "    this_data = pd.DataFrame(dataframes[3])\n",
    "    \n",
    "this_data"
   ]
  },
  {
   "cell_type": "code",
   "execution_count": 150,
   "id": "f67d327b",
   "metadata": {},
   "outputs": [
    {
     "data": {
      "text/html": [
       "<div>\n",
       "<style scoped>\n",
       "    .dataframe tbody tr th:only-of-type {\n",
       "        vertical-align: middle;\n",
       "    }\n",
       "\n",
       "    .dataframe tbody tr th {\n",
       "        vertical-align: top;\n",
       "    }\n",
       "\n",
       "    .dataframe thead th {\n",
       "        text-align: right;\n",
       "    }\n",
       "</style>\n",
       "<table border=\"1\" class=\"dataframe\">\n",
       "  <thead>\n",
       "    <tr style=\"text-align: right;\">\n",
       "      <th></th>\n",
       "      <th></th>\n",
       "      <th></th>\n",
       "      <th></th>\n",
       "      <th></th>\n",
       "      <th></th>\n",
       "      <th></th>\n",
       "      <th></th>\n",
       "    </tr>\n",
       "  </thead>\n",
       "  <tbody>\n",
       "    <tr>\n",
       "      <th>0</th>\n",
       "      <td>Fecha</td>\n",
       "      <td>Concepto</td>\n",
       "      <td>Base Imponible</td>\n",
       "      <td>Tipo</td>\n",
       "      <td>Importe Impuesto</td>\n",
       "      <td>Base Exenta</td>\n",
       "      <td>Total Importe</td>\n",
       "    </tr>\n",
       "    <tr>\n",
       "      <th>1</th>\n",
       "      <td>30/07/2021</td>\n",
       "      <td>Pasajero: BRITO REAL/DAYDA Compañia: BINTER CA...</td>\n",
       "      <td>28,00 €</td>\n",
       "      <td>IGIC 0%</td>\n",
       "      <td>0,00 €</td>\n",
       "      <td>0,00 €</td>\n",
       "      <td>28,00 €</td>\n",
       "    </tr>\n",
       "    <tr>\n",
       "      <th>2</th>\n",
       "      <td>30/07/2021</td>\n",
       "      <td>TASAS Compañia: BINTER CANARIAS Billete Aéreo ...</td>\n",
       "      <td>0,51 €</td>\n",
       "      <td>IGIC 0%</td>\n",
       "      <td>0,00 €</td>\n",
       "      <td>1,90 €</td>\n",
       "      <td>2,41 €</td>\n",
       "    </tr>\n",
       "    <tr>\n",
       "      <th>3</th>\n",
       "      <td>30/07/2021</td>\n",
       "      <td>Cargo por emisión Compañia: BINTER CANARIAS Bi...</td>\n",
       "      <td>1,40 €</td>\n",
       "      <td>IGIC 7%</td>\n",
       "      <td>0,10 €</td>\n",
       "      <td>0,00 €</td>\n",
       "      <td>1,50 €</td>\n",
       "    </tr>\n",
       "    <tr>\n",
       "      <th>4</th>\n",
       "      <td>30/07/2021</td>\n",
       "      <td>Pasajero: BRITO REAL/MIRIAM Compañia: BINTER C...</td>\n",
       "      <td>28,00 €</td>\n",
       "      <td>IGIC 0%</td>\n",
       "      <td>0,00 €</td>\n",
       "      <td>0,00 E</td>\n",
       "      <td>28,00 €</td>\n",
       "    </tr>\n",
       "    <tr>\n",
       "      <th>5</th>\n",
       "      <td>30/07/2021</td>\n",
       "      <td>TASAS Compañia: BINTER CANARIAS Billete Aéreo ...</td>\n",
       "      <td>0,51 €</td>\n",
       "      <td>IGIC 0%</td>\n",
       "      <td>0,00 €</td>\n",
       "      <td>1,90 €</td>\n",
       "      <td>2,41 €</td>\n",
       "    </tr>\n",
       "    <tr>\n",
       "      <th>6</th>\n",
       "      <td>30/07/2021</td>\n",
       "      <td>Cargo por emisión Compañia: BINTER CANARIAS Bi...</td>\n",
       "      <td>1,40 €</td>\n",
       "      <td>IGIC 7%</td>\n",
       "      <td>0,10 €</td>\n",
       "      <td>0,00 €</td>\n",
       "      <td>1,50 €</td>\n",
       "    </tr>\n",
       "    <tr>\n",
       "      <th>7</th>\n",
       "      <td></td>\n",
       "      <td></td>\n",
       "      <td></td>\n",
       "      <td></td>\n",
       "      <td></td>\n",
       "      <td></td>\n",
       "      <td></td>\n",
       "    </tr>\n",
       "  </tbody>\n",
       "</table>\n",
       "</div>"
      ],
      "text/plain": [
       "                                                                  \\\n",
       "0       Fecha                                           Concepto   \n",
       "1  30/07/2021  Pasajero: BRITO REAL/DAYDA Compañia: BINTER CA...   \n",
       "2  30/07/2021  TASAS Compañia: BINTER CANARIAS Billete Aéreo ...   \n",
       "3  30/07/2021  Cargo por emisión Compañia: BINTER CANARIAS Bi...   \n",
       "4  30/07/2021  Pasajero: BRITO REAL/MIRIAM Compañia: BINTER C...   \n",
       "5  30/07/2021  TASAS Compañia: BINTER CANARIAS Billete Aéreo ...   \n",
       "6  30/07/2021  Cargo por emisión Compañia: BINTER CANARIAS Bi...   \n",
       "7                                                                  \n",
       "\n",
       "                                                                          \n",
       "0  Base Imponible     Tipo  Importe Impuesto  Base Exenta  Total Importe  \n",
       "1         28,00 €  IGIC 0%            0,00 €       0,00 €        28,00 €  \n",
       "2          0,51 €  IGIC 0%            0,00 €       1,90 €         2,41 €  \n",
       "3          1,40 €  IGIC 7%            0,10 €       0,00 €         1,50 €  \n",
       "4         28,00 €  IGIC 0%            0,00 €       0,00 E        28,00 €  \n",
       "5          0,51 €  IGIC 0%            0,00 €       1,90 €         2,41 €  \n",
       "6          1,40 €  IGIC 7%            0,10 €       0,00 €         1,50 €  \n",
       "7                                                                         "
      ]
     },
     "execution_count": 150,
     "metadata": {},
     "output_type": "execute_result"
    }
   ],
   "source": [
    "this_data"
   ]
  },
  {
   "cell_type": "raw",
   "id": "987be39a",
   "metadata": {},
   "source": [
    "                data = {'file': 'C:\\Users\\Usuario\\Desktop\\clasificador_2.0\\jose-gastos-oct-2021_page10.png',\n",
    "                        'labels': {\"Supplier\": '',\n",
    "                                    \"Vat Number\": '',\n",
    "                                    \"Total\": 0,\n",
    "                                    \"Date\": '',\n",
    "                                    \"Invoice_Number\": ''},\n",
    "                        'tables': []\n",
    "                        }"
   ]
  },
  {
   "cell_type": "code",
   "execution_count": 498,
   "id": "008dabb4",
   "metadata": {},
   "outputs": [
    {
     "data": {
      "text/plain": [
       "{'Vat Number': 'B38574281',\n",
       " 'Total': '10.00',\n",
       " 'Date': '03/07/2020',\n",
       " 'Invoice_Number': 'F1-1-01353'}"
      ]
     },
     "execution_count": 498,
     "metadata": {},
     "output_type": "execute_result"
    }
   ],
   "source": [
    "dat"
   ]
  },
  {
   "cell_type": "code",
   "execution_count": 499,
   "id": "5ff1d51f",
   "metadata": {},
   "outputs": [
    {
     "name": "stdout",
     "output_type": "stream",
     "text": [
      "{'file': 'Makro Invoices/Makro Invoices/Converted/03.07.20_Extintores Valle Union Sl_3243,8_page1.png', 'labels': {'Vat Number': 'B38574281', 'Total': '10.00', 'Date': '03/07/2020', 'Invoice_Number': 'F1-1-01353'}, 'tables':   Código                       Descripción LOTE Cantidad Precio DTO   Importe\n",
      "0  04625             RACORD MANGUERA 25 MM         25,00   6,86        171,50\n",
      "1  04134           RACOR MANGUERA 45 ALUM.         25,00   6,30        157,50\n",
      "2  04397                RACOR R/ INT 25 MM         35,00   6,30        220,50\n",
      "3  04396              RACORD R/EXT. 25 MM.         25,00   6,30        157,50\n",
      "4  04237                RACORD R/INT 45 MM         25,00   8,96        224,00\n",
      "5  04322      VALVULA LATON C/RACORD 25 MM         10,00  21,28        212,80\n",
      "6    SIN                            RACORD                                   \n",
      "7  02501  EXTINTOR 5 KG. CO2 \"VALLE-UNION\"         60,00  35,00      2.100,00\n",
      "8                           BULTO: 1 PALET                                   \n",
      "9  PESO:                            950 KG                                   }\n"
     ]
    }
   ],
   "source": [
    "json_f = {}\n",
    "json_f['file'] = Ima\n",
    "json_f['labels'] = dat\n",
    "json_f['tables'] = df_t\n",
    "print(json_f)"
   ]
  },
  {
   "cell_type": "raw",
   "id": "933a724d",
   "metadata": {},
   "source": [
    "“DTO”, “Dto”, “Dto.”"
   ]
  },
  {
   "cell_type": "code",
   "execution_count": 34,
   "id": "cdab58b1",
   "metadata": {},
   "outputs": [
    {
     "data": {
      "text/plain": [
       "{'Vat Number': ['B45010808'],\n",
       " 'Total': '185,09',\n",
       " 'Date': '30.06.2022',\n",
       " 'Invoice_Number': '1000005010'}"
      ]
     },
     "execution_count": 34,
     "metadata": {},
     "output_type": "execute_result"
    }
   ],
   "source": [
    "dat"
   ]
  },
  {
   "cell_type": "code",
   "execution_count": 168,
   "id": "83ca72ed",
   "metadata": {},
   "outputs": [
    {
     "data": {
      "text/plain": [
       "'}\\n\\nBIOSPERA ENDRESS\\n\\nNombre: LA CREME FILMS\\n\\nDireccion: CALLE AMANECER 31\\nLocalidad: saN CRISTOBAL DE LA LAGUNA CP: 0\\nTeléfono\\n\\nGRACIOSAMAR CRUCEROS S.L.\\nCIF: B 76026145\\n\\nCHAFARIZ No 25, ARRECIFE\\nLANZAROTE 35500\\n\\nNIF: 876546787\\n\\nRA Ne\\n\\n0352/2021\\n\\n02/08/2021\\n\\nccc: 0081 0539 68 0001308037\\nIBAN: ES18 0081 0539 6800 0130 8037\\n\\n11,00\\n\\n1,00\\n\\nTRAYECTO ORZOLA - LA GRACIOSA RESIDENTE\\n\\nTRAYECTO ORZOLA - LA GRACIOSA NO RESIDENTE\\n\\n6,50€ 71,50 €\\n\\n26,00 € 26,00 €\\n\\n97,50 € 0,00% 0,00% 0,00 % 97,50 €\\n\\n'"
      ]
     },
     "execution_count": 168,
     "metadata": {},
     "output_type": "execute_result"
    }
   ],
   "source": [
    "text"
   ]
  }
 ],
 "metadata": {
  "kernelspec": {
   "display_name": "Python 3 (ipykernel)",
   "language": "python",
   "name": "python3"
  },
  "language_info": {
   "codemirror_mode": {
    "name": "ipython",
    "version": 3
   },
   "file_extension": ".py",
   "mimetype": "text/x-python",
   "name": "python",
   "nbconvert_exporter": "python",
   "pygments_lexer": "ipython3",
   "version": "3.7.11"
  }
 },
 "nbformat": 4,
 "nbformat_minor": 5
}
