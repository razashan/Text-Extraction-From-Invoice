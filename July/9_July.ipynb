{
 "cells": [
  {
   "cell_type": "code",
   "execution_count": 1,
   "id": "01721d19",
   "metadata": {},
   "outputs": [],
   "source": [
    "import pytesseract\n",
    "import cv2\n",
    "from PIL import Image \n",
    "import re\n",
    "import pandas as pd\n",
    "import fitz\n",
    "import os\n",
    "import boto3\n",
    "import io\n",
    "from fuzzywuzzy import fuzz\n",
    "from fuzzywuzzy import process"
   ]
  },
  {
   "cell_type": "markdown",
   "id": "9d051429",
   "metadata": {},
   "source": [
    "# Code to Convert PDF to PNG"
   ]
  },
  {
   "cell_type": "code",
   "execution_count": 2,
   "id": "c1744653",
   "metadata": {},
   "outputs": [],
   "source": [
    "def convert_pdf2img(input_file: str,pages=None):\n",
    "    \"\"\"Converts pdf to image and generates a file by page\"\"\"\n",
    "    # Open the document\n",
    "    pdfIn = fitz.open(input_file)\n",
    "    output_files = []\n",
    "    # Iterate throughout the pages\n",
    "    for pg in range(pdfIn.pageCount):\n",
    "        if str(pages) != str(None):\n",
    "            if str(pg) not in str(pages):\n",
    "                continue\n",
    "        # Select a page\n",
    "        page = pdfIn[pg]\n",
    "        rotate = int(0)\n",
    "        # PDF Page is converted into a whole picture 1056*816 and then for each picture a screenshot is taken.\n",
    "        # zoom = 1.33333333 -----> Image size = 1056*816\n",
    "        # zoom = 2 ---> 2 * Default Resolution (text is clear, image text is hard to read)    = filesize small / Image size = 1584*1224\n",
    "        # zoom = 4 ---> 4 * Default Resolution (text is clear, image text is barely readable) = filesize large\n",
    "        # zoom = 8 ---> 8 * Default Resolution (text is clear, image text is readable) = filesize large\n",
    "        zoom_x = 2\n",
    "        zoom_y = 2\n",
    "        # The zoom factor is equal to 2 in order to make text clear\n",
    "        # Pre-rotate is to rotate if needed.\n",
    "        mat = fitz.Matrix(zoom_x, zoom_y).preRotate(rotate)\n",
    "        pix = page.getPixmap(matrix=mat, alpha=False)\n",
    "        path = 'Makro Invoices/Makro Invoices/New/'\n",
    "        output_file = f\"{path+os.path.splitext(os.path.basename(input_file))[0]}_page{pg+1}.png\"\n",
    "        pix.writePNG(output_file)\n",
    "        output_files.append(output_file)\n",
    "    pdfIn.close()\n",
    "    summary = {\n",
    "        \"File\": input_file, \"Pages\": str(pages), \"Output File(s)\": str(output_files)\n",
    "    }\n",
    "    # Printing Summary\n",
    "    print(\"## Summary ########################################################\")\n",
    "    print(\"\\n\".join(\"{}:{}\".format(i, j) for i, j in summary.items()))\n",
    "    print(\"###################################################################\")\n",
    "    return output_files"
   ]
  },
  {
   "cell_type": "code",
   "execution_count": 3,
   "id": "70bd8322",
   "metadata": {},
   "outputs": [
    {
     "name": "stderr",
     "output_type": "stream",
     "text": [
      "Deprecation: 'preRotate' removed from class 'Matrix' after v1.19 - use 'prerotate'.\n",
      "Deprecation: 'getPixmap' removed from class 'Page' after v1.19 - use 'get_pixmap'.\n",
      "Deprecation: 'writePNG' removed from class 'Pixmap' after v1.19 - use 'save'.\n"
     ]
    },
    {
     "name": "stdout",
     "output_type": "stream",
     "text": [
      "## Summary ########################################################\n",
      "File:Makro Invoices/Makro Invoices/Convert/PEDIDO MENEGHELLO 4000107017--COCINA MINAMI.pdf\n",
      "Pages:None\n",
      "Output File(s):['Makro Invoices/Makro Invoices/New/PEDIDO MENEGHELLO 4000107017--COCINA MINAMI_page1.png']\n",
      "###################################################################\n"
     ]
    },
    {
     "data": {
      "text/plain": [
       "['Makro Invoices/Makro Invoices/New/PEDIDO MENEGHELLO 4000107017--COCINA MINAMI_page1.png']"
      ]
     },
     "execution_count": 3,
     "metadata": {},
     "output_type": "execute_result"
    }
   ],
   "source": [
    "convert_pdf2img('Makro Invoices/Makro Invoices/Convert/PEDIDO MENEGHELLO 4000107017--COCINA MINAMI.pdf')"
   ]
  },
  {
   "cell_type": "code",
   "execution_count": 275,
   "id": "3577cb91",
   "metadata": {},
   "outputs": [],
   "source": [
    "pytesseract.pytesseract.tesseract_cmd = r\"C:\\Program Files\\Tesseract-OCR\\tesseract.exe\""
   ]
  },
  {
   "cell_type": "code",
   "execution_count": 5,
   "id": "84b38766",
   "metadata": {},
   "outputs": [],
   "source": [
    "formats = pd.read_excel('invoice_formats.xlsx')\n",
    "final = pd.read_excel('Extracted_Data.xlsx')"
   ]
  },
  {
   "cell_type": "code",
   "execution_count": 460,
   "id": "90832141",
   "metadata": {},
   "outputs": [],
   "source": [
    "Ima = \"Makro Invoices/Makro Invoices/Converted/04.02.20_Carlos Santamaria Ruiz_213,64_page1.png\""
   ]
  },
  {
   "cell_type": "code",
   "execution_count": 461,
   "id": "4a19f044",
   "metadata": {},
   "outputs": [
    {
     "name": "stdout",
     "output_type": "stream",
     "text": [
      "<class 'list'>\n",
      "Factura 1 000155 1 04/02/2020\n",
      "['Factura', '1', '000155', '1', '04/02/2020']\n",
      "['Factura', '1', '000155', '1', '04/02/2020']\n",
      "Case Total\n",
      "['RTICULO', 'DESCRIPCION', 'PESO', 'PRECIO', 'KG', 'SUBTOTAL']\n",
      "SUBTOTAL\n",
      "Wall time: 6.7 s\n"
     ]
    }
   ],
   "source": [
    "%%time\n",
    "dat = {\n",
    "    \"Vat Number\":'',\n",
    "       \"Total\":0,\n",
    "       \"Date\":'',\n",
    "      \"Invoice_Number\":''}\n",
    "img  = cv2.imread(Ima, cv2.COLOR_RGB2GRAY)\n",
    "text=(pytesseract.image_to_string(img))\n",
    "text_list = text.split(\"\\n\")\n",
    "vat = []\n",
    "date = []\n",
    "tot = []\n",
    "print(type(text_list))\n",
    "for idx, a in enumerate(text_list):\n",
    "    if(a.strip() != \"\"):\n",
    "\n",
    "\n",
    "        if (re.search(\"[A-Z]{1}-[0-9]{8}\",a)):\n",
    "            b = re.findall(\"[A-Z]{1}-[0-9]{8}\",a)\n",
    "            dat[\"Vat Number\"] = b[0]\n",
    "            vat.append(b)\n",
    "            print(b)\n",
    "        elif (re.search(\"[0-9]{8}-[A-Z]{1}\",a)):\n",
    "            b = re.findall(\"[0-9]{8}-[A-Z]{1}\",a)\n",
    "            dat[\"Vat Number\"] = b[0]\n",
    "            vat.append(b)\n",
    "        elif (re.search(\"[0-9]{8}[A-Z]{1}\",a)):\n",
    "            b = re.findall(\"[0-9]{8}[A-Z]{1}\",a)\n",
    "            dat[\"Vat Number\"] = b\n",
    "            vat.append(b)\n",
    "    \n",
    "        elif (re.search(\"[A-Z]{1}-[0-9]{8}\",a)):\n",
    "            b = re.findall(\"[A-Z]{1}-[0-9]{8}\",a)\n",
    "            dat[\"Vat Number\"] = b[0]\n",
    "            vat.append(b)\n",
    "\n",
    "        elif (re.search(\"[A-Z]{1}[0-9]{8}\",a)):\n",
    "            b = re.findall(\"[A-Z]{1}[0-9]{8}\",a)\n",
    "            dat[\"Vat Number\"] = b[0]\n",
    "            vat.append(b)\n",
    "            \n",
    "        elif (re.search(\"[A-Z]{1}[0-9]{2}/[0-9]{6}\",a)):\n",
    "            b = re.findall(\"[A-Z]{1}[0-9]{2}/[0-9]{6}\",a)\n",
    "            dat[\"Vat Number\"] = b[0]\n",
    "            vat.append(b)\n",
    "            \n",
    "        elif (re.search(\"[A-Z]{1}-[0-9]{2}.[0-9]{3}.[0-9]{3}\",a)):\n",
    "            b = re.findall(\"[A-Z]{1}-[0-9]{2}.[0-9]{3}.[0-9]{3}\",a)\n",
    "            dat[\"Vat Number\"] = b[0]\n",
    "        elif (re.search(\"[A-Z]{1}-[0-9]{2}/[0-9]{6}\",a)):\n",
    "            b = re.findall(\"[A-Z]{1}-[0-9]{2}/[0-9]{6}\",a)\n",
    "            dat[\"Vat Number\"] = b[0]\n",
    "\n",
    "        if len(vat)>1:\n",
    "            dat[\"Vat Number\"] = vat[0]\n",
    "        else:\n",
    "            pass\n",
    "         #Date section           \n",
    "        if (re.search(\"\\d{2}/\\d{2}/\\d{4}\",a)):\n",
    "            b  = re.findall(\"\\d{2}/\\d{2}/\\d{4}\", a)\n",
    "            dat[\"Date\"] = b[0]\n",
    "            date.append(b[0])\n",
    "        elif (re.search(\"\\d{2}-\\d{2}-\\d{4}\",a)):\n",
    "            b = re.findall(\"\\d{2}-\\d{2}-\\d{4}\",a)\n",
    "            dat[\"Date\"] = b[0]\n",
    "            date.append(b[0])\n",
    "        elif (re.search(\"\\d{2}/\\d{2}/\\d{2}\",a)):\n",
    "            b = re.findall(\"\\d{2}/\\d{2}/\\d{2}\",a)\n",
    "            dat[\"Date\"] = b[0]\n",
    "            date.append(b[0])\n",
    "        elif (re.search(\"\\d{1}/\\d{2}/\\d{2}\",a)):\n",
    "            b = re.findall(\"\\d{1}/\\d{2}/\\d{2}\",a)\n",
    "            dat[\"Date\"] = b[0]\n",
    "            date.append(b[0])\n",
    "        \n",
    "        elif (re.search(\"[0-9]{2}\\.[0-9]{2}\\.[0-9]{4}\",a)):\n",
    "            b = re.findall(\"[0-9]{2}\\.[0-9]{2}\\.[0-9]{4}\",a)\n",
    "            dat[\"Date\"] = b[0]\n",
    "            date.append(b[0])\n",
    "    \n",
    "        if len(date)>1:\n",
    "            dat[\"Date\"] = date[0]\n",
    "\n",
    "        #invoice number section\n",
    "        if (\"Factura\" in a or \"ALBARAN\" in a or \"Factura: \" in a):\n",
    "\n",
    "            print(a)\n",
    "            b = a.split(\" \")\n",
    "            if b[0] == \"ALBARAN\":\n",
    "                dat[\"Invoice_Number\"] = b[1]\n",
    "            print(b)\n",
    "            if len(b)>3:\n",
    "                print(b)\n",
    "                if len(b)>4 and b[2] !='—' and len(b[1])!=25 and len(b[1])>5:\n",
    "                    dat[\"Invoice_Number\"] = b[1]+b[2]\n",
    "                    print(b)\n",
    "                elif len(b)>=5 and len(b[1])==25:\n",
    "                    dat[\"Invoice_Number\"] = b[1]\n",
    "                elif len(b)>6 and len(b[3])>15:\n",
    "                    dat[\"Invoice_Number\"] = b[1]+ b[2]+ b[3]\n",
    "                elif len(b)>6 and b[1]== \"0/0\":\n",
    "                    dat[\"Invoice_Number\"] = b[1] + b[2]\n",
    "    \n",
    "    \n",
    "    \n",
    "    \n",
    "        if (\"Tarjeta\" in a or \"Credito\" in a or  \"pagina\" in a or \"Total:\" in a  or \"TOTAL\" in a or  \"Total factura\" in a or  \"Total Factura\" in a or \"TOTAL FACTURA\" in a or \"Total CON IGIC\" in a  or \"IMPORTE FACTURA EU\" in a or \"IMPORTE FACTURA\" in a or \"EUROS\" in a or \"Importe:\" in a):\n",
    "            print(\"Case Total\")\n",
    "            b = a.split(\" \")\n",
    "            print(b)\n",
    "            if len(b[-1])==2:\n",
    "                \n",
    "                dat[\"Total\"] = b[-2]+b[-1]\n",
    "                print(b[-2]+b[-1])\n",
    "            elif b[-1]==\"€\":\n",
    "                dat[\"Total\"] = b[-2]\n",
    "                \n",
    "            elif b[-1]=='€':\n",
    "                dat[\"Total\"] = b[-2]\n",
    "            elif b[-1] == \"|\":\n",
    "                dat[\"Total\"] = b[-2]\n",
    "            elif b[-1] == \"EUR\":\n",
    "                dat[\"Total\"] = b[-2]\n",
    "            else:\n",
    "                dat[\"Total\"] = b[-1]\n",
    "                print(b[-1])\n",
    "\n",
    "\n",
    "                \n",
    "       \n",
    "                \n",
    "if dat[\"Total\"] == 0 or dat[\"Total\"]== \"©\" or (dat['Total'])==1 or dat[\"Total\"]==\"SUB TOTAL\"  or dat[\"Total\"] == 'factura' or dat[\"Total\"]==\"FACTURA\" or dat[\"Total\"]== \"EUROS\" or dat[\"Total\"] == \"©\" or dat[\"Total\"]==\"TOTAL\":\n",
    "        tot = []\n",
    "        im = Image.open(Ima) \n",
    "        # Size of the image in pixels (size of orginal image) \n",
    "        # (This is not mandatory) \n",
    "        width, height = im.size \n",
    "        print(im.size)\n",
    "        # Setting the points for cropped image \n",
    "        left = 605\n",
    "        top = 600\n",
    "        right = 1675\n",
    "        bottom = 1590\n",
    "        # Cropped image of above dimension \n",
    "        # (It will not change orginal image) \n",
    "        im1 = im.crop((left, top, right, bottom)) \n",
    "         # Shows the image in image viewer \n",
    "        im1.save(\"Makro Invoices/Makro Invoices/New/pp2.jpg\")\n",
    "        img  = cv2.imread('Makro Invoices/Makro Invoices/New/pp2.jpg', cv2.COLOR_RGB2GRAY)\n",
    "        tex=(pytesseract.image_to_string(img))\n",
    "        text_list = tex.split(\"\\n\")\n",
    "        text_list = text_list\n",
    "        print(text_list)\n",
    "        for idx, a in enumerate(text_list):\n",
    "            if(a.strip() != \"\"):\n",
    "                if re.search('[0-9]{2},[0-9]{2}',a):\n",
    "                    b = re.findall('[0-9]{2},[0-9]{2}',a)\n",
    "                    print(b,'this is total')\n",
    "                    dat['Total'] = b\n",
    "                \n",
    "                \n",
    "                \n",
    "                \n",
    "        \n",
    "            \n",
    "            \n",
    "        "
   ]
  },
  {
   "cell_type": "raw",
   "id": "c5537ddc",
   "metadata": {},
   "source": [
    "        if re.search('[0-9]{2},[0-9]{2}',a):\n",
    "                    b = re.findall('[0-9]{2},[0-9]{2}',a)\n",
    "                    print(b,'this is total')\n",
    "                    tot.append(b)\n",
    "                    \n",
    "dat['Total'] = tot[-1]"
   ]
  },
  {
   "cell_type": "code",
   "execution_count": 462,
   "id": "0a61c863",
   "metadata": {},
   "outputs": [
    {
     "data": {
      "text/plain": [
       "{'Vat Number': '',\n",
       " 'Total': 'SUBTOTAL',\n",
       " 'Date': '04/02/2020',\n",
       " 'Invoice_Number': ''}"
      ]
     },
     "execution_count": 462,
     "metadata": {},
     "output_type": "execute_result"
    }
   ],
   "source": [
    "dat"
   ]
  },
  {
   "cell_type": "code",
   "execution_count": 415,
   "id": "60e675e5",
   "metadata": {},
   "outputs": [
    {
     "name": "stdout",
     "output_type": "stream",
     "text": [
      "  Vat Number Total        Date Invoice_Number\n",
      "0  B76761915     ©  03/02/2020               \n"
     ]
    }
   ],
   "source": [
    "data  =  pd.DataFrame(dat,index=[0])\n",
    "data['Vat Number']= data['Vat Number'].str.replace(' ', '')\n",
    "print(data)"
   ]
  },
  {
   "cell_type": "code",
   "execution_count": 416,
   "id": "3211f2af",
   "metadata": {},
   "outputs": [
    {
     "name": "stderr",
     "output_type": "stream",
     "text": [
      "F:\\anaconda3\\envs\\python_3_7\\lib\\site-packages\\ipykernel_launcher.py:3: FutureWarning: The default value of regex will change from True to False in a future version. In addition, single character regular expressions will *not* be treated as literal strings when regex=True.\n",
      "  This is separate from the ipykernel package so we can avoid doing imports until\n",
      "\n"
     ]
    },
    {
     "data": {
      "text/html": [
       "<div>\n",
       "<style scoped>\n",
       "    .dataframe tbody tr th:only-of-type {\n",
       "        vertical-align: middle;\n",
       "    }\n",
       "\n",
       "    .dataframe tbody tr th {\n",
       "        vertical-align: top;\n",
       "    }\n",
       "\n",
       "    .dataframe thead th {\n",
       "        text-align: right;\n",
       "    }\n",
       "</style>\n",
       "<table border=\"1\" class=\"dataframe\">\n",
       "  <thead>\n",
       "    <tr style=\"text-align: right;\">\n",
       "      <th></th>\n",
       "      <th>Vat Number</th>\n",
       "      <th>Total</th>\n",
       "      <th>Date</th>\n",
       "      <th>Invoice_Number</th>\n",
       "    </tr>\n",
       "  </thead>\n",
       "  <tbody>\n",
       "    <tr>\n",
       "      <th>0</th>\n",
       "      <td>B76761915</td>\n",
       "      <td>©</td>\n",
       "      <td>03/02/2020</td>\n",
       "      <td></td>\n",
       "    </tr>\n",
       "  </tbody>\n",
       "</table>\n",
       "</div>"
      ],
      "text/plain": [
       "  Vat Number Total        Date Invoice_Number\n",
       "0  B76761915     ©  03/02/2020               "
      ]
     },
     "execution_count": 416,
     "metadata": {},
     "output_type": "execute_result"
    }
   ],
   "source": [
    "data['Vat Number']= data['Vat Number'].str.replace('-', '')\n",
    "data['Vat Number']= data['Vat Number'].str.replace(',', '')\n",
    "data['Vat Number']= data['Vat Number'].str.replace('.', '')\n",
    "data['Vat Number']= data['Vat Number'].str.replace('/', '')\n",
    "data"
   ]
  },
  {
   "cell_type": "code",
   "execution_count": 335,
   "id": "0f047807",
   "metadata": {},
   "outputs": [
    {
     "ename": "NameError",
     "evalue": "name 'formats' is not defined",
     "output_type": "error",
     "traceback": [
      "\u001b[1;31m---------------------------------------------------------------------------\u001b[0m",
      "\u001b[1;31mNameError\u001b[0m                                 Traceback (most recent call last)",
      "\u001b[1;32mC:\\Users\\EHTISH~1\\AppData\\Local\\Temp/ipykernel_26076/3041581354.py\u001b[0m in \u001b[0;36m<module>\u001b[1;34m\u001b[0m\n\u001b[1;32m----> 1\u001b[1;33m \u001b[0mformats\u001b[0m\u001b[1;33m[\u001b[0m\u001b[1;34m'last'\u001b[0m\u001b[1;33m]\u001b[0m\u001b[1;33m=\u001b[0m \u001b[1;33m(\u001b[0m\u001b[0mformats\u001b[0m\u001b[1;33m[\u001b[0m\u001b[1;34m'nif'\u001b[0m\u001b[1;33m]\u001b[0m\u001b[1;33m.\u001b[0m\u001b[0misin\u001b[0m\u001b[1;33m(\u001b[0m\u001b[0mdata\u001b[0m\u001b[1;33m[\u001b[0m\u001b[1;34m'Vat Number'\u001b[0m\u001b[1;33m]\u001b[0m\u001b[1;33m)\u001b[0m\u001b[1;33m)\u001b[0m\u001b[1;33m\u001b[0m\u001b[1;33m\u001b[0m\u001b[0m\n\u001b[0m",
      "\u001b[1;31mNameError\u001b[0m: name 'formats' is not defined"
     ]
    }
   ],
   "source": [
    "formats['last']= (formats['nif'].isin(data['Vat Number']))"
   ]
  },
  {
   "cell_type": "code",
   "execution_count": 240,
   "id": "c2b82863",
   "metadata": {},
   "outputs": [],
   "source": [
    "df2 = formats.query(\"last == True\")"
   ]
  },
  {
   "cell_type": "code",
   "execution_count": 241,
   "id": "1c12a9fa",
   "metadata": {},
   "outputs": [
    {
     "data": {
      "text/html": [
       "<div>\n",
       "<style scoped>\n",
       "    .dataframe tbody tr th:only-of-type {\n",
       "        vertical-align: middle;\n",
       "    }\n",
       "\n",
       "    .dataframe tbody tr th {\n",
       "        vertical-align: top;\n",
       "    }\n",
       "\n",
       "    .dataframe thead th {\n",
       "        text-align: right;\n",
       "    }\n",
       "</style>\n",
       "<table border=\"1\" class=\"dataframe\">\n",
       "  <thead>\n",
       "    <tr style=\"text-align: right;\">\n",
       "      <th></th>\n",
       "      <th>formato</th>\n",
       "      <th>nombre</th>\n",
       "      <th>nif</th>\n",
       "      <th>last</th>\n",
       "    </tr>\n",
       "  </thead>\n",
       "  <tbody>\n",
       "    <tr>\n",
       "      <th>3158</th>\n",
       "      <td>\\d\\d\\d\\d\\d\\d\\d\\d\\d\\d</td>\n",
       "      <td>EMBUTIDOS DE TENERIFE S.A.</td>\n",
       "      <td>A38003414</td>\n",
       "      <td>True</td>\n",
       "    </tr>\n",
       "  </tbody>\n",
       "</table>\n",
       "</div>"
      ],
      "text/plain": [
       "                   formato                      nombre        nif  last\n",
       "3158  \\d\\d\\d\\d\\d\\d\\d\\d\\d\\d  EMBUTIDOS DE TENERIFE S.A.  A38003414  True"
      ]
     },
     "execution_count": 241,
     "metadata": {},
     "output_type": "execute_result"
    }
   ],
   "source": [
    "df2"
   ]
  },
  {
   "cell_type": "code",
   "execution_count": 242,
   "id": "a25f17fd",
   "metadata": {},
   "outputs": [],
   "source": [
    "inv = 0\n",
    "for i in df2['formato']:\n",
    "    inv = i\n",
    "pat = 'F1-1-01353'\n",
    "factura = re.compile(inv)\n",
    "mo = factura.search(text)\n",
    "dat[\"Invoice_Number\"]=mo.group()"
   ]
  },
  {
   "cell_type": "code",
   "execution_count": 243,
   "id": "849fd0f7",
   "metadata": {},
   "outputs": [
    {
     "data": {
      "text/plain": [
       "{'Vat Number': ['A-38003414'],\n",
       " 'Total': '154,05',\n",
       " 'Date': '27-05-2021',\n",
       " 'Invoice_Number': '1400804213'}"
      ]
     },
     "execution_count": 243,
     "metadata": {},
     "output_type": "execute_result"
    }
   ],
   "source": [
    "dat"
   ]
  },
  {
   "cell_type": "code",
   "execution_count": 463,
   "id": "e39739c0",
   "metadata": {},
   "outputs": [],
   "source": [
    "im = Image.open(Ima)"
   ]
  },
  {
   "cell_type": "code",
   "execution_count": 464,
   "id": "01dedef9",
   "metadata": {},
   "outputs": [],
   "source": [
    "buffered = io.BytesIO()\n",
    "im.save(buffered, format='PNG')\n",
    "client = boto3.client('textract')\n",
    "response = client.analyze_document(\n",
    "    Document={'Bytes': buffered.getvalue()},\n",
    "    FeatureTypes=['TABLES']\n",
    ")"
   ]
  },
  {
   "cell_type": "code",
   "execution_count": 465,
   "id": "873050fb",
   "metadata": {},
   "outputs": [],
   "source": [
    "def map_blocks(blocks, block_type):\n",
    "    return {\n",
    "        block['Id']: block\n",
    "        for block in blocks\n",
    "        if block['BlockType'] == block_type\n",
    "    }\n",
    "\n",
    "blocks = response['Blocks']\n",
    "tables = map_blocks(blocks, 'TABLE')\n",
    "cells = map_blocks(blocks, 'CELL')\n",
    "words = map_blocks(blocks, 'WORD')\n",
    "selections = map_blocks(blocks, 'SELECTION_ELEMENT')\n",
    "\n",
    "def get_children_ids(block):\n",
    "    for rels in block.get('Relationships', []):\n",
    "        if rels['Type'] == 'CHILD':\n",
    "            yield from rels['Ids']\n",
    "            \n",
    "dataframes = []\n",
    "\n",
    "for table in tables.values():\n",
    "\n",
    "    # Determine all the cells that belong to this table\n",
    "    table_cells = [cells[cell_id] for cell_id in get_children_ids(table)]\n",
    "\n",
    "    # Determine the table's number of rows and columns\n",
    "    n_rows = max(cell['RowIndex'] for cell in table_cells)\n",
    "    n_cols = max(cell['ColumnIndex'] for cell in table_cells)\n",
    "    content = [[None for _ in range(n_cols)] for _ in range(n_rows)]\n",
    "\n",
    "    # Fill in each cell\n",
    "    for cell in table_cells:\n",
    "        cell_contents = [\n",
    "            words[child_id]['Text']\n",
    "            if child_id in words\n",
    "            else selections[child_id]['SelectionStatus']\n",
    "            for child_id in get_children_ids(cell)\n",
    "        ]\n",
    "        i = cell['RowIndex'] - 1\n",
    "        j = cell['ColumnIndex'] - 1\n",
    "        content[i][j] = ' '.join(cell_contents)\n",
    "\n",
    "    # We assume that the first row corresponds to the column names\n",
    "    dataframe = pd.DataFrame(content[1:], columns=content[0])\n",
    "    dataframes.append(dataframe)"
   ]
  },
  {
   "cell_type": "code",
   "execution_count": 466,
   "id": "f5c16b92",
   "metadata": {},
   "outputs": [
    {
     "data": {
      "text/html": [
       "<div>\n",
       "<style scoped>\n",
       "    .dataframe tbody tr th:only-of-type {\n",
       "        vertical-align: middle;\n",
       "    }\n",
       "\n",
       "    .dataframe tbody tr th {\n",
       "        vertical-align: top;\n",
       "    }\n",
       "\n",
       "    .dataframe thead th {\n",
       "        text-align: right;\n",
       "    }\n",
       "</style>\n",
       "<table border=\"1\" class=\"dataframe\">\n",
       "  <thead>\n",
       "    <tr style=\"text-align: right;\">\n",
       "      <th></th>\n",
       "      <th>ARTÍCULO</th>\n",
       "      <th>DESCRIPCIÓN</th>\n",
       "      <th></th>\n",
       "      <th>PESO</th>\n",
       "      <th>PRECIO KG</th>\n",
       "      <th>SUBTOTAL</th>\n",
       "      <th>DTO.</th>\n",
       "      <th>TOTAL</th>\n",
       "    </tr>\n",
       "  </thead>\n",
       "  <tbody>\n",
       "    <tr>\n",
       "      <th>0</th>\n",
       "      <td>580</td>\n",
       "      <td>SOLOMILLO DE CERDO SECO</td>\n",
       "      <td>373870</td>\n",
       "      <td>10,000</td>\n",
       "      <td>5,35</td>\n",
       "      <td>53,50</td>\n",
       "      <td></td>\n",
       "      <td>53,50</td>\n",
       "    </tr>\n",
       "    <tr>\n",
       "      <th>1</th>\n",
       "      <td>74255</td>\n",
       "      <td>CHOCOS LIMPIOS 2/4 (</td>\n",
       "      <td>348423</td>\n",
       "      <td>10,000</td>\n",
       "      <td>7,00</td>\n",
       "      <td>70,00</td>\n",
       "      <td></td>\n",
       "      <td>70,00</td>\n",
       "    </tr>\n",
       "    <tr>\n",
       "      <th>2</th>\n",
       "      <td>1000041.</td>\n",
       "      <td>CODILLO DE CERDO C/H</td>\n",
       "      <td>107651</td>\n",
       "      <td>24,250</td>\n",
       "      <td>2,95</td>\n",
       "      <td>71,54</td>\n",
       "      <td></td>\n",
       "      <td>71,54</td>\n",
       "    </tr>\n",
       "    <tr>\n",
       "      <th>3</th>\n",
       "      <td>1080</td>\n",
       "      <td>MUSLO DE POLLO C/H C/C GRANEL</td>\n",
       "      <td>361514</td>\n",
       "      <td>10,000</td>\n",
       "      <td>1,65</td>\n",
       "      <td>16,50</td>\n",
       "      <td></td>\n",
       "      <td>16,50</td>\n",
       "    </tr>\n",
       "    <tr>\n",
       "      <th>4</th>\n",
       "      <td></td>\n",
       "      <td>that</td>\n",
       "      <td></td>\n",
       "      <td></td>\n",
       "      <td></td>\n",
       "      <td>to</td>\n",
       "      <td></td>\n",
       "      <td></td>\n",
       "    </tr>\n",
       "  </tbody>\n",
       "</table>\n",
       "</div>"
      ],
      "text/plain": [
       "   ARTÍCULO                    DESCRIPCIÓN            PESO PRECIO KG SUBTOTAL  \\\n",
       "0       580        SOLOMILLO DE CERDO SECO  373870  10,000      5,35    53,50   \n",
       "1     74255           CHOCOS LIMPIOS 2/4 (  348423  10,000      7,00    70,00   \n",
       "2  1000041.           CODILLO DE CERDO C/H  107651  24,250      2,95    71,54   \n",
       "3      1080  MUSLO DE POLLO C/H C/C GRANEL  361514  10,000      1,65    16,50   \n",
       "4                                     that                                 to   \n",
       "\n",
       "  DTO.  TOTAL  \n",
       "0       53,50  \n",
       "1       70,00  \n",
       "2       71,54  \n",
       "3       16,50  \n",
       "4              "
      ]
     },
     "execution_count": 466,
     "metadata": {},
     "output_type": "execute_result"
    }
   ],
   "source": [
    "if dataframes[0].shape[1] >=4 :\n",
    "    this_data = pd.DataFrame(dataframes[0])\n",
    "\n",
    "elif  dataframes[1].shape[1] >=4 :\n",
    "    this_data = pd.DataFrame(dataframes[1])\n",
    "  \n",
    "elif dataframes[2].shape[1] >=4:\n",
    "    this_data = pd.DataFrame(dataframes[2])\n",
    "\n",
    "else:\n",
    "    this_data = pd.DataFrame(dataframes[3])\n",
    "    \n",
    "this_data"
   ]
  },
  {
   "cell_type": "raw",
   "id": "987be39a",
   "metadata": {},
   "source": [
    "                data = {'file': 'C:\\Users\\Usuario\\Desktop\\clasificador_2.0\\jose-gastos-oct-2021_page10.png',\n",
    "                        'labels': {\"Supplier\": '',\n",
    "                                    \"Vat Number\": '',\n",
    "                                    \"Total\": 0,\n",
    "                                    \"Date\": '',\n",
    "                                    \"Invoice_Number\": ''},\n",
    "                        'tables': []\n",
    "                        }"
   ]
  },
  {
   "cell_type": "code",
   "execution_count": 306,
   "id": "008dabb4",
   "metadata": {},
   "outputs": [
    {
     "data": {
      "text/plain": [
       "{'Vat Number': ['A-38003414'],\n",
       " 'Total': '90,21',\n",
       " 'Date': '31/05/2020',\n",
       " 'Invoice_Number': 'OPERACIONESTA'}"
      ]
     },
     "execution_count": 306,
     "metadata": {},
     "output_type": "execute_result"
    }
   ],
   "source": [
    "dat"
   ]
  },
  {
   "cell_type": "code",
   "execution_count": 249,
   "id": "5ff1d51f",
   "metadata": {},
   "outputs": [
    {
     "name": "stdout",
     "output_type": "stream",
     "text": [
      "{'file': 'Makro Invoices/Makro Invoices/Converted/guimar040621_page_001_page-0001.jpg', 'labels': {'Vat Number': ['A-38003414'], 'Total': '154,05', 'Date': '27-05-2021', 'Invoice_Number': '1400804213'}, 'tables':     REF.                    DESCRIPCIÓN    Lote Bultos/Unids  Cantidad  \\\n",
      "0    376  PREPARADO CÁRNICO PEPITOS VAC  493003         3 CJ  18,00 KG   \n",
      "1  71239  BURGER MEAT VACUNO SUPRA 150G  510220         1 CJ   4,50 KG   \n",
      "2  76100  LOMOS DE ATUN GRANEL 25KG CON  446247         1 UN   3,50 KG   \n",
      "\n",
      "       Precio Descuento   Neto   Total IGIC       \n",
      "0  6,870 €/KG       10%  6,183  111,29       (1)  \n",
      "1  6,140 €/KG       10%  5,526   24,87   3%       \n",
      "2  5,440 €/KG       10%  4,896   17,14            }\n"
     ]
    }
   ],
   "source": [
    "json_f = {}\n",
    "json_f['file'] = Ima\n",
    "json_f['labels'] = dat\n",
    "json_f['tables'] = this_data\n",
    "print(json_f)"
   ]
  },
  {
   "cell_type": "raw",
   "id": "933a724d",
   "metadata": {},
   "source": [
    "“DTO”, “Dto”, “Dto.”,Descuento DCTO"
   ]
  },
  {
   "cell_type": "code",
   "execution_count": 250,
   "id": "cdab58b1",
   "metadata": {},
   "outputs": [
    {
     "data": {
      "text/plain": [
       "{'Vat Number': ['A-38003414'],\n",
       " 'Total': '154,05',\n",
       " 'Date': '27-05-2021',\n",
       " 'Invoice_Number': '1400804213'}"
      ]
     },
     "execution_count": 250,
     "metadata": {},
     "output_type": "execute_result"
    }
   ],
   "source": [
    "dat"
   ]
  },
  {
   "cell_type": "code",
   "execution_count": 264,
   "id": "10610e8e",
   "metadata": {},
   "outputs": [
    {
     "data": {
      "text/html": [
       "<div>\n",
       "<style scoped>\n",
       "    .dataframe tbody tr th:only-of-type {\n",
       "        vertical-align: middle;\n",
       "    }\n",
       "\n",
       "    .dataframe tbody tr th {\n",
       "        vertical-align: top;\n",
       "    }\n",
       "\n",
       "    .dataframe thead th {\n",
       "        text-align: right;\n",
       "    }\n",
       "</style>\n",
       "<table border=\"1\" class=\"dataframe\">\n",
       "  <thead>\n",
       "    <tr style=\"text-align: right;\">\n",
       "      <th></th>\n",
       "      <th>Pos.</th>\n",
       "      <th>Cant.</th>\n",
       "      <th>Denominación /Referencia</th>\n",
       "      <th>Precio Unit.</th>\n",
       "      <th>Precio Total EUR</th>\n",
       "    </tr>\n",
       "  </thead>\n",
       "  <tbody>\n",
       "    <tr>\n",
       "      <th>0</th>\n",
       "      <td>00100</td>\n",
       "      <td>1,0</td>\n",
       "      <td>Cuota de Arrendamiento según contrato de refer...</td>\n",
       "      <td>44,69</td>\n",
       "      <td>44,69</td>\n",
       "    </tr>\n",
       "    <tr>\n",
       "      <th>1</th>\n",
       "      <td></td>\n",
       "      <td></td>\n",
       "      <td>Importe Neto IGIC 7,000 %</td>\n",
       "      <td>44,69</td>\n",
       "      <td>44,69 3,12</td>\n",
       "    </tr>\n",
       "    <tr>\n",
       "      <th>2</th>\n",
       "      <td></td>\n",
       "      <td></td>\n",
       "      <td>Total Factura EUR</td>\n",
       "      <td></td>\n",
       "      <td>47,81</td>\n",
       "    </tr>\n",
       "    <tr>\n",
       "      <th>3</th>\n",
       "      <td></td>\n",
       "      <td></td>\n",
       "      <td>Condiciones de pago : VENCIMIENTO INMEDIATO</td>\n",
       "      <td></td>\n",
       "      <td></td>\n",
       "    </tr>\n",
       "    <tr>\n",
       "      <th>4</th>\n",
       "      <td></td>\n",
       "      <td></td>\n",
       "      <td>PAGADO</td>\n",
       "      <td></td>\n",
       "      <td></td>\n",
       "    </tr>\n",
       "  </tbody>\n",
       "</table>\n",
       "</div>"
      ],
      "text/plain": [
       "    Pos. Cant.                           Denominación /Referencia  \\\n",
       "0  00100   1,0  Cuota de Arrendamiento según contrato de refer...   \n",
       "1                                       Importe Neto IGIC 7,000 %   \n",
       "2                                               Total Factura EUR   \n",
       "3                     Condiciones de pago : VENCIMIENTO INMEDIATO   \n",
       "4                                                          PAGADO   \n",
       "\n",
       "  Precio Unit. Precio Total EUR  \n",
       "0        44,69            44,69  \n",
       "1        44,69       44,69 3,12  \n",
       "2                         47,81  \n",
       "3                                \n",
       "4                                "
      ]
     },
     "execution_count": 264,
     "metadata": {},
     "output_type": "execute_result"
    }
   ],
   "source": [
    "this_data.head()"
   ]
  },
  {
   "cell_type": "code",
   "execution_count": 467,
   "id": "f66c0308",
   "metadata": {},
   "outputs": [
    {
     "name": "stdout",
     "output_type": "stream",
     "text": [
      "DESCRIPCIÓN\n"
     ]
    }
   ],
   "source": [
    "name = ''\n",
    "index = 0\n",
    "for i in this_data.columns:\n",
    "    if (i == 'DESCRIPCIÓN') or (i==\"Artículo/ Cod.cliente\")or (i == 'DESCRIPCIÓN:')  or(i ==\"CONCEPTO\")or (i==\"UDS\") or (i ==\"Concepto\") or (i==\"Descripción\")  or (i=='DESCRIPCION') or (i==\"Description articulo\") or (i==\"Description\") or (i == \"DESCRIPCIÓN ARTICULO\") or (i==\"Unidades Descripción\")or (i==\"PRODUCTO\") or (i==\"Articulo\") or (i=='Denominación /Referencia'):\n",
    "        print(i)\n",
    "        match = index\n",
    "        name = i\n",
    "    index+=1"
   ]
  },
  {
   "cell_type": "code",
   "execution_count": 468,
   "id": "4135675c",
   "metadata": {},
   "outputs": [],
   "source": [
    "this = this_data[name]"
   ]
  },
  {
   "cell_type": "code",
   "execution_count": 469,
   "id": "a7a5b99b",
   "metadata": {},
   "outputs": [],
   "source": [
    "dataf  =  pd.DataFrame(this,columns=[name])"
   ]
  },
  {
   "cell_type": "code",
   "execution_count": 470,
   "id": "779797d8",
   "metadata": {},
   "outputs": [
    {
     "data": {
      "text/html": [
       "<div>\n",
       "<style scoped>\n",
       "    .dataframe tbody tr th:only-of-type {\n",
       "        vertical-align: middle;\n",
       "    }\n",
       "\n",
       "    .dataframe tbody tr th {\n",
       "        vertical-align: top;\n",
       "    }\n",
       "\n",
       "    .dataframe thead th {\n",
       "        text-align: right;\n",
       "    }\n",
       "</style>\n",
       "<table border=\"1\" class=\"dataframe\">\n",
       "  <thead>\n",
       "    <tr style=\"text-align: right;\">\n",
       "      <th></th>\n",
       "      <th>DESCRIPCIÓN</th>\n",
       "    </tr>\n",
       "  </thead>\n",
       "  <tbody>\n",
       "    <tr>\n",
       "      <th>0</th>\n",
       "      <td>SOLOMILLO DE CERDO SECO</td>\n",
       "    </tr>\n",
       "    <tr>\n",
       "      <th>1</th>\n",
       "      <td>CHOCOS LIMPIOS 2/4 (</td>\n",
       "    </tr>\n",
       "    <tr>\n",
       "      <th>2</th>\n",
       "      <td>CODILLO DE CERDO C/H</td>\n",
       "    </tr>\n",
       "    <tr>\n",
       "      <th>3</th>\n",
       "      <td>MUSLO DE POLLO C/H C/C GRANEL</td>\n",
       "    </tr>\n",
       "    <tr>\n",
       "      <th>4</th>\n",
       "      <td>that</td>\n",
       "    </tr>\n",
       "  </tbody>\n",
       "</table>\n",
       "</div>"
      ],
      "text/plain": [
       "                     DESCRIPCIÓN\n",
       "0        SOLOMILLO DE CERDO SECO\n",
       "1           CHOCOS LIMPIOS 2/4 (\n",
       "2           CODILLO DE CERDO C/H\n",
       "3  MUSLO DE POLLO C/H C/C GRANEL\n",
       "4                           that"
      ]
     },
     "execution_count": 470,
     "metadata": {},
     "output_type": "execute_result"
    }
   ],
   "source": [
    "dataf"
   ]
  },
  {
   "cell_type": "code",
   "execution_count": 471,
   "id": "201561c8",
   "metadata": {},
   "outputs": [
    {
     "name": "stdout",
     "output_type": "stream",
     "text": [
      "PRECIO KG\n",
      "Im condition 1\n"
     ]
    }
   ],
   "source": [
    "str1 = \"Precio\"\n",
    "str2 = \"Base I\"\n",
    "str3 = \"PVP\"\n",
    "str4 = 'Importe'\n",
    "str5 = 'Euro Uni.'\n",
    "str6 = \"IMP\"\n",
    "price =''\n",
    "for i in this_data.columns:\n",
    "    ratio1 = fuzz.partial_ratio(str1.lower(),str(i).lower())\n",
    "    if ratio1>=75:\n",
    "        print(i)\n",
    "        price = i\n",
    "        print(\"Im condition 1\")\n",
    "    ratio2 = fuzz.partial_ratio(str2.lower(),str(i).lower())\n",
    "    if ratio2>=75:\n",
    "        print(i)\n",
    "        price =i\n",
    "        print(\"Im condition 2\")\n",
    "    ratio3 = fuzz.partial_ratio(str3.lower(),str(i).lower())\n",
    "    if ratio3>=75:\n",
    "        print(\"Im condition 3\")\n",
    "        print(i)\n",
    "        price =i\n",
    "    ratio4 = fuzz.partial_ratio(str4.lower(),str(i).lower())\n",
    "    if ratio4>=75:\n",
    "        print(\"Im condition 4\")\n",
    "        print(i)\n",
    "        price =i\n",
    "    ratio5 = fuzz.partial_ratio(str5.lower(),str(i).lower())\n",
    "    if ratio5>=75:\n",
    "        print(\"Im condition 5\")\n",
    "        print(i)\n",
    "        price =i\n",
    "    ratio6 = fuzz.partial_ratio(str6.lower(),str(i).lower())\n",
    "    if ratio6>=75:\n",
    "        print(\"Im condition 6\")\n",
    "        print(i)\n",
    "        price =i"
   ]
  },
  {
   "cell_type": "code",
   "execution_count": 472,
   "id": "7d41d7db",
   "metadata": {},
   "outputs": [
    {
     "data": {
      "text/html": [
       "<div>\n",
       "<style scoped>\n",
       "    .dataframe tbody tr th:only-of-type {\n",
       "        vertical-align: middle;\n",
       "    }\n",
       "\n",
       "    .dataframe tbody tr th {\n",
       "        vertical-align: top;\n",
       "    }\n",
       "\n",
       "    .dataframe thead th {\n",
       "        text-align: right;\n",
       "    }\n",
       "</style>\n",
       "<table border=\"1\" class=\"dataframe\">\n",
       "  <thead>\n",
       "    <tr style=\"text-align: right;\">\n",
       "      <th></th>\n",
       "      <th>PRECIO KG</th>\n",
       "    </tr>\n",
       "  </thead>\n",
       "  <tbody>\n",
       "    <tr>\n",
       "      <th>0</th>\n",
       "      <td>5,35</td>\n",
       "    </tr>\n",
       "    <tr>\n",
       "      <th>1</th>\n",
       "      <td>7,00</td>\n",
       "    </tr>\n",
       "    <tr>\n",
       "      <th>2</th>\n",
       "      <td>2,95</td>\n",
       "    </tr>\n",
       "    <tr>\n",
       "      <th>3</th>\n",
       "      <td>1,65</td>\n",
       "    </tr>\n",
       "    <tr>\n",
       "      <th>4</th>\n",
       "      <td></td>\n",
       "    </tr>\n",
       "  </tbody>\n",
       "</table>\n",
       "</div>"
      ],
      "text/plain": [
       "  PRECIO KG\n",
       "0      5,35\n",
       "1      7,00\n",
       "2      2,95\n",
       "3      1,65\n",
       "4          "
      ]
     },
     "execution_count": 472,
     "metadata": {},
     "output_type": "execute_result"
    }
   ],
   "source": [
    "price_col = this_data[price]\n",
    "price_data = pd.DataFrame(price_col,columns=[price])\n",
    "price_data"
   ]
  },
  {
   "cell_type": "code",
   "execution_count": 473,
   "id": "fa9ea8d2",
   "metadata": {},
   "outputs": [
    {
     "name": "stdout",
     "output_type": "stream",
     "text": [
      "DESCRIPCIÓN\n",
      "Im condition 4\n",
      "DTO.\n",
      "Im condition 1\n"
     ]
    }
   ],
   "source": [
    "str1 = \"DTO\"\n",
    "str2 = \"Descuento\"\n",
    "str3 = \"DCTO\"\n",
    "str4 = \"Desc\"\n",
    "for i in this_data.columns:\n",
    "    ratio1 = fuzz.partial_ratio(str1.lower(),str(i).lower())\n",
    "    ratio2 = fuzz.partial_ratio(str2.lower(),str(i).lower())\n",
    "    ratio3 = fuzz.partial_ratio(str3.lower(),str(i).lower())\n",
    "    ratio4 = fuzz.partial_ratio(str4.lower(),str(i).lower())\n",
    "    if ratio1>=75:\n",
    "        print(i)\n",
    "        disc = i\n",
    "        print(\"Im condition 1\")\n",
    "    \n",
    "    elif ratio2>=75:\n",
    "        print(i)\n",
    "        disc = i\n",
    "        print(\"Im condition 2\")\n",
    "    \n",
    "    elif ratio3>=75:\n",
    "        print(i)\n",
    "        disc = i\n",
    "        print(\"Im condition 3\")\n",
    "    \n",
    "    elif ratio4>=75:\n",
    "        print(i)\n",
    "        disc = i\n",
    "        print(\"Im condition 4\")\n",
    "    "
   ]
  },
  {
   "cell_type": "code",
   "execution_count": 474,
   "id": "19a1f0f0",
   "metadata": {},
   "outputs": [
    {
     "name": "stdout",
     "output_type": "stream",
     "text": [
      "Im condition 6\n",
      "PESO\n"
     ]
    }
   ],
   "source": [
    "str1 = \"Cantidad\"\n",
    "str2 = \"Cant\"\n",
    "str3 = \"Unid\"\n",
    "str4 = \"Unidades\"\n",
    "str5 = \"Uds\"\n",
    "str6 = \"Peso\"\n",
    "for i in this_data.columns:\n",
    "    ratio1 = fuzz.partial_ratio(str1.lower(),str(i).lower())\n",
    "    if ratio1>=75:\n",
    "        print(i)\n",
    "        cat = i\n",
    "        print(\"Im condition 1\")\n",
    "    ratio2 = fuzz.partial_ratio(str2.lower(),str(i).lower())\n",
    "    if ratio2>=75:\n",
    "        print(i)\n",
    "        cat =i\n",
    "        print(\"Im condition 2\")\n",
    "    ratio3 = fuzz.partial_ratio(str3.lower(),str(i).lower())\n",
    "    if ratio3>=75:\n",
    "        print(\"Im condition 3\")\n",
    "        print(i)\n",
    "        cat =i\n",
    "    ratio4 = fuzz.partial_ratio(str4.lower(),str(i).lower())\n",
    "    if ratio4>=75:\n",
    "        print(\"Im condition 4\")\n",
    "        print(i)\n",
    "        cat =i\n",
    "    ratio5 = fuzz.partial_ratio(str5.lower(),str(i).lower())\n",
    "    if ratio5>=75:\n",
    "        print(\"Im condition 5\")\n",
    "        print(i)\n",
    "        cat =i\n",
    "    ratio6 = fuzz.partial_ratio(str6.lower(),str(i).lower())\n",
    "    if ratio6>=75:\n",
    "        print(\"Im condition 6\")\n",
    "        print(i)\n",
    "        cat =i"
   ]
  },
  {
   "cell_type": "code",
   "execution_count": 475,
   "id": "42837d10",
   "metadata": {},
   "outputs": [
    {
     "data": {
      "text/html": [
       "<div>\n",
       "<style scoped>\n",
       "    .dataframe tbody tr th:only-of-type {\n",
       "        vertical-align: middle;\n",
       "    }\n",
       "\n",
       "    .dataframe tbody tr th {\n",
       "        vertical-align: top;\n",
       "    }\n",
       "\n",
       "    .dataframe thead th {\n",
       "        text-align: right;\n",
       "    }\n",
       "</style>\n",
       "<table border=\"1\" class=\"dataframe\">\n",
       "  <thead>\n",
       "    <tr style=\"text-align: right;\">\n",
       "      <th></th>\n",
       "      <th>PESO</th>\n",
       "    </tr>\n",
       "  </thead>\n",
       "  <tbody>\n",
       "    <tr>\n",
       "      <th>0</th>\n",
       "      <td>10,000</td>\n",
       "    </tr>\n",
       "    <tr>\n",
       "      <th>1</th>\n",
       "      <td>10,000</td>\n",
       "    </tr>\n",
       "    <tr>\n",
       "      <th>2</th>\n",
       "      <td>24,250</td>\n",
       "    </tr>\n",
       "    <tr>\n",
       "      <th>3</th>\n",
       "      <td>10,000</td>\n",
       "    </tr>\n",
       "    <tr>\n",
       "      <th>4</th>\n",
       "      <td></td>\n",
       "    </tr>\n",
       "  </tbody>\n",
       "</table>\n",
       "</div>"
      ],
      "text/plain": [
       "     PESO\n",
       "0  10,000\n",
       "1  10,000\n",
       "2  24,250\n",
       "3  10,000\n",
       "4        "
      ]
     },
     "execution_count": 475,
     "metadata": {},
     "output_type": "execute_result"
    }
   ],
   "source": [
    "Cantidad = this_data[cat]\n",
    "Cantidad_data = pd.DataFrame(Cantidad,columns=[cat])\n",
    "Cantidad_data"
   ]
  },
  {
   "cell_type": "code",
   "execution_count": 476,
   "id": "252fc864",
   "metadata": {},
   "outputs": [
    {
     "data": {
      "text/html": [
       "<div>\n",
       "<style scoped>\n",
       "    .dataframe tbody tr th:only-of-type {\n",
       "        vertical-align: middle;\n",
       "    }\n",
       "\n",
       "    .dataframe tbody tr th {\n",
       "        vertical-align: top;\n",
       "    }\n",
       "\n",
       "    .dataframe thead th {\n",
       "        text-align: right;\n",
       "    }\n",
       "</style>\n",
       "<table border=\"1\" class=\"dataframe\">\n",
       "  <thead>\n",
       "    <tr style=\"text-align: right;\">\n",
       "      <th></th>\n",
       "      <th>DTO.</th>\n",
       "    </tr>\n",
       "  </thead>\n",
       "  <tbody>\n",
       "    <tr>\n",
       "      <th>0</th>\n",
       "      <td></td>\n",
       "    </tr>\n",
       "    <tr>\n",
       "      <th>1</th>\n",
       "      <td></td>\n",
       "    </tr>\n",
       "    <tr>\n",
       "      <th>2</th>\n",
       "      <td></td>\n",
       "    </tr>\n",
       "    <tr>\n",
       "      <th>3</th>\n",
       "      <td></td>\n",
       "    </tr>\n",
       "    <tr>\n",
       "      <th>4</th>\n",
       "      <td></td>\n",
       "    </tr>\n",
       "  </tbody>\n",
       "</table>\n",
       "</div>"
      ],
      "text/plain": [
       "  DTO.\n",
       "0     \n",
       "1     \n",
       "2     \n",
       "3     \n",
       "4     "
      ]
     },
     "execution_count": 476,
     "metadata": {},
     "output_type": "execute_result"
    }
   ],
   "source": [
    "discount = this_data[disc]\n",
    "discount_data = pd.DataFrame(discount,columns=[disc])\n",
    "discount_data"
   ]
  },
  {
   "cell_type": "code",
   "execution_count": 477,
   "id": "2db1ba5f",
   "metadata": {},
   "outputs": [],
   "source": [
    "#df = pd.DataFrame([dataf,price_data], columns=['Description','Price'])\n",
    "df2 = pd.concat([dataf,price_data,Cantidad_data,discount_data],axis=1, join='inner')\n"
   ]
  },
  {
   "cell_type": "markdown",
   "id": "0e674743",
   "metadata": {},
   "source": [
    "DCTO"
   ]
  },
  {
   "cell_type": "code",
   "execution_count": 478,
   "id": "4e6b4952",
   "metadata": {},
   "outputs": [
    {
     "data": {
      "text/html": [
       "<div>\n",
       "<style scoped>\n",
       "    .dataframe tbody tr th:only-of-type {\n",
       "        vertical-align: middle;\n",
       "    }\n",
       "\n",
       "    .dataframe tbody tr th {\n",
       "        vertical-align: top;\n",
       "    }\n",
       "\n",
       "    .dataframe thead th {\n",
       "        text-align: right;\n",
       "    }\n",
       "</style>\n",
       "<table border=\"1\" class=\"dataframe\">\n",
       "  <thead>\n",
       "    <tr style=\"text-align: right;\">\n",
       "      <th></th>\n",
       "      <th>DESCRIPCIÓN</th>\n",
       "      <th>PRECIO KG</th>\n",
       "      <th>PESO</th>\n",
       "      <th>DTO.</th>\n",
       "    </tr>\n",
       "  </thead>\n",
       "  <tbody>\n",
       "    <tr>\n",
       "      <th>0</th>\n",
       "      <td>SOLOMILLO DE CERDO SECO</td>\n",
       "      <td>5,35</td>\n",
       "      <td>10,000</td>\n",
       "      <td></td>\n",
       "    </tr>\n",
       "    <tr>\n",
       "      <th>1</th>\n",
       "      <td>CHOCOS LIMPIOS 2/4 (</td>\n",
       "      <td>7,00</td>\n",
       "      <td>10,000</td>\n",
       "      <td></td>\n",
       "    </tr>\n",
       "    <tr>\n",
       "      <th>2</th>\n",
       "      <td>CODILLO DE CERDO C/H</td>\n",
       "      <td>2,95</td>\n",
       "      <td>24,250</td>\n",
       "      <td></td>\n",
       "    </tr>\n",
       "    <tr>\n",
       "      <th>3</th>\n",
       "      <td>MUSLO DE POLLO C/H C/C GRANEL</td>\n",
       "      <td>1,65</td>\n",
       "      <td>10,000</td>\n",
       "      <td></td>\n",
       "    </tr>\n",
       "    <tr>\n",
       "      <th>4</th>\n",
       "      <td>that</td>\n",
       "      <td></td>\n",
       "      <td></td>\n",
       "      <td></td>\n",
       "    </tr>\n",
       "  </tbody>\n",
       "</table>\n",
       "</div>"
      ],
      "text/plain": [
       "                     DESCRIPCIÓN PRECIO KG    PESO DTO.\n",
       "0        SOLOMILLO DE CERDO SECO      5,35  10,000     \n",
       "1           CHOCOS LIMPIOS 2/4 (      7,00  10,000     \n",
       "2           CODILLO DE CERDO C/H      2,95  24,250     \n",
       "3  MUSLO DE POLLO C/H C/C GRANEL      1,65  10,000     \n",
       "4                           that                       "
      ]
     },
     "execution_count": 478,
     "metadata": {},
     "output_type": "execute_result"
    }
   ],
   "source": [
    "df2"
   ]
  },
  {
   "cell_type": "code",
   "execution_count": null,
   "id": "3981716e",
   "metadata": {},
   "outputs": [],
   "source": []
  }
 ],
 "metadata": {
  "kernelspec": {
   "display_name": "Python 3 (ipykernel)",
   "language": "python",
   "name": "python3"
  },
  "language_info": {
   "codemirror_mode": {
    "name": "ipython",
    "version": 3
   },
   "file_extension": ".py",
   "mimetype": "text/x-python",
   "name": "python",
   "nbconvert_exporter": "python",
   "pygments_lexer": "ipython3",
   "version": "3.7.11"
  }
 },
 "nbformat": 4,
 "nbformat_minor": 5
}
