{
 "cells": [
  {
   "cell_type": "code",
   "execution_count": 28,
   "id": "01721d19",
   "metadata": {},
   "outputs": [],
   "source": [
    "import pytesseract\n",
    "import cv2\n",
    "from PIL import Image \n",
    "import re\n",
    "import pandas as pd\n",
    "from PIL import Image\n",
    "import fitz\n",
    "import os"
   ]
  },
  {
   "cell_type": "markdown",
   "id": "a7f854b0",
   "metadata": {},
   "source": [
    "# Code to Convert PDF to PNG"
   ]
  },
  {
   "cell_type": "code",
   "execution_count": 26,
   "id": "ca8ef1f9",
   "metadata": {},
   "outputs": [],
   "source": [
    "def convert_pdf2img(input_file: str,pages=None):\n",
    "    \"\"\"Converts pdf to image and generates a file by page\"\"\"\n",
    "    # Open the document\n",
    "    pdfIn = fitz.open(input_file)\n",
    "    output_files = []\n",
    "    # Iterate throughout the pages\n",
    "    for pg in range(pdfIn.pageCount):\n",
    "        if str(pages) != str(None):\n",
    "            if str(pg) not in str(pages):\n",
    "                continue\n",
    "        # Select a page\n",
    "        page = pdfIn[pg]\n",
    "        rotate = int(0)\n",
    "        # PDF Page is converted into a whole picture 1056*816 and then for each picture a screenshot is taken.\n",
    "        # zoom = 1.33333333 -----> Image size = 1056*816\n",
    "        # zoom = 2 ---> 2 * Default Resolution (text is clear, image text is hard to read)    = filesize small / Image size = 1584*1224\n",
    "        # zoom = 4 ---> 4 * Default Resolution (text is clear, image text is barely readable) = filesize large\n",
    "        # zoom = 8 ---> 8 * Default Resolution (text is clear, image text is readable) = filesize large\n",
    "        zoom_x = 2\n",
    "        zoom_y = 2\n",
    "        # The zoom factor is equal to 2 in order to make text clear\n",
    "        # Pre-rotate is to rotate if needed.\n",
    "        mat = fitz.Matrix(zoom_x, zoom_y).preRotate(rotate)\n",
    "        pix = page.getPixmap(matrix=mat, alpha=False)\n",
    "        path = 'Makro Invoices/Makro Invoices/New/'\n",
    "        output_file = f\"{path+os.path.splitext(os.path.basename(input_file))[0]}_page{pg+1}.png\"\n",
    "        pix.writePNG(output_file)\n",
    "        output_files.append(output_file)\n",
    "    pdfIn.close()\n",
    "    summary = {\n",
    "        \"File\": input_file, \"Pages\": str(pages), \"Output File(s)\": str(output_files)\n",
    "    }\n",
    "    # Printing Summary\n",
    "    print(\"## Summary ########################################################\")\n",
    "    print(\"\\n\".join(\"{}:{}\".format(i, j) for i, j in summary.items()))\n",
    "    print(\"###################################################################\")\n",
    "    return output_files"
   ]
  },
  {
   "cell_type": "code",
   "execution_count": 29,
   "id": "d65968b6",
   "metadata": {},
   "outputs": [
    {
     "name": "stderr",
     "output_type": "stream",
     "text": [
      "Deprecation: 'preRotate' removed from class 'Matrix' after v1.19 - use 'prerotate'.\n",
      "Deprecation: 'getPixmap' removed from class 'Page' after v1.19 - use 'get_pixmap'.\n",
      "Deprecation: 'writePNG' removed from class 'Pixmap' after v1.19 - use 'save'.\n"
     ]
    },
    {
     "name": "stdout",
     "output_type": "stream",
     "text": [
      "## Summary ########################################################\n",
      "File:Makro Invoices/Makro Invoices/Convert/PEDIDO MENEGHELLO 4000107017--COCINA MINAMI.pdf\n",
      "Pages:None\n",
      "Output File(s):['Makro Invoices/Makro Invoices/New/PEDIDO MENEGHELLO 4000107017--COCINA MINAMI_page1.png']\n",
      "###################################################################\n"
     ]
    },
    {
     "data": {
      "text/plain": [
       "['Makro Invoices/Makro Invoices/New/PEDIDO MENEGHELLO 4000107017--COCINA MINAMI_page1.png']"
      ]
     },
     "execution_count": 29,
     "metadata": {},
     "output_type": "execute_result"
    }
   ],
   "source": [
    "convert_pdf2img('Makro Invoices/Makro Invoices/Convert/PEDIDO MENEGHELLO 4000107017--COCINA MINAMI.pdf')"
   ]
  },
  {
   "cell_type": "code",
   "execution_count": 2,
   "id": "3577cb91",
   "metadata": {},
   "outputs": [],
   "source": [
    "pytesseract.pytesseract.tesseract_cmd = r\"C:\\Program Files\\Tesseract-OCR\\tesseract.exe\""
   ]
  },
  {
   "cell_type": "code",
   "execution_count": 3,
   "id": "84b38766",
   "metadata": {},
   "outputs": [],
   "source": [
    "formats = pd.read_excel('invoice_formats.xlsx')\n",
    "final = pd.read_excel('Extracted_Data.xlsx')"
   ]
  },
  {
   "cell_type": "code",
   "execution_count": 21,
   "id": "90832141",
   "metadata": {},
   "outputs": [],
   "source": [
    "Ima = \"Makro Invoices/Makro Invoices/New/PEDIDO MENEGHELLO 4000107454--COCINA BEACH_page1.png\""
   ]
  },
  {
   "cell_type": "code",
   "execution_count": 24,
   "id": "4a19f044",
   "metadata": {},
   "outputs": [
    {
     "name": "stdout",
     "output_type": "stream",
     "text": [
      "<class 'list'>\n",
      "Case Total\n",
      "['Bruto:', '24,25', 'Reducc:', '0,00', 'Portes/Fletes:', '0,00', 'Cargos:', '0,00', 'Importe:', '24,25']\n",
      "24,25\n",
      "Wall time: 5.86 s\n"
     ]
    }
   ],
   "source": [
    "%%time\n",
    "dat = {\n",
    "    \"Vat Number\":'',\n",
    "       \"Total\":0,\n",
    "       \"Date\":'',\n",
    "      \"Invoice_Number\":''}\n",
    "img  = cv2.imread(Ima, cv2.COLOR_RGB2GRAY)\n",
    "text=(pytesseract.image_to_string(img))\n",
    "text_list = text.split(\"\\n\")\n",
    "vat = []\n",
    "date = []\n",
    "print(type(text_list))\n",
    "for idx, a in enumerate(text_list):\n",
    "    if(a.strip() != \"\"):\n",
    "\n",
    "\n",
    "        if (re.search(\"[A-Z]{1}-[0-9]{8}\",a)):\n",
    "            b = re.findall(\"[A-Z]{1}-[0-9]{8}\",a)\n",
    "            dat[\"Vat Number\"] = b[0]\n",
    "            vat.append(b)\n",
    "            print(b)\n",
    "        elif (re.search(\"[0-9]{8}-[A-Z]{1}\",a)):\n",
    "            b = re.findall(\"[0-9]{8}-[A-Z]{1}\",a)\n",
    "            dat[\"Vat Number\"] = b[0]\n",
    "            vat.append(b)\n",
    "        elif (re.search(\"[0-9]{8}[A-Z]{1}\",a)):\n",
    "            b = re.findall(\"[0-9]{8}[A-Z]{1}\",a)\n",
    "            dat[\"Vat Number\"] = b\n",
    "            vat.append(b)\n",
    "    \n",
    "        elif (re.search(\"[A-Z]{1}-[0-9]{8}\",a)):\n",
    "            b = re.findall(\"[A-Z]{1}-[0-9]{8}\",a)\n",
    "            dat[\"Vat Number\"] = b[0]\n",
    "            vat.append(b)\n",
    "\n",
    "        elif (re.search(\"[A-Z]{1}[0-9]{8}\",a)):\n",
    "            b = re.findall(\"[A-Z]{1}[0-9]{8}\",a)\n",
    "            dat[\"Vat Number\"] = b[0]\n",
    "            vat.append(b)\n",
    "            \n",
    "        elif (re.search(\"[A-Z]{1}[0-9]{2}/[0-9]{6}\",a)):\n",
    "            b = re.findall(\"[A-Z]{1}[0-9]{2}/[0-9]{6}\",a)\n",
    "            dat[\"Vat Number\"] = b[0]\n",
    "            vat.append(b)\n",
    "            \n",
    "        elif (re.search(\"[A-Z]{1}-[0-9]{2}.[0-9]{3}.[0-9]{3}\",a)):\n",
    "            b = re.findall(\"[A-Z]{1}-[0-9]{2}.[0-9]{3}.[0-9]{3}\",a)\n",
    "            dat[\"Vat Number\"] = b[0]\n",
    "        elif (re.search(\"[A-Z]{1}-[0-9]{2}/[0-9]{6}\",a)):\n",
    "            b = re.findall(\"[A-Z]{1}-[0-9]{2}/[0-9]{6}\",a)\n",
    "            dat[\"Vat Number\"] = b[0]\n",
    "\n",
    "        if len(vat)>1:\n",
    "            dat[\"Vat Number\"] = vat[0]\n",
    "        else:\n",
    "            pass\n",
    "         #Date section           \n",
    "        if (re.search(\"\\d{2}/\\d{2}/\\d{4}\",a)):\n",
    "            b  = re.findall(\"\\d{2}/\\d{2}/\\d{4}\", a)\n",
    "            dat[\"Date\"] = b[0]\n",
    "            date.append(b[0])\n",
    "        elif (re.search(\"\\d{2}-\\d{2}-\\d{4}\",a)):\n",
    "            b = re.findall(\"\\d{2}-\\d{2}-\\d{4}\",a)\n",
    "            dat[\"Date\"] = b[0]\n",
    "            date.append(b[0])\n",
    "        elif (re.search(\"\\d{2}/\\d{2}/\\d{2}\",a)):\n",
    "            b = re.findall(\"\\d{2}/\\d{2}/\\d{2}\",a)\n",
    "            dat[\"Date\"] = b[0]\n",
    "            date.append(b[0])\n",
    "        elif (re.search(\"\\d{1}/\\d{2}/\\d{2}\",a)):\n",
    "            b = re.findall(\"\\d{1}/\\d{2}/\\d{2}\",a)\n",
    "            dat[\"Date\"] = b[0]\n",
    "            date.append(b[0])\n",
    "        \n",
    "        elif (re.search(\"[0-9]{2}\\.[0-9]{2}\\.[0-9]{4}\",a)):\n",
    "            b = re.findall(\"[0-9]{2}\\.[0-9]{2}\\.[0-9]{4}\",a)\n",
    "            dat[\"Date\"] = b[0]\n",
    "            date.append(b[0])\n",
    "    \n",
    "        if len(date)>1:\n",
    "            dat[\"Date\"] = date[0]\n",
    "\n",
    "        #invoice number section\n",
    "        if (\"Factura\" in a or \"ALBARAN\" in a or \"Factura: \" in a):\n",
    "\n",
    "            print(a)\n",
    "            b = a.split(\" \")\n",
    "            if b[0] == \"ALBARAN\":\n",
    "                dat[\"Invoice_Number\"] = b[1]\n",
    "            print(b)\n",
    "            if len(b)>3:\n",
    "                print(b)\n",
    "                if len(b)>4 and b[2] !='—' and len(b[1])!=25 and len(b[1])>5:\n",
    "                    dat[\"Invoice_Number\"] = b[1]+b[2]\n",
    "                    print(b)\n",
    "                elif len(b)>=5 and len(b[1])==25:\n",
    "                    dat[\"Invoice_Number\"] = b[1]\n",
    "                elif len(b)>6 and len(b[3])>15:\n",
    "                    dat[\"Invoice_Number\"] = b[1]+ b[2]+ b[3]\n",
    "                elif len(b)>6 and b[1]== \"0/0\":\n",
    "                    dat[\"Invoice_Number\"] = b[1] + b[2]\n",
    "                    \n",
    "        if (\"Tarjeta\" in a or \"Credito\" in a or  \"pagina\" in a or \"Total:\" in a  or \"TOTAL\" in a or  \"Total factura\" in a or  \"Total Factura\" in a or \"TOTAL FACTURA\" in a or \"Total CON IGIC\" in a  or \"IMPORTE FACTURA EU\" in a or \"IMPORTE FACTURA\" in a or \"EUROS\" in a or \"Importe:\" in a):\n",
    "            print(\"Case Total\")\n",
    "            b = a.split(\" \")\n",
    "            print(b)\n",
    "            if len(b[-1])==2:\n",
    "                \n",
    "                dat[\"Total\"] = b[-2]+b[-1]\n",
    "                print(b[-2]+b[-1])\n",
    "                \n",
    "            if b[-1]=='€':\n",
    "                dat[\"Total\"] = b[-2]\n",
    "            if b[-1] == \"|\":\n",
    "                dat[\"Total\"] = b[-2]\n",
    "            if b[-1] == \"EUR\":\n",
    "                dat[\"Total\"] = b[-2]\n",
    "            else:\n",
    "                dat[\"Total\"] = b[-1]\n",
    "                print(b[-1])\n",
    "                \n",
    "if dat[\"Total\"] == 0 or len(dat['Total'])==1 or dat[\"Total\"]==\"SUB TOTAL\"  or dat[\"Total\"] == 'factura' or dat[\"Total\"]==\"FACTURA\" or dat[\"Total\"]== \"EUROS\" or dat[\"Total\"] == \"©\" or dat[\"Total\"]==\"TOTAL\":\n",
    "        tot = []\n",
    "        im = Image.open(Ima) \n",
    "        # Size of the image in pixels (size of orginal image) \n",
    "        # (This is not mandatory) \n",
    "        width, height = im.size \n",
    "        print(im.size)\n",
    "        # Setting the points for cropped image \n",
    "        left = 605\n",
    "        top = 600\n",
    "        right = 1675\n",
    "        bottom = 1590\n",
    "        # Cropped image of above dimension \n",
    "        # (It will not change orginal image) \n",
    "        im1 = im.crop((left, top, right, bottom)) \n",
    "         # Shows the image in image viewer \n",
    "        im1.save(\"Makro Invoices/Makro Invoices/New/pp2.jpg\")\n",
    "        img  = cv2.imread('Makro Invoices/Makro Invoices/New/pp2.jpg', cv2.COLOR_RGB2GRAY)\n",
    "        tex=(pytesseract.image_to_string(img,config='outputbase digits'))\n",
    "        text_list = tex.split(\"\\n\")\n",
    "        text_list = text_list\n",
    "        print(text_list)\n",
    "        for i in text_list:\n",
    "            if len(i)>=4 and len(i)<=8:\n",
    "                print(i)\n",
    "                tot.append(i)\n",
    "                dat[\"Total\"] = max(tot)\n",
    "            \n",
    "            \n",
    "        "
   ]
  },
  {
   "cell_type": "code",
   "execution_count": 25,
   "id": "0a61c863",
   "metadata": {},
   "outputs": [
    {
     "data": {
      "text/plain": [
       "{'Vat Number': ['B45010808'],\n",
       " 'Total': '24,25',\n",
       " 'Date': '30.06.2022',\n",
       " 'Invoice_Number': ''}"
      ]
     },
     "execution_count": 25,
     "metadata": {},
     "output_type": "execute_result"
    }
   ],
   "source": [
    "dat"
   ]
  },
  {
   "cell_type": "code",
   "execution_count": 12,
   "id": "60e675e5",
   "metadata": {},
   "outputs": [
    {
     "name": "stdout",
     "output_type": "stream",
     "text": [
      "  Vat Number   Total        Date Invoice_Number\n",
      "0  B45010808  185,09  1000005010               \n"
     ]
    }
   ],
   "source": [
    "data  =  pd.DataFrame(dat,index=[0])\n",
    "data['Vat Number']= data['Vat Number'].str.replace(' ', '')\n",
    "print(data)"
   ]
  },
  {
   "cell_type": "code",
   "execution_count": 13,
   "id": "3211f2af",
   "metadata": {},
   "outputs": [
    {
     "name": "stderr",
     "output_type": "stream",
     "text": [
      "F:\\anaconda3\\envs\\python_3_7\\lib\\site-packages\\ipykernel_launcher.py:3: FutureWarning: The default value of regex will change from True to False in a future version. In addition, single character regular expressions will *not* be treated as literal strings when regex=True.\n",
      "  This is separate from the ipykernel package so we can avoid doing imports until\n"
     ]
    },
    {
     "data": {
      "text/html": [
       "<div>\n",
       "<style scoped>\n",
       "    .dataframe tbody tr th:only-of-type {\n",
       "        vertical-align: middle;\n",
       "    }\n",
       "\n",
       "    .dataframe tbody tr th {\n",
       "        vertical-align: top;\n",
       "    }\n",
       "\n",
       "    .dataframe thead th {\n",
       "        text-align: right;\n",
       "    }\n",
       "</style>\n",
       "<table border=\"1\" class=\"dataframe\">\n",
       "  <thead>\n",
       "    <tr style=\"text-align: right;\">\n",
       "      <th></th>\n",
       "      <th>Vat Number</th>\n",
       "      <th>Total</th>\n",
       "      <th>Date</th>\n",
       "      <th>Invoice_Number</th>\n",
       "    </tr>\n",
       "  </thead>\n",
       "  <tbody>\n",
       "    <tr>\n",
       "      <th>0</th>\n",
       "      <td>B45010808</td>\n",
       "      <td>185,09</td>\n",
       "      <td>1000005010</td>\n",
       "      <td></td>\n",
       "    </tr>\n",
       "  </tbody>\n",
       "</table>\n",
       "</div>"
      ],
      "text/plain": [
       "  Vat Number   Total        Date Invoice_Number\n",
       "0  B45010808  185,09  1000005010               "
      ]
     },
     "execution_count": 13,
     "metadata": {},
     "output_type": "execute_result"
    }
   ],
   "source": [
    "data['Vat Number']= data['Vat Number'].str.replace('-', '')\n",
    "data['Vat Number']= data['Vat Number'].str.replace(',', '')\n",
    "data['Vat Number']= data['Vat Number'].str.replace('.', '')\n",
    "data"
   ]
  },
  {
   "cell_type": "code",
   "execution_count": 14,
   "id": "0f047807",
   "metadata": {},
   "outputs": [],
   "source": [
    "formats['last']= (formats['nif'].isin(data['Vat Number']))"
   ]
  },
  {
   "cell_type": "code",
   "execution_count": 15,
   "id": "c2b82863",
   "metadata": {},
   "outputs": [],
   "source": [
    "df2 = formats.query(\"last == True\")"
   ]
  },
  {
   "cell_type": "code",
   "execution_count": 16,
   "id": "1c12a9fa",
   "metadata": {},
   "outputs": [
    {
     "data": {
      "text/html": [
       "<div>\n",
       "<style scoped>\n",
       "    .dataframe tbody tr th:only-of-type {\n",
       "        vertical-align: middle;\n",
       "    }\n",
       "\n",
       "    .dataframe tbody tr th {\n",
       "        vertical-align: top;\n",
       "    }\n",
       "\n",
       "    .dataframe thead th {\n",
       "        text-align: right;\n",
       "    }\n",
       "</style>\n",
       "<table border=\"1\" class=\"dataframe\">\n",
       "  <thead>\n",
       "    <tr style=\"text-align: right;\">\n",
       "      <th></th>\n",
       "      <th>formato</th>\n",
       "      <th>nombre</th>\n",
       "      <th>nif</th>\n",
       "      <th>last</th>\n",
       "    </tr>\n",
       "  </thead>\n",
       "  <tbody>\n",
       "    <tr>\n",
       "      <th>9341</th>\n",
       "      <td>\\d\\d\\d/\\d\\d\\d\\d\\d\\d</td>\n",
       "      <td>FIESTA HOTELES RESORT SL</td>\n",
       "      <td>B45010808</td>\n",
       "      <td>True</td>\n",
       "    </tr>\n",
       "    <tr>\n",
       "      <th>9342</th>\n",
       "      <td>[A-Z]-[A-Z][A-Z][A-Z]-\\d\\d\\d-\\d\\d-[A-Z]-\\d\\d\\d...</td>\n",
       "      <td>FIESTA HOTELES RESORT SL</td>\n",
       "      <td>B45010808</td>\n",
       "      <td>True</td>\n",
       "    </tr>\n",
       "  </tbody>\n",
       "</table>\n",
       "</div>"
      ],
      "text/plain": [
       "                                                formato  \\\n",
       "9341                                \\d\\d\\d/\\d\\d\\d\\d\\d\\d   \n",
       "9342  [A-Z]-[A-Z][A-Z][A-Z]-\\d\\d\\d-\\d\\d-[A-Z]-\\d\\d\\d...   \n",
       "\n",
       "                        nombre        nif  last  \n",
       "9341  FIESTA HOTELES RESORT SL  B45010808  True  \n",
       "9342  FIESTA HOTELES RESORT SL  B45010808  True  "
      ]
     },
     "execution_count": 16,
     "metadata": {},
     "output_type": "execute_result"
    }
   ],
   "source": [
    "df2"
   ]
  },
  {
   "cell_type": "code",
   "execution_count": 28,
   "id": "a25f17fd",
   "metadata": {},
   "outputs": [],
   "source": [
    "inv = 0\n",
    "for i in df2['formato']:\n",
    "    inv = i\n",
    "pat = 'F1-1-01353'\n",
    "factura = re.compile('[0-9]{10}')\n",
    "mo = factura.search(text)\n",
    "dat[\"Invoice_Number\"]=mo.group()"
   ]
  },
  {
   "cell_type": "code",
   "execution_count": 33,
   "id": "849fd0f7",
   "metadata": {},
   "outputs": [
    {
     "data": {
      "text/plain": [
       "{'Vat Number': ['B45010808'],\n",
       " 'Total': '185,09',\n",
       " 'Date': '30.06.2022',\n",
       " 'Invoice_Number': '1000005010'}"
      ]
     },
     "execution_count": 33,
     "metadata": {},
     "output_type": "execute_result"
    }
   ],
   "source": [
    "\n",
    "dat[\"Date\"]='30.06.2022'\n",
    "dat"
   ]
  },
  {
   "cell_type": "code",
   "execution_count": 32,
   "id": "2361ad8d",
   "metadata": {},
   "outputs": [
    {
     "data": {
      "text/plain": [
       "\"PALLADIUM\\n\\nHOTEL GROUP\\n\\nFiesta Hotels & Resorts, S.L\\nAvda. Bartolomé Rosellé 18\\n07800 Ibiza\\n\\nESPANA\\n\\nTelf. 971313811 Fax.\\nB45010808\\n\\nDireccion de envio\\nHotel Ushuaia Ibiza\\nPlaya d'en Bossa\\n\\nDireccion de pedido\\n1000005010 - HERMANOS MENEGHELLO, S.L.\\nCTRA SAN ANTONIO KM 1.200\\n\\n07817 Sant Jordi de Ses Salines 07800 IBIZA\\nEspafia ESPANA\\nTelf. Fax. Telf. Fax.\\nPasteleria Email:\\nLN.ILF. B57170300\\nN° documento: 4000107007 Moneda: EUR\\n\\nFecha documento: 30.06.2022\\nProveedor:\\n\\nHERMANOS MENEGHELLO, S.L.\\n\\nCondiciones de pago: dentro de los 60 dias\\nIncoterms:\\n\\nMaterial Descripcién\\n\\nMaterial\\n\\nCantidad Precio/UM Reducc Imp. Neto Fecha\\n\\nPAN ORO 8X8 25UD\\nRef 21000010. Sosa COD 36283\\n\\n1068328\\n\\nEMULSIONANTE SOJA WHIP\\nSOSA 300GR\\n\\nRef 00200524. Sosa 39028\\n\\n1098053\\n\\nEMULSIONANTE POTATO WHIP.\\nSOSA 400GR\\n\\nRef 00200531. Sosa 38967\\n\\n1098054\\n\\nMELOCOTON CONFITADO A\\nDADOS 1,5KG\\nRef 44200147. Sosa\\n\\n1098064\\n\\nCOLORANTE BLANCO LACA\\nPOLVO 60GR\\nRef 59300017. Sosa 39444\\n\\n1085030\\n\\n1,00 77,00/1UN 0,00 77,00\\n\\n30.06.2022\\n\\n1,00 30,16/1UN 0,00 30,16\\n\\n30.06.2022\\n\\n1,00 35,23/1UN 0,00 35,23\\n\\n30.06.2022\\n\\n1,00 20,80/1UN 0,00 20,80\\n\\n30.06.2022\\n\\n5,00  4,38/1UN 0,00 21,90\\n\\n01.07.2022\\n\\nBruto: 185,09 Reducc: 0,00\\n\\nPortes/Fletes: 0,00\\n\\nCargos: 0,00 Importe: 185,09\\n\\nObservaciones\\n\\nHorario de recepcién de mercancia:\\n\\nNO SE RECIBIRA MERCANCIA FUERA DE ESTE HORARIO; DEBERA TRAER ORDEN DE COMPRA Y FACTURA.\\nA través del siguiente enlace web accedera a las condiciones generales que resultan de aplicacién a la contratacién para el suministro de bienes y la prestacion de servicios a favor de Palladium Hotel\\nGroup. Por favor revise su contenido detenidamente, con cardcter previo a la remisién de cualquier presupuesto, oferta y/o propuestal\\n\\nhtps:/www.palladiumhotelgroup. com/content/dam/palladium/documents/Condiciones_Generales_de_Contratacion_Bienes_y_Servicios_PHG.pdf\\n\\nPagina 1 de 1\\n\\n\""
      ]
     },
     "execution_count": 32,
     "metadata": {},
     "output_type": "execute_result"
    }
   ],
   "source": [
    "text"
   ]
  },
  {
   "cell_type": "code",
   "execution_count": 20,
   "id": "e0390424",
   "metadata": {},
   "outputs": [],
   "source": [
    "import boto3\n",
    "import io"
   ]
  },
  {
   "cell_type": "code",
   "execution_count": 21,
   "id": "e39739c0",
   "metadata": {},
   "outputs": [],
   "source": [
    "im = Image.open(Ima)"
   ]
  },
  {
   "cell_type": "code",
   "execution_count": 22,
   "id": "01dedef9",
   "metadata": {},
   "outputs": [],
   "source": [
    "buffered = io.BytesIO()\n",
    "im.save(buffered, format='PNG')\n",
    "client = boto3.client('textract')\n",
    "response = client.analyze_document(\n",
    "    Document={'Bytes': buffered.getvalue()},\n",
    "    FeatureTypes=['TABLES']\n",
    ")"
   ]
  },
  {
   "cell_type": "code",
   "execution_count": 23,
   "id": "873050fb",
   "metadata": {},
   "outputs": [],
   "source": [
    "def map_blocks(blocks, block_type):\n",
    "    return {\n",
    "        block['Id']: block\n",
    "        for block in blocks\n",
    "        if block['BlockType'] == block_type\n",
    "    }\n",
    "\n",
    "blocks = response['Blocks']\n",
    "tables = map_blocks(blocks, 'TABLE')\n",
    "cells = map_blocks(blocks, 'CELL')\n",
    "words = map_blocks(blocks, 'WORD')\n",
    "selections = map_blocks(blocks, 'SELECTION_ELEMENT')\n",
    "\n",
    "def get_children_ids(block):\n",
    "    for rels in block.get('Relationships', []):\n",
    "        if rels['Type'] == 'CHILD':\n",
    "            yield from rels['Ids']\n",
    "            \n",
    "dataframes = []\n",
    "\n",
    "for table in tables.values():\n",
    "\n",
    "    # Determine all the cells that belong to this table\n",
    "    table_cells = [cells[cell_id] for cell_id in get_children_ids(table)]\n",
    "\n",
    "    # Determine the table's number of rows and columns\n",
    "    n_rows = max(cell['RowIndex'] for cell in table_cells)\n",
    "    n_cols = max(cell['ColumnIndex'] for cell in table_cells)\n",
    "    content = [[None for _ in range(n_cols)] for _ in range(n_rows)]\n",
    "\n",
    "    # Fill in each cell\n",
    "    for cell in table_cells:\n",
    "        cell_contents = [\n",
    "            words[child_id]['Text']\n",
    "            if child_id in words\n",
    "            else selections[child_id]['SelectionStatus']\n",
    "            for child_id in get_children_ids(cell)\n",
    "        ]\n",
    "        i = cell['RowIndex'] - 1\n",
    "        j = cell['ColumnIndex'] - 1\n",
    "        content[i][j] = ' '.join(cell_contents)\n",
    "\n",
    "    # We assume that the first row corresponds to the column names\n",
    "    dataframe = pd.DataFrame(content[1:], columns=content[0])\n",
    "    dataframes.append(dataframe)"
   ]
  },
  {
   "cell_type": "code",
   "execution_count": 26,
   "id": "47e74622",
   "metadata": {},
   "outputs": [
    {
     "name": "stdout",
     "output_type": "stream",
     "text": [
      "Yes 1\n"
     ]
    }
   ],
   "source": [
    "if len(dataframes)>1:\n",
    "    if  \"Concepto\" in dataframes[1] or \"MM Num. articulo\" in dataframes[1] or \"PRECIO\" in dataframes[1]  or  \"Precio/UM\" in dataframes[1] or \"Precio\" in dataframes[1] or \"PRECIO/UD\" in dataframes[1] or \"PRECIO UD.\" in dataframes[1] or \"Num. artículo\" in dataframes[1] or \"Código\" in dataframes[1] or \"FECHA\" in dataframes[1] or  \"ARTICULO\" in dataframes[1] or  \"PRECIO KG\" in dataframes[1] or \"CODIGO\" in dataframes[1] or \"Cod.\" in dataframes[1] or \"ARTÍCULO\" in dataframes[1] or \"Tipo\" in dataframes[1] or \"PRECIO UD\"  in dataframes[1]:\n",
    "        df_t = pd.DataFrame(dataframes[1])\n",
    "        df_t.to_excel('Makro Invoices/Makro Invoices/Saved_Datad.xlsx')\n",
    "        print(\"Yes 1\")\n",
    "\n",
    "if \"Concepto\" in dataframes[0] or \"MM Num. articulo\" in dataframes[0] or \"PRECIO\" in dataframes[0] or  \"Precio/UM\" in dataframes[0]  or \"Precio\" in dataframes[0] or  \"PRECIO/UD\" in dataframes[0] or \"Código\" in dataframes[0] or \"PRECIO UD.\" in dataframes[0]  or \"FECHA\" in dataframes[0] or \"ARTICULO\" in dataframes[0] or \"PRECIO KG\" in dataframes[0] or \"CODIGO\" in dataframes[0] or \"Cod.\" in dataframes[0] or \"ARTÍCULO\" in dataframes[0] or \"Tipo\" in dataframes[0] or \"PRECIO UD\"  in dataframes[0]:\n",
    "        df_t = pd.DataFrame(dataframes[0])\n",
    "        df_t.to_excel('Makro Invoices/Makro Invoices/Saved_Datad.xlsx')\n",
    "        print(\"Yes 2\")\n",
    "if len(dataframes)>2:\n",
    "    if \"Concepto\" in dataframes[2] or \"MM Num. articulo\" in dataframes[2] or  \"PRECIO\" in dataframes[2] or  \"Precio/UM\" in dataframes[2] or \"Precio\" in dataframes[2] or  \"PRECIO/UD\" in dataframes[2] or \"Código\" in dataframes[2] or \"PRECIO UD\" in dataframes[2] or \"PRECIO UD.\" in dataframes[2]  or \"FECHA\" in dataframes[2] or \"ARTICULO\" in dataframes[2] or \"PRECIO KG\" in dataframes[2] or \"CODIGO\" in dataframes[2] or \"Cod.\" in dataframes[2] or \"ARTÍCULO\" in dataframes[2] or \"Tipo\" in dataframes[2]:\n",
    "        df_t = pd.DataFrame(dataframes[2])\n",
    "        df_t.to_excel('Makro Invoices/Makro Invoices/Saved_Datad.xlsx')\n",
    "        print(\"Yes 3\")\n"
   ]
  },
  {
   "cell_type": "code",
   "execution_count": 27,
   "id": "f67d327b",
   "metadata": {},
   "outputs": [
    {
     "data": {
      "text/html": [
       "<div>\n",
       "<style scoped>\n",
       "    .dataframe tbody tr th:only-of-type {\n",
       "        vertical-align: middle;\n",
       "    }\n",
       "\n",
       "    .dataframe tbody tr th {\n",
       "        vertical-align: top;\n",
       "    }\n",
       "\n",
       "    .dataframe thead th {\n",
       "        text-align: right;\n",
       "    }\n",
       "</style>\n",
       "<table border=\"1\" class=\"dataframe\">\n",
       "  <thead>\n",
       "    <tr style=\"text-align: right;\">\n",
       "      <th></th>\n",
       "      <th>Material</th>\n",
       "      <th>Descripción</th>\n",
       "      <th>Material</th>\n",
       "      <th>Cantidad</th>\n",
       "      <th>Precio/UM</th>\n",
       "      <th>Reducc</th>\n",
       "      <th>Imp. Neto</th>\n",
       "      <th>Fecha</th>\n",
       "    </tr>\n",
       "  </thead>\n",
       "  <tbody>\n",
       "    <tr>\n",
       "      <th>0</th>\n",
       "      <td>1068328</td>\n",
       "      <td>PAN ORO 8X8 25UD Ref 21000010. Sosa COD 36283</td>\n",
       "      <td></td>\n",
       "      <td>1,00</td>\n",
       "      <td>77,00/1UN</td>\n",
       "      <td>0,00</td>\n",
       "      <td>77,00</td>\n",
       "      <td></td>\n",
       "    </tr>\n",
       "    <tr>\n",
       "      <th>1</th>\n",
       "      <td>1098053</td>\n",
       "      <td>EMULSIONANTE SOJA WHIP SOSA 300GR Ref 00200524...</td>\n",
       "      <td></td>\n",
       "      <td>1,00</td>\n",
       "      <td>30,16/1UN</td>\n",
       "      <td>0,00</td>\n",
       "      <td>30,16</td>\n",
       "      <td>30.06.2022</td>\n",
       "    </tr>\n",
       "    <tr>\n",
       "      <th>2</th>\n",
       "      <td>1098054</td>\n",
       "      <td>EMULSIONANTE POTATO WHIP SOSA 400GR Ref 002005...</td>\n",
       "      <td></td>\n",
       "      <td>1,00</td>\n",
       "      <td>35,23/1UN</td>\n",
       "      <td>0,00</td>\n",
       "      <td>35,23</td>\n",
       "      <td>30.06.2022</td>\n",
       "    </tr>\n",
       "    <tr>\n",
       "      <th>3</th>\n",
       "      <td>1098064</td>\n",
       "      <td>MELOCOTON CONFITADO A DADOS 1,5KG Ref 44200147...</td>\n",
       "      <td></td>\n",
       "      <td>1,00</td>\n",
       "      <td>20,80/1UN</td>\n",
       "      <td>0,00</td>\n",
       "      <td>20,80</td>\n",
       "      <td>30.06.2022</td>\n",
       "    </tr>\n",
       "    <tr>\n",
       "      <th>4</th>\n",
       "      <td>1085030</td>\n",
       "      <td>COLORANTE BLANCO LACA POLVO 60GR Ref 59300017....</td>\n",
       "      <td></td>\n",
       "      <td>5,00</td>\n",
       "      <td>4,38/1UN</td>\n",
       "      <td>0,00</td>\n",
       "      <td>21,90</td>\n",
       "      <td>30.06.2022</td>\n",
       "    </tr>\n",
       "    <tr>\n",
       "      <th>5</th>\n",
       "      <td></td>\n",
       "      <td></td>\n",
       "      <td></td>\n",
       "      <td></td>\n",
       "      <td></td>\n",
       "      <td></td>\n",
       "      <td></td>\n",
       "      <td>01.07.2022</td>\n",
       "    </tr>\n",
       "  </tbody>\n",
       "</table>\n",
       "</div>"
      ],
      "text/plain": [
       "  Material                                        Descripción Material  \\\n",
       "0  1068328      PAN ORO 8X8 25UD Ref 21000010. Sosa COD 36283            \n",
       "1  1098053  EMULSIONANTE SOJA WHIP SOSA 300GR Ref 00200524...            \n",
       "2  1098054  EMULSIONANTE POTATO WHIP SOSA 400GR Ref 002005...            \n",
       "3  1098064  MELOCOTON CONFITADO A DADOS 1,5KG Ref 44200147...            \n",
       "4  1085030  COLORANTE BLANCO LACA POLVO 60GR Ref 59300017....            \n",
       "5                                                                        \n",
       "\n",
       "  Cantidad  Precio/UM Reducc Imp. Neto       Fecha  \n",
       "0     1,00  77,00/1UN   0,00     77,00              \n",
       "1     1,00  30,16/1UN   0,00     30,16  30.06.2022  \n",
       "2     1,00  35,23/1UN   0,00     35,23  30.06.2022  \n",
       "3     1,00  20,80/1UN   0,00     20,80  30.06.2022  \n",
       "4     5,00   4,38/1UN   0,00     21,90  30.06.2022  \n",
       "5                                       01.07.2022  "
      ]
     },
     "execution_count": 27,
     "metadata": {},
     "output_type": "execute_result"
    }
   ],
   "source": [
    "df_t"
   ]
  },
  {
   "cell_type": "raw",
   "id": "987be39a",
   "metadata": {},
   "source": [
    "                data = {'file': 'C:\\Users\\Usuario\\Desktop\\clasificador_2.0\\jose-gastos-oct-2021_page10.png',\n",
    "                        'labels': {\"Supplier\": '',\n",
    "                                    \"Vat Number\": '',\n",
    "                                    \"Total\": 0,\n",
    "                                    \"Date\": '',\n",
    "                                    \"Invoice_Number\": ''},\n",
    "                        'tables': []\n",
    "                        }"
   ]
  },
  {
   "cell_type": "code",
   "execution_count": 498,
   "id": "008dabb4",
   "metadata": {},
   "outputs": [
    {
     "data": {
      "text/plain": [
       "{'Vat Number': 'B38574281',\n",
       " 'Total': '10.00',\n",
       " 'Date': '03/07/2020',\n",
       " 'Invoice_Number': 'F1-1-01353'}"
      ]
     },
     "execution_count": 498,
     "metadata": {},
     "output_type": "execute_result"
    }
   ],
   "source": [
    "dat"
   ]
  },
  {
   "cell_type": "code",
   "execution_count": 499,
   "id": "5ff1d51f",
   "metadata": {},
   "outputs": [
    {
     "name": "stdout",
     "output_type": "stream",
     "text": [
      "{'file': 'Makro Invoices/Makro Invoices/Converted/03.07.20_Extintores Valle Union Sl_3243,8_page1.png', 'labels': {'Vat Number': 'B38574281', 'Total': '10.00', 'Date': '03/07/2020', 'Invoice_Number': 'F1-1-01353'}, 'tables':   Código                       Descripción LOTE Cantidad Precio DTO   Importe\n",
      "0  04625             RACORD MANGUERA 25 MM         25,00   6,86        171,50\n",
      "1  04134           RACOR MANGUERA 45 ALUM.         25,00   6,30        157,50\n",
      "2  04397                RACOR R/ INT 25 MM         35,00   6,30        220,50\n",
      "3  04396              RACORD R/EXT. 25 MM.         25,00   6,30        157,50\n",
      "4  04237                RACORD R/INT 45 MM         25,00   8,96        224,00\n",
      "5  04322      VALVULA LATON C/RACORD 25 MM         10,00  21,28        212,80\n",
      "6    SIN                            RACORD                                   \n",
      "7  02501  EXTINTOR 5 KG. CO2 \"VALLE-UNION\"         60,00  35,00      2.100,00\n",
      "8                           BULTO: 1 PALET                                   \n",
      "9  PESO:                            950 KG                                   }\n"
     ]
    }
   ],
   "source": [
    "json_f = {}\n",
    "json_f['file'] = Ima\n",
    "json_f['labels'] = dat\n",
    "json_f['tables'] = df_t\n",
    "print(json_f)"
   ]
  },
  {
   "cell_type": "raw",
   "id": "933a724d",
   "metadata": {},
   "source": [
    "“DTO”, “Dto”, “Dto.”"
   ]
  },
  {
   "cell_type": "code",
   "execution_count": 34,
   "id": "cdab58b1",
   "metadata": {},
   "outputs": [
    {
     "data": {
      "text/plain": [
       "{'Vat Number': ['B45010808'],\n",
       " 'Total': '185,09',\n",
       " 'Date': '30.06.2022',\n",
       " 'Invoice_Number': '1000005010'}"
      ]
     },
     "execution_count": 34,
     "metadata": {},
     "output_type": "execute_result"
    }
   ],
   "source": [
    "dat"
   ]
  },
  {
   "cell_type": "code",
   "execution_count": null,
   "id": "83ca72ed",
   "metadata": {},
   "outputs": [],
   "source": []
  }
 ],
 "metadata": {
  "kernelspec": {
   "display_name": "Python 3 (ipykernel)",
   "language": "python",
   "name": "python3"
  },
  "language_info": {
   "codemirror_mode": {
    "name": "ipython",
    "version": 3
   },
   "file_extension": ".py",
   "mimetype": "text/x-python",
   "name": "python",
   "nbconvert_exporter": "python",
   "pygments_lexer": "ipython3",
   "version": "3.7.11"
  }
 },
 "nbformat": 4,
 "nbformat_minor": 5
}
